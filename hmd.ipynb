{
 "cells": [
  {
   "cell_type": "code",
   "execution_count": 1,
   "id": "dcfdb6df-e822-4854-b5f9-43a2b3460f49",
   "metadata": {},
   "outputs": [],
   "source": [
    "import pandas as pd\n",
    "import numpy as np\n",
    "import seaborn as sns\n",
    "import matplotlib.pyplot as plt\n",
    "plt.style.use('ggplot')\n",
    "%matplotlib inline\n",
    "import seaborn as sns"
   ]
  },
  {
   "cell_type": "code",
   "execution_count": 72,
   "id": "5f57432f-76b5-4180-bfc4-ccc41dbb647a",
   "metadata": {},
   "outputs": [],
   "source": [
    "tab = pd.read_csv('data/HMD/Deaths_1x1.txt', delim_whitespace=True, skiprows=1)"
   ]
  },
  {
   "cell_type": "code",
   "execution_count": 73,
   "id": "61192c28-b427-48f2-9e82-5f686a573ba4",
   "metadata": {},
   "outputs": [
    {
     "data": {
      "text/html": [
       "<div>\n",
       "<style scoped>\n",
       "    .dataframe tbody tr th:only-of-type {\n",
       "        vertical-align: middle;\n",
       "    }\n",
       "\n",
       "    .dataframe tbody tr th {\n",
       "        vertical-align: top;\n",
       "    }\n",
       "\n",
       "    .dataframe thead th {\n",
       "        text-align: right;\n",
       "    }\n",
       "</style>\n",
       "<table border=\"1\" class=\"dataframe\">\n",
       "  <thead>\n",
       "    <tr style=\"text-align: right;\">\n",
       "      <th></th>\n",
       "      <th>Year</th>\n",
       "      <th>Age</th>\n",
       "      <th>Female</th>\n",
       "      <th>Male</th>\n",
       "      <th>Total</th>\n",
       "    </tr>\n",
       "  </thead>\n",
       "  <tbody>\n",
       "    <tr>\n",
       "      <th>0</th>\n",
       "      <td>1933</td>\n",
       "      <td>0</td>\n",
       "      <td>52615.77</td>\n",
       "      <td>68438.11</td>\n",
       "      <td>121053.88</td>\n",
       "    </tr>\n",
       "    <tr>\n",
       "      <th>1</th>\n",
       "      <td>1933</td>\n",
       "      <td>1</td>\n",
       "      <td>8917.13</td>\n",
       "      <td>10329.16</td>\n",
       "      <td>19246.29</td>\n",
       "    </tr>\n",
       "    <tr>\n",
       "      <th>2</th>\n",
       "      <td>1933</td>\n",
       "      <td>2</td>\n",
       "      <td>4336.92</td>\n",
       "      <td>5140.05</td>\n",
       "      <td>9476.97</td>\n",
       "    </tr>\n",
       "    <tr>\n",
       "      <th>3</th>\n",
       "      <td>1933</td>\n",
       "      <td>3</td>\n",
       "      <td>3161.59</td>\n",
       "      <td>3759.88</td>\n",
       "      <td>6921.47</td>\n",
       "    </tr>\n",
       "    <tr>\n",
       "      <th>4</th>\n",
       "      <td>1933</td>\n",
       "      <td>4</td>\n",
       "      <td>2493.84</td>\n",
       "      <td>2932.59</td>\n",
       "      <td>5426.43</td>\n",
       "    </tr>\n",
       "  </tbody>\n",
       "</table>\n",
       "</div>"
      ],
      "text/plain": [
       "   Year Age    Female      Male      Total\n",
       "0  1933   0  52615.77  68438.11  121053.88\n",
       "1  1933   1   8917.13  10329.16   19246.29\n",
       "2  1933   2   4336.92   5140.05    9476.97\n",
       "3  1933   3   3161.59   3759.88    6921.47\n",
       "4  1933   4   2493.84   2932.59    5426.43"
      ]
     },
     "execution_count": 73,
     "metadata": {},
     "output_type": "execute_result"
    }
   ],
   "source": [
    "tab.head()"
   ]
  },
  {
   "cell_type": "code",
   "execution_count": 74,
   "id": "3fe6ee9e-ced0-4acb-a762-a31fe3fcc849",
   "metadata": {},
   "outputs": [],
   "source": [
    "tab.Age = tab.Age.replace(to_replace = {'110+': '110'})"
   ]
  },
  {
   "cell_type": "code",
   "execution_count": 88,
   "id": "e6e0c13a-4148-4aab-8fa2-8713ef09ec47",
   "metadata": {},
   "outputs": [],
   "source": [
    "tab['Age'] = pd.to_numeric(tab['Age'])\n"
   ]
  },
  {
   "cell_type": "code",
   "execution_count": 89,
   "id": "b67d5e1f-4c10-4c2b-8a86-50c79c851f64",
   "metadata": {},
   "outputs": [
    {
     "name": "stdout",
     "output_type": "stream",
     "text": [
      "<class 'pandas.core.frame.DataFrame'>\n",
      "RangeIndex: 9657 entries, 0 to 9656\n",
      "Data columns (total 5 columns):\n",
      " #   Column  Non-Null Count  Dtype  \n",
      "---  ------  --------------  -----  \n",
      " 0   Year    9657 non-null   int64  \n",
      " 1   Age     9657 non-null   int64  \n",
      " 2   Female  9657 non-null   float64\n",
      " 3   Male    9657 non-null   float64\n",
      " 4   Total   9657 non-null   float64\n",
      "dtypes: float64(3), int64(2)\n",
      "memory usage: 377.4 KB\n"
     ]
    }
   ],
   "source": [
    "tab.info()"
   ]
  },
  {
   "cell_type": "code",
   "execution_count": 78,
   "id": "a8681212-f7c8-4778-a91b-3d621dc8acd6",
   "metadata": {},
   "outputs": [
    {
     "name": "stdout",
     "output_type": "stream",
     "text": [
      "(0, 5)\n"
     ]
    }
   ],
   "source": [
    "duplicate_rows_df = tab[tab.duplicated()]\n",
    "print(duplicate_rows_df.shape)"
   ]
  },
  {
   "cell_type": "code",
   "execution_count": 79,
   "id": "59220bba-3703-41d0-bdde-1cc3eac75df9",
   "metadata": {},
   "outputs": [
    {
     "data": {
      "text/plain": [
       "Year      0\n",
       "Age       0\n",
       "Female    0\n",
       "Male      0\n",
       "Total     0\n",
       "dtype: int64"
      ]
     },
     "execution_count": 79,
     "metadata": {},
     "output_type": "execute_result"
    }
   ],
   "source": [
    "tab.isnull().sum()"
   ]
  },
  {
   "cell_type": "code",
   "execution_count": 80,
   "id": "f801d728-da65-40de-9d6f-dd068788fc41",
   "metadata": {},
   "outputs": [
    {
     "data": {
      "text/plain": [
       "<AxesSubplot:xlabel='Year'>"
      ]
     },
     "execution_count": 80,
     "metadata": {},
     "output_type": "execute_result"
    },
    {
     "data": {
      "image/png": "[encoded data removed]",
      "text/plain": [
       "<Figure size 432x288 with 1 Axes>"
      ]
     },
     "metadata": {
      "needs_background": "light"
     },
     "output_type": "display_data"
    }
   ],
   "source": [
    "sns.boxplot(x=tab['Year'])"
   ]
  },
  {
   "cell_type": "code",
   "execution_count": 90,
   "id": "1942ff77-0569-4c3c-916b-e1d3e8261fa8",
   "metadata": {},
   "outputs": [
    {
     "data": {
      "text/plain": [
       "<AxesSubplot:xlabel='Age'>"
      ]
     },
     "execution_count": 90,
     "metadata": {},
     "output_type": "execute_result"
    },
    {
     "data": {
      "image/png": "[encoded data removed]",
      "text/plain": [
       "<Figure size 432x288 with 1 Axes>"
      ]
     },
     "metadata": {
      "needs_background": "light"
     },
     "output_type": "display_data"
    }
   ],
   "source": [
    "sns.boxplot(x=tab['Age'])"
   ]
  },
  {
   "cell_type": "code",
   "execution_count": 92,
   "id": "c832325f-c87d-4bd8-86fd-59fd68163753",
   "metadata": {},
   "outputs": [
    {
     "data": {
      "text/plain": [
       "<AxesSubplot:xlabel='Female'>"
      ]
     },
     "execution_count": 92,
     "metadata": {},
     "output_type": "execute_result"
    },
    {
     "data": {
      "image/png": "[encoded data removed]",
      "text/plain": [
       "<Figure size 432x288 with 1 Axes>"
      ]
     },
     "metadata": {
      "needs_background": "light"
     },
     "output_type": "display_data"
    }
   ],
   "source": [
    "sns.boxplot(x=tab['Female'])"
   ]
  },
  {
   "cell_type": "code",
   "execution_count": 93,
   "id": "04e835ef-2fb5-4b9f-8025-c7d6d22bd763",
   "metadata": {},
   "outputs": [
    {
     "data": {
      "text/plain": [
       "<AxesSubplot:xlabel='Male'>"
      ]
     },
     "execution_count": 93,
     "metadata": {},
     "output_type": "execute_result"
    },
    {
     "data": {
      "image/png": "[encoded data removed]",
      "text/plain": [
       "<Figure size 432x288 with 1 Axes>"
      ]
     },
     "metadata": {
      "needs_background": "light"
     },
     "output_type": "display_data"
    }
   ],
   "source": [
    "sns.boxplot(x=tab['Male'])"
   ]
  },
  {
   "cell_type": "code",
   "execution_count": 94,
   "id": "1fd8353e-4bd8-4cc4-aade-03d670f57ebf",
   "metadata": {},
   "outputs": [
    {
     "data": {
      "text/plain": [
       "<AxesSubplot:xlabel='Total'>"
      ]
     },
     "execution_count": 94,
     "metadata": {},
     "output_type": "execute_result"
    },
    {
     "data": {
      "image/png": "[encoded data removed]",
      "text/plain": [
       "<Figure size 432x288 with 1 Axes>"
      ]
     },
     "metadata": {
      "needs_background": "light"
     },
     "output_type": "display_data"
    }
   ],
   "source": [
    "sns.boxplot(x=tab['Total'])"
   ]
  },
  {
   "cell_type": "code",
   "execution_count": 96,
   "id": "e8ce0942-e7c4-476a-8fa3-51a098846b24",
   "metadata": {},
   "outputs": [
    {
     "name": "stdout",
     "output_type": "stream",
     "text": [
      "Year         44.00\n",
      "Age          56.00\n",
      "Female    11532.72\n",
      "Male      13896.71\n",
      "Total     25449.89\n",
      "dtype: float64\n"
     ]
    }
   ],
   "source": [
    "Q1 = tab.quantile(0.25)\n",
    "Q3 = tab.quantile(0.75)\n",
    "IQR = Q3-Q1\n",
    "print(IQR)\n"
   ]
  },
  {
   "cell_type": "code",
   "execution_count": 98,
   "id": "22e9545a-f79a-4fea-8ef8-e36b98065988",
   "metadata": {},
   "outputs": [
    {
     "data": {
      "text/plain": [
       "(9124, 5)"
      ]
     },
     "execution_count": 98,
     "metadata": {},
     "output_type": "execute_result"
    }
   ],
   "source": [
    "tab2 = tab[~((tab < (Q1-1.5 * IQR)) |(tab > (Q3 + 1.5 * IQR))).any(axis=1)]\n",
    "tab2.shape"
   ]
  },
  {
   "cell_type": "code",
   "execution_count": 105,
   "id": "33a4d596-4fac-4f4f-8178-5544197bf51b",
   "metadata": {},
   "outputs": [
    {
     "data": {
      "image/png": "[encoded data removed]",
      "text/plain": [
       "<Figure size 720x432 with 1 Axes>"
      ]
     },
     "metadata": {
      "needs_background": "light"
     },
     "output_type": "display_data"
    }
   ],
   "source": [
    "fig, ax = plt.subplots(figsize=(10, 6))\n",
    "ax.scatter(tab['Age'], tab['Total']);"
   ]
  },
  {
   "cell_type": "code",
   "execution_count": null,
   "id": "0a49d9f5-14cb-44dd-ba5b-faf71e279823",
   "metadata": {},
   "outputs": [],
   "source": []
  }
 ],
 "metadata": {
  "kernelspec": {
   "display_name": "Python 3",
   "language": "python",
   "name": "python3"
  },
  "language_info": {
   "codemirror_mode": {
    "name": "ipython",
    "version": 3
   },
   "file_extension": ".py",
   "mimetype": "text/x-python",
   "name": "python",
   "nbconvert_exporter": "python",
   "pygments_lexer": "ipython3",
   "version": "3.7.7"
  }
 },
 "nbformat": 4,
 "nbformat_minor": 5
}
