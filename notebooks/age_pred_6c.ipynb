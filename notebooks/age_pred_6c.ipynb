{
 "cells": [
  {
   "cell_type": "markdown",
   "id": "9fe0861f-9888-4d20-9c8e-67cb85181e58",
   "metadata": {},
   "source": [
    "### Notebook for 6c -- Apr 1 2002"
   ]
  },
  {
   "cell_type": "code",
   "execution_count": 2,
   "id": "231e3f4a-8a65-4cbb-85bd-901864a4db23",
   "metadata": {},
   "outputs": [],
   "source": [
    "import pandas as pd\n",
    "import numpy as np\n",
    "import seaborn as sns\n",
    "import matplotlib.pyplot as plt\n",
    "plt.style.use('ggplot')\n",
    "%matplotlib inline\n",
    "import seaborn as sns   \n",
    "\n",
    "from sklearn.impute import KNNImputer\n",
    "from sklearn.preprocessing import MinMaxScaler, OneHotEncoder, MaxAbsScaler, StandardScaler\n",
    "from sklearn.pipeline import Pipeline\n",
    "from sklearn.linear_model import LinearRegression, ElasticNet, ElasticNetCV, Lasso, Ridge, MultiTaskElasticNetCV\n",
    "from sklearn.model_selection import train_test_split, GridSearchCV, cross_val_score, KFold\n",
    "from sklearn.neighbors import KNeighborsRegressor\n",
    "from yellowbrick.regressor import ResidualsPlot\n",
    "\n",
    "\n",
    "from sklearn.metrics import mean_squared_error, mean_absolute_error, r2_score\n",
    "from sklearn.ensemble import RandomForestRegressor, GradientBoostingRegressor\n",
    "\n",
    "import joblib\n",
    "\n",
    "import matplotlib.patches as mpatches\n",
    "\n",
    "from sklearn.tree import export_graphviz\n",
    "import pydot"
   ]
  },
  {
   "cell_type": "code",
   "execution_count": 3,
   "id": "42595df1-901c-492c-a841-4220ab9ff950",
   "metadata": {},
   "outputs": [],
   "source": [
    "nlms = pd.read_csv('data/NLMS_PublicUse_5.1/6c_new.csv', index_col='record');"
   ]
  },
  {
   "cell_type": "code",
   "execution_count": 4,
   "id": "54200603-138f-4fc8-a514-6d04a6090cb4",
   "metadata": {},
   "outputs": [
    {
     "data": {
      "text/plain": [
       "Index(['age', 'race', 'sex', 'ms', 'hisp', 'adjinc', 'educ', 'pob', 'wt',\n",
       "       'hhid', 'hhnum', 'reltrf', 'occ', 'majocc', 'ind', 'majind', 'esr',\n",
       "       'urban', 'smsast', 'inddea', 'cause113', 'follow', 'dayod', 'hosp',\n",
       "       'hospd', 'ssnyn', 'vt', 'histatus', 'hitype', 'povpct', 'stater',\n",
       "       'rcow', 'tenure', 'citizen', 'health', 'indalg', 'smok100', 'agesmk',\n",
       "       'smokstat', 'smokhome', 'curruse', 'everuse'],\n",
       "      dtype='object')"
      ]
     },
     "execution_count": 4,
     "metadata": {},
     "output_type": "execute_result"
    }
   ],
   "source": [
    "nlms.columns"
   ]
  },
  {
   "cell_type": "code",
   "execution_count": 5,
   "id": "c03080d7-689c-437c-b272-c4925c203813",
   "metadata": {},
   "outputs": [],
   "source": [
    "cols = ['age', 'race', 'sex', 'ms', 'hisp', 'adjinc', 'educ', 'pob',\n",
    "       'wt', 'hhid', 'hhnum', 'reltrf', 'occ', 'majocc', 'ind', 'majind',\n",
    "       'esr', 'urban', 'smsast', 'inddea', 'cause113', 'follow', 'dayod',\n",
    "       'hosp', 'hospd', 'ssnyn', 'vt', 'histatus', 'hitype', 'povpct',\n",
    "       'stater', 'rcow', 'tenure', 'citizen', 'health', 'indalg', 'smok100',\n",
    "       'agesmk', 'smokstat', 'smokhome', 'curruse', 'everuse']"
   ]
  },
  {
   "cell_type": "code",
   "execution_count": 6,
   "id": "aab38fc7-5e82-4489-b67f-31fb163955e5",
   "metadata": {},
   "outputs": [],
   "source": [
    "col_dict = {'index': 'record number', 'age': 'age at time of interview', 'race': 'race', 'sex': 'gender', \n",
    "            'ms': 'marital status', 'hisp': 'hispanic', 'adjinc': 'inflation adjusted income', 'educ': 'highest grade completed', \n",
    "            'pob': 'region of birth', 'wt': 'adjusted weight', 'hhid': 'household ID number', 'hhnum': 'number of people in household',\n",
    "            'reltrf': 'relationship to reference person', 'occ': '4 digit occupation code', 'majocc': 'major occupation code',\n",
    "            'ind': '4 digit industry code', 'majind': 'major industry code', 'esr': 'employment status recode', \n",
    "            'urban': 'urban / rural status', 'smsast': 'SMSAST (Standard Metropolitan Statistical Area) status', 'inddea': 'death indicator',\n",
    "            'cause113': 'cause of death', 'follow': 'length of follow-up', 'dayod': 'day of week of death', \n",
    "            'hosp': 'hospital type', 'hosppd': 'hospital death indicator', 'ssnyn': 'presence of ssn', \n",
    "            'vt': 'veteran status', 'histatus': 'health insurance status', 'hitype': 'health insurance type', \n",
    "            'povpct': 'income as percent of poverty level', 'stater': 'state recode', 'rcow': 'recoded class of worker', \n",
    "            'tenure': 'housing tenure', 'citizen': 'citizenship', 'health': 'health', 'indalg': 'indicator of algorithmic death', \n",
    "            'smok100': 'smoked more than 100 cigarettes', 'agesmk': 'age started smoking',\n",
    "            'smokstat': 'cigarette smoking status', 'smokhome': 'rules for smoking cigarettes in the home', \n",
    "            'curruse': 'currently use smokeless tobacco', 'everuse': 'ever use smokeless tobacco'}"
   ]
  },
  {
   "cell_type": "code",
   "execution_count": 7,
   "id": "dcc01c18-678a-4426-854e-8fde64350729",
   "metadata": {},
   "outputs": [
    {
     "name": "stdout",
     "output_type": "stream",
     "text": [
      "<class 'pandas.core.frame.DataFrame'>\n",
      "Int64Index: 745162 entries, 610900 to 483400\n",
      "Data columns (total 42 columns):\n",
      " #   Column    Non-Null Count   Dtype  \n",
      "---  ------    --------------   -----  \n",
      " 0   age       745162 non-null  int64  \n",
      " 1   race      745069 non-null  float64\n",
      " 2   sex       745162 non-null  int64  \n",
      " 3   ms        560324 non-null  float64\n",
      " 4   hisp      735206 non-null  float64\n",
      " 5   adjinc    744276 non-null  float64\n",
      " 6   educ      560324 non-null  float64\n",
      " 7   pob       745162 non-null  int64  \n",
      " 8   wt        745162 non-null  int64  \n",
      " 9   hhid      745162 non-null  int64  \n",
      " 10  hhnum     745162 non-null  int64  \n",
      " 11  reltrf    745162 non-null  int64  \n",
      " 12  occ       377242 non-null  float64\n",
      " 13  majocc    377242 non-null  float64\n",
      " 14  ind       377242 non-null  float64\n",
      " 15  majind    377242 non-null  float64\n",
      " 16  esr       557195 non-null  float64\n",
      " 17  urban     715301 non-null  float64\n",
      " 18  smsast    603623 non-null  float64\n",
      " 19  inddea    745162 non-null  int64  \n",
      " 20  cause113  745162 non-null  int64  \n",
      " 21  follow    745162 non-null  int64  \n",
      " 22  dayod     24432 non-null   float64\n",
      " 23  hosp      22473 non-null   float64\n",
      " 24  hospd     22473 non-null   float64\n",
      " 25  ssnyn     745162 non-null  int64  \n",
      " 26  vt        540921 non-null  float64\n",
      " 27  histatus  745162 non-null  int64  \n",
      " 28  hitype    745162 non-null  int64  \n",
      " 29  povpct    725855 non-null  float64\n",
      " 30  stater    745162 non-null  int64  \n",
      " 31  rcow      365662 non-null  float64\n",
      " 32  tenure    745162 non-null  int64  \n",
      " 33  citizen   693269 non-null  float64\n",
      " 34  health    668987 non-null  float64\n",
      " 35  indalg    43160 non-null   float64\n",
      " 36  smok100   0 non-null       float64\n",
      " 37  agesmk    0 non-null       float64\n",
      " 38  smokstat  0 non-null       float64\n",
      " 39  smokhome  0 non-null       float64\n",
      " 40  curruse   0 non-null       float64\n",
      " 41  everuse   0 non-null       float64\n",
      "dtypes: float64(27), int64(15)\n",
      "memory usage: 244.5 MB\n"
     ]
    }
   ],
   "source": [
    "nlms.info()"
   ]
  },
  {
   "cell_type": "code",
   "execution_count": 8,
   "id": "d5d3ef92-e7a9-4dc2-914d-e794bf8ce230",
   "metadata": {},
   "outputs": [
    {
     "data": {
      "text/plain": [
       "age             91\n",
       "race             6\n",
       "sex              2\n",
       "ms               6\n",
       "hisp             4\n",
       "adjinc          15\n",
       "educ            12\n",
       "pob             64\n",
       "wt            2110\n",
       "hhid        266422\n",
       "hhnum           16\n",
       "reltrf           6\n",
       "occ            506\n",
       "majocc          12\n",
       "ind            265\n",
       "majind          15\n",
       "esr              6\n",
       "urban            3\n",
       "smsast           4\n",
       "inddea           2\n",
       "cause113       100\n",
       "follow        2193\n",
       "dayod            8\n",
       "hosp             7\n",
       "hospd            5\n",
       "ssnyn            2\n",
       "vt               3\n",
       "histatus         2\n",
       "hitype           6\n",
       "povpct          22\n",
       "stater          51\n",
       "rcow             6\n",
       "tenure           3\n",
       "citizen          6\n",
       "health           6\n",
       "indalg           3\n",
       "smok100          1\n",
       "agesmk           1\n",
       "smokstat         1\n",
       "smokhome         1\n",
       "curruse          1\n",
       "everuse          1\n",
       "dtype: int64"
      ]
     },
     "execution_count": 8,
     "metadata": {},
     "output_type": "execute_result"
    }
   ],
   "source": [
    "lens = nlms.apply(lambda x: len(x.unique()))\n",
    "lens"
   ]
  },
  {
   "cell_type": "code",
   "execution_count": 9,
   "id": "f8d5d857-4a04-4da5-9dfd-264efd8d04be",
   "metadata": {},
   "outputs": [
    {
     "data": {
      "text/plain": [
       "array([922,   0, 901, 960, 104, 927, 934, 109, 913, 925, 947, 905, 917,\n",
       "       935, 106, 926, 920, 930, 906, 928, 904, 951, 936, 937, 954, 912,\n",
       "       918, 923, 919, 103, 948, 111, 955, 921, 911, 939, 102, 924, 940,\n",
       "       902, 953, 908, 909, 931, 956, 949, 105, 108, 916, 915, 941, 944,\n",
       "       938, 942, 932, 946, 950, 107, 945, 101, 110, 910, 933, 929])"
      ]
     },
     "execution_count": 9,
     "metadata": {},
     "output_type": "execute_result"
    }
   ],
   "source": [
    "nlms.pob.unique()"
   ]
  },
  {
   "cell_type": "code",
   "execution_count": 10,
   "id": "d167aefa-8845-43ae-ad5f-ba40cf631ba6",
   "metadata": {},
   "outputs": [],
   "source": [
    "pob_dict = {909: 'CT',   0: np.nan, 942: 'PA', 928: 'MS', 917: 'IL', 925: 'MA', 104: 'Western Europe', 111: 'Other NS', 934: 'NJ', 945: 'SC', 936: 'NY', 944: 'RI', 107: 'Central America',\n",
    "       927: 'MN', 926: 'MI', 948: 'TX', 906: 'CA', 950: 'VT', 937: 'NC', 911: 'DC', 933: 'NH', 939: 'OH', 106: 'South America', 109: 'Island Country', 912: 'FL', 108: 'Mexico',\n",
    "       913: 'GA', 102: 'Asia', 949: 'UT', 103: 'Eastern Europe', 931: 'NE', 954: 'WV', 951: 'VA', 924: 'MD', 901: 'AL', 918: 'IN', 938: 'ND', 956: 'WY', 923: 'ME',\n",
    "       947: 'TN', 921: 'KY', 101: 'Africa', 105: 'North Am, Not US or Mexico', 955: 'WI', 941: 'OR', 953: 'WA', 905: 'AR', 902: 'AK', 920: 'KS', 915: 'HI', 904: 'AZ', 930: 'MT',\n",
    "       922: 'LA', 940: 'OK', 932: 'NV', 908: 'CO', 910: 'DE', 946: 'SD', 935: 'NM', 110: 'Other NS', 919: 'IA', 916: 'ID', 929: 'MO', 960: 'American Samoa'}"
   ]
  },
  {
   "cell_type": "code",
   "execution_count": 11,
   "id": "1182e891-902b-49bb-9196-334f3b42f6b3",
   "metadata": {
    "scrolled": true,
    "tags": []
   },
   "outputs": [
    {
     "name": "stdout",
     "output_type": "stream",
     "text": [
      "Pre na qty: age           0.000000\n",
      "race          0.012481\n",
      "sex           0.000000\n",
      "ms           24.805076\n",
      "hisp          1.336085\n",
      "adjinc        0.118900\n",
      "educ         24.805076\n",
      "pob           0.000000\n",
      "wt            0.000000\n",
      "hhid          0.000000\n",
      "hhnum         0.000000\n",
      "reltrf        0.000000\n",
      "occ          49.374498\n",
      "majocc       49.374498\n",
      "ind          49.374498\n",
      "majind       49.374498\n",
      "esr          25.224985\n",
      "urban         4.007317\n",
      "smsast       18.994393\n",
      "inddea        0.000000\n",
      "cause113      0.000000\n",
      "follow        0.000000\n",
      "dayod        96.721250\n",
      "hosp         96.984146\n",
      "hospd        96.984146\n",
      "ssnyn         0.000000\n",
      "vt           27.408939\n",
      "histatus      0.000000\n",
      "hitype        0.000000\n",
      "povpct        2.590980\n",
      "stater        0.000000\n",
      "rcow         50.928523\n",
      "tenure        0.000000\n",
      "citizen       6.963989\n",
      "health       10.222609\n",
      "indalg       94.207971\n",
      "smok100     100.000000\n",
      "agesmk      100.000000\n",
      "smokstat    100.000000\n",
      "smokhome    100.000000\n",
      "curruse     100.000000\n",
      "everuse     100.000000\n",
      "dtype: float64\n"
     ]
    }
   ],
   "source": [
    "print('Pre na qty: ' + str(nlms.isnull().sum() * 100 / len(nlms)))"
   ]
  },
  {
   "cell_type": "code",
   "execution_count": 12,
   "id": "92a78df2-3280-4115-b097-7089e96cca50",
   "metadata": {
    "scrolled": true,
    "tags": []
   },
   "outputs": [
    {
     "data": {
      "text/plain": [
       "2192    0.967212\n",
       "1492    0.000032\n",
       "656     0.000031\n",
       "379     0.000030\n",
       "710     0.000030\n",
       "          ...   \n",
       "1502    0.000004\n",
       "199     0.000004\n",
       "1292    0.000004\n",
       "1800    0.000004\n",
       "1439    0.000004\n",
       "Name: follow, Length: 2193, dtype: float64"
      ]
     },
     "execution_count": 12,
     "metadata": {},
     "output_type": "execute_result"
    }
   ],
   "source": [
    "nlms.follow.value_counts(normalize=True)"
   ]
  },
  {
   "cell_type": "code",
   "execution_count": 13,
   "id": "2657e5ff-d0bb-43f1-9e27-db325cf95f9e",
   "metadata": {},
   "outputs": [],
   "source": [
    "nlms.drop(columns=['smok100', 'agesmk', 'smokstat', 'smokhome', 'curruse', 'everuse'], inplace=True)"
   ]
  },
  {
   "cell_type": "code",
   "execution_count": 14,
   "id": "f749f7f2-212b-45a0-8017-1c2027869075",
   "metadata": {},
   "outputs": [
    {
     "name": "stdout",
     "output_type": "stream",
     "text": [
      "<class 'pandas.core.frame.DataFrame'>\n",
      "Int64Index: 745162 entries, 610900 to 483400\n",
      "Data columns (total 36 columns):\n",
      " #   Column    Non-Null Count   Dtype  \n",
      "---  ------    --------------   -----  \n",
      " 0   age       745162 non-null  int64  \n",
      " 1   race      745069 non-null  float64\n",
      " 2   sex       745162 non-null  int64  \n",
      " 3   ms        560324 non-null  float64\n",
      " 4   hisp      735206 non-null  float64\n",
      " 5   adjinc    744276 non-null  float64\n",
      " 6   educ      560324 non-null  float64\n",
      " 7   pob       745162 non-null  int64  \n",
      " 8   wt        745162 non-null  int64  \n",
      " 9   hhid      745162 non-null  int64  \n",
      " 10  hhnum     745162 non-null  int64  \n",
      " 11  reltrf    745162 non-null  int64  \n",
      " 12  occ       377242 non-null  float64\n",
      " 13  majocc    377242 non-null  float64\n",
      " 14  ind       377242 non-null  float64\n",
      " 15  majind    377242 non-null  float64\n",
      " 16  esr       557195 non-null  float64\n",
      " 17  urban     715301 non-null  float64\n",
      " 18  smsast    603623 non-null  float64\n",
      " 19  inddea    745162 non-null  int64  \n",
      " 20  cause113  745162 non-null  int64  \n",
      " 21  follow    745162 non-null  int64  \n",
      " 22  dayod     24432 non-null   float64\n",
      " 23  hosp      22473 non-null   float64\n",
      " 24  hospd     22473 non-null   float64\n",
      " 25  ssnyn     745162 non-null  int64  \n",
      " 26  vt        540921 non-null  float64\n",
      " 27  histatus  745162 non-null  int64  \n",
      " 28  hitype    745162 non-null  int64  \n",
      " 29  povpct    725855 non-null  float64\n",
      " 30  stater    745162 non-null  int64  \n",
      " 31  rcow      365662 non-null  float64\n",
      " 32  tenure    745162 non-null  int64  \n",
      " 33  citizen   693269 non-null  float64\n",
      " 34  health    668987 non-null  float64\n",
      " 35  indalg    43160 non-null   float64\n",
      "dtypes: float64(21), int64(15)\n",
      "memory usage: 210.3 MB\n"
     ]
    }
   ],
   "source": [
    "nlms.info()"
   ]
  },
  {
   "cell_type": "code",
   "execution_count": 15,
   "id": "1ee5ca8e-444c-427a-af37-24cb4b28aaf6",
   "metadata": {},
   "outputs": [
    {
     "data": {
      "text/plain": [
       "(745162, 36)"
      ]
     },
     "execution_count": 15,
     "metadata": {},
     "output_type": "execute_result"
    }
   ],
   "source": [
    "nlms.shape"
   ]
  },
  {
   "cell_type": "markdown",
   "id": "0baa6338-e9a3-480b-b76c-ebb8f1fefc05",
   "metadata": {},
   "source": [
    "### DataFrame for deceased individuals"
   ]
  },
  {
   "cell_type": "code",
   "execution_count": 16,
   "id": "ca8e44b4-d030-4cb4-813b-49cdd2f2d77d",
   "metadata": {},
   "outputs": [],
   "source": [
    "dec = nlms[nlms.dayod.isin([1.0, 2.0, 3.0, 4.0, 5.0, 6.0, 7.0])]\n"
   ]
  },
  {
   "cell_type": "code",
   "execution_count": 17,
   "id": "db48dd4c-a82c-4bc8-a0c0-55ecce83a0ef",
   "metadata": {},
   "outputs": [],
   "source": [
    "causes_dict_ref = {1: 'Infectious Disease', 2: 'Malignant or Other Neoplasm', 3: 'Nutrition-Related', 4: 'NeuroMuscular', \n",
    "                   5: 'Cardiovascular or Circulatory', 6: 'Respiratory', 7: 'Liver or Kidney', 8: 'Pregnancy or Birth', \n",
    "                  9: 'Otherwise Unspecified', 10: 'Accidental Harm', 11: 'Intentional Harm'}\n",
    "causes_dict = {1: 1, 2: 1, 3: 1, 4: 1, 5: 1, 6: 1, 7: 1, 8: 1, 9: 1, 10: 1, 11: 1, 12: 1, 13: 1, 14: 1, 15: 1, 16: 1, 17: 1, \n",
    "               18: 2, 19: 2, 20: 2, 21: 2, 22: 2, 23: 2, 24: 2, 25: 2, 26: 2, 27: 2, 28: 2, 29: 2, 30: 2, 31: 2, 32: 2, 33: 2, \n",
    "               34: 2, 35: 2, 36: 2, 37: 2, 38: 2, 39: 2, 40: 2, 41: 2, \n",
    "               42: 3, 43: 3, 44: 3, 45: 3, 46: 4, 47: 4, 48: 4, 49: 5, 50: 5, 51: 5, \n",
    "               52: 5, 53: 5, 54: 5, 55: 5, 56: 5, 57: 5, 58: 5, 59: 5, 60: 5, 61: 5, 62: 5, 63: 5, 64: 5, 65: 5, \n",
    "               66: 6, 67: 6, 68: 6, 69: 6, 70: 6, 71: 6, 72: 6, 73: 6, 74: 6, 75: 6, 76: 6, 80: 7, \n",
    "               81: 7, 82: 7, 83: 7, 84: 7, 85: 7, 86: 7, 87: 7, 88: 7, 89: 7, 90: 8, 91: 8, 92: 8, 93: 8, 77: 9, 78: 9, 79: 9, 94: 9, 95: 9, \n",
    "               96: 10, 97: 10, 98: 10, 99: 10, 100: 10, 101: 10, 102: 10, 103: 10, 104: 10, 113: 10, 105: 11, \n",
    "               106: 11, 107: 11, 108: 11, 109: 11, 110: 11, 111: 11, 112: 11}"
   ]
  },
  {
   "cell_type": "code",
   "execution_count": 18,
   "id": "9b84493b-9fc3-4c38-8204-e46c4b1f5287",
   "metadata": {},
   "outputs": [
    {
     "name": "stderr",
     "output_type": "stream",
     "text": [
      "/opt/anaconda3/lib/python3.7/site-packages/pandas/core/series.py:4515: SettingWithCopyWarning: \n",
      "A value is trying to be set on a copy of a slice from a DataFrame\n",
      "\n",
      "See the caveats in the documentation: https://pandas.pydata.org/pandas-docs/stable/user_guide/indexing.html#returning-a-view-versus-a-copy\n",
      "  method=method,\n"
     ]
    }
   ],
   "source": [
    "dec.cause113.replace(causes_dict, inplace=True)\n"
   ]
  },
  {
   "cell_type": "code",
   "execution_count": 19,
   "id": "a32f3fb2-271c-4c92-94c7-d11816c7829c",
   "metadata": {},
   "outputs": [
    {
     "data": {
      "text/plain": [
       "array([ 2,  5,  4,  9,  6,  7,  3, 10,  1, 11,  0,  8])"
      ]
     },
     "execution_count": 19,
     "metadata": {},
     "output_type": "execute_result"
    }
   ],
   "source": [
    "dec.cause113.unique()"
   ]
  },
  {
   "cell_type": "code",
   "execution_count": 20,
   "id": "b82b3696-2414-45e7-ab2e-39c90a988148",
   "metadata": {},
   "outputs": [
    {
     "data": {
      "text/plain": [
       "(24432, 36)"
      ]
     },
     "execution_count": 20,
     "metadata": {},
     "output_type": "execute_result"
    }
   ],
   "source": [
    "dec.shape"
   ]
  },
  {
   "cell_type": "code",
   "execution_count": 21,
   "id": "061fc333-c31f-424e-8664-c1a633631bf4",
   "metadata": {},
   "outputs": [
    {
     "data": {
      "text/html": [
       "<div>\n",
       "<style scoped>\n",
       "    .dataframe tbody tr th:only-of-type {\n",
       "        vertical-align: middle;\n",
       "    }\n",
       "\n",
       "    .dataframe tbody tr th {\n",
       "        vertical-align: top;\n",
       "    }\n",
       "\n",
       "    .dataframe thead th {\n",
       "        text-align: right;\n",
       "    }\n",
       "</style>\n",
       "<table border=\"1\" class=\"dataframe\">\n",
       "  <thead>\n",
       "    <tr style=\"text-align: right;\">\n",
       "      <th></th>\n",
       "      <th>age</th>\n",
       "      <th>race</th>\n",
       "      <th>sex</th>\n",
       "      <th>ms</th>\n",
       "      <th>hisp</th>\n",
       "      <th>adjinc</th>\n",
       "      <th>educ</th>\n",
       "      <th>pob</th>\n",
       "      <th>wt</th>\n",
       "      <th>hhid</th>\n",
       "      <th>...</th>\n",
       "      <th>vt</th>\n",
       "      <th>histatus</th>\n",
       "      <th>hitype</th>\n",
       "      <th>povpct</th>\n",
       "      <th>stater</th>\n",
       "      <th>rcow</th>\n",
       "      <th>tenure</th>\n",
       "      <th>citizen</th>\n",
       "      <th>health</th>\n",
       "      <th>indalg</th>\n",
       "    </tr>\n",
       "    <tr>\n",
       "      <th>record</th>\n",
       "      <th></th>\n",
       "      <th></th>\n",
       "      <th></th>\n",
       "      <th></th>\n",
       "      <th></th>\n",
       "      <th></th>\n",
       "      <th></th>\n",
       "      <th></th>\n",
       "      <th></th>\n",
       "      <th></th>\n",
       "      <th></th>\n",
       "      <th></th>\n",
       "      <th></th>\n",
       "      <th></th>\n",
       "      <th></th>\n",
       "      <th></th>\n",
       "      <th></th>\n",
       "      <th></th>\n",
       "      <th></th>\n",
       "      <th></th>\n",
       "      <th></th>\n",
       "    </tr>\n",
       "  </thead>\n",
       "  <tbody>\n",
       "    <tr>\n",
       "      <th>610904</th>\n",
       "      <td>69</td>\n",
       "      <td>1.0</td>\n",
       "      <td>2</td>\n",
       "      <td>2.0</td>\n",
       "      <td>3.0</td>\n",
       "      <td>3.0</td>\n",
       "      <td>8.0</td>\n",
       "      <td>0</td>\n",
       "      <td>551</td>\n",
       "      <td>2</td>\n",
       "      <td>...</td>\n",
       "      <td>0.0</td>\n",
       "      <td>1</td>\n",
       "      <td>1</td>\n",
       "      <td>6.0</td>\n",
       "      <td>63</td>\n",
       "      <td>NaN</td>\n",
       "      <td>1</td>\n",
       "      <td>NaN</td>\n",
       "      <td>5.0</td>\n",
       "      <td>1.0</td>\n",
       "    </tr>\n",
       "    <tr>\n",
       "      <th>610939</th>\n",
       "      <td>89</td>\n",
       "      <td>1.0</td>\n",
       "      <td>2</td>\n",
       "      <td>2.0</td>\n",
       "      <td>3.0</td>\n",
       "      <td>2.0</td>\n",
       "      <td>4.0</td>\n",
       "      <td>901</td>\n",
       "      <td>625</td>\n",
       "      <td>16</td>\n",
       "      <td>...</td>\n",
       "      <td>0.0</td>\n",
       "      <td>1</td>\n",
       "      <td>1</td>\n",
       "      <td>3.0</td>\n",
       "      <td>63</td>\n",
       "      <td>NaN</td>\n",
       "      <td>1</td>\n",
       "      <td>1.0</td>\n",
       "      <td>5.0</td>\n",
       "      <td>1.0</td>\n",
       "    </tr>\n",
       "    <tr>\n",
       "      <th>610942</th>\n",
       "      <td>70</td>\n",
       "      <td>2.0</td>\n",
       "      <td>1</td>\n",
       "      <td>1.0</td>\n",
       "      <td>3.0</td>\n",
       "      <td>10.0</td>\n",
       "      <td>8.0</td>\n",
       "      <td>960</td>\n",
       "      <td>330</td>\n",
       "      <td>18</td>\n",
       "      <td>...</td>\n",
       "      <td>1.0</td>\n",
       "      <td>1</td>\n",
       "      <td>1</td>\n",
       "      <td>1.0</td>\n",
       "      <td>63</td>\n",
       "      <td>NaN</td>\n",
       "      <td>1</td>\n",
       "      <td>1.0</td>\n",
       "      <td>NaN</td>\n",
       "      <td>1.0</td>\n",
       "    </tr>\n",
       "    <tr>\n",
       "      <th>610967</th>\n",
       "      <td>74</td>\n",
       "      <td>1.0</td>\n",
       "      <td>1</td>\n",
       "      <td>1.0</td>\n",
       "      <td>3.0</td>\n",
       "      <td>7.0</td>\n",
       "      <td>8.0</td>\n",
       "      <td>901</td>\n",
       "      <td>539</td>\n",
       "      <td>29</td>\n",
       "      <td>...</td>\n",
       "      <td>1.0</td>\n",
       "      <td>1</td>\n",
       "      <td>1</td>\n",
       "      <td>12.0</td>\n",
       "      <td>63</td>\n",
       "      <td>NaN</td>\n",
       "      <td>1</td>\n",
       "      <td>1.0</td>\n",
       "      <td>4.0</td>\n",
       "      <td>1.0</td>\n",
       "    </tr>\n",
       "    <tr>\n",
       "      <th>610969</th>\n",
       "      <td>67</td>\n",
       "      <td>1.0</td>\n",
       "      <td>1</td>\n",
       "      <td>2.0</td>\n",
       "      <td>3.0</td>\n",
       "      <td>7.0</td>\n",
       "      <td>11.0</td>\n",
       "      <td>0</td>\n",
       "      <td>446</td>\n",
       "      <td>30</td>\n",
       "      <td>...</td>\n",
       "      <td>1.0</td>\n",
       "      <td>1</td>\n",
       "      <td>1</td>\n",
       "      <td>15.0</td>\n",
       "      <td>63</td>\n",
       "      <td>NaN</td>\n",
       "      <td>3</td>\n",
       "      <td>NaN</td>\n",
       "      <td>4.0</td>\n",
       "      <td>1.0</td>\n",
       "    </tr>\n",
       "    <tr>\n",
       "      <th>...</th>\n",
       "      <td>...</td>\n",
       "      <td>...</td>\n",
       "      <td>...</td>\n",
       "      <td>...</td>\n",
       "      <td>...</td>\n",
       "      <td>...</td>\n",
       "      <td>...</td>\n",
       "      <td>...</td>\n",
       "      <td>...</td>\n",
       "      <td>...</td>\n",
       "      <td>...</td>\n",
       "      <td>...</td>\n",
       "      <td>...</td>\n",
       "      <td>...</td>\n",
       "      <td>...</td>\n",
       "      <td>...</td>\n",
       "      <td>...</td>\n",
       "      <td>...</td>\n",
       "      <td>...</td>\n",
       "      <td>...</td>\n",
       "      <td>...</td>\n",
       "    </tr>\n",
       "    <tr>\n",
       "      <th>536595</th>\n",
       "      <td>72</td>\n",
       "      <td>1.0</td>\n",
       "      <td>2</td>\n",
       "      <td>1.0</td>\n",
       "      <td>3.0</td>\n",
       "      <td>5.0</td>\n",
       "      <td>11.0</td>\n",
       "      <td>103</td>\n",
       "      <td>344</td>\n",
       "      <td>266232</td>\n",
       "      <td>...</td>\n",
       "      <td>0.0</td>\n",
       "      <td>1</td>\n",
       "      <td>1</td>\n",
       "      <td>6.0</td>\n",
       "      <td>16</td>\n",
       "      <td>NaN</td>\n",
       "      <td>1</td>\n",
       "      <td>NaN</td>\n",
       "      <td>3.0</td>\n",
       "      <td>1.0</td>\n",
       "    </tr>\n",
       "    <tr>\n",
       "      <th>536603</th>\n",
       "      <td>76</td>\n",
       "      <td>1.0</td>\n",
       "      <td>2</td>\n",
       "      <td>5.0</td>\n",
       "      <td>3.0</td>\n",
       "      <td>6.0</td>\n",
       "      <td>8.0</td>\n",
       "      <td>960</td>\n",
       "      <td>364</td>\n",
       "      <td>266236</td>\n",
       "      <td>...</td>\n",
       "      <td>0.0</td>\n",
       "      <td>1</td>\n",
       "      <td>1</td>\n",
       "      <td>9.0</td>\n",
       "      <td>16</td>\n",
       "      <td>NaN</td>\n",
       "      <td>1</td>\n",
       "      <td>NaN</td>\n",
       "      <td>5.0</td>\n",
       "      <td>1.0</td>\n",
       "    </tr>\n",
       "    <tr>\n",
       "      <th>483212</th>\n",
       "      <td>54</td>\n",
       "      <td>1.0</td>\n",
       "      <td>1</td>\n",
       "      <td>1.0</td>\n",
       "      <td>3.0</td>\n",
       "      <td>14.0</td>\n",
       "      <td>11.0</td>\n",
       "      <td>960</td>\n",
       "      <td>233</td>\n",
       "      <td>266352</td>\n",
       "      <td>...</td>\n",
       "      <td>0.0</td>\n",
       "      <td>1</td>\n",
       "      <td>4</td>\n",
       "      <td>21.0</td>\n",
       "      <td>16</td>\n",
       "      <td>1.0</td>\n",
       "      <td>1</td>\n",
       "      <td>NaN</td>\n",
       "      <td>NaN</td>\n",
       "      <td>1.0</td>\n",
       "    </tr>\n",
       "    <tr>\n",
       "      <th>508131</th>\n",
       "      <td>80</td>\n",
       "      <td>1.0</td>\n",
       "      <td>1</td>\n",
       "      <td>5.0</td>\n",
       "      <td>3.0</td>\n",
       "      <td>2.0</td>\n",
       "      <td>11.0</td>\n",
       "      <td>960</td>\n",
       "      <td>1945</td>\n",
       "      <td>266375</td>\n",
       "      <td>...</td>\n",
       "      <td>1.0</td>\n",
       "      <td>1</td>\n",
       "      <td>1</td>\n",
       "      <td>4.0</td>\n",
       "      <td>16</td>\n",
       "      <td>NaN</td>\n",
       "      <td>2</td>\n",
       "      <td>NaN</td>\n",
       "      <td>2.0</td>\n",
       "      <td>1.0</td>\n",
       "    </tr>\n",
       "    <tr>\n",
       "      <th>508132</th>\n",
       "      <td>69</td>\n",
       "      <td>2.0</td>\n",
       "      <td>2</td>\n",
       "      <td>5.0</td>\n",
       "      <td>3.0</td>\n",
       "      <td>2.0</td>\n",
       "      <td>11.0</td>\n",
       "      <td>960</td>\n",
       "      <td>2143</td>\n",
       "      <td>266376</td>\n",
       "      <td>...</td>\n",
       "      <td>0.0</td>\n",
       "      <td>1</td>\n",
       "      <td>1</td>\n",
       "      <td>3.0</td>\n",
       "      <td>16</td>\n",
       "      <td>NaN</td>\n",
       "      <td>2</td>\n",
       "      <td>NaN</td>\n",
       "      <td>3.0</td>\n",
       "      <td>1.0</td>\n",
       "    </tr>\n",
       "  </tbody>\n",
       "</table>\n",
       "<p>24432 rows × 36 columns</p>\n",
       "</div>"
      ],
      "text/plain": [
       "        age  race  sex   ms  hisp  adjinc  educ  pob    wt    hhid  ...   vt  \\\n",
       "record                                                              ...        \n",
       "610904   69   1.0    2  2.0   3.0     3.0   8.0    0   551       2  ...  0.0   \n",
       "610939   89   1.0    2  2.0   3.0     2.0   4.0  901   625      16  ...  0.0   \n",
       "610942   70   2.0    1  1.0   3.0    10.0   8.0  960   330      18  ...  1.0   \n",
       "610967   74   1.0    1  1.0   3.0     7.0   8.0  901   539      29  ...  1.0   \n",
       "610969   67   1.0    1  2.0   3.0     7.0  11.0    0   446      30  ...  1.0   \n",
       "...     ...   ...  ...  ...   ...     ...   ...  ...   ...     ...  ...  ...   \n",
       "536595   72   1.0    2  1.0   3.0     5.0  11.0  103   344  266232  ...  0.0   \n",
       "536603   76   1.0    2  5.0   3.0     6.0   8.0  960   364  266236  ...  0.0   \n",
       "483212   54   1.0    1  1.0   3.0    14.0  11.0  960   233  266352  ...  0.0   \n",
       "508131   80   1.0    1  5.0   3.0     2.0  11.0  960  1945  266375  ...  1.0   \n",
       "508132   69   2.0    2  5.0   3.0     2.0  11.0  960  2143  266376  ...  0.0   \n",
       "\n",
       "        histatus  hitype  povpct  stater  rcow  tenure  citizen  health  \\\n",
       "record                                                                    \n",
       "610904         1       1     6.0      63   NaN       1      NaN     5.0   \n",
       "610939         1       1     3.0      63   NaN       1      1.0     5.0   \n",
       "610942         1       1     1.0      63   NaN       1      1.0     NaN   \n",
       "610967         1       1    12.0      63   NaN       1      1.0     4.0   \n",
       "610969         1       1    15.0      63   NaN       3      NaN     4.0   \n",
       "...          ...     ...     ...     ...   ...     ...      ...     ...   \n",
       "536595         1       1     6.0      16   NaN       1      NaN     3.0   \n",
       "536603         1       1     9.0      16   NaN       1      NaN     5.0   \n",
       "483212         1       4    21.0      16   1.0       1      NaN     NaN   \n",
       "508131         1       1     4.0      16   NaN       2      NaN     2.0   \n",
       "508132         1       1     3.0      16   NaN       2      NaN     3.0   \n",
       "\n",
       "        indalg  \n",
       "record          \n",
       "610904     1.0  \n",
       "610939     1.0  \n",
       "610942     1.0  \n",
       "610967     1.0  \n",
       "610969     1.0  \n",
       "...        ...  \n",
       "536595     1.0  \n",
       "536603     1.0  \n",
       "483212     1.0  \n",
       "508131     1.0  \n",
       "508132     1.0  \n",
       "\n",
       "[24432 rows x 36 columns]"
      ]
     },
     "execution_count": 21,
     "metadata": {},
     "output_type": "execute_result"
    }
   ],
   "source": [
    "dec"
   ]
  },
  {
   "cell_type": "code",
   "execution_count": 22,
   "id": "e30f7328-4c3a-4c0f-87ef-0bf703695487",
   "metadata": {},
   "outputs": [
    {
     "data": {
      "text/plain": [
       "(24432, 36)"
      ]
     },
     "execution_count": 22,
     "metadata": {},
     "output_type": "execute_result"
    }
   ],
   "source": [
    "dec.shape"
   ]
  },
  {
   "cell_type": "code",
   "execution_count": null,
   "id": "d073c00b-ab24-4282-8284-7b325bb2e6f7",
   "metadata": {},
   "outputs": [],
   "source": []
  },
  {
   "cell_type": "code",
   "execution_count": null,
   "id": "076cd001-3efa-4a37-ac07-b528dd859a58",
   "metadata": {},
   "outputs": [],
   "source": []
  },
  {
   "cell_type": "code",
   "execution_count": null,
   "id": "a7dca50f-0b8d-4b3b-be01-d47f4d715f2c",
   "metadata": {},
   "outputs": [],
   "source": []
  },
  {
   "cell_type": "markdown",
   "id": "c2a8fac7-8cbc-4bb6-87cd-e58706ffc570",
   "metadata": {},
   "source": [
    "#### Pipeline for Processing"
   ]
  },
  {
   "cell_type": "code",
   "execution_count": 23,
   "id": "16ec9d8f-7286-4bc4-856d-4bea7aa78766",
   "metadata": {},
   "outputs": [],
   "source": [
    "cols_to_drop = ['hhid', 'reltrf', 'occ', 'majocc', 'majind', 'ind', 'smsast', \n",
    "                'inddea', 'follow', 'hospd', 'stater', 'health', 'indalg',\n",
    "               'citizen', 'rcow', 'hhnum', 'wt', 'pob']"
   ]
  },
  {
   "cell_type": "code",
   "execution_count": 24,
   "id": "b6f08c9b-be23-4d84-aff4-e64f9bb7a73e",
   "metadata": {},
   "outputs": [
    {
     "name": "stderr",
     "output_type": "stream",
     "text": [
      "/opt/anaconda3/lib/python3.7/site-packages/pandas/core/frame.py:4315: SettingWithCopyWarning: \n",
      "A value is trying to be set on a copy of a slice from a DataFrame\n",
      "\n",
      "See the caveats in the documentation: https://pandas.pydata.org/pandas-docs/stable/user_guide/indexing.html#returning-a-view-versus-a-copy\n",
      "  errors=errors,\n"
     ]
    }
   ],
   "source": [
    "dec.drop(columns=cols_to_drop, inplace=True, axis=1);"
   ]
  },
  {
   "cell_type": "code",
   "execution_count": 25,
   "id": "e6a79f63-505c-40c5-8e0b-aab9f89b7e61",
   "metadata": {},
   "outputs": [],
   "source": [
    "dec.drop(columns=['esr', 'urban', 'hosp', 'vt', 'povpct', 'histatus'], inplace=True)"
   ]
  },
  {
   "cell_type": "code",
   "execution_count": 26,
   "id": "68a63985-685c-4a06-b2e0-1d1943657d64",
   "metadata": {},
   "outputs": [
    {
     "data": {
      "text/html": [
       "<div>\n",
       "<style scoped>\n",
       "    .dataframe tbody tr th:only-of-type {\n",
       "        vertical-align: middle;\n",
       "    }\n",
       "\n",
       "    .dataframe tbody tr th {\n",
       "        vertical-align: top;\n",
       "    }\n",
       "\n",
       "    .dataframe thead th {\n",
       "        text-align: right;\n",
       "    }\n",
       "</style>\n",
       "<table border=\"1\" class=\"dataframe\">\n",
       "  <thead>\n",
       "    <tr style=\"text-align: right;\">\n",
       "      <th></th>\n",
       "      <th>age</th>\n",
       "      <th>race</th>\n",
       "      <th>sex</th>\n",
       "      <th>ms</th>\n",
       "      <th>hisp</th>\n",
       "      <th>adjinc</th>\n",
       "      <th>educ</th>\n",
       "      <th>cause113</th>\n",
       "      <th>dayod</th>\n",
       "      <th>ssnyn</th>\n",
       "      <th>hitype</th>\n",
       "      <th>tenure</th>\n",
       "    </tr>\n",
       "    <tr>\n",
       "      <th>record</th>\n",
       "      <th></th>\n",
       "      <th></th>\n",
       "      <th></th>\n",
       "      <th></th>\n",
       "      <th></th>\n",
       "      <th></th>\n",
       "      <th></th>\n",
       "      <th></th>\n",
       "      <th></th>\n",
       "      <th></th>\n",
       "      <th></th>\n",
       "      <th></th>\n",
       "    </tr>\n",
       "  </thead>\n",
       "  <tbody>\n",
       "    <tr>\n",
       "      <th>610904</th>\n",
       "      <td>69</td>\n",
       "      <td>1.0</td>\n",
       "      <td>2</td>\n",
       "      <td>2.0</td>\n",
       "      <td>3.0</td>\n",
       "      <td>3.0</td>\n",
       "      <td>8.0</td>\n",
       "      <td>2</td>\n",
       "      <td>4.0</td>\n",
       "      <td>0</td>\n",
       "      <td>1</td>\n",
       "      <td>1</td>\n",
       "    </tr>\n",
       "    <tr>\n",
       "      <th>610939</th>\n",
       "      <td>89</td>\n",
       "      <td>1.0</td>\n",
       "      <td>2</td>\n",
       "      <td>2.0</td>\n",
       "      <td>3.0</td>\n",
       "      <td>2.0</td>\n",
       "      <td>4.0</td>\n",
       "      <td>5</td>\n",
       "      <td>6.0</td>\n",
       "      <td>1</td>\n",
       "      <td>1</td>\n",
       "      <td>1</td>\n",
       "    </tr>\n",
       "    <tr>\n",
       "      <th>610942</th>\n",
       "      <td>70</td>\n",
       "      <td>2.0</td>\n",
       "      <td>1</td>\n",
       "      <td>1.0</td>\n",
       "      <td>3.0</td>\n",
       "      <td>10.0</td>\n",
       "      <td>8.0</td>\n",
       "      <td>2</td>\n",
       "      <td>5.0</td>\n",
       "      <td>0</td>\n",
       "      <td>1</td>\n",
       "      <td>1</td>\n",
       "    </tr>\n",
       "    <tr>\n",
       "      <th>610967</th>\n",
       "      <td>74</td>\n",
       "      <td>1.0</td>\n",
       "      <td>1</td>\n",
       "      <td>1.0</td>\n",
       "      <td>3.0</td>\n",
       "      <td>7.0</td>\n",
       "      <td>8.0</td>\n",
       "      <td>5</td>\n",
       "      <td>7.0</td>\n",
       "      <td>1</td>\n",
       "      <td>1</td>\n",
       "      <td>1</td>\n",
       "    </tr>\n",
       "    <tr>\n",
       "      <th>610969</th>\n",
       "      <td>67</td>\n",
       "      <td>1.0</td>\n",
       "      <td>1</td>\n",
       "      <td>2.0</td>\n",
       "      <td>3.0</td>\n",
       "      <td>7.0</td>\n",
       "      <td>11.0</td>\n",
       "      <td>5</td>\n",
       "      <td>3.0</td>\n",
       "      <td>0</td>\n",
       "      <td>1</td>\n",
       "      <td>3</td>\n",
       "    </tr>\n",
       "    <tr>\n",
       "      <th>...</th>\n",
       "      <td>...</td>\n",
       "      <td>...</td>\n",
       "      <td>...</td>\n",
       "      <td>...</td>\n",
       "      <td>...</td>\n",
       "      <td>...</td>\n",
       "      <td>...</td>\n",
       "      <td>...</td>\n",
       "      <td>...</td>\n",
       "      <td>...</td>\n",
       "      <td>...</td>\n",
       "      <td>...</td>\n",
       "    </tr>\n",
       "    <tr>\n",
       "      <th>536595</th>\n",
       "      <td>72</td>\n",
       "      <td>1.0</td>\n",
       "      <td>2</td>\n",
       "      <td>1.0</td>\n",
       "      <td>3.0</td>\n",
       "      <td>5.0</td>\n",
       "      <td>11.0</td>\n",
       "      <td>10</td>\n",
       "      <td>3.0</td>\n",
       "      <td>0</td>\n",
       "      <td>1</td>\n",
       "      <td>1</td>\n",
       "    </tr>\n",
       "    <tr>\n",
       "      <th>536603</th>\n",
       "      <td>76</td>\n",
       "      <td>1.0</td>\n",
       "      <td>2</td>\n",
       "      <td>5.0</td>\n",
       "      <td>3.0</td>\n",
       "      <td>6.0</td>\n",
       "      <td>8.0</td>\n",
       "      <td>3</td>\n",
       "      <td>1.0</td>\n",
       "      <td>0</td>\n",
       "      <td>1</td>\n",
       "      <td>1</td>\n",
       "    </tr>\n",
       "    <tr>\n",
       "      <th>483212</th>\n",
       "      <td>54</td>\n",
       "      <td>1.0</td>\n",
       "      <td>1</td>\n",
       "      <td>1.0</td>\n",
       "      <td>3.0</td>\n",
       "      <td>14.0</td>\n",
       "      <td>11.0</td>\n",
       "      <td>11</td>\n",
       "      <td>4.0</td>\n",
       "      <td>1</td>\n",
       "      <td>4</td>\n",
       "      <td>1</td>\n",
       "    </tr>\n",
       "    <tr>\n",
       "      <th>508131</th>\n",
       "      <td>80</td>\n",
       "      <td>1.0</td>\n",
       "      <td>1</td>\n",
       "      <td>5.0</td>\n",
       "      <td>3.0</td>\n",
       "      <td>2.0</td>\n",
       "      <td>11.0</td>\n",
       "      <td>2</td>\n",
       "      <td>7.0</td>\n",
       "      <td>1</td>\n",
       "      <td>1</td>\n",
       "      <td>2</td>\n",
       "    </tr>\n",
       "    <tr>\n",
       "      <th>508132</th>\n",
       "      <td>69</td>\n",
       "      <td>2.0</td>\n",
       "      <td>2</td>\n",
       "      <td>5.0</td>\n",
       "      <td>3.0</td>\n",
       "      <td>2.0</td>\n",
       "      <td>11.0</td>\n",
       "      <td>9</td>\n",
       "      <td>6.0</td>\n",
       "      <td>1</td>\n",
       "      <td>1</td>\n",
       "      <td>2</td>\n",
       "    </tr>\n",
       "  </tbody>\n",
       "</table>\n",
       "<p>24432 rows × 12 columns</p>\n",
       "</div>"
      ],
      "text/plain": [
       "        age  race  sex   ms  hisp  adjinc  educ  cause113  dayod  ssnyn  \\\n",
       "record                                                                    \n",
       "610904   69   1.0    2  2.0   3.0     3.0   8.0         2    4.0      0   \n",
       "610939   89   1.0    2  2.0   3.0     2.0   4.0         5    6.0      1   \n",
       "610942   70   2.0    1  1.0   3.0    10.0   8.0         2    5.0      0   \n",
       "610967   74   1.0    1  1.0   3.0     7.0   8.0         5    7.0      1   \n",
       "610969   67   1.0    1  2.0   3.0     7.0  11.0         5    3.0      0   \n",
       "...     ...   ...  ...  ...   ...     ...   ...       ...    ...    ...   \n",
       "536595   72   1.0    2  1.0   3.0     5.0  11.0        10    3.0      0   \n",
       "536603   76   1.0    2  5.0   3.0     6.0   8.0         3    1.0      0   \n",
       "483212   54   1.0    1  1.0   3.0    14.0  11.0        11    4.0      1   \n",
       "508131   80   1.0    1  5.0   3.0     2.0  11.0         2    7.0      1   \n",
       "508132   69   2.0    2  5.0   3.0     2.0  11.0         9    6.0      1   \n",
       "\n",
       "        hitype  tenure  \n",
       "record                  \n",
       "610904       1       1  \n",
       "610939       1       1  \n",
       "610942       1       1  \n",
       "610967       1       1  \n",
       "610969       1       3  \n",
       "...        ...     ...  \n",
       "536595       1       1  \n",
       "536603       1       1  \n",
       "483212       4       1  \n",
       "508131       1       2  \n",
       "508132       1       2  \n",
       "\n",
       "[24432 rows x 12 columns]"
      ]
     },
     "execution_count": 26,
     "metadata": {},
     "output_type": "execute_result"
    }
   ],
   "source": [
    "dec"
   ]
  },
  {
   "cell_type": "code",
   "execution_count": 27,
   "id": "60532472-edc2-44ce-b2c1-6e09338dd817",
   "metadata": {},
   "outputs": [
    {
     "name": "stderr",
     "output_type": "stream",
     "text": [
      "/opt/anaconda3/lib/python3.7/site-packages/pandas/core/frame.py:4315: SettingWithCopyWarning: \n",
      "A value is trying to be set on a copy of a slice from a DataFrame\n",
      "\n",
      "See the caveats in the documentation: https://pandas.pydata.org/pandas-docs/stable/user_guide/indexing.html#returning-a-view-versus-a-copy\n",
      "  errors=errors,\n"
     ]
    }
   ],
   "source": [
    "dec.drop(columns=['dayod', 'ssnyn', 'tenure'], inplace=True)"
   ]
  },
  {
   "cell_type": "code",
   "execution_count": 28,
   "id": "785ab88e-36f5-4bcb-b583-56e273dd0585",
   "metadata": {},
   "outputs": [
    {
     "data": {
      "text/plain": [
       "age           0\n",
       "race          0\n",
       "sex           0\n",
       "ms          432\n",
       "hisp        538\n",
       "adjinc       23\n",
       "educ        432\n",
       "cause113      0\n",
       "hitype        0\n",
       "dtype: int64"
      ]
     },
     "execution_count": 28,
     "metadata": {},
     "output_type": "execute_result"
    }
   ],
   "source": [
    "dec.isnull().sum()"
   ]
  },
  {
   "cell_type": "code",
   "execution_count": 29,
   "id": "8fcbe119-82fa-4a78-841f-1b346b1306d9",
   "metadata": {},
   "outputs": [],
   "source": [
    "cat_cols = ['ms', 'hisp', 'educ', 'adjinc', 'race', 'sex', 'cause113', 'hitype']\n",
    "num_cols = ['age']"
   ]
  },
  {
   "cell_type": "code",
   "execution_count": 30,
   "id": "a53ba43f-7c4c-4335-bfb8-94504f17758f",
   "metadata": {},
   "outputs": [],
   "source": [
    "imputer_cat = KNNImputer(n_neighbors=1)"
   ]
  },
  {
   "cell_type": "code",
   "execution_count": 31,
   "id": "5df9a3e3-2fd3-4bbb-ba6b-6803bb04e116",
   "metadata": {},
   "outputs": [],
   "source": [
    "cat_df_imp = pd.DataFrame(imputer_cat.fit_transform(dec[cat_cols]), \n",
    "                          columns=cat_cols, index=dec.index)"
   ]
  },
  {
   "cell_type": "code",
   "execution_count": 32,
   "id": "3c48df00-b951-4b50-82ed-9ac3b23b4013",
   "metadata": {},
   "outputs": [],
   "source": [
    "imputer_num = KNNImputer(n_neighbors=3)"
   ]
  },
  {
   "cell_type": "code",
   "execution_count": 33,
   "id": "2fa234a0-2b7e-47aa-ab64-e34996c08e17",
   "metadata": {},
   "outputs": [],
   "source": [
    "num_df_imp = pd.DataFrame(imputer_num.fit_transform\n",
    "                          (dec[num_cols]), \n",
    "                          columns=num_cols, \n",
    "                          index=dec.index)"
   ]
  },
  {
   "cell_type": "code",
   "execution_count": 34,
   "id": "49151ee3-6b65-498c-a2dd-13d82a6910b3",
   "metadata": {},
   "outputs": [
    {
     "data": {
      "text/plain": [
       "((24432, 1), (24432, 8))"
      ]
     },
     "execution_count": 34,
     "metadata": {},
     "output_type": "execute_result"
    }
   ],
   "source": [
    "num_df_imp.shape, cat_df_imp.shape"
   ]
  },
  {
   "cell_type": "code",
   "execution_count": 35,
   "id": "39c290ba-9ee2-4875-b33c-9a6289210b85",
   "metadata": {},
   "outputs": [],
   "source": [
    "num_indices = num_df_imp.index.to_list()"
   ]
  },
  {
   "cell_type": "code",
   "execution_count": 36,
   "id": "70e80c3c-ab91-4143-8ddd-9a925a95e0d1",
   "metadata": {},
   "outputs": [],
   "source": [
    "cat_indices = cat_df_imp.index.to_list()"
   ]
  },
  {
   "cell_type": "code",
   "execution_count": 37,
   "id": "28067161-d6ed-4091-b05c-d5b9353318b1",
   "metadata": {},
   "outputs": [
    {
     "data": {
      "text/plain": [
       "0"
      ]
     },
     "execution_count": 37,
     "metadata": {},
     "output_type": "execute_result"
    }
   ],
   "source": [
    "len(list(set(num_indices) - set(cat_indices)))"
   ]
  },
  {
   "cell_type": "code",
   "execution_count": null,
   "id": "442a25fb-8780-48d5-86b7-2df99ced598e",
   "metadata": {},
   "outputs": [],
   "source": []
  },
  {
   "cell_type": "code",
   "execution_count": null,
   "id": "2f587e98-7c71-4803-8ddb-1551f45a0ef1",
   "metadata": {},
   "outputs": [],
   "source": []
  },
  {
   "cell_type": "code",
   "execution_count": 38,
   "id": "84826b63-6ba5-4861-b4f7-e45c212f0b36",
   "metadata": {},
   "outputs": [],
   "source": [
    "df = num_df_imp.merge(cat_df_imp, how='inner', left_index=True, right_index=True)\n"
   ]
  },
  {
   "cell_type": "code",
   "execution_count": 39,
   "id": "dc0ea193-556c-41cf-a88f-d33c2bcd8b7b",
   "metadata": {},
   "outputs": [
    {
     "data": {
      "text/html": [
       "<div>\n",
       "<style scoped>\n",
       "    .dataframe tbody tr th:only-of-type {\n",
       "        vertical-align: middle;\n",
       "    }\n",
       "\n",
       "    .dataframe tbody tr th {\n",
       "        vertical-align: top;\n",
       "    }\n",
       "\n",
       "    .dataframe thead th {\n",
       "        text-align: right;\n",
       "    }\n",
       "</style>\n",
       "<table border=\"1\" class=\"dataframe\">\n",
       "  <thead>\n",
       "    <tr style=\"text-align: right;\">\n",
       "      <th></th>\n",
       "      <th>age</th>\n",
       "      <th>ms</th>\n",
       "      <th>hisp</th>\n",
       "      <th>educ</th>\n",
       "      <th>adjinc</th>\n",
       "      <th>race</th>\n",
       "      <th>sex</th>\n",
       "      <th>cause113</th>\n",
       "      <th>hitype</th>\n",
       "    </tr>\n",
       "    <tr>\n",
       "      <th>record</th>\n",
       "      <th></th>\n",
       "      <th></th>\n",
       "      <th></th>\n",
       "      <th></th>\n",
       "      <th></th>\n",
       "      <th></th>\n",
       "      <th></th>\n",
       "      <th></th>\n",
       "      <th></th>\n",
       "    </tr>\n",
       "  </thead>\n",
       "  <tbody>\n",
       "    <tr>\n",
       "      <th>610904</th>\n",
       "      <td>69.0</td>\n",
       "      <td>2.0</td>\n",
       "      <td>3.0</td>\n",
       "      <td>8.0</td>\n",
       "      <td>3.0</td>\n",
       "      <td>1.0</td>\n",
       "      <td>2.0</td>\n",
       "      <td>2.0</td>\n",
       "      <td>1.0</td>\n",
       "    </tr>\n",
       "    <tr>\n",
       "      <th>610939</th>\n",
       "      <td>89.0</td>\n",
       "      <td>2.0</td>\n",
       "      <td>3.0</td>\n",
       "      <td>4.0</td>\n",
       "      <td>2.0</td>\n",
       "      <td>1.0</td>\n",
       "      <td>2.0</td>\n",
       "      <td>5.0</td>\n",
       "      <td>1.0</td>\n",
       "    </tr>\n",
       "    <tr>\n",
       "      <th>610942</th>\n",
       "      <td>70.0</td>\n",
       "      <td>1.0</td>\n",
       "      <td>3.0</td>\n",
       "      <td>8.0</td>\n",
       "      <td>10.0</td>\n",
       "      <td>2.0</td>\n",
       "      <td>1.0</td>\n",
       "      <td>2.0</td>\n",
       "      <td>1.0</td>\n",
       "    </tr>\n",
       "    <tr>\n",
       "      <th>610967</th>\n",
       "      <td>74.0</td>\n",
       "      <td>1.0</td>\n",
       "      <td>3.0</td>\n",
       "      <td>8.0</td>\n",
       "      <td>7.0</td>\n",
       "      <td>1.0</td>\n",
       "      <td>1.0</td>\n",
       "      <td>5.0</td>\n",
       "      <td>1.0</td>\n",
       "    </tr>\n",
       "    <tr>\n",
       "      <th>610969</th>\n",
       "      <td>67.0</td>\n",
       "      <td>2.0</td>\n",
       "      <td>3.0</td>\n",
       "      <td>11.0</td>\n",
       "      <td>7.0</td>\n",
       "      <td>1.0</td>\n",
       "      <td>1.0</td>\n",
       "      <td>5.0</td>\n",
       "      <td>1.0</td>\n",
       "    </tr>\n",
       "    <tr>\n",
       "      <th>...</th>\n",
       "      <td>...</td>\n",
       "      <td>...</td>\n",
       "      <td>...</td>\n",
       "      <td>...</td>\n",
       "      <td>...</td>\n",
       "      <td>...</td>\n",
       "      <td>...</td>\n",
       "      <td>...</td>\n",
       "      <td>...</td>\n",
       "    </tr>\n",
       "    <tr>\n",
       "      <th>536595</th>\n",
       "      <td>72.0</td>\n",
       "      <td>1.0</td>\n",
       "      <td>3.0</td>\n",
       "      <td>11.0</td>\n",
       "      <td>5.0</td>\n",
       "      <td>1.0</td>\n",
       "      <td>2.0</td>\n",
       "      <td>10.0</td>\n",
       "      <td>1.0</td>\n",
       "    </tr>\n",
       "    <tr>\n",
       "      <th>536603</th>\n",
       "      <td>76.0</td>\n",
       "      <td>5.0</td>\n",
       "      <td>3.0</td>\n",
       "      <td>8.0</td>\n",
       "      <td>6.0</td>\n",
       "      <td>1.0</td>\n",
       "      <td>2.0</td>\n",
       "      <td>3.0</td>\n",
       "      <td>1.0</td>\n",
       "    </tr>\n",
       "    <tr>\n",
       "      <th>483212</th>\n",
       "      <td>54.0</td>\n",
       "      <td>1.0</td>\n",
       "      <td>3.0</td>\n",
       "      <td>11.0</td>\n",
       "      <td>14.0</td>\n",
       "      <td>1.0</td>\n",
       "      <td>1.0</td>\n",
       "      <td>11.0</td>\n",
       "      <td>4.0</td>\n",
       "    </tr>\n",
       "    <tr>\n",
       "      <th>508131</th>\n",
       "      <td>80.0</td>\n",
       "      <td>5.0</td>\n",
       "      <td>3.0</td>\n",
       "      <td>11.0</td>\n",
       "      <td>2.0</td>\n",
       "      <td>1.0</td>\n",
       "      <td>1.0</td>\n",
       "      <td>2.0</td>\n",
       "      <td>1.0</td>\n",
       "    </tr>\n",
       "    <tr>\n",
       "      <th>508132</th>\n",
       "      <td>69.0</td>\n",
       "      <td>5.0</td>\n",
       "      <td>3.0</td>\n",
       "      <td>11.0</td>\n",
       "      <td>2.0</td>\n",
       "      <td>2.0</td>\n",
       "      <td>2.0</td>\n",
       "      <td>9.0</td>\n",
       "      <td>1.0</td>\n",
       "    </tr>\n",
       "  </tbody>\n",
       "</table>\n",
       "<p>24432 rows × 9 columns</p>\n",
       "</div>"
      ],
      "text/plain": [
       "         age   ms  hisp  educ  adjinc  race  sex  cause113  hitype\n",
       "record                                                            \n",
       "610904  69.0  2.0   3.0   8.0     3.0   1.0  2.0       2.0     1.0\n",
       "610939  89.0  2.0   3.0   4.0     2.0   1.0  2.0       5.0     1.0\n",
       "610942  70.0  1.0   3.0   8.0    10.0   2.0  1.0       2.0     1.0\n",
       "610967  74.0  1.0   3.0   8.0     7.0   1.0  1.0       5.0     1.0\n",
       "610969  67.0  2.0   3.0  11.0     7.0   1.0  1.0       5.0     1.0\n",
       "...      ...  ...   ...   ...     ...   ...  ...       ...     ...\n",
       "536595  72.0  1.0   3.0  11.0     5.0   1.0  2.0      10.0     1.0\n",
       "536603  76.0  5.0   3.0   8.0     6.0   1.0  2.0       3.0     1.0\n",
       "483212  54.0  1.0   3.0  11.0    14.0   1.0  1.0      11.0     4.0\n",
       "508131  80.0  5.0   3.0  11.0     2.0   1.0  1.0       2.0     1.0\n",
       "508132  69.0  5.0   3.0  11.0     2.0   2.0  2.0       9.0     1.0\n",
       "\n",
       "[24432 rows x 9 columns]"
      ]
     },
     "execution_count": 39,
     "metadata": {},
     "output_type": "execute_result"
    }
   ],
   "source": [
    "df"
   ]
  },
  {
   "cell_type": "code",
   "execution_count": null,
   "id": "2ab8d2d8-09ca-436e-a43c-bd0fced5b806",
   "metadata": {},
   "outputs": [],
   "source": []
  },
  {
   "cell_type": "code",
   "execution_count": 40,
   "id": "f724100d-7869-4825-8f51-f969f3d9d481",
   "metadata": {},
   "outputs": [],
   "source": [
    "X = df.copy()"
   ]
  },
  {
   "cell_type": "code",
   "execution_count": 41,
   "id": "088c0775-4174-4047-929d-e872a49f2310",
   "metadata": {},
   "outputs": [
    {
     "data": {
      "text/plain": [
       "Index(['age', 'race', 'sex', 'ms', 'hisp', 'adjinc', 'educ', 'cause113',\n",
       "       'hitype'],\n",
       "      dtype='object')"
      ]
     },
     "execution_count": 41,
     "metadata": {},
     "output_type": "execute_result"
    }
   ],
   "source": [
    "dec.columns"
   ]
  },
  {
   "cell_type": "code",
   "execution_count": 42,
   "id": "bf1954b4-2995-4cbb-9950-ef6abf12c3e2",
   "metadata": {},
   "outputs": [],
   "source": [
    "X.drop('cause113', axis=1, inplace=True)"
   ]
  },
  {
   "cell_type": "code",
   "execution_count": 43,
   "id": "427519ed-bf48-41d3-bb23-9925f5b84b4b",
   "metadata": {},
   "outputs": [
    {
     "data": {
      "text/html": [
       "<div>\n",
       "<style scoped>\n",
       "    .dataframe tbody tr th:only-of-type {\n",
       "        vertical-align: middle;\n",
       "    }\n",
       "\n",
       "    .dataframe tbody tr th {\n",
       "        vertical-align: top;\n",
       "    }\n",
       "\n",
       "    .dataframe thead th {\n",
       "        text-align: right;\n",
       "    }\n",
       "</style>\n",
       "<table border=\"1\" class=\"dataframe\">\n",
       "  <thead>\n",
       "    <tr style=\"text-align: right;\">\n",
       "      <th></th>\n",
       "      <th>age</th>\n",
       "      <th>ms</th>\n",
       "      <th>hisp</th>\n",
       "      <th>educ</th>\n",
       "      <th>adjinc</th>\n",
       "      <th>race</th>\n",
       "      <th>sex</th>\n",
       "      <th>hitype</th>\n",
       "    </tr>\n",
       "    <tr>\n",
       "      <th>record</th>\n",
       "      <th></th>\n",
       "      <th></th>\n",
       "      <th></th>\n",
       "      <th></th>\n",
       "      <th></th>\n",
       "      <th></th>\n",
       "      <th></th>\n",
       "      <th></th>\n",
       "    </tr>\n",
       "  </thead>\n",
       "  <tbody>\n",
       "    <tr>\n",
       "      <th>610904</th>\n",
       "      <td>69.0</td>\n",
       "      <td>2.0</td>\n",
       "      <td>3.0</td>\n",
       "      <td>8.0</td>\n",
       "      <td>3.0</td>\n",
       "      <td>1.0</td>\n",
       "      <td>2.0</td>\n",
       "      <td>1.0</td>\n",
       "    </tr>\n",
       "    <tr>\n",
       "      <th>610939</th>\n",
       "      <td>89.0</td>\n",
       "      <td>2.0</td>\n",
       "      <td>3.0</td>\n",
       "      <td>4.0</td>\n",
       "      <td>2.0</td>\n",
       "      <td>1.0</td>\n",
       "      <td>2.0</td>\n",
       "      <td>1.0</td>\n",
       "    </tr>\n",
       "    <tr>\n",
       "      <th>610942</th>\n",
       "      <td>70.0</td>\n",
       "      <td>1.0</td>\n",
       "      <td>3.0</td>\n",
       "      <td>8.0</td>\n",
       "      <td>10.0</td>\n",
       "      <td>2.0</td>\n",
       "      <td>1.0</td>\n",
       "      <td>1.0</td>\n",
       "    </tr>\n",
       "    <tr>\n",
       "      <th>610967</th>\n",
       "      <td>74.0</td>\n",
       "      <td>1.0</td>\n",
       "      <td>3.0</td>\n",
       "      <td>8.0</td>\n",
       "      <td>7.0</td>\n",
       "      <td>1.0</td>\n",
       "      <td>1.0</td>\n",
       "      <td>1.0</td>\n",
       "    </tr>\n",
       "    <tr>\n",
       "      <th>610969</th>\n",
       "      <td>67.0</td>\n",
       "      <td>2.0</td>\n",
       "      <td>3.0</td>\n",
       "      <td>11.0</td>\n",
       "      <td>7.0</td>\n",
       "      <td>1.0</td>\n",
       "      <td>1.0</td>\n",
       "      <td>1.0</td>\n",
       "    </tr>\n",
       "    <tr>\n",
       "      <th>...</th>\n",
       "      <td>...</td>\n",
       "      <td>...</td>\n",
       "      <td>...</td>\n",
       "      <td>...</td>\n",
       "      <td>...</td>\n",
       "      <td>...</td>\n",
       "      <td>...</td>\n",
       "      <td>...</td>\n",
       "    </tr>\n",
       "    <tr>\n",
       "      <th>536595</th>\n",
       "      <td>72.0</td>\n",
       "      <td>1.0</td>\n",
       "      <td>3.0</td>\n",
       "      <td>11.0</td>\n",
       "      <td>5.0</td>\n",
       "      <td>1.0</td>\n",
       "      <td>2.0</td>\n",
       "      <td>1.0</td>\n",
       "    </tr>\n",
       "    <tr>\n",
       "      <th>536603</th>\n",
       "      <td>76.0</td>\n",
       "      <td>5.0</td>\n",
       "      <td>3.0</td>\n",
       "      <td>8.0</td>\n",
       "      <td>6.0</td>\n",
       "      <td>1.0</td>\n",
       "      <td>2.0</td>\n",
       "      <td>1.0</td>\n",
       "    </tr>\n",
       "    <tr>\n",
       "      <th>483212</th>\n",
       "      <td>54.0</td>\n",
       "      <td>1.0</td>\n",
       "      <td>3.0</td>\n",
       "      <td>11.0</td>\n",
       "      <td>14.0</td>\n",
       "      <td>1.0</td>\n",
       "      <td>1.0</td>\n",
       "      <td>4.0</td>\n",
       "    </tr>\n",
       "    <tr>\n",
       "      <th>508131</th>\n",
       "      <td>80.0</td>\n",
       "      <td>5.0</td>\n",
       "      <td>3.0</td>\n",
       "      <td>11.0</td>\n",
       "      <td>2.0</td>\n",
       "      <td>1.0</td>\n",
       "      <td>1.0</td>\n",
       "      <td>1.0</td>\n",
       "    </tr>\n",
       "    <tr>\n",
       "      <th>508132</th>\n",
       "      <td>69.0</td>\n",
       "      <td>5.0</td>\n",
       "      <td>3.0</td>\n",
       "      <td>11.0</td>\n",
       "      <td>2.0</td>\n",
       "      <td>2.0</td>\n",
       "      <td>2.0</td>\n",
       "      <td>1.0</td>\n",
       "    </tr>\n",
       "  </tbody>\n",
       "</table>\n",
       "<p>24432 rows × 8 columns</p>\n",
       "</div>"
      ],
      "text/plain": [
       "         age   ms  hisp  educ  adjinc  race  sex  hitype\n",
       "record                                                  \n",
       "610904  69.0  2.0   3.0   8.0     3.0   1.0  2.0     1.0\n",
       "610939  89.0  2.0   3.0   4.0     2.0   1.0  2.0     1.0\n",
       "610942  70.0  1.0   3.0   8.0    10.0   2.0  1.0     1.0\n",
       "610967  74.0  1.0   3.0   8.0     7.0   1.0  1.0     1.0\n",
       "610969  67.0  2.0   3.0  11.0     7.0   1.0  1.0     1.0\n",
       "...      ...  ...   ...   ...     ...   ...  ...     ...\n",
       "536595  72.0  1.0   3.0  11.0     5.0   1.0  2.0     1.0\n",
       "536603  76.0  5.0   3.0   8.0     6.0   1.0  2.0     1.0\n",
       "483212  54.0  1.0   3.0  11.0    14.0   1.0  1.0     4.0\n",
       "508131  80.0  5.0   3.0  11.0     2.0   1.0  1.0     1.0\n",
       "508132  69.0  5.0   3.0  11.0     2.0   2.0  2.0     1.0\n",
       "\n",
       "[24432 rows x 8 columns]"
      ]
     },
     "execution_count": 43,
     "metadata": {},
     "output_type": "execute_result"
    }
   ],
   "source": [
    "X"
   ]
  },
  {
   "cell_type": "code",
   "execution_count": 44,
   "id": "76cfcfee-96d8-417e-8c9b-f72436dfcd8c",
   "metadata": {},
   "outputs": [
    {
     "data": {
      "text/html": [
       "<div>\n",
       "<style scoped>\n",
       "    .dataframe tbody tr th:only-of-type {\n",
       "        vertical-align: middle;\n",
       "    }\n",
       "\n",
       "    .dataframe tbody tr th {\n",
       "        vertical-align: top;\n",
       "    }\n",
       "\n",
       "    .dataframe thead th {\n",
       "        text-align: right;\n",
       "    }\n",
       "</style>\n",
       "<table border=\"1\" class=\"dataframe\">\n",
       "  <thead>\n",
       "    <tr style=\"text-align: right;\">\n",
       "      <th></th>\n",
       "      <th>age</th>\n",
       "      <th>ms</th>\n",
       "      <th>hisp</th>\n",
       "      <th>educ</th>\n",
       "      <th>adjinc</th>\n",
       "      <th>race</th>\n",
       "      <th>sex</th>\n",
       "      <th>hitype</th>\n",
       "    </tr>\n",
       "    <tr>\n",
       "      <th>record</th>\n",
       "      <th></th>\n",
       "      <th></th>\n",
       "      <th></th>\n",
       "      <th></th>\n",
       "      <th></th>\n",
       "      <th></th>\n",
       "      <th></th>\n",
       "      <th></th>\n",
       "    </tr>\n",
       "  </thead>\n",
       "  <tbody>\n",
       "    <tr>\n",
       "      <th>610904</th>\n",
       "      <td>69.0</td>\n",
       "      <td>2.0</td>\n",
       "      <td>3.0</td>\n",
       "      <td>8.0</td>\n",
       "      <td>3.0</td>\n",
       "      <td>1.0</td>\n",
       "      <td>2.0</td>\n",
       "      <td>1.0</td>\n",
       "    </tr>\n",
       "    <tr>\n",
       "      <th>610939</th>\n",
       "      <td>89.0</td>\n",
       "      <td>2.0</td>\n",
       "      <td>3.0</td>\n",
       "      <td>4.0</td>\n",
       "      <td>2.0</td>\n",
       "      <td>1.0</td>\n",
       "      <td>2.0</td>\n",
       "      <td>1.0</td>\n",
       "    </tr>\n",
       "    <tr>\n",
       "      <th>610942</th>\n",
       "      <td>70.0</td>\n",
       "      <td>1.0</td>\n",
       "      <td>3.0</td>\n",
       "      <td>8.0</td>\n",
       "      <td>10.0</td>\n",
       "      <td>2.0</td>\n",
       "      <td>1.0</td>\n",
       "      <td>1.0</td>\n",
       "    </tr>\n",
       "    <tr>\n",
       "      <th>610967</th>\n",
       "      <td>74.0</td>\n",
       "      <td>1.0</td>\n",
       "      <td>3.0</td>\n",
       "      <td>8.0</td>\n",
       "      <td>7.0</td>\n",
       "      <td>1.0</td>\n",
       "      <td>1.0</td>\n",
       "      <td>1.0</td>\n",
       "    </tr>\n",
       "    <tr>\n",
       "      <th>610969</th>\n",
       "      <td>67.0</td>\n",
       "      <td>2.0</td>\n",
       "      <td>3.0</td>\n",
       "      <td>11.0</td>\n",
       "      <td>7.0</td>\n",
       "      <td>1.0</td>\n",
       "      <td>1.0</td>\n",
       "      <td>1.0</td>\n",
       "    </tr>\n",
       "    <tr>\n",
       "      <th>...</th>\n",
       "      <td>...</td>\n",
       "      <td>...</td>\n",
       "      <td>...</td>\n",
       "      <td>...</td>\n",
       "      <td>...</td>\n",
       "      <td>...</td>\n",
       "      <td>...</td>\n",
       "      <td>...</td>\n",
       "    </tr>\n",
       "    <tr>\n",
       "      <th>536595</th>\n",
       "      <td>72.0</td>\n",
       "      <td>1.0</td>\n",
       "      <td>3.0</td>\n",
       "      <td>11.0</td>\n",
       "      <td>5.0</td>\n",
       "      <td>1.0</td>\n",
       "      <td>2.0</td>\n",
       "      <td>1.0</td>\n",
       "    </tr>\n",
       "    <tr>\n",
       "      <th>536603</th>\n",
       "      <td>76.0</td>\n",
       "      <td>5.0</td>\n",
       "      <td>3.0</td>\n",
       "      <td>8.0</td>\n",
       "      <td>6.0</td>\n",
       "      <td>1.0</td>\n",
       "      <td>2.0</td>\n",
       "      <td>1.0</td>\n",
       "    </tr>\n",
       "    <tr>\n",
       "      <th>483212</th>\n",
       "      <td>54.0</td>\n",
       "      <td>1.0</td>\n",
       "      <td>3.0</td>\n",
       "      <td>11.0</td>\n",
       "      <td>14.0</td>\n",
       "      <td>1.0</td>\n",
       "      <td>1.0</td>\n",
       "      <td>4.0</td>\n",
       "    </tr>\n",
       "    <tr>\n",
       "      <th>508131</th>\n",
       "      <td>80.0</td>\n",
       "      <td>5.0</td>\n",
       "      <td>3.0</td>\n",
       "      <td>11.0</td>\n",
       "      <td>2.0</td>\n",
       "      <td>1.0</td>\n",
       "      <td>1.0</td>\n",
       "      <td>1.0</td>\n",
       "    </tr>\n",
       "    <tr>\n",
       "      <th>508132</th>\n",
       "      <td>69.0</td>\n",
       "      <td>5.0</td>\n",
       "      <td>3.0</td>\n",
       "      <td>11.0</td>\n",
       "      <td>2.0</td>\n",
       "      <td>2.0</td>\n",
       "      <td>2.0</td>\n",
       "      <td>1.0</td>\n",
       "    </tr>\n",
       "  </tbody>\n",
       "</table>\n",
       "<p>24432 rows × 8 columns</p>\n",
       "</div>"
      ],
      "text/plain": [
       "         age   ms  hisp  educ  adjinc  race  sex  hitype\n",
       "record                                                  \n",
       "610904  69.0  2.0   3.0   8.0     3.0   1.0  2.0     1.0\n",
       "610939  89.0  2.0   3.0   4.0     2.0   1.0  2.0     1.0\n",
       "610942  70.0  1.0   3.0   8.0    10.0   2.0  1.0     1.0\n",
       "610967  74.0  1.0   3.0   8.0     7.0   1.0  1.0     1.0\n",
       "610969  67.0  2.0   3.0  11.0     7.0   1.0  1.0     1.0\n",
       "...      ...  ...   ...   ...     ...   ...  ...     ...\n",
       "536595  72.0  1.0   3.0  11.0     5.0   1.0  2.0     1.0\n",
       "536603  76.0  5.0   3.0   8.0     6.0   1.0  2.0     1.0\n",
       "483212  54.0  1.0   3.0  11.0    14.0   1.0  1.0     4.0\n",
       "508131  80.0  5.0   3.0  11.0     2.0   1.0  1.0     1.0\n",
       "508132  69.0  5.0   3.0  11.0     2.0   2.0  2.0     1.0\n",
       "\n",
       "[24432 rows x 8 columns]"
      ]
     },
     "execution_count": 44,
     "metadata": {},
     "output_type": "execute_result"
    }
   ],
   "source": [
    "X"
   ]
  },
  {
   "cell_type": "code",
   "execution_count": 45,
   "id": "d74ee563-5f2f-4dd6-a1b6-66e3ca919887",
   "metadata": {},
   "outputs": [],
   "source": [
    "# Split before preprocessing\n",
    "age_label = X.pop('age')\n",
    "dec_features = X[['race', 'sex', 'ms', 'hisp', 'adjinc', 'educ', 'hitype']]"
   ]
  },
  {
   "cell_type": "code",
   "execution_count": null,
   "id": "19dcbef7-d607-48d7-9f7d-f49be7842f24",
   "metadata": {},
   "outputs": [],
   "source": []
  },
  {
   "cell_type": "code",
   "execution_count": null,
   "id": "dc3094da-273b-404e-9e03-6226457f60bc",
   "metadata": {},
   "outputs": [],
   "source": []
  },
  {
   "cell_type": "markdown",
   "id": "f93d7717-68fa-4a8f-acf7-476526c4d011",
   "metadata": {},
   "source": [
    "#### Age Predictor"
   ]
  },
  {
   "cell_type": "code",
   "execution_count": 46,
   "id": "3aecaa05-9082-4a45-b34d-65abe39d2da0",
   "metadata": {},
   "outputs": [],
   "source": [
    "# tts for age predictor\n",
    "X_train, X_test, y_train, y_test = train_test_split(dec_features, age_label, test_size=0.2, random_state=42)"
   ]
  },
  {
   "cell_type": "code",
   "execution_count": 47,
   "id": "48d7da51-76ef-41a8-8bcd-eb25e8d16792",
   "metadata": {},
   "outputs": [],
   "source": [
    "model_knn = KNeighborsRegressor(n_neighbors=3)"
   ]
  },
  {
   "cell_type": "code",
   "execution_count": 48,
   "id": "c8d8245b-7b6b-4d62-8208-86f0427bde2d",
   "metadata": {},
   "outputs": [
    {
     "data": {
      "text/plain": [
       "KNeighborsRegressor(n_neighbors=3)"
      ]
     },
     "execution_count": 48,
     "metadata": {},
     "output_type": "execute_result"
    }
   ],
   "source": [
    "model_knn.fit(X_train, y_train)"
   ]
  },
  {
   "cell_type": "code",
   "execution_count": 49,
   "id": "e9e4c032-8e2a-4595-b1f4-bd91e497f7d6",
   "metadata": {},
   "outputs": [],
   "source": [
    "predict_train_knn = model_knn.predict(X_train)\n",
    "predict_test_knn = model_knn.predict(X_test)"
   ]
  },
  {
   "cell_type": "code",
   "execution_count": 50,
   "id": "fe7385fb-122c-46d9-a019-f4cc1d935676",
   "metadata": {},
   "outputs": [
    {
     "name": "stdout",
     "output_type": "stream",
     "text": [
      "MSE on Train Data with RF:  129.18861317188257\n",
      "RMSE on Train Data with RF:  11.366116890648387\n",
      "R_squared on Train Data with RF:  0.5936961229663433\n",
      "\n",
      "\n",
      "MSE on Test Data with RF:  199.20876247641135\n",
      "RMSE on Test Data with RF:  14.114133429878413\n",
      "R_squared on Train Data with RF:  0.42105777296465696\n"
     ]
    }
   ],
   "source": [
    "print('MSE on Train Data with RF: ', mean_squared_error(y_train, predict_train_knn))\n",
    "print('RMSE on Train Data with RF: ', mean_squared_error(y_train, predict_train_knn, squared=False))\n",
    "print('R_squared on Train Data with RF: ', r2_score(y_train, predict_train_knn))\n",
    "print('\\n')\n",
    "print('MSE on Test Data with RF: ', mean_squared_error(y_test, predict_test_knn))\n",
    "print('RMSE on Test Data with RF: ', mean_squared_error(y_test, predict_test_knn, squared=False))\n",
    "print('R_squared on Train Data with RF: ', r2_score(y_test, predict_test_knn))"
   ]
  },
  {
   "cell_type": "code",
   "execution_count": null,
   "id": "5fadac6b-984e-4077-841c-7fc37074ee92",
   "metadata": {},
   "outputs": [],
   "source": []
  },
  {
   "cell_type": "code",
   "execution_count": null,
   "id": "60666fc1-986e-442f-b39e-42b887749e43",
   "metadata": {},
   "outputs": [],
   "source": []
  },
  {
   "cell_type": "code",
   "execution_count": null,
   "id": "5e3adadc-1305-47b8-a513-fd61e944a4cd",
   "metadata": {},
   "outputs": [],
   "source": []
  },
  {
   "cell_type": "code",
   "execution_count": 51,
   "id": "c5b5647f-471e-4326-b671-ee9459870ae0",
   "metadata": {},
   "outputs": [],
   "source": [
    "model = RandomForestRegressor(n_estimators=400, max_depth=40, random_state=42)"
   ]
  },
  {
   "cell_type": "code",
   "execution_count": 52,
   "id": "12fe344d-e140-4a53-b8fd-8f2ccae8b8ef",
   "metadata": {},
   "outputs": [
    {
     "data": {
      "text/plain": [
       "RandomForestRegressor(max_depth=40, n_estimators=400, random_state=42)"
      ]
     },
     "execution_count": 52,
     "metadata": {},
     "output_type": "execute_result"
    }
   ],
   "source": [
    "model.fit(X_train, y_train)"
   ]
  },
  {
   "cell_type": "code",
   "execution_count": 53,
   "id": "800eb6ca-889b-4916-bf0b-b729a497db43",
   "metadata": {},
   "outputs": [],
   "source": [
    "predict_train = model.predict(X_train)"
   ]
  },
  {
   "cell_type": "code",
   "execution_count": 54,
   "id": "ab52f35e-3318-4fbd-938a-bf7d2987639c",
   "metadata": {},
   "outputs": [],
   "source": [
    "predict_test = model.predict(X_test)"
   ]
  },
  {
   "cell_type": "code",
   "execution_count": 55,
   "id": "186aba1b-705d-4244-accc-0078f9c45617",
   "metadata": {},
   "outputs": [
    {
     "name": "stdout",
     "output_type": "stream",
     "text": [
      "MSE on Train Data with RF:  87.00570581035502\n",
      "RMSE on Train Data with RF:  9.32768491161419\n",
      "R_squared on Train Data with RF:  0.7263632240732888\n",
      "\n",
      "\n",
      "MSE on Test Data with RF:  172.59428436977615\n",
      "RMSE on Test Data with RF:  13.137514390849441\n",
      "R_squared on Train Data with RF:  0.4984049992357066\n"
     ]
    }
   ],
   "source": [
    "print('MSE on Train Data with RF: ', mean_squared_error(y_train, predict_train))\n",
    "print('RMSE on Train Data with RF: ', mean_squared_error(y_train, predict_train, squared=False))\n",
    "print('R_squared on Train Data with RF: ', r2_score(y_train, predict_train))\n",
    "print('\\n')\n",
    "print('MSE on Test Data with RF: ', mean_squared_error(y_test, predict_test))\n",
    "print('RMSE on Test Data with RF: ', mean_squared_error(y_test, predict_test, squared=False))\n",
    "print('R_squared on Train Data with RF: ', r2_score(y_test, predict_test))"
   ]
  },
  {
   "cell_type": "code",
   "execution_count": 59,
   "id": "4d9b2037-31c6-4c1e-9194-723b6e040c76",
   "metadata": {},
   "outputs": [
    {
     "data": {
      "text/plain": [
       "((19545, 7), (4887, 7), (19545,), (4887,))"
      ]
     },
     "execution_count": 59,
     "metadata": {},
     "output_type": "execute_result"
    }
   ],
   "source": [
    "X_train.shape, X_test.shape, y_train.shape, y_test.shape"
   ]
  },
  {
   "cell_type": "code",
   "execution_count": null,
   "id": "6fc8b739-2e16-406c-ab88-a86de2e750b6",
   "metadata": {},
   "outputs": [],
   "source": [
    "cols = X_train.columns.to_list()"
   ]
  },
  {
   "cell_type": "code",
   "execution_count": null,
   "id": "4e7f1b13-ae93-4d9a-bcd4-5bedf8053e7d",
   "metadata": {},
   "outputs": [],
   "source": [
    "cols"
   ]
  },
  {
   "cell_type": "code",
   "execution_count": null,
   "id": "a9cc7f76-b196-44b5-a379-c941c7953069",
   "metadata": {},
   "outputs": [],
   "source": []
  },
  {
   "cell_type": "code",
   "execution_count": null,
   "id": "bfb27bb0-a863-4f48-85e1-5198035bb249",
   "metadata": {},
   "outputs": [],
   "source": []
  },
  {
   "cell_type": "code",
   "execution_count": null,
   "id": "fe3e339d-355d-4c2f-af24-7e7d3aab9977",
   "metadata": {},
   "outputs": [],
   "source": []
  },
  {
   "cell_type": "code",
   "execution_count": null,
   "id": "7cde672d-4f28-4779-8edf-7479d94632f8",
   "metadata": {},
   "outputs": [],
   "source": []
  },
  {
   "cell_type": "code",
   "execution_count": null,
   "id": "d9ada74b-a0c5-4f9d-ba7c-0591a835b4bc",
   "metadata": {},
   "outputs": [],
   "source": [
    "pal = sns.color_palette(\"Blues\")\n",
    "print(pal.as_hex())"
   ]
  },
  {
   "cell_type": "code",
   "execution_count": 60,
   "id": "10049d58-fd4e-474b-901a-53330ce16f74",
   "metadata": {},
   "outputs": [
    {
     "data": {
      "text/plain": [
       "record\n",
       "622967    71.0\n",
       "540929    69.0\n",
       "52457     90.0\n",
       "727474    53.0\n",
       "384528    54.0\n",
       "          ... \n",
       "551612    80.0\n",
       "36345     41.0\n",
       "633419    76.0\n",
       "351266    49.0\n",
       "520113    85.0\n",
       "Name: age, Length: 19545, dtype: float64"
      ]
     },
     "execution_count": 60,
     "metadata": {},
     "output_type": "execute_result"
    }
   ],
   "source": [
    "y_train"
   ]
  },
  {
   "cell_type": "code",
   "execution_count": 62,
   "id": "b51def02-800f-432d-836b-4d6175bd2f6f",
   "metadata": {},
   "outputs": [
    {
     "data": {
      "text/plain": [
       "Text(0.5, 1.0, 'Residuals Plot for Random Forest Regressor Model')"
      ]
     },
     "execution_count": 62,
     "metadata": {},
     "output_type": "execute_result"
    },
    {
     "data": {
      "image/png": "[encoded data removed]",
      "text/plain": [
       "<Figure size 1008x360 with 1 Axes>"
      ]
     },
     "metadata": {},
     "output_type": "display_data"
    }
   ],
   "source": [
    "fig, ax = plt.subplots(figsize=(14, 5))\n",
    "sns.scatterplot(x=predict_train, y=(y_train - predict_train), ax=ax, alpha=0.2, color='#2b7bba');\n",
    "ax.set_xlabel('predicted age')\n",
    "ax.set_ylabel('residual (observed age at death - predicted age at death)')\n",
    "ax.set_title('Residuals Plot for Random Forest Regressor Model')"
   ]
  },
  {
   "cell_type": "code",
   "execution_count": 63,
   "id": "809c1f9d-2cad-4251-b569-8b4fe0520d37",
   "metadata": {},
   "outputs": [
    {
     "data": {
      "text/plain": [
       "Text(0.5, 1.0, 'Predicted v. Actual Plot for Random Forest Regressor Model, Training Set')"
      ]
     },
     "execution_count": 63,
     "metadata": {},
     "output_type": "execute_result"
    },
    {
     "data": {
      "image/png": "[encoded data removed]",
      "text/plain": [
       "<Figure size 1008x360 with 1 Axes>"
      ]
     },
     "metadata": {},
     "output_type": "display_data"
    }
   ],
   "source": [
    "fig, ax = plt.subplots(figsize=(14, 5))\n",
    "sns.scatterplot(x=predict_test, y=y_test, ax=ax, alpha=0.2, color='#2b7bba');\n",
    "ax.set_xlabel('predicted age at death')\n",
    "ax.set_ylabel('actual age at death')\n",
    "ax.set_title('Predicted v. Actual Plot for Random Forest Regressor Model, Training Set')"
   ]
  },
  {
   "cell_type": "code",
   "execution_count": 64,
   "id": "ac362d7e-cc94-4c2f-b5d8-b6f0287d8592",
   "metadata": {},
   "outputs": [
    {
     "name": "stdout",
     "output_type": "stream",
     "text": [
      "MAE on Training Set:  6.577335377502586\n",
      "MAE on Test Set:  9.237684708335223\n"
     ]
    }
   ],
   "source": [
    "mae_train = mean_absolute_error(y_train, predict_train)\n",
    "mae_test = mean_absolute_error(y_test, predict_test)\n",
    "print('MAE on Training Set: ', mae_train)\n",
    "print('MAE on Test Set: ', mae_test)"
   ]
  },
  {
   "cell_type": "code",
   "execution_count": 65,
   "id": "00e02b25-b377-43a9-903a-816cda9cf0c6",
   "metadata": {},
   "outputs": [],
   "source": [
    "feature_importances = pd.DataFrame(model.fit(X_train, y_train).feature_importances_,\n",
    "                                   index = X_train.columns, columns=['importance']).sort_values('importance', ascending=False)"
   ]
  },
  {
   "cell_type": "code",
   "execution_count": 66,
   "id": "c96e79fe-d1e0-4abc-ba0a-f2f874350f37",
   "metadata": {},
   "outputs": [
    {
     "data": {
      "text/html": [
       "<div>\n",
       "<style scoped>\n",
       "    .dataframe tbody tr th:only-of-type {\n",
       "        vertical-align: middle;\n",
       "    }\n",
       "\n",
       "    .dataframe tbody tr th {\n",
       "        vertical-align: top;\n",
       "    }\n",
       "\n",
       "    .dataframe thead th {\n",
       "        text-align: right;\n",
       "    }\n",
       "</style>\n",
       "<table border=\"1\" class=\"dataframe\">\n",
       "  <thead>\n",
       "    <tr style=\"text-align: right;\">\n",
       "      <th></th>\n",
       "      <th>importance</th>\n",
       "    </tr>\n",
       "  </thead>\n",
       "  <tbody>\n",
       "    <tr>\n",
       "      <th>hitype</th>\n",
       "      <td>0.493321</td>\n",
       "    </tr>\n",
       "    <tr>\n",
       "      <th>ms</th>\n",
       "      <td>0.186981</td>\n",
       "    </tr>\n",
       "    <tr>\n",
       "      <th>adjinc</th>\n",
       "      <td>0.128320</td>\n",
       "    </tr>\n",
       "    <tr>\n",
       "      <th>educ</th>\n",
       "      <td>0.102737</td>\n",
       "    </tr>\n",
       "    <tr>\n",
       "      <th>race</th>\n",
       "      <td>0.037226</td>\n",
       "    </tr>\n",
       "    <tr>\n",
       "      <th>sex</th>\n",
       "      <td>0.028862</td>\n",
       "    </tr>\n",
       "    <tr>\n",
       "      <th>hisp</th>\n",
       "      <td>0.022554</td>\n",
       "    </tr>\n",
       "  </tbody>\n",
       "</table>\n",
       "</div>"
      ],
      "text/plain": [
       "        importance\n",
       "hitype    0.493321\n",
       "ms        0.186981\n",
       "adjinc    0.128320\n",
       "educ      0.102737\n",
       "race      0.037226\n",
       "sex       0.028862\n",
       "hisp      0.022554"
      ]
     },
     "execution_count": 66,
     "metadata": {},
     "output_type": "execute_result"
    }
   ],
   "source": [
    "feature_importances.head(20)"
   ]
  },
  {
   "cell_type": "code",
   "execution_count": 67,
   "id": "603bc0bb-7e02-45c4-ae78-5c062058b19f",
   "metadata": {},
   "outputs": [
    {
     "data": {
      "image/png": "[encoded data removed]",
      "text/plain": [
       "<Figure size 576x396 with 2 Axes>"
      ]
     },
     "metadata": {},
     "output_type": "display_data"
    },
    {
     "data": {
      "text/plain": [
       "<AxesSubplot:title={'center':'Residuals for RandomForestRegressor Model'}, xlabel='Predicted Value', ylabel='Residuals'>"
      ]
     },
     "execution_count": 67,
     "metadata": {},
     "output_type": "execute_result"
    }
   ],
   "source": [
    "visualizer = ResidualsPlot(model)\n",
    "\n",
    "visualizer.fit(X_train, y_train.values)  # Fit the training data to the visualizer\n",
    "# visualizer.score(X_test, y_test)  # Evaluate the model on the test data\n",
    "visualizer.show(alpha=0.05) "
   ]
  },
  {
   "cell_type": "code",
   "execution_count": null,
   "id": "244b4da6-9c32-465c-8d69-7e6ad66cfeed",
   "metadata": {},
   "outputs": [],
   "source": []
  },
  {
   "cell_type": "code",
   "execution_count": null,
   "id": "2d881b12-8e2f-4131-87b3-783089e1f06d",
   "metadata": {},
   "outputs": [],
   "source": []
  },
  {
   "cell_type": "code",
   "execution_count": null,
   "id": "7362e3d3-91de-4539-a2a6-ede1486d0dfb",
   "metadata": {},
   "outputs": [],
   "source": []
  },
  {
   "cell_type": "code",
   "execution_count": null,
   "id": "7731e7d3-e4c2-488a-8e69-a93754e9b3eb",
   "metadata": {},
   "outputs": [],
   "source": []
  },
  {
   "cell_type": "markdown",
   "id": "4ddf60b9-6597-4a19-bbd5-9c9d2d493ce1",
   "metadata": {},
   "source": [
    "Predicting on User Input: "
   ]
  },
  {
   "cell_type": "code",
   "execution_count": 62,
   "id": "3a72e66c-f682-49d7-ad4d-11a51da65695",
   "metadata": {},
   "outputs": [
    {
     "data": {
      "text/plain": [
       "['race', 'sex', 'ms', 'hisp', 'adjinc', 'educ', 'hitype']"
      ]
     },
     "execution_count": 62,
     "metadata": {},
     "output_type": "execute_result"
    }
   ],
   "source": [
    "cols = X_train.columns.to_list()\n",
    "cols"
   ]
  },
  {
   "cell_type": "code",
   "execution_count": null,
   "id": "1f45b797-01ba-4163-8cd6-a91174e995df",
   "metadata": {},
   "outputs": [],
   "source": []
  },
  {
   "cell_type": "code",
   "execution_count": 63,
   "id": "2f9625d4-c491-4d8a-87c8-728c89ff7277",
   "metadata": {},
   "outputs": [],
   "source": [
    "user_input = [['race',\n",
    " 'sex',\n",
    " 'ms',\n",
    " 'hisp',\n",
    " 'adjinc',\n",
    " 'educ',\n",
    " 'hitype']]"
   ]
  },
  {
   "cell_type": "code",
   "execution_count": 64,
   "id": "45d7bfeb-c51b-4e52-8834-82621d57e6b1",
   "metadata": {},
   "outputs": [
    {
     "data": {
      "text/plain": [
       "array([1., 2., 5., 4., 3.])"
      ]
     },
     "execution_count": 64,
     "metadata": {},
     "output_type": "execute_result"
    }
   ],
   "source": [
    "X_train.race.unique()"
   ]
  },
  {
   "cell_type": "code",
   "execution_count": 65,
   "id": "a4a965d9-ef27-4b54-b1d7-4ac0374fc6ab",
   "metadata": {},
   "outputs": [],
   "source": [
    "race_dict = {1.0: 'White', 2.0: 'African American', 3.0: 'Am Indian or Alaskan Native', 4.0: 'Asian or Pacific Islander'}"
   ]
  },
  {
   "cell_type": "code",
   "execution_count": 66,
   "id": "c7d048e4-e849-48d0-9425-931aa472d571",
   "metadata": {},
   "outputs": [
    {
     "data": {
      "text/plain": [
       "array([1., 2.])"
      ]
     },
     "execution_count": 66,
     "metadata": {},
     "output_type": "execute_result"
    }
   ],
   "source": [
    "X_train.sex.unique()"
   ]
  },
  {
   "cell_type": "code",
   "execution_count": 67,
   "id": "33a96e0c-56a5-4358-9865-e827cf825ede",
   "metadata": {},
   "outputs": [],
   "source": [
    "sex_dict = {1.0: 'Male', 2.0: 'Female'}"
   ]
  },
  {
   "cell_type": "code",
   "execution_count": 68,
   "id": "f43920dd-949b-4fac-8a25-b2332688b491",
   "metadata": {},
   "outputs": [
    {
     "data": {
      "text/plain": [
       "array([1., 2., 5., 3., 4.])"
      ]
     },
     "execution_count": 68,
     "metadata": {},
     "output_type": "execute_result"
    }
   ],
   "source": [
    "X_train.ms.unique()"
   ]
  },
  {
   "cell_type": "code",
   "execution_count": 69,
   "id": "5f1f0b74-3cbb-4462-8bc7-4f259c52bdf4",
   "metadata": {},
   "outputs": [],
   "source": [
    "ms_dict = {1.0: 'Married', 2.0: 'Widowed', \n",
    "           3.0: 'Divorced', 4.0: 'Separated', \n",
    "           5.0: 'Never Married'}"
   ]
  },
  {
   "cell_type": "code",
   "execution_count": 70,
   "id": "0830e213-a302-48da-bf9b-50d145dc3c24",
   "metadata": {},
   "outputs": [
    {
     "data": {
      "text/plain": [
       "array([3., 1., 2.])"
      ]
     },
     "execution_count": 70,
     "metadata": {},
     "output_type": "execute_result"
    }
   ],
   "source": [
    "X_train.hisp.unique()"
   ]
  },
  {
   "cell_type": "code",
   "execution_count": 71,
   "id": "9e5630a8-2b69-4d6a-a7f4-a66fbd5e6e66",
   "metadata": {},
   "outputs": [],
   "source": [
    "hisp_dict = {1.0: 'Mexican Hispanic', \n",
    "             2.0: 'Other Hispanic', 3.0: 'Non-Hispanic'}"
   ]
  },
  {
   "cell_type": "code",
   "execution_count": 72,
   "id": "d60adc39-8001-41da-976b-234ca5dd7cf7",
   "metadata": {},
   "outputs": [
    {
     "data": {
      "text/plain": [
       "array([ 6.,  7., 14.,  8., 10.,  4.,  2., 13.,  5.,  3.,  9., 11.,  1.,\n",
       "       12.])"
      ]
     },
     "execution_count": 72,
     "metadata": {},
     "output_type": "execute_result"
    }
   ],
   "source": [
    "X_train.adjinc.unique()"
   ]
  },
  {
   "cell_type": "code",
   "execution_count": 73,
   "id": "b502dd5b-0940-4f95-9dc6-395ec2caa4ee",
   "metadata": {},
   "outputs": [],
   "source": [
    "inc_dict = {1.0: '$0-4,999', \n",
    "            2.0: '$5,000-7,499', \n",
    "            3.0: '$7,500-9,999', \n",
    "            4.0: '$10,000-12,499', \n",
    "            5.0: '$12,500-14,999', \n",
    "            6.0: '$15,000-19,999', \n",
    "            7.0: '$20,000-24,999', \n",
    "            8.0: '$25,000-29,999', \n",
    "            9.0: '$30,000-34,999', \n",
    "            10.0: '$35,000-39,999', \n",
    "            11.0: '$40,000-49,999', \n",
    "            12.0: '$50,000-59,000', \n",
    "            13.0: '$60,000-74,999', \n",
    "            14.0: 'Over $75,000'}"
   ]
  },
  {
   "cell_type": "code",
   "execution_count": 74,
   "id": "984d2f6c-c496-40d3-a8d2-20a15218021a",
   "metadata": {},
   "outputs": [
    {
     "data": {
      "text/plain": [
       "array([ 5.,  7.,  8., 11., 12.,  4., 14.,  6.,  3.,  2.,  1.])"
      ]
     },
     "execution_count": 74,
     "metadata": {},
     "output_type": "execute_result"
    }
   ],
   "source": [
    "X_train.educ.unique()"
   ]
  },
  {
   "cell_type": "code",
   "execution_count": 75,
   "id": "1d5b4070-5ffd-44c7-a8b5-61f30a6d3e4b",
   "metadata": {},
   "outputs": [],
   "source": [
    "educ_dict = {1.0: 'None', \n",
    "            2.0: 'Grade 4', \n",
    "            3.0: 'Grade 6', \n",
    "            4.0: 'Grade 8', \n",
    "            5.0: 'Grade 9', \n",
    "            6.0: 'Grade 10', \n",
    "            7.0: 'Grade 11', \n",
    "            8.0: 'Grade 12', \n",
    "            9.0: 'Some Undergrad', \n",
    "            10.0: 'Bachelors Degree', \n",
    "            11.0: 'Masters Degree', \n",
    "            12.0: 'Beyond Masters'}"
   ]
  },
  {
   "cell_type": "code",
   "execution_count": 76,
   "id": "92110213-e44b-4114-ba0a-1927582cbf59",
   "metadata": {},
   "outputs": [
    {
     "data": {
      "text/plain": [
       "array([1., 5., 2., 4., 0., 3.])"
      ]
     },
     "execution_count": 76,
     "metadata": {},
     "output_type": "execute_result"
    }
   ],
   "source": [
    "X_train.hitype.unique()"
   ]
  },
  {
   "cell_type": "code",
   "execution_count": 77,
   "id": "941a9fd6-c364-4daa-9c44-3f45d886451c",
   "metadata": {},
   "outputs": [],
   "source": [
    "hitype_dict = {0: 'No Insurance', 1: 'Medicare', \n",
    "            2: 'Medicaid', \n",
    "            3: 'VA Health Care', \n",
    "            4: 'Employer-provided Health Care', \n",
    "            5: 'Private Health Care'}"
   ]
  },
  {
   "cell_type": "code",
   "execution_count": 68,
   "id": "8efb1f27-db48-4439-af36-e3c79ed136f7",
   "metadata": {},
   "outputs": [
    {
     "data": {
      "text/html": [
       "<div>\n",
       "<style scoped>\n",
       "    .dataframe tbody tr th:only-of-type {\n",
       "        vertical-align: middle;\n",
       "    }\n",
       "\n",
       "    .dataframe tbody tr th {\n",
       "        vertical-align: top;\n",
       "    }\n",
       "\n",
       "    .dataframe thead th {\n",
       "        text-align: right;\n",
       "    }\n",
       "</style>\n",
       "<table border=\"1\" class=\"dataframe\">\n",
       "  <thead>\n",
       "    <tr style=\"text-align: right;\">\n",
       "      <th></th>\n",
       "      <th>race</th>\n",
       "      <th>sex</th>\n",
       "      <th>ms</th>\n",
       "      <th>hisp</th>\n",
       "      <th>adjinc</th>\n",
       "      <th>educ</th>\n",
       "      <th>hitype</th>\n",
       "    </tr>\n",
       "    <tr>\n",
       "      <th>record</th>\n",
       "      <th></th>\n",
       "      <th></th>\n",
       "      <th></th>\n",
       "      <th></th>\n",
       "      <th></th>\n",
       "      <th></th>\n",
       "      <th></th>\n",
       "    </tr>\n",
       "  </thead>\n",
       "  <tbody>\n",
       "    <tr>\n",
       "      <th>622967</th>\n",
       "      <td>1.0</td>\n",
       "      <td>1.0</td>\n",
       "      <td>1.0</td>\n",
       "      <td>3.0</td>\n",
       "      <td>6.0</td>\n",
       "      <td>5.0</td>\n",
       "      <td>1.0</td>\n",
       "    </tr>\n",
       "    <tr>\n",
       "      <th>540929</th>\n",
       "      <td>2.0</td>\n",
       "      <td>2.0</td>\n",
       "      <td>1.0</td>\n",
       "      <td>3.0</td>\n",
       "      <td>7.0</td>\n",
       "      <td>7.0</td>\n",
       "      <td>1.0</td>\n",
       "    </tr>\n",
       "    <tr>\n",
       "      <th>52457</th>\n",
       "      <td>1.0</td>\n",
       "      <td>2.0</td>\n",
       "      <td>2.0</td>\n",
       "      <td>3.0</td>\n",
       "      <td>14.0</td>\n",
       "      <td>8.0</td>\n",
       "      <td>5.0</td>\n",
       "    </tr>\n",
       "    <tr>\n",
       "      <th>727474</th>\n",
       "      <td>1.0</td>\n",
       "      <td>1.0</td>\n",
       "      <td>1.0</td>\n",
       "      <td>3.0</td>\n",
       "      <td>8.0</td>\n",
       "      <td>11.0</td>\n",
       "      <td>1.0</td>\n",
       "    </tr>\n",
       "    <tr>\n",
       "      <th>384528</th>\n",
       "      <td>1.0</td>\n",
       "      <td>2.0</td>\n",
       "      <td>2.0</td>\n",
       "      <td>3.0</td>\n",
       "      <td>6.0</td>\n",
       "      <td>11.0</td>\n",
       "      <td>1.0</td>\n",
       "    </tr>\n",
       "    <tr>\n",
       "      <th>...</th>\n",
       "      <td>...</td>\n",
       "      <td>...</td>\n",
       "      <td>...</td>\n",
       "      <td>...</td>\n",
       "      <td>...</td>\n",
       "      <td>...</td>\n",
       "      <td>...</td>\n",
       "    </tr>\n",
       "    <tr>\n",
       "      <th>551612</th>\n",
       "      <td>1.0</td>\n",
       "      <td>1.0</td>\n",
       "      <td>2.0</td>\n",
       "      <td>3.0</td>\n",
       "      <td>9.0</td>\n",
       "      <td>12.0</td>\n",
       "      <td>1.0</td>\n",
       "    </tr>\n",
       "    <tr>\n",
       "      <th>36345</th>\n",
       "      <td>1.0</td>\n",
       "      <td>2.0</td>\n",
       "      <td>1.0</td>\n",
       "      <td>3.0</td>\n",
       "      <td>6.0</td>\n",
       "      <td>8.0</td>\n",
       "      <td>4.0</td>\n",
       "    </tr>\n",
       "    <tr>\n",
       "      <th>633419</th>\n",
       "      <td>1.0</td>\n",
       "      <td>2.0</td>\n",
       "      <td>1.0</td>\n",
       "      <td>3.0</td>\n",
       "      <td>6.0</td>\n",
       "      <td>4.0</td>\n",
       "      <td>1.0</td>\n",
       "    </tr>\n",
       "    <tr>\n",
       "      <th>351266</th>\n",
       "      <td>2.0</td>\n",
       "      <td>2.0</td>\n",
       "      <td>1.0</td>\n",
       "      <td>3.0</td>\n",
       "      <td>12.0</td>\n",
       "      <td>8.0</td>\n",
       "      <td>4.0</td>\n",
       "    </tr>\n",
       "    <tr>\n",
       "      <th>520113</th>\n",
       "      <td>1.0</td>\n",
       "      <td>1.0</td>\n",
       "      <td>1.0</td>\n",
       "      <td>3.0</td>\n",
       "      <td>8.0</td>\n",
       "      <td>11.0</td>\n",
       "      <td>1.0</td>\n",
       "    </tr>\n",
       "  </tbody>\n",
       "</table>\n",
       "<p>19545 rows × 7 columns</p>\n",
       "</div>"
      ],
      "text/plain": [
       "        race  sex   ms  hisp  adjinc  educ  hitype\n",
       "record                                            \n",
       "622967   1.0  1.0  1.0   3.0     6.0   5.0     1.0\n",
       "540929   2.0  2.0  1.0   3.0     7.0   7.0     1.0\n",
       "52457    1.0  2.0  2.0   3.0    14.0   8.0     5.0\n",
       "727474   1.0  1.0  1.0   3.0     8.0  11.0     1.0\n",
       "384528   1.0  2.0  2.0   3.0     6.0  11.0     1.0\n",
       "...      ...  ...  ...   ...     ...   ...     ...\n",
       "551612   1.0  1.0  2.0   3.0     9.0  12.0     1.0\n",
       "36345    1.0  2.0  1.0   3.0     6.0   8.0     4.0\n",
       "633419   1.0  2.0  1.0   3.0     6.0   4.0     1.0\n",
       "351266   2.0  2.0  1.0   3.0    12.0   8.0     4.0\n",
       "520113   1.0  1.0  1.0   3.0     8.0  11.0     1.0\n",
       "\n",
       "[19545 rows x 7 columns]"
      ]
     },
     "execution_count": 68,
     "metadata": {},
     "output_type": "execute_result"
    }
   ],
   "source": [
    "X_train"
   ]
  },
  {
   "cell_type": "code",
   "execution_count": 1,
   "id": "fa6ec4fe-638b-4c33-801d-03670c9128ad",
   "metadata": {},
   "outputs": [
    {
     "ename": "NameError",
     "evalue": "name 'X_train' is not defined",
     "output_type": "error",
     "traceback": [
      "\u001b[0;31m---------------------------------------------------------------------------\u001b[0m",
      "\u001b[0;31mNameError\u001b[0m                                 Traceback (most recent call last)",
      "\u001b[0;32m<ipython-input-1-10dff42fe2bd>\u001b[0m in \u001b[0;36m<module>\u001b[0;34m\u001b[0m\n\u001b[0;32m----> 1\u001b[0;31m \u001b[0mX_train\u001b[0m\u001b[0;34m.\u001b[0m\u001b[0mloc\u001b[0m\u001b[0;34m[\u001b[0m\u001b[0;36m622967\u001b[0m\u001b[0;34m]\u001b[0m\u001b[0;34m,\u001b[0m \u001b[0my_train\u001b[0m\u001b[0;34m.\u001b[0m\u001b[0mloc\u001b[0m\u001b[0;34m[\u001b[0m\u001b[0;36m622967\u001b[0m\u001b[0;34m]\u001b[0m\u001b[0;34m\u001b[0m\u001b[0;34m\u001b[0m\u001b[0m\n\u001b[0m",
      "\u001b[0;31mNameError\u001b[0m: name 'X_train' is not defined"
     ]
    }
   ],
   "source": [
    "X_train.loc[622967], y_train.loc[622967]"
   ]
  },
  {
   "cell_type": "code",
   "execution_count": 80,
   "id": "c58289ed-062c-417b-ada8-2c1501b60bc6",
   "metadata": {},
   "outputs": [],
   "source": [
    "sample = np.array([1, 1, 1, 3, 6, 5, 1])"
   ]
  },
  {
   "cell_type": "code",
   "execution_count": 81,
   "id": "e29b538b-ab64-44d6-b632-6e3bbad59026",
   "metadata": {},
   "outputs": [
    {
     "data": {
      "text/plain": [
       "array([76.62182004])"
      ]
     },
     "execution_count": 81,
     "metadata": {},
     "output_type": "execute_result"
    }
   ],
   "source": [
    "model.predict(sample.reshape(1, -1))"
   ]
  },
  {
   "cell_type": "code",
   "execution_count": 83,
   "id": "809d1265-9969-4154-b12c-b7ac6a0eb3c6",
   "metadata": {},
   "outputs": [
    {
     "data": {
      "text/plain": [
       "['final_model.pkl']"
      ]
     },
     "execution_count": 83,
     "metadata": {},
     "output_type": "execute_result"
    }
   ],
   "source": [
    "joblib.dump(model, 'final_model.pkl', compress=2)\n"
   ]
  },
  {
   "cell_type": "code",
   "execution_count": null,
   "id": "a745a1a4-a959-4519-8332-9e3e02d3f5f0",
   "metadata": {},
   "outputs": [],
   "source": [
    "# some time later...\n",
    "\n",
    "# load the model from disk\n",
    "loaded_model = joblib.load(filename)\n",
    "result = loaded_model.score(X_test, Y_test)\n",
    "print(result)"
   ]
  },
  {
   "cell_type": "code",
   "execution_count": null,
   "id": "3b413646-cc3b-4d53-9fd0-2301e2972674",
   "metadata": {},
   "outputs": [],
   "source": []
  },
  {
   "cell_type": "code",
   "execution_count": 144,
   "id": "73bd6019-3aca-4572-8c1b-a77ea41167e4",
   "metadata": {},
   "outputs": [],
   "source": [
    "GBR = GradientBoostingRegressor()"
   ]
  },
  {
   "cell_type": "code",
   "execution_count": 145,
   "id": "d96df13c-4ba5-4e70-834c-74590b29241b",
   "metadata": {},
   "outputs": [
    {
     "name": "stderr",
     "output_type": "stream",
     "text": [
      "/opt/anaconda3/lib/python3.7/site-packages/sklearn/utils/validation.py:63: DataConversionWarning: A column-vector y was passed when a 1d array was expected. Please change the shape of y to (n_samples, ), for example using ravel().\n",
      "  return f(*args, **kwargs)\n"
     ]
    },
    {
     "data": {
      "text/plain": [
       "GradientBoostingRegressor()"
      ]
     },
     "execution_count": 145,
     "metadata": {},
     "output_type": "execute_result"
    }
   ],
   "source": [
    "GBR.fit(X_train, y_train)"
   ]
  },
  {
   "cell_type": "code",
   "execution_count": 146,
   "id": "ae5e57d5-f127-4d76-87c4-c97b2591361d",
   "metadata": {},
   "outputs": [],
   "source": [
    "predict_train_gbr = GBR.predict(X_train)\n",
    "predict_test_gbr = GBR.predict(X_test)"
   ]
  },
  {
   "cell_type": "code",
   "execution_count": null,
   "id": "f9f85609-4644-4d3b-8811-cee2d58bd935",
   "metadata": {},
   "outputs": [],
   "source": []
  },
  {
   "cell_type": "code",
   "execution_count": 147,
   "id": "241e2ce6-2284-4dda-9e46-b72ccc251890",
   "metadata": {},
   "outputs": [
    {
     "name": "stdout",
     "output_type": "stream",
     "text": [
      "MSE on Train Data with RF:  138.5139380829712\n",
      "RMSE on Train Data with RF:  11.769194453443752\n",
      "R_squared on Train Data with RF:  0.5643675654956257\n",
      "\n",
      "\n",
      "MSE on Test Data with RF:  152.54616999396364\n",
      "RMSE on Test Data with RF:  12.350958262173977\n",
      "R_squared on Train Data with RF:  0.5566690024869015\n"
     ]
    }
   ],
   "source": [
    "print('MSE on Train Data with RF: ', mean_squared_error(y_train, predict_train_gbr))\n",
    "print('RMSE on Train Data with RF: ', mean_squared_error(y_train, predict_train_gbr, squared=False))\n",
    "print('R_squared on Train Data with RF: ', r2_score(y_train, predict_train_gbr))\n",
    "print('\\n')\n",
    "print('MSE on Test Data with RF: ', mean_squared_error(y_test, predict_test_gbr))\n",
    "print('RMSE on Test Data with RF: ', mean_squared_error(y_test, predict_test_gbr, squared=False))\n",
    "print('R_squared on Train Data with RF: ', r2_score(y_test, predict_test_gbr))"
   ]
  },
  {
   "cell_type": "code",
   "execution_count": null,
   "id": "8dd72a9a-06f9-4030-96a9-2302bd252bb8",
   "metadata": {},
   "outputs": [],
   "source": []
  },
  {
   "cell_type": "code",
   "execution_count": null,
   "id": "06185289-0d57-4eb3-b594-49cab1fab3df",
   "metadata": {},
   "outputs": [],
   "source": [
    "print(\" Results from Grid Search \" )\n",
    "print(\"\\n The best estimator across ALL searched params:\\n\",grid_GBR.best_estimator_)\n",
    "print(\"\\n The best score across ALL searched params:\\n\",grid_GBR.best_score_)\n",
    "print(\"\\n The best parameters across ALL searched params:\\n\",grid_GBR.best_params_)\n"
   ]
  },
  {
   "cell_type": "code",
   "execution_count": 148,
   "id": "d7742ebb-694f-4089-9a88-e8c34714cebe",
   "metadata": {},
   "outputs": [],
   "source": [
    "RF = RandomForestRegressor()"
   ]
  },
  {
   "cell_type": "code",
   "execution_count": 217,
   "id": "a4d4ebb4-4a25-45b5-8a85-4eac36d3fa14",
   "metadata": {},
   "outputs": [],
   "source": [
    "param_grid = { \n",
    "    'n_estimators': [200, 300, 500],\n",
    "    'max_features': ['auto', 'sqrt', 'log2'],\n",
    "    'max_depth' : [10, 20, 30, 100]\n",
    "}"
   ]
  },
  {
   "cell_type": "code",
   "execution_count": 218,
   "id": "7f11c425-e4eb-4000-87d4-74abb68ec59a",
   "metadata": {},
   "outputs": [],
   "source": [
    "CV_rf = GridSearchCV(estimator=RF, param_grid=param_grid, cv=5)"
   ]
  },
  {
   "cell_type": "code",
   "execution_count": 219,
   "id": "ed8e9dbc-8d3e-4832-844f-162ffe4d4f33",
   "metadata": {},
   "outputs": [
    {
     "data": {
      "text/plain": [
       "GridSearchCV(cv=5, estimator=RandomForestRegressor(),\n",
       "             param_grid={'max_depth': [10, 20, 30, 100],\n",
       "                         'max_features': ['auto', 'sqrt', 'log2'],\n",
       "                         'n_estimators': [200, 300, 500]})"
      ]
     },
     "execution_count": 219,
     "metadata": {},
     "output_type": "execute_result"
    }
   ],
   "source": [
    "CV_rf.fit(X_train, y_train)"
   ]
  },
  {
   "cell_type": "code",
   "execution_count": 220,
   "id": "2b01254a-66ab-4f1f-a99b-9b4b2c15e16f",
   "metadata": {},
   "outputs": [
    {
     "data": {
      "text/plain": [
       "{'max_depth': 10, 'max_features': 'log2', 'n_estimators': 300}"
      ]
     },
     "execution_count": 220,
     "metadata": {},
     "output_type": "execute_result"
    }
   ],
   "source": [
    "CV_rf.best_params_"
   ]
  },
  {
   "cell_type": "code",
   "execution_count": 228,
   "id": "91317e7e-e056-4645-891a-0f0bb92c1eeb",
   "metadata": {},
   "outputs": [],
   "source": [
    "rf_final = RandomForestRegressor(max_depth=10, max_features='log2', n_estimators=300)"
   ]
  },
  {
   "cell_type": "code",
   "execution_count": 229,
   "id": "0162da0c-30c7-47f6-b364-a2238b3b4543",
   "metadata": {},
   "outputs": [
    {
     "data": {
      "text/plain": [
       "RandomForestRegressor(max_depth=10, max_features='log2', n_estimators=300)"
      ]
     },
     "execution_count": 229,
     "metadata": {},
     "output_type": "execute_result"
    }
   ],
   "source": [
    "rf_final.fit(X_train, y_train)"
   ]
  },
  {
   "cell_type": "code",
   "execution_count": 233,
   "id": "58179467-5d5a-4496-a12e-c94984358b8f",
   "metadata": {},
   "outputs": [],
   "source": [
    "train_predictions = rf_final.predict(X_train)"
   ]
  },
  {
   "cell_type": "code",
   "execution_count": 234,
   "id": "118ed10f-fb04-4c4a-82ca-ca5217322e8c",
   "metadata": {},
   "outputs": [],
   "source": [
    "test_predictions = rf_final.predict(X_test)"
   ]
  },
  {
   "cell_type": "code",
   "execution_count": 235,
   "id": "d3006a7b-3a9a-4f3e-8c11-70567446449c",
   "metadata": {},
   "outputs": [
    {
     "name": "stdout",
     "output_type": "stream",
     "text": [
      "MSE on Train Data with RF:  121.16917228626598\n",
      "RMSE on Train Data with RF:  11.007686963493555\n",
      "R_squared on Train Data with RF:  0.6189176176744962\n",
      "\n",
      "\n",
      "MSE on Test Data with RF:  152.25731873907756\n",
      "RMSE on Test Data with RF:  12.339259245962763\n",
      "R_squared on Train Data with RF:  0.5575084645000522\n"
     ]
    }
   ],
   "source": [
    "print('MSE on Train Data with RF: ', mean_squared_error(y_train, train_predictions))\n",
    "print('RMSE on Train Data with RF: ', mean_squared_error(y_train, train_predictions, squared=False))\n",
    "print('R_squared on Train Data with RF: ', r2_score(y_train, train_predictions))\n",
    "print('\\n')\n",
    "print('MSE on Test Data with RF: ', mean_squared_error(y_test, test_predictions))\n",
    "print('RMSE on Test Data with RF: ', mean_squared_error(y_test, test_predictions, squared=False))\n",
    "print('R_squared on Train Data with RF: ', r2_score(y_test, test_predictions))"
   ]
  },
  {
   "cell_type": "code",
   "execution_count": null,
   "id": "f32bfbaf-2d85-4a85-a9cc-3b39499cf5a1",
   "metadata": {},
   "outputs": [],
   "source": []
  }
 ],
 "metadata": {
  "kernelspec": {
   "display_name": "Python 3",
   "language": "python",
   "name": "python3"
  },
  "language_info": {
   "codemirror_mode": {
    "name": "ipython",
    "version": 3
   },
   "file_extension": ".py",
   "mimetype": "text/x-python",
   "name": "python",
   "nbconvert_exporter": "python",
   "pygments_lexer": "ipython3",
   "version": "3.7.7"
  }
 },
 "nbformat": 4,
 "nbformat_minor": 5
}
