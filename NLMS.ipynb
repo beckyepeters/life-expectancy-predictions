{
 "cells": [
  {
   "cell_type": "code",
   "execution_count": 293,
   "id": "231e3f4a-8a65-4cbb-85bd-901864a4db23",
   "metadata": {},
   "outputs": [],
   "source": [
    "import pandas as pd\n",
    "import numpy as np\n",
    "import seaborn as sns\n",
    "import matplotlib.pyplot as plt\n",
    "plt.style.use('ggplot')\n",
    "%matplotlib inline\n",
    "import seaborn as sns   \n",
    "\n",
    "from sklearn.impute import KNNImputer\n",
    "from sklearn.preprocessing import MinMaxScaler, OneHotEncoder\n",
    "from sklearn.pipeline import Pipeline\n",
    "from sklearn.linear_model import LinearRegression\n",
    "from sklearn.model_selection import train_test_split\n",
    "from sklearn.decomposition import PCA\n",
    "\n",
    "from sklearn.metrics import mean_squared_error, mean_absolute_error\n",
    "from sklearn.ensemble import RandomForestRegressor\n",
    "\n",
    "import joblib"
   ]
  },
  {
   "cell_type": "code",
   "execution_count": 294,
   "id": "42595df1-901c-492c-a841-4220ab9ff950",
   "metadata": {},
   "outputs": [
    {
     "name": "stderr",
     "output_type": "stream",
     "text": [
      "/opt/anaconda3/lib/python3.7/site-packages/numpy/lib/arraysetops.py:580: FutureWarning: elementwise comparison failed; returning scalar instead, but in the future will perform elementwise comparison\n",
      "  mask |= (ar1 == a)\n"
     ]
    }
   ],
   "source": [
    "nlms = pd.read_csv('data/NLMS_PublicUse_5.1/11_new.csv', index_col='record');"
   ]
  },
  {
   "cell_type": "code",
   "execution_count": 295,
   "id": "54200603-138f-4fc8-a514-6d04a6090cb4",
   "metadata": {},
   "outputs": [
    {
     "data": {
      "text/plain": [
       "Index(['age', 'race', 'sex', 'ms', 'hisp', 'adjinc', 'educ', 'pob', 'wt',\n",
       "       'hhid', 'hhnum', 'reltrf', 'occ', 'majocc', 'ind', 'majind', 'esr',\n",
       "       'urban', 'smsast', 'inddea', 'cause113', 'follow', 'dayod', 'hosp',\n",
       "       'hospd', 'ssnyn', 'vt', 'histatus', 'hitype', 'povpct', 'stater',\n",
       "       'rcow', 'tenure', 'citizen', 'health', 'indalg', 'smok100', 'agesmk',\n",
       "       'smokstat', 'smokhome', 'curruse', 'everuse'],\n",
       "      dtype='object')"
      ]
     },
     "execution_count": 295,
     "metadata": {},
     "output_type": "execute_result"
    }
   ],
   "source": [
    "nlms.columns"
   ]
  },
  {
   "cell_type": "code",
   "execution_count": 296,
   "id": "c03080d7-689c-437c-b272-c4925c203813",
   "metadata": {},
   "outputs": [],
   "source": [
    "cols = ['age', 'race', 'sex', 'ms', 'hisp', 'adjinc', 'educ', 'pob',\n",
    "       'wt', 'hhid', 'hhnum', 'reltrf', 'occ', 'majocc', 'ind', 'majind',\n",
    "       'esr', 'urban', 'smsast', 'inddea', 'cause113', 'follow', 'dayod',\n",
    "       'hosp', 'hospd', 'ssnyn', 'vt', 'histatus', 'hitype', 'povpct',\n",
    "       'stater', 'rcow', 'tenure', 'citizen', 'health', 'indalg', 'smok100',\n",
    "       'agesmk', 'smokstat', 'smokhome', 'curruse', 'everuse']"
   ]
  },
  {
   "cell_type": "code",
   "execution_count": 297,
   "id": "aab38fc7-5e82-4489-b67f-31fb163955e5",
   "metadata": {},
   "outputs": [],
   "source": [
    "col_dict = {'index': 'record number', 'age': 'age at time of interview', 'race': 'race', 'sex': 'gender', \n",
    "            'ms': 'marital status', 'hisp': 'hispanic', 'adjinc': 'inflation adjusted income', 'educ': 'highest grade completed', \n",
    "            'pob': 'region of birth', 'wt': 'adjusted weight', 'hhid': 'household ID number', 'hhnum': 'number of people in household',\n",
    "            'reltrf': 'relationship to reference person', 'occ': '4 digit occupation code', 'majocc': 'major occupation code',\n",
    "            'ind': '4 digit industry code', 'majind': 'major industry code', 'esr': 'employment status recode', \n",
    "            'urban': 'urban / rural status', 'smsast': 'SMSAST (Standard Metropolitan Statistical Area) status', 'inddea': 'death indicator',\n",
    "            'cause113': 'cause of death', 'follow': 'length of follow-up', 'dayod': 'day of week of death', \n",
    "            'hosp': 'hospital type', 'hosppd': 'hospital death indicator', 'ssnyn': 'presence of ssn', \n",
    "            'vt': 'veteran status', 'histatus': 'health insurance status', 'hitype': 'health insurance type', \n",
    "            'povpct': 'income as percent of poverty level', 'stater': 'state recode', 'rcow': 'recoded class of worker', \n",
    "            'tenure': 'housing tenure', 'citizen': 'citizenship', 'health': 'health', 'indalg': 'indicator of algorithmic death', \n",
    "            'smok100': 'smoked more than 100 cigarettes', 'agesmk': 'age started smoking',\n",
    "            'smokstat': 'cigarette smoking status', 'smokhome': 'rules for smoking cigarettes in the home', \n",
    "            'curruse': 'currently use smokeless tobacco', 'everuse': 'ever use smokeless tobacco'}"
   ]
  },
  {
   "cell_type": "code",
   "execution_count": 298,
   "id": "d5d3ef92-e7a9-4dc2-914d-e794bf8ce230",
   "metadata": {},
   "outputs": [
    {
     "data": {
      "text/plain": [
       "age             91\n",
       "race             6\n",
       "sex              2\n",
       "ms               6\n",
       "hisp             4\n",
       "adjinc          15\n",
       "educ            15\n",
       "pob             64\n",
       "wt             930\n",
       "hhid        745424\n",
       "hhnum           21\n",
       "reltrf           7\n",
       "occ            365\n",
       "majocc          12\n",
       "ind            229\n",
       "majind          15\n",
       "esr              6\n",
       "urban            3\n",
       "smsast           4\n",
       "inddea           2\n",
       "cause113       106\n",
       "follow        4019\n",
       "dayod            8\n",
       "hosp             7\n",
       "hospd            6\n",
       "ssnyn            2\n",
       "vt               3\n",
       "histatus         3\n",
       "hitype           7\n",
       "povpct          21\n",
       "stater          51\n",
       "rcow             6\n",
       "tenure           4\n",
       "citizen          6\n",
       "health           6\n",
       "indalg           3\n",
       "smok100          1\n",
       "agesmk           1\n",
       "smokstat         1\n",
       "smokhome         1\n",
       "curruse          1\n",
       "everuse          1\n",
       "dtype: int64"
      ]
     },
     "execution_count": 298,
     "metadata": {},
     "output_type": "execute_result"
    }
   ],
   "source": [
    "lens = nlms.apply(lambda x: len(x.unique()))\n",
    "lens"
   ]
  },
  {
   "cell_type": "code",
   "execution_count": 299,
   "id": "f8d5d857-4a04-4da5-9dfd-264efd8d04be",
   "metadata": {},
   "outputs": [
    {
     "data": {
      "text/plain": [
       "array([909,   0, 942, 928, 917, 925, 104, 111, 934, 945, 936, 944, 107,\n",
       "       927, 926, 948, 906, 950, 937, 911, 933, 939, 106, 109, 912, 108,\n",
       "       913, 102, 949, 103, 931, 954, 951, 924, 901, 918, 938, 956, 923,\n",
       "       947, 921, 101, 105, 955, 941, 953, 905, 902, 920, 915, 904, 930,\n",
       "       922, 940, 932, 908, 910, 946, 935, 110, 919, 916, 929, 960])"
      ]
     },
     "execution_count": 299,
     "metadata": {},
     "output_type": "execute_result"
    }
   ],
   "source": [
    "nlms.pob.unique()"
   ]
  },
  {
   "cell_type": "code",
   "execution_count": 300,
   "id": "d167aefa-8845-43ae-ad5f-ba40cf631ba6",
   "metadata": {},
   "outputs": [],
   "source": [
    "pob_dict = {909: 'CT',   0: np.nan, 942: 'PA', 928: 'MS', 917: 'IL', 925: 'MA', 104: 'Western Europe', 111: 'Other NS', 934: 'NJ', 945: 'SC', 936: 'NY', 944: 'RI', 107: 'Central America',\n",
    "       927: 'MN', 926: 'MI', 948: 'TX', 906: 'CA', 950: 'VT', 937: 'NC', 911: 'DC', 933: 'NH', 939: 'OH', 106: 'South America', 109: 'Island Country', 912: 'FL', 108: 'Mexico',\n",
    "       913: 'GA', 102: 'Asia', 949: 'UT', 103: 'Eastern Europe', 931: 'NE', 954: 'WV', 951: 'VA', 924: 'MD', 901: 'AL', 918: 'IN', 938: 'ND', 956: 'WY', 923: 'ME',\n",
    "       947: 'TN', 921: 'KY', 101: 'Africa', 105: 'North Am, Not US or Mexico', 955: 'WI', 941: 'OR', 953: 'WA', 905: 'AR', 902: 'AK', 920: 'KS', 915: 'HI', 904: 'AZ', 930: 'MT',\n",
    "       922: 'LA', 940: 'OK', 932: 'NV', 908: 'CO', 910: 'DE', 946: 'SD', 935: 'NM', 110: 'Other NS', 919: 'IA', 916: 'ID', 929: 'MO', 960: 'American Samoa'}"
   ]
  },
  {
   "cell_type": "code",
   "execution_count": 301,
   "id": "1182e891-902b-49bb-9196-334f3b42f6b3",
   "metadata": {
    "scrolled": true,
    "tags": []
   },
   "outputs": [
    {
     "name": "stdout",
     "output_type": "stream",
     "text": [
      "Pre na qty: age           0.000000\n",
      "race          0.157487\n",
      "sex           0.000000\n",
      "ms           19.684568\n",
      "hisp          2.861032\n",
      "adjinc        2.412385\n",
      "educ         19.120231\n",
      "pob           0.000000\n",
      "wt            0.000000\n",
      "hhid          0.000000\n",
      "hhnum         0.000000\n",
      "reltrf        0.254704\n",
      "occ          46.609888\n",
      "majocc       46.609888\n",
      "ind          46.621931\n",
      "majind       46.621931\n",
      "esr          19.122029\n",
      "urban         0.710708\n",
      "smsast        0.711471\n",
      "inddea        0.000000\n",
      "cause113      0.000000\n",
      "follow        0.000000\n",
      "dayod        91.240126\n",
      "hosp         91.401209\n",
      "hospd        92.088921\n",
      "ssnyn         0.000000\n",
      "vt           21.582314\n",
      "histatus     31.484596\n",
      "hitype       31.484596\n",
      "povpct        0.000000\n",
      "stater        0.000000\n",
      "rcow         46.521880\n",
      "tenure        1.386703\n",
      "citizen      74.667969\n",
      "health       79.067361\n",
      "indalg       80.994806\n",
      "smok100     100.000000\n",
      "agesmk      100.000000\n",
      "smokstat    100.000000\n",
      "smokhome    100.000000\n",
      "curruse     100.000000\n",
      "everuse     100.000000\n",
      "dtype: float64\n"
     ]
    }
   ],
   "source": [
    "print('Pre na qty: ' + str(nlms.isnull().sum() * 100 / len(nlms)))"
   ]
  },
  {
   "cell_type": "code",
   "execution_count": 302,
   "id": "92a78df2-3280-4115-b097-7089e96cca50",
   "metadata": {
    "scrolled": true,
    "tags": []
   },
   "outputs": [
    {
     "data": {
      "text/plain": [
       "4018    0.912401\n",
       "3617    0.000039\n",
       "2531    0.000036\n",
       "3199    0.000036\n",
       "3565    0.000035\n",
       "          ...   \n",
       "7       0.000010\n",
       "478     0.000009\n",
       "3       0.000007\n",
       "1       0.000007\n",
       "0       0.000001\n",
       "Name: follow, Length: 4019, dtype: float64"
      ]
     },
     "execution_count": 302,
     "metadata": {},
     "output_type": "execute_result"
    }
   ],
   "source": [
    "nlms.follow.value_counts(normalize=True)"
   ]
  },
  {
   "cell_type": "code",
   "execution_count": 303,
   "id": "2657e5ff-d0bb-43f1-9e27-db325cf95f9e",
   "metadata": {},
   "outputs": [],
   "source": [
    "nlms.drop(columns=['smok100', 'agesmk', 'smokstat', 'smokhome', 'curruse', 'everuse'], inplace=True)"
   ]
  },
  {
   "cell_type": "code",
   "execution_count": 304,
   "id": "f749f7f2-212b-45a0-8017-1c2027869075",
   "metadata": {},
   "outputs": [
    {
     "name": "stdout",
     "output_type": "stream",
     "text": [
      "<class 'pandas.core.frame.DataFrame'>\n",
      "Int64Index: 1835072 entries, 88426 to 670\n",
      "Data columns (total 36 columns):\n",
      " #   Column    Dtype  \n",
      "---  ------    -----  \n",
      " 0   age       int64  \n",
      " 1   race      float64\n",
      " 2   sex       int64  \n",
      " 3   ms        float64\n",
      " 4   hisp      float64\n",
      " 5   adjinc    float64\n",
      " 6   educ      float64\n",
      " 7   pob       int64  \n",
      " 8   wt        int64  \n",
      " 9   hhid      int64  \n",
      " 10  hhnum     int64  \n",
      " 11  reltrf    float64\n",
      " 12  occ       float64\n",
      " 13  majocc    float64\n",
      " 14  ind       float64\n",
      " 15  majind    float64\n",
      " 16  esr       float64\n",
      " 17  urban     float64\n",
      " 18  smsast    float64\n",
      " 19  inddea    int64  \n",
      " 20  cause113  int64  \n",
      " 21  follow    int64  \n",
      " 22  dayod     float64\n",
      " 23  hosp      float64\n",
      " 24  hospd     float64\n",
      " 25  ssnyn     int64  \n",
      " 26  vt        float64\n",
      " 27  histatus  float64\n",
      " 28  hitype    float64\n",
      " 29  povpct    int64  \n",
      " 30  stater    int64  \n",
      " 31  rcow      float64\n",
      " 32  tenure    float64\n",
      " 33  citizen   float64\n",
      " 34  health    float64\n",
      " 35  indalg    float64\n",
      "dtypes: float64(24), int64(12)\n",
      "memory usage: 518.0 MB\n"
     ]
    }
   ],
   "source": [
    "nlms.info()"
   ]
  },
  {
   "cell_type": "code",
   "execution_count": 305,
   "id": "1ee5ca8e-444c-427a-af37-24cb4b28aaf6",
   "metadata": {},
   "outputs": [
    {
     "data": {
      "text/plain": [
       "(1835072, 36)"
      ]
     },
     "execution_count": 305,
     "metadata": {},
     "output_type": "execute_result"
    }
   ],
   "source": [
    "nlms.shape"
   ]
  },
  {
   "cell_type": "markdown",
   "id": "0baa6338-e9a3-480b-b76c-ebb8f1fefc05",
   "metadata": {},
   "source": [
    "### DataFrame for deceased individuals"
   ]
  },
  {
   "cell_type": "code",
   "execution_count": 306,
   "id": "ca8e44b4-d030-4cb4-813b-49cdd2f2d77d",
   "metadata": {},
   "outputs": [],
   "source": [
    "dec = nlms[nlms.dayod.isin([1.0, 2.0, 3.0, 4.0, 5.0, 6.0, 7.0])]\n"
   ]
  },
  {
   "cell_type": "code",
   "execution_count": 307,
   "id": "b82b3696-2414-45e7-ab2e-39c90a988148",
   "metadata": {},
   "outputs": [
    {
     "data": {
      "text/plain": [
       "(160750, 36)"
      ]
     },
     "execution_count": 307,
     "metadata": {},
     "output_type": "execute_result"
    }
   ],
   "source": [
    "dec.shape"
   ]
  },
  {
   "cell_type": "code",
   "execution_count": 308,
   "id": "d4d4cfa0-d788-45ff-9632-4646fc2a9fd3",
   "metadata": {},
   "outputs": [],
   "source": [
    "dec.to_csv('data/dec.csv')"
   ]
  },
  {
   "cell_type": "code",
   "execution_count": 309,
   "id": "37af2fe9-839d-4b31-9f2f-ace14eb9fc58",
   "metadata": {},
   "outputs": [],
   "source": [
    "# Start over here: \n",
    "dec = pd.read_csv('data/dec.csv')"
   ]
  },
  {
   "cell_type": "code",
   "execution_count": 310,
   "id": "d073c00b-ab24-4282-8284-7b325bb2e6f7",
   "metadata": {},
   "outputs": [],
   "source": [
    "# Split before preprocessing\n",
    "dec_label = dec.pop('age')\n",
    "dec_features = dec.copy()"
   ]
  },
  {
   "cell_type": "code",
   "execution_count": 311,
   "id": "d8b7aec1-1471-478e-a696-b37ab8ecb74e",
   "metadata": {},
   "outputs": [],
   "source": [
    "X_train, X_test, y_train, y_test = train_test_split(dec_features, dec_label, test_size=0.2, random_state=42)"
   ]
  },
  {
   "cell_type": "code",
   "execution_count": 312,
   "id": "cd14f1be-c4c8-44ef-957a-09ffb860cb57",
   "metadata": {},
   "outputs": [],
   "source": [
    "X_test.to_csv('data/testing/X_test.csv')\n",
    "y_test.to_csv('data/testing/y_test.csv')"
   ]
  },
  {
   "cell_type": "code",
   "execution_count": null,
   "id": "72a93853-a7d0-4464-8396-a37ddffefd70",
   "metadata": {},
   "outputs": [],
   "source": []
  },
  {
   "cell_type": "markdown",
   "id": "c2a8fac7-8cbc-4bb6-87cd-e58706ffc570",
   "metadata": {},
   "source": [
    "#### Pipeline for Processing"
   ]
  },
  {
   "cell_type": "code",
   "execution_count": 314,
   "id": "16ec9d8f-7286-4bc4-856d-4bea7aa78766",
   "metadata": {},
   "outputs": [],
   "source": [
    "cols_to_drop = ['hhid', 'reltrf', 'occ', 'majocc', 'majind', 'ind', 'smsast', \n",
    "                'inddea', 'follow', 'hospd', 'stater', 'health', 'indalg',\n",
    "               'citizen', 'rcow', 'hhnum']"
   ]
  },
  {
   "cell_type": "code",
   "execution_count": 315,
   "id": "b6f08c9b-be23-4d84-aff4-e64f9bb7a73e",
   "metadata": {},
   "outputs": [
    {
     "name": "stderr",
     "output_type": "stream",
     "text": [
      "/opt/anaconda3/lib/python3.7/site-packages/pandas/core/frame.py:4315: SettingWithCopyWarning: \n",
      "A value is trying to be set on a copy of a slice from a DataFrame\n",
      "\n",
      "See the caveats in the documentation: https://pandas.pydata.org/pandas-docs/stable/user_guide/indexing.html#returning-a-view-versus-a-copy\n",
      "  errors=errors,\n"
     ]
    }
   ],
   "source": [
    "X_train.drop(columns=cols_to_drop, inplace=True, axis=1);"
   ]
  },
  {
   "cell_type": "code",
   "execution_count": 317,
   "id": "defc808b-bfb8-4b9d-9f77-61eaa806cd6a",
   "metadata": {},
   "outputs": [
    {
     "data": {
      "text/plain": [
       "Index(['record', 'race', 'sex', 'ms', 'hisp', 'adjinc', 'educ', 'pob', 'wt',\n",
       "       'esr', 'urban', 'cause113', 'dayod', 'hosp', 'ssnyn', 'vt', 'histatus',\n",
       "       'hitype', 'povpct', 'tenure'],\n",
       "      dtype='object')"
      ]
     },
     "execution_count": 317,
     "metadata": {},
     "output_type": "execute_result"
    }
   ],
   "source": [
    "X_train.columns"
   ]
  },
  {
   "cell_type": "code",
   "execution_count": 319,
   "id": "9059294d-b914-4009-a674-8f8fc54f4ee9",
   "metadata": {},
   "outputs": [],
   "source": [
    "cat_cols = ['race', 'sex', 'ms', 'hisp', 'pob', 'esr', 'urban', \n",
    "               'cause113', 'dayod', 'hosp', 'ssnyn', 'vt', 'histatus', 'hitype', 'tenure']\n",
    "\n",
    "num_cols = ['adjinc', 'educ', 'wt']"
   ]
  },
  {
   "cell_type": "markdown",
   "id": "684a36ba-681b-4252-94f9-cb7c3c96428d",
   "metadata": {},
   "source": [
    "#### Fill missing values with KNN Imputer"
   ]
  },
  {
   "cell_type": "code",
   "execution_count": 322,
   "id": "b13d69d5-94e3-4e29-8aec-906a3fc92ffa",
   "metadata": {},
   "outputs": [],
   "source": [
    "imputer_cat = KNNImputer(n_neighbors=1)"
   ]
  },
  {
   "cell_type": "code",
   "execution_count": 323,
   "id": "00922049-2e50-47ab-81a4-9a416066926a",
   "metadata": {},
   "outputs": [],
   "source": [
    "X_train.set_index('record', inplace=True)"
   ]
  },
  {
   "cell_type": "code",
   "execution_count": 325,
   "id": "4bf97d2f-ee8b-49c3-b4e2-48cb0f4041db",
   "metadata": {},
   "outputs": [],
   "source": [
    "cat_df_imp = pd.DataFrame(imputer_cat.fit_transform(X_train[cat_cols]), \n",
    "                          columns=cat_cols, index=X_train.index)"
   ]
  },
  {
   "cell_type": "code",
   "execution_count": 348,
   "id": "51a84665-cadf-496f-9546-80702c360d7d",
   "metadata": {},
   "outputs": [
    {
     "data": {
      "text/plain": [
       "Index(['race', 'sex', 'ms', 'hisp', 'pob', 'esr', 'urban', 'cause113', 'dayod',\n",
       "       'hosp', 'ssnyn', 'vt', 'histatus', 'hitype', 'tenure'],\n",
       "      dtype='object')"
      ]
     },
     "execution_count": 348,
     "metadata": {},
     "output_type": "execute_result"
    }
   ],
   "source": [
    "cat_df_imp.columns"
   ]
  },
  {
   "cell_type": "code",
   "execution_count": 327,
   "id": "e7eaa96b-a4f3-4583-ad05-704a780d980c",
   "metadata": {},
   "outputs": [],
   "source": [
    "imputer_num = KNNImputer(n_neighbors=3)"
   ]
  },
  {
   "cell_type": "code",
   "execution_count": 328,
   "id": "2029e4c0-68e8-4ef8-bff1-4dd4239e11a6",
   "metadata": {},
   "outputs": [],
   "source": [
    "num_df_imp = pd.DataFrame(imputer_num.fit_transform\n",
    "                          (dec_feat_train[num_cols]), \n",
    "                          columns=num_cols, \n",
    "                          index=dec_feat_train.index)"
   ]
  },
  {
   "cell_type": "code",
   "execution_count": 334,
   "id": "fbaf0a02-bc44-49d9-934c-43eb04fe07f5",
   "metadata": {},
   "outputs": [
    {
     "data": {
      "text/html": [
       "<div>\n",
       "<style scoped>\n",
       "    .dataframe tbody tr th:only-of-type {\n",
       "        vertical-align: middle;\n",
       "    }\n",
       "\n",
       "    .dataframe tbody tr th {\n",
       "        vertical-align: top;\n",
       "    }\n",
       "\n",
       "    .dataframe thead th {\n",
       "        text-align: right;\n",
       "    }\n",
       "</style>\n",
       "<table border=\"1\" class=\"dataframe\">\n",
       "  <thead>\n",
       "    <tr style=\"text-align: right;\">\n",
       "      <th></th>\n",
       "      <th>adjinc</th>\n",
       "      <th>educ</th>\n",
       "      <th>wt</th>\n",
       "    </tr>\n",
       "  </thead>\n",
       "  <tbody>\n",
       "    <tr>\n",
       "      <th>15255</th>\n",
       "      <td>8.0</td>\n",
       "      <td>12.0</td>\n",
       "      <td>192.0</td>\n",
       "    </tr>\n",
       "    <tr>\n",
       "      <th>55954</th>\n",
       "      <td>7.0</td>\n",
       "      <td>8.0</td>\n",
       "      <td>197.0</td>\n",
       "    </tr>\n",
       "    <tr>\n",
       "      <th>79721</th>\n",
       "      <td>9.0</td>\n",
       "      <td>5.0</td>\n",
       "      <td>33.0</td>\n",
       "    </tr>\n",
       "    <tr>\n",
       "      <th>55172</th>\n",
       "      <td>6.0</td>\n",
       "      <td>10.0</td>\n",
       "      <td>153.0</td>\n",
       "    </tr>\n",
       "    <tr>\n",
       "      <th>132688</th>\n",
       "      <td>14.0</td>\n",
       "      <td>11.0</td>\n",
       "      <td>65.0</td>\n",
       "    </tr>\n",
       "    <tr>\n",
       "      <th>...</th>\n",
       "      <td>...</td>\n",
       "      <td>...</td>\n",
       "      <td>...</td>\n",
       "    </tr>\n",
       "    <tr>\n",
       "      <th>24525</th>\n",
       "      <td>8.0</td>\n",
       "      <td>8.0</td>\n",
       "      <td>195.0</td>\n",
       "    </tr>\n",
       "    <tr>\n",
       "      <th>77886</th>\n",
       "      <td>10.0</td>\n",
       "      <td>8.0</td>\n",
       "      <td>148.0</td>\n",
       "    </tr>\n",
       "    <tr>\n",
       "      <th>160486</th>\n",
       "      <td>4.0</td>\n",
       "      <td>12.0</td>\n",
       "      <td>146.0</td>\n",
       "    </tr>\n",
       "    <tr>\n",
       "      <th>50211</th>\n",
       "      <td>8.0</td>\n",
       "      <td>3.0</td>\n",
       "      <td>187.0</td>\n",
       "    </tr>\n",
       "    <tr>\n",
       "      <th>108705</th>\n",
       "      <td>3.0</td>\n",
       "      <td>5.0</td>\n",
       "      <td>65.0</td>\n",
       "    </tr>\n",
       "  </tbody>\n",
       "</table>\n",
       "<p>128600 rows × 3 columns</p>\n",
       "</div>"
      ],
      "text/plain": [
       "        adjinc  educ     wt\n",
       "15255      8.0  12.0  192.0\n",
       "55954      7.0   8.0  197.0\n",
       "79721      9.0   5.0   33.0\n",
       "55172      6.0  10.0  153.0\n",
       "132688    14.0  11.0   65.0\n",
       "...        ...   ...    ...\n",
       "24525      8.0   8.0  195.0\n",
       "77886     10.0   8.0  148.0\n",
       "160486     4.0  12.0  146.0\n",
       "50211      8.0   3.0  187.0\n",
       "108705     3.0   5.0   65.0\n",
       "\n",
       "[128600 rows x 3 columns]"
      ]
     },
     "execution_count": 334,
     "metadata": {},
     "output_type": "execute_result"
    }
   ],
   "source": [
    "num_df_imp"
   ]
  },
  {
   "cell_type": "code",
   "execution_count": 352,
   "id": "0ddb3654-a9a0-4e01-83e7-433f1eae2cb8",
   "metadata": {},
   "outputs": [],
   "source": [
    "df = num_df_imp.merge(cat_df_imp, how='inner', left_index=True, right_index=True)\n",
    "\n"
   ]
  },
  {
   "cell_type": "code",
   "execution_count": 353,
   "id": "ac31e806-ac6e-4081-9400-b74637795972",
   "metadata": {},
   "outputs": [
    {
     "data": {
      "text/html": [
       "<div>\n",
       "<style scoped>\n",
       "    .dataframe tbody tr th:only-of-type {\n",
       "        vertical-align: middle;\n",
       "    }\n",
       "\n",
       "    .dataframe tbody tr th {\n",
       "        vertical-align: top;\n",
       "    }\n",
       "\n",
       "    .dataframe thead th {\n",
       "        text-align: right;\n",
       "    }\n",
       "</style>\n",
       "<table border=\"1\" class=\"dataframe\">\n",
       "  <thead>\n",
       "    <tr style=\"text-align: right;\">\n",
       "      <th></th>\n",
       "      <th>adjinc</th>\n",
       "      <th>educ</th>\n",
       "      <th>wt</th>\n",
       "      <th>race</th>\n",
       "      <th>sex</th>\n",
       "      <th>ms</th>\n",
       "      <th>hisp</th>\n",
       "      <th>pob</th>\n",
       "      <th>esr</th>\n",
       "      <th>urban</th>\n",
       "      <th>cause113</th>\n",
       "      <th>dayod</th>\n",
       "      <th>hosp</th>\n",
       "      <th>ssnyn</th>\n",
       "      <th>vt</th>\n",
       "      <th>histatus</th>\n",
       "      <th>hitype</th>\n",
       "      <th>tenure</th>\n",
       "    </tr>\n",
       "  </thead>\n",
       "  <tbody>\n",
       "    <tr>\n",
       "      <th>97044</th>\n",
       "      <td>3.0</td>\n",
       "      <td>14.0</td>\n",
       "      <td>180.0</td>\n",
       "      <td>1.0</td>\n",
       "      <td>1.0</td>\n",
       "      <td>1.0</td>\n",
       "      <td>3.0</td>\n",
       "      <td>918.0</td>\n",
       "      <td>5.0</td>\n",
       "      <td>2.0</td>\n",
       "      <td>55.0</td>\n",
       "      <td>5.0</td>\n",
       "      <td>2.0</td>\n",
       "      <td>1.0</td>\n",
       "      <td>0.0</td>\n",
       "      <td>1.0</td>\n",
       "      <td>1.0</td>\n",
       "      <td>1.0</td>\n",
       "    </tr>\n",
       "    <tr>\n",
       "      <th>84254</th>\n",
       "      <td>10.0</td>\n",
       "      <td>4.0</td>\n",
       "      <td>232.0</td>\n",
       "      <td>1.0</td>\n",
       "      <td>2.0</td>\n",
       "      <td>1.0</td>\n",
       "      <td>3.0</td>\n",
       "      <td>955.0</td>\n",
       "      <td>1.0</td>\n",
       "      <td>1.0</td>\n",
       "      <td>38.0</td>\n",
       "      <td>1.0</td>\n",
       "      <td>1.0</td>\n",
       "      <td>1.0</td>\n",
       "      <td>0.0</td>\n",
       "      <td>1.0</td>\n",
       "      <td>4.0</td>\n",
       "      <td>1.0</td>\n",
       "    </tr>\n",
       "    <tr>\n",
       "      <th>12599</th>\n",
       "      <td>7.0</td>\n",
       "      <td>6.0</td>\n",
       "      <td>191.0</td>\n",
       "      <td>1.0</td>\n",
       "      <td>1.0</td>\n",
       "      <td>1.0</td>\n",
       "      <td>3.0</td>\n",
       "      <td>934.0</td>\n",
       "      <td>5.0</td>\n",
       "      <td>2.0</td>\n",
       "      <td>38.0</td>\n",
       "      <td>1.0</td>\n",
       "      <td>2.0</td>\n",
       "      <td>1.0</td>\n",
       "      <td>1.0</td>\n",
       "      <td>1.0</td>\n",
       "      <td>1.0</td>\n",
       "      <td>1.0</td>\n",
       "    </tr>\n",
       "    <tr>\n",
       "      <th>53609</th>\n",
       "      <td>6.0</td>\n",
       "      <td>7.0</td>\n",
       "      <td>22.0</td>\n",
       "      <td>1.0</td>\n",
       "      <td>2.0</td>\n",
       "      <td>3.0</td>\n",
       "      <td>3.0</td>\n",
       "      <td>0.0</td>\n",
       "      <td>4.0</td>\n",
       "      <td>1.0</td>\n",
       "      <td>67.0</td>\n",
       "      <td>5.0</td>\n",
       "      <td>1.0</td>\n",
       "      <td>0.0</td>\n",
       "      <td>0.0</td>\n",
       "      <td>1.0</td>\n",
       "      <td>1.0</td>\n",
       "      <td>2.0</td>\n",
       "    </tr>\n",
       "    <tr>\n",
       "      <th>84400</th>\n",
       "      <td>3.0</td>\n",
       "      <td>8.0</td>\n",
       "      <td>194.0</td>\n",
       "      <td>1.0</td>\n",
       "      <td>1.0</td>\n",
       "      <td>1.0</td>\n",
       "      <td>3.0</td>\n",
       "      <td>908.0</td>\n",
       "      <td>5.0</td>\n",
       "      <td>1.0</td>\n",
       "      <td>62.0</td>\n",
       "      <td>3.0</td>\n",
       "      <td>2.0</td>\n",
       "      <td>1.0</td>\n",
       "      <td>0.0</td>\n",
       "      <td>1.0</td>\n",
       "      <td>1.0</td>\n",
       "      <td>1.0</td>\n",
       "    </tr>\n",
       "    <tr>\n",
       "      <th>...</th>\n",
       "      <td>...</td>\n",
       "      <td>...</td>\n",
       "      <td>...</td>\n",
       "      <td>...</td>\n",
       "      <td>...</td>\n",
       "      <td>...</td>\n",
       "      <td>...</td>\n",
       "      <td>...</td>\n",
       "      <td>...</td>\n",
       "      <td>...</td>\n",
       "      <td>...</td>\n",
       "      <td>...</td>\n",
       "      <td>...</td>\n",
       "      <td>...</td>\n",
       "      <td>...</td>\n",
       "      <td>...</td>\n",
       "      <td>...</td>\n",
       "      <td>...</td>\n",
       "    </tr>\n",
       "    <tr>\n",
       "      <th>49813</th>\n",
       "      <td>5.0</td>\n",
       "      <td>4.0</td>\n",
       "      <td>152.0</td>\n",
       "      <td>1.0</td>\n",
       "      <td>1.0</td>\n",
       "      <td>2.0</td>\n",
       "      <td>1.0</td>\n",
       "      <td>948.0</td>\n",
       "      <td>5.0</td>\n",
       "      <td>1.0</td>\n",
       "      <td>43.0</td>\n",
       "      <td>4.0</td>\n",
       "      <td>1.0</td>\n",
       "      <td>1.0</td>\n",
       "      <td>0.0</td>\n",
       "      <td>1.0</td>\n",
       "      <td>1.0</td>\n",
       "      <td>2.0</td>\n",
       "    </tr>\n",
       "    <tr>\n",
       "      <th>2034</th>\n",
       "      <td>11.0</td>\n",
       "      <td>8.0</td>\n",
       "      <td>206.0</td>\n",
       "      <td>1.0</td>\n",
       "      <td>1.0</td>\n",
       "      <td>3.0</td>\n",
       "      <td>3.0</td>\n",
       "      <td>0.0</td>\n",
       "      <td>1.0</td>\n",
       "      <td>1.0</td>\n",
       "      <td>54.0</td>\n",
       "      <td>6.0</td>\n",
       "      <td>1.0</td>\n",
       "      <td>0.0</td>\n",
       "      <td>1.0</td>\n",
       "      <td>1.0</td>\n",
       "      <td>4.0</td>\n",
       "      <td>2.0</td>\n",
       "    </tr>\n",
       "    <tr>\n",
       "      <th>57835</th>\n",
       "      <td>7.0</td>\n",
       "      <td>10.0</td>\n",
       "      <td>148.0</td>\n",
       "      <td>1.0</td>\n",
       "      <td>2.0</td>\n",
       "      <td>1.0</td>\n",
       "      <td>2.0</td>\n",
       "      <td>0.0</td>\n",
       "      <td>5.0</td>\n",
       "      <td>1.0</td>\n",
       "      <td>43.0</td>\n",
       "      <td>5.0</td>\n",
       "      <td>4.0</td>\n",
       "      <td>0.0</td>\n",
       "      <td>0.0</td>\n",
       "      <td>1.0</td>\n",
       "      <td>1.0</td>\n",
       "      <td>1.0</td>\n",
       "    </tr>\n",
       "    <tr>\n",
       "      <th>51745</th>\n",
       "      <td>3.0</td>\n",
       "      <td>4.0</td>\n",
       "      <td>136.0</td>\n",
       "      <td>1.0</td>\n",
       "      <td>2.0</td>\n",
       "      <td>2.0</td>\n",
       "      <td>3.0</td>\n",
       "      <td>0.0</td>\n",
       "      <td>1.0</td>\n",
       "      <td>1.0</td>\n",
       "      <td>95.0</td>\n",
       "      <td>2.0</td>\n",
       "      <td>1.0</td>\n",
       "      <td>0.0</td>\n",
       "      <td>0.0</td>\n",
       "      <td>1.0</td>\n",
       "      <td>4.0</td>\n",
       "      <td>1.0</td>\n",
       "    </tr>\n",
       "    <tr>\n",
       "      <th>4149</th>\n",
       "      <td>8.0</td>\n",
       "      <td>8.0</td>\n",
       "      <td>171.0</td>\n",
       "      <td>1.0</td>\n",
       "      <td>2.0</td>\n",
       "      <td>2.0</td>\n",
       "      <td>3.0</td>\n",
       "      <td>0.0</td>\n",
       "      <td>4.0</td>\n",
       "      <td>2.0</td>\n",
       "      <td>55.0</td>\n",
       "      <td>6.0</td>\n",
       "      <td>2.0</td>\n",
       "      <td>0.0</td>\n",
       "      <td>0.0</td>\n",
       "      <td>1.0</td>\n",
       "      <td>5.0</td>\n",
       "      <td>1.0</td>\n",
       "    </tr>\n",
       "  </tbody>\n",
       "</table>\n",
       "<p>6748 rows × 18 columns</p>\n",
       "</div>"
      ],
      "text/plain": [
       "       adjinc  educ     wt  race  sex   ms  hisp    pob  esr  urban  cause113  \\\n",
       "97044     3.0  14.0  180.0   1.0  1.0  1.0   3.0  918.0  5.0    2.0      55.0   \n",
       "84254    10.0   4.0  232.0   1.0  2.0  1.0   3.0  955.0  1.0    1.0      38.0   \n",
       "12599     7.0   6.0  191.0   1.0  1.0  1.0   3.0  934.0  5.0    2.0      38.0   \n",
       "53609     6.0   7.0   22.0   1.0  2.0  3.0   3.0    0.0  4.0    1.0      67.0   \n",
       "84400     3.0   8.0  194.0   1.0  1.0  1.0   3.0  908.0  5.0    1.0      62.0   \n",
       "...       ...   ...    ...   ...  ...  ...   ...    ...  ...    ...       ...   \n",
       "49813     5.0   4.0  152.0   1.0  1.0  2.0   1.0  948.0  5.0    1.0      43.0   \n",
       "2034     11.0   8.0  206.0   1.0  1.0  3.0   3.0    0.0  1.0    1.0      54.0   \n",
       "57835     7.0  10.0  148.0   1.0  2.0  1.0   2.0    0.0  5.0    1.0      43.0   \n",
       "51745     3.0   4.0  136.0   1.0  2.0  2.0   3.0    0.0  1.0    1.0      95.0   \n",
       "4149      8.0   8.0  171.0   1.0  2.0  2.0   3.0    0.0  4.0    2.0      55.0   \n",
       "\n",
       "       dayod  hosp  ssnyn   vt  histatus  hitype  tenure  \n",
       "97044    5.0   2.0    1.0  0.0       1.0     1.0     1.0  \n",
       "84254    1.0   1.0    1.0  0.0       1.0     4.0     1.0  \n",
       "12599    1.0   2.0    1.0  1.0       1.0     1.0     1.0  \n",
       "53609    5.0   1.0    0.0  0.0       1.0     1.0     2.0  \n",
       "84400    3.0   2.0    1.0  0.0       1.0     1.0     1.0  \n",
       "...      ...   ...    ...  ...       ...     ...     ...  \n",
       "49813    4.0   1.0    1.0  0.0       1.0     1.0     2.0  \n",
       "2034     6.0   1.0    0.0  1.0       1.0     4.0     2.0  \n",
       "57835    5.0   4.0    0.0  0.0       1.0     1.0     1.0  \n",
       "51745    2.0   1.0    0.0  0.0       1.0     4.0     1.0  \n",
       "4149     6.0   2.0    0.0  0.0       1.0     5.0     1.0  \n",
       "\n",
       "[6748 rows x 18 columns]"
      ]
     },
     "execution_count": 353,
     "metadata": {},
     "output_type": "execute_result"
    }
   ],
   "source": [
    "df"
   ]
  },
  {
   "cell_type": "code",
   "execution_count": 331,
   "id": "4b3a9ce2-e3b4-4542-a861-52f609b20ad1",
   "metadata": {},
   "outputs": [],
   "source": [
    "X_train_imp = df.copy()"
   ]
  },
  {
   "cell_type": "code",
   "execution_count": 332,
   "id": "eab4efeb-68c8-4b6a-a6d4-077b8aca01e7",
   "metadata": {},
   "outputs": [],
   "source": [
    "X_train_imp.to_csv('data/x_train_imp.csv')"
   ]
  },
  {
   "cell_type": "markdown",
   "id": "a19257c7-7485-450e-b594-9882e9fbc9c1",
   "metadata": {},
   "source": [
    "### One-Hot Encoding for Categorical Variables"
   ]
  },
  {
   "cell_type": "code",
   "execution_count": 333,
   "id": "2ca3c0b4-9188-4a1a-bbcf-7354bed108f0",
   "metadata": {},
   "outputs": [
    {
     "data": {
      "text/plain": [
       "(6748, 18)"
      ]
     },
     "execution_count": 333,
     "metadata": {},
     "output_type": "execute_result"
    }
   ],
   "source": [
    "X_train_imp.shape"
   ]
  },
  {
   "cell_type": "code",
   "execution_count": 233,
   "id": "9f081b2a-01df-416d-992d-1db78ef8c863",
   "metadata": {},
   "outputs": [],
   "source": [
    "encoder = OneHotEncoder(categories=cat_cols, drop='first')"
   ]
  },
  {
   "cell_type": "code",
   "execution_count": 236,
   "id": "cfc80770-314a-4afb-b41c-d4c8237e6a1a",
   "metadata": {},
   "outputs": [
    {
     "ename": "ValueError",
     "evalue": "Shape mismatch: if categories is an array, it has to be of shape (n_features,).",
     "output_type": "error",
     "traceback": [
      "\u001b[0;31m---------------------------------------------------------------------------\u001b[0m",
      "\u001b[0;31mValueError\u001b[0m                                Traceback (most recent call last)",
      "\u001b[0;32m<ipython-input-236-98265b8a9aa5>\u001b[0m in \u001b[0;36m<module>\u001b[0;34m\u001b[0m\n\u001b[0;32m----> 1\u001b[0;31m \u001b[0mencoder\u001b[0m\u001b[0;34m.\u001b[0m\u001b[0mfit_transform\u001b[0m\u001b[0;34m(\u001b[0m\u001b[0mdec_feat_train\u001b[0m\u001b[0;34m)\u001b[0m\u001b[0;34m\u001b[0m\u001b[0;34m\u001b[0m\u001b[0m\n\u001b[0m",
      "\u001b[0;32m/opt/anaconda3/lib/python3.7/site-packages/sklearn/preprocessing/_encoders.py\u001b[0m in \u001b[0;36mfit_transform\u001b[0;34m(self, X, y)\u001b[0m\n\u001b[1;32m    449\u001b[0m         \"\"\"\n\u001b[1;32m    450\u001b[0m         \u001b[0mself\u001b[0m\u001b[0;34m.\u001b[0m\u001b[0m_validate_keywords\u001b[0m\u001b[0;34m(\u001b[0m\u001b[0;34m)\u001b[0m\u001b[0;34m\u001b[0m\u001b[0;34m\u001b[0m\u001b[0m\n\u001b[0;32m--> 451\u001b[0;31m         \u001b[0;32mreturn\u001b[0m \u001b[0msuper\u001b[0m\u001b[0;34m(\u001b[0m\u001b[0;34m)\u001b[0m\u001b[0;34m.\u001b[0m\u001b[0mfit_transform\u001b[0m\u001b[0;34m(\u001b[0m\u001b[0mX\u001b[0m\u001b[0;34m,\u001b[0m \u001b[0my\u001b[0m\u001b[0;34m)\u001b[0m\u001b[0;34m\u001b[0m\u001b[0;34m\u001b[0m\u001b[0m\n\u001b[0m\u001b[1;32m    452\u001b[0m \u001b[0;34m\u001b[0m\u001b[0m\n\u001b[1;32m    453\u001b[0m     \u001b[0;32mdef\u001b[0m \u001b[0mtransform\u001b[0m\u001b[0;34m(\u001b[0m\u001b[0mself\u001b[0m\u001b[0;34m,\u001b[0m \u001b[0mX\u001b[0m\u001b[0;34m)\u001b[0m\u001b[0;34m:\u001b[0m\u001b[0;34m\u001b[0m\u001b[0;34m\u001b[0m\u001b[0m\n",
      "\u001b[0;32m/opt/anaconda3/lib/python3.7/site-packages/sklearn/base.py\u001b[0m in \u001b[0;36mfit_transform\u001b[0;34m(self, X, y, **fit_params)\u001b[0m\n\u001b[1;32m    697\u001b[0m         \u001b[0;32mif\u001b[0m \u001b[0my\u001b[0m \u001b[0;32mis\u001b[0m \u001b[0;32mNone\u001b[0m\u001b[0;34m:\u001b[0m\u001b[0;34m\u001b[0m\u001b[0;34m\u001b[0m\u001b[0m\n\u001b[1;32m    698\u001b[0m             \u001b[0;31m# fit method of arity 1 (unsupervised transformation)\u001b[0m\u001b[0;34m\u001b[0m\u001b[0;34m\u001b[0m\u001b[0;34m\u001b[0m\u001b[0m\n\u001b[0;32m--> 699\u001b[0;31m             \u001b[0;32mreturn\u001b[0m \u001b[0mself\u001b[0m\u001b[0;34m.\u001b[0m\u001b[0mfit\u001b[0m\u001b[0;34m(\u001b[0m\u001b[0mX\u001b[0m\u001b[0;34m,\u001b[0m \u001b[0;34m**\u001b[0m\u001b[0mfit_params\u001b[0m\u001b[0;34m)\u001b[0m\u001b[0;34m.\u001b[0m\u001b[0mtransform\u001b[0m\u001b[0;34m(\u001b[0m\u001b[0mX\u001b[0m\u001b[0;34m)\u001b[0m\u001b[0;34m\u001b[0m\u001b[0;34m\u001b[0m\u001b[0m\n\u001b[0m\u001b[1;32m    700\u001b[0m         \u001b[0;32melse\u001b[0m\u001b[0;34m:\u001b[0m\u001b[0;34m\u001b[0m\u001b[0;34m\u001b[0m\u001b[0m\n\u001b[1;32m    701\u001b[0m             \u001b[0;31m# fit method of arity 2 (supervised transformation)\u001b[0m\u001b[0;34m\u001b[0m\u001b[0;34m\u001b[0m\u001b[0;34m\u001b[0m\u001b[0m\n",
      "\u001b[0;32m/opt/anaconda3/lib/python3.7/site-packages/sklearn/preprocessing/_encoders.py\u001b[0m in \u001b[0;36mfit\u001b[0;34m(self, X, y)\u001b[0m\n\u001b[1;32m    422\u001b[0m         \u001b[0mself\u001b[0m\u001b[0;34m.\u001b[0m\u001b[0m_validate_keywords\u001b[0m\u001b[0;34m(\u001b[0m\u001b[0;34m)\u001b[0m\u001b[0;34m\u001b[0m\u001b[0;34m\u001b[0m\u001b[0m\n\u001b[1;32m    423\u001b[0m         self._fit(X, handle_unknown=self.handle_unknown,\n\u001b[0;32m--> 424\u001b[0;31m                   force_all_finite='allow-nan')\n\u001b[0m\u001b[1;32m    425\u001b[0m         \u001b[0mself\u001b[0m\u001b[0;34m.\u001b[0m\u001b[0mdrop_idx_\u001b[0m \u001b[0;34m=\u001b[0m \u001b[0mself\u001b[0m\u001b[0;34m.\u001b[0m\u001b[0m_compute_drop_idx\u001b[0m\u001b[0;34m(\u001b[0m\u001b[0;34m)\u001b[0m\u001b[0;34m\u001b[0m\u001b[0;34m\u001b[0m\u001b[0m\n\u001b[1;32m    426\u001b[0m         \u001b[0;32mreturn\u001b[0m \u001b[0mself\u001b[0m\u001b[0;34m\u001b[0m\u001b[0;34m\u001b[0m\u001b[0m\n",
      "\u001b[0;32m/opt/anaconda3/lib/python3.7/site-packages/sklearn/preprocessing/_encoders.py\u001b[0m in \u001b[0;36m_fit\u001b[0;34m(self, X, handle_unknown, force_all_finite)\u001b[0m\n\u001b[1;32m     80\u001b[0m         \u001b[0;32mif\u001b[0m \u001b[0mself\u001b[0m\u001b[0;34m.\u001b[0m\u001b[0mcategories\u001b[0m \u001b[0;34m!=\u001b[0m \u001b[0;34m'auto'\u001b[0m\u001b[0;34m:\u001b[0m\u001b[0;34m\u001b[0m\u001b[0;34m\u001b[0m\u001b[0m\n\u001b[1;32m     81\u001b[0m             \u001b[0;32mif\u001b[0m \u001b[0mlen\u001b[0m\u001b[0;34m(\u001b[0m\u001b[0mself\u001b[0m\u001b[0;34m.\u001b[0m\u001b[0mcategories\u001b[0m\u001b[0;34m)\u001b[0m \u001b[0;34m!=\u001b[0m \u001b[0mn_features\u001b[0m\u001b[0;34m:\u001b[0m\u001b[0;34m\u001b[0m\u001b[0;34m\u001b[0m\u001b[0m\n\u001b[0;32m---> 82\u001b[0;31m                 raise ValueError(\"Shape mismatch: if categories is an array,\"\n\u001b[0m\u001b[1;32m     83\u001b[0m                                  \" it has to be of shape (n_features,).\")\n\u001b[1;32m     84\u001b[0m \u001b[0;34m\u001b[0m\u001b[0m\n",
      "\u001b[0;31mValueError\u001b[0m: Shape mismatch: if categories is an array, it has to be of shape (n_features,)."
     ]
    }
   ],
   "source": [
    "encoder.fit_transform(dec_feat_train)"
   ]
  },
  {
   "cell_type": "code",
   "execution_count": 194,
   "id": "45aeb4cf-096e-4702-a9d5-3873c7ecca99",
   "metadata": {},
   "outputs": [],
   "source": [
    "dec_ft_enc = pd.get_dummies(dec_feat_train, prefix_sep=\"__\",\n",
    "                              columns=cat_cols, drop_first=True)"
   ]
  },
  {
   "cell_type": "code",
   "execution_count": 209,
   "id": "e61fba1e-e559-41e4-ac00-a367ab1e1b46",
   "metadata": {},
   "outputs": [
    {
     "data": {
      "text/html": [
       "<div>\n",
       "<style scoped>\n",
       "    .dataframe tbody tr th:only-of-type {\n",
       "        vertical-align: middle;\n",
       "    }\n",
       "\n",
       "    .dataframe tbody tr th {\n",
       "        vertical-align: top;\n",
       "    }\n",
       "\n",
       "    .dataframe thead th {\n",
       "        text-align: right;\n",
       "    }\n",
       "</style>\n",
       "<table border=\"1\" class=\"dataframe\">\n",
       "  <thead>\n",
       "    <tr style=\"text-align: right;\">\n",
       "      <th></th>\n",
       "      <th>adjinc</th>\n",
       "      <th>educ</th>\n",
       "      <th>wt</th>\n",
       "      <th>hhnum</th>\n",
       "      <th>race__2.0</th>\n",
       "      <th>race__3.0</th>\n",
       "      <th>race__4.0</th>\n",
       "      <th>race__5.0</th>\n",
       "      <th>sex__2.0</th>\n",
       "      <th>ms__2.0</th>\n",
       "      <th>...</th>\n",
       "      <th>ssnyn__1.0</th>\n",
       "      <th>vt__1.0</th>\n",
       "      <th>histatus__1.0</th>\n",
       "      <th>hitype__1.0</th>\n",
       "      <th>hitype__2.0</th>\n",
       "      <th>hitype__3.0</th>\n",
       "      <th>hitype__4.0</th>\n",
       "      <th>hitype__5.0</th>\n",
       "      <th>tenure__2.0</th>\n",
       "      <th>tenure__3.0</th>\n",
       "    </tr>\n",
       "    <tr>\n",
       "      <th>record</th>\n",
       "      <th></th>\n",
       "      <th></th>\n",
       "      <th></th>\n",
       "      <th></th>\n",
       "      <th></th>\n",
       "      <th></th>\n",
       "      <th></th>\n",
       "      <th></th>\n",
       "      <th></th>\n",
       "      <th></th>\n",
       "      <th></th>\n",
       "      <th></th>\n",
       "      <th></th>\n",
       "      <th></th>\n",
       "      <th></th>\n",
       "      <th></th>\n",
       "      <th></th>\n",
       "      <th></th>\n",
       "      <th></th>\n",
       "      <th></th>\n",
       "      <th></th>\n",
       "    </tr>\n",
       "  </thead>\n",
       "  <tbody>\n",
       "    <tr>\n",
       "      <th>970788</th>\n",
       "      <td>14.000000</td>\n",
       "      <td>8.000000</td>\n",
       "      <td>71.0</td>\n",
       "      <td>2.0</td>\n",
       "      <td>0</td>\n",
       "      <td>0</td>\n",
       "      <td>0</td>\n",
       "      <td>0</td>\n",
       "      <td>1</td>\n",
       "      <td>0</td>\n",
       "      <td>...</td>\n",
       "      <td>1</td>\n",
       "      <td>0</td>\n",
       "      <td>1</td>\n",
       "      <td>1</td>\n",
       "      <td>0</td>\n",
       "      <td>0</td>\n",
       "      <td>0</td>\n",
       "      <td>0</td>\n",
       "      <td>0</td>\n",
       "      <td>0</td>\n",
       "    </tr>\n",
       "    <tr>\n",
       "      <th>842203</th>\n",
       "      <td>7.000000</td>\n",
       "      <td>8.000000</td>\n",
       "      <td>144.0</td>\n",
       "      <td>2.0</td>\n",
       "      <td>0</td>\n",
       "      <td>0</td>\n",
       "      <td>0</td>\n",
       "      <td>0</td>\n",
       "      <td>0</td>\n",
       "      <td>0</td>\n",
       "      <td>...</td>\n",
       "      <td>1</td>\n",
       "      <td>0</td>\n",
       "      <td>1</td>\n",
       "      <td>1</td>\n",
       "      <td>0</td>\n",
       "      <td>0</td>\n",
       "      <td>0</td>\n",
       "      <td>0</td>\n",
       "      <td>0</td>\n",
       "      <td>0</td>\n",
       "    </tr>\n",
       "    <tr>\n",
       "      <th>835196</th>\n",
       "      <td>4.000000</td>\n",
       "      <td>10.000000</td>\n",
       "      <td>112.0</td>\n",
       "      <td>2.0</td>\n",
       "      <td>1</td>\n",
       "      <td>0</td>\n",
       "      <td>0</td>\n",
       "      <td>0</td>\n",
       "      <td>1</td>\n",
       "      <td>1</td>\n",
       "      <td>...</td>\n",
       "      <td>1</td>\n",
       "      <td>0</td>\n",
       "      <td>1</td>\n",
       "      <td>1</td>\n",
       "      <td>0</td>\n",
       "      <td>0</td>\n",
       "      <td>0</td>\n",
       "      <td>0</td>\n",
       "      <td>0</td>\n",
       "      <td>1</td>\n",
       "    </tr>\n",
       "    <tr>\n",
       "      <th>522533</th>\n",
       "      <td>2.000000</td>\n",
       "      <td>8.000000</td>\n",
       "      <td>178.0</td>\n",
       "      <td>1.0</td>\n",
       "      <td>0</td>\n",
       "      <td>0</td>\n",
       "      <td>0</td>\n",
       "      <td>0</td>\n",
       "      <td>1</td>\n",
       "      <td>0</td>\n",
       "      <td>...</td>\n",
       "      <td>1</td>\n",
       "      <td>0</td>\n",
       "      <td>1</td>\n",
       "      <td>1</td>\n",
       "      <td>0</td>\n",
       "      <td>0</td>\n",
       "      <td>0</td>\n",
       "      <td>0</td>\n",
       "      <td>1</td>\n",
       "      <td>0</td>\n",
       "    </tr>\n",
       "    <tr>\n",
       "      <th>865793</th>\n",
       "      <td>4.000000</td>\n",
       "      <td>5.000000</td>\n",
       "      <td>197.0</td>\n",
       "      <td>2.0</td>\n",
       "      <td>0</td>\n",
       "      <td>0</td>\n",
       "      <td>0</td>\n",
       "      <td>0</td>\n",
       "      <td>0</td>\n",
       "      <td>0</td>\n",
       "      <td>...</td>\n",
       "      <td>1</td>\n",
       "      <td>0</td>\n",
       "      <td>1</td>\n",
       "      <td>1</td>\n",
       "      <td>0</td>\n",
       "      <td>0</td>\n",
       "      <td>0</td>\n",
       "      <td>0</td>\n",
       "      <td>1</td>\n",
       "      <td>0</td>\n",
       "    </tr>\n",
       "    <tr>\n",
       "      <th>...</th>\n",
       "      <td>...</td>\n",
       "      <td>...</td>\n",
       "      <td>...</td>\n",
       "      <td>...</td>\n",
       "      <td>...</td>\n",
       "      <td>...</td>\n",
       "      <td>...</td>\n",
       "      <td>...</td>\n",
       "      <td>...</td>\n",
       "      <td>...</td>\n",
       "      <td>...</td>\n",
       "      <td>...</td>\n",
       "      <td>...</td>\n",
       "      <td>...</td>\n",
       "      <td>...</td>\n",
       "      <td>...</td>\n",
       "      <td>...</td>\n",
       "      <td>...</td>\n",
       "      <td>...</td>\n",
       "      <td>...</td>\n",
       "      <td>...</td>\n",
       "    </tr>\n",
       "    <tr>\n",
       "      <th>535321</th>\n",
       "      <td>12.000000</td>\n",
       "      <td>4.000000</td>\n",
       "      <td>123.0</td>\n",
       "      <td>6.0</td>\n",
       "      <td>0</td>\n",
       "      <td>0</td>\n",
       "      <td>0</td>\n",
       "      <td>0</td>\n",
       "      <td>1</td>\n",
       "      <td>1</td>\n",
       "      <td>...</td>\n",
       "      <td>1</td>\n",
       "      <td>0</td>\n",
       "      <td>1</td>\n",
       "      <td>1</td>\n",
       "      <td>0</td>\n",
       "      <td>0</td>\n",
       "      <td>0</td>\n",
       "      <td>0</td>\n",
       "      <td>0</td>\n",
       "      <td>0</td>\n",
       "    </tr>\n",
       "    <tr>\n",
       "      <th>1446125</th>\n",
       "      <td>4.000000</td>\n",
       "      <td>12.000000</td>\n",
       "      <td>56.0</td>\n",
       "      <td>2.0</td>\n",
       "      <td>0</td>\n",
       "      <td>0</td>\n",
       "      <td>0</td>\n",
       "      <td>0</td>\n",
       "      <td>0</td>\n",
       "      <td>0</td>\n",
       "      <td>...</td>\n",
       "      <td>1</td>\n",
       "      <td>1</td>\n",
       "      <td>1</td>\n",
       "      <td>1</td>\n",
       "      <td>0</td>\n",
       "      <td>0</td>\n",
       "      <td>0</td>\n",
       "      <td>0</td>\n",
       "      <td>0</td>\n",
       "      <td>0</td>\n",
       "    </tr>\n",
       "    <tr>\n",
       "      <th>553998</th>\n",
       "      <td>8.666667</td>\n",
       "      <td>4.000000</td>\n",
       "      <td>228.0</td>\n",
       "      <td>5.0</td>\n",
       "      <td>0</td>\n",
       "      <td>0</td>\n",
       "      <td>0</td>\n",
       "      <td>0</td>\n",
       "      <td>0</td>\n",
       "      <td>0</td>\n",
       "      <td>...</td>\n",
       "      <td>0</td>\n",
       "      <td>1</td>\n",
       "      <td>1</td>\n",
       "      <td>1</td>\n",
       "      <td>0</td>\n",
       "      <td>0</td>\n",
       "      <td>0</td>\n",
       "      <td>0</td>\n",
       "      <td>0</td>\n",
       "      <td>0</td>\n",
       "    </tr>\n",
       "    <tr>\n",
       "      <th>727</th>\n",
       "      <td>9.000000</td>\n",
       "      <td>6.333333</td>\n",
       "      <td>66.0</td>\n",
       "      <td>3.0</td>\n",
       "      <td>0</td>\n",
       "      <td>0</td>\n",
       "      <td>0</td>\n",
       "      <td>0</td>\n",
       "      <td>0</td>\n",
       "      <td>0</td>\n",
       "      <td>...</td>\n",
       "      <td>1</td>\n",
       "      <td>0</td>\n",
       "      <td>1</td>\n",
       "      <td>0</td>\n",
       "      <td>0</td>\n",
       "      <td>0</td>\n",
       "      <td>1</td>\n",
       "      <td>0</td>\n",
       "      <td>0</td>\n",
       "      <td>0</td>\n",
       "    </tr>\n",
       "    <tr>\n",
       "      <th>1368424</th>\n",
       "      <td>9.333333</td>\n",
       "      <td>6.000000</td>\n",
       "      <td>115.0</td>\n",
       "      <td>3.0</td>\n",
       "      <td>0</td>\n",
       "      <td>0</td>\n",
       "      <td>0</td>\n",
       "      <td>0</td>\n",
       "      <td>1</td>\n",
       "      <td>0</td>\n",
       "      <td>...</td>\n",
       "      <td>1</td>\n",
       "      <td>0</td>\n",
       "      <td>0</td>\n",
       "      <td>0</td>\n",
       "      <td>0</td>\n",
       "      <td>0</td>\n",
       "      <td>0</td>\n",
       "      <td>0</td>\n",
       "      <td>0</td>\n",
       "      <td>0</td>\n",
       "    </tr>\n",
       "  </tbody>\n",
       "</table>\n",
       "<p>128600 rows × 208 columns</p>\n",
       "</div>"
      ],
      "text/plain": [
       "            adjinc       educ     wt  hhnum  race__2.0  race__3.0  race__4.0  \\\n",
       "record                                                                         \n",
       "970788   14.000000   8.000000   71.0    2.0          0          0          0   \n",
       "842203    7.000000   8.000000  144.0    2.0          0          0          0   \n",
       "835196    4.000000  10.000000  112.0    2.0          1          0          0   \n",
       "522533    2.000000   8.000000  178.0    1.0          0          0          0   \n",
       "865793    4.000000   5.000000  197.0    2.0          0          0          0   \n",
       "...            ...        ...    ...    ...        ...        ...        ...   \n",
       "535321   12.000000   4.000000  123.0    6.0          0          0          0   \n",
       "1446125   4.000000  12.000000   56.0    2.0          0          0          0   \n",
       "553998    8.666667   4.000000  228.0    5.0          0          0          0   \n",
       "727       9.000000   6.333333   66.0    3.0          0          0          0   \n",
       "1368424   9.333333   6.000000  115.0    3.0          0          0          0   \n",
       "\n",
       "         race__5.0  sex__2.0  ms__2.0  ...  ssnyn__1.0  vt__1.0  \\\n",
       "record                                 ...                        \n",
       "970788           0         1        0  ...           1        0   \n",
       "842203           0         0        0  ...           1        0   \n",
       "835196           0         1        1  ...           1        0   \n",
       "522533           0         1        0  ...           1        0   \n",
       "865793           0         0        0  ...           1        0   \n",
       "...            ...       ...      ...  ...         ...      ...   \n",
       "535321           0         1        1  ...           1        0   \n",
       "1446125          0         0        0  ...           1        1   \n",
       "553998           0         0        0  ...           0        1   \n",
       "727              0         0        0  ...           1        0   \n",
       "1368424          0         1        0  ...           1        0   \n",
       "\n",
       "         histatus__1.0  hitype__1.0  hitype__2.0  hitype__3.0  hitype__4.0  \\\n",
       "record                                                                       \n",
       "970788               1            1            0            0            0   \n",
       "842203               1            1            0            0            0   \n",
       "835196               1            1            0            0            0   \n",
       "522533               1            1            0            0            0   \n",
       "865793               1            1            0            0            0   \n",
       "...                ...          ...          ...          ...          ...   \n",
       "535321               1            1            0            0            0   \n",
       "1446125              1            1            0            0            0   \n",
       "553998               1            1            0            0            0   \n",
       "727                  1            0            0            0            1   \n",
       "1368424              0            0            0            0            0   \n",
       "\n",
       "         hitype__5.0  tenure__2.0  tenure__3.0  \n",
       "record                                          \n",
       "970788             0            0            0  \n",
       "842203             0            0            0  \n",
       "835196             0            0            1  \n",
       "522533             0            1            0  \n",
       "865793             0            1            0  \n",
       "...              ...          ...          ...  \n",
       "535321             0            0            0  \n",
       "1446125            0            0            0  \n",
       "553998             0            0            0  \n",
       "727                0            0            0  \n",
       "1368424            0            0            0  \n",
       "\n",
       "[128600 rows x 208 columns]"
      ]
     },
     "execution_count": 209,
     "metadata": {},
     "output_type": "execute_result"
    }
   ],
   "source": [
    "dec_ft_enc "
   ]
  },
  {
   "cell_type": "markdown",
   "id": "f92c8357-faa4-4972-beab-6998b479e8ba",
   "metadata": {},
   "source": [
    "#### Scaling the Data"
   ]
  },
  {
   "cell_type": "code",
   "execution_count": 199,
   "id": "168fe9b2-433e-471c-85f5-2537f02acdb8",
   "metadata": {},
   "outputs": [],
   "source": [
    "scaler = MinMaxScaler()"
   ]
  },
  {
   "cell_type": "code",
   "execution_count": 200,
   "id": "238ab6fc-d48e-4f2a-8190-d48bd3c40716",
   "metadata": {},
   "outputs": [],
   "source": [
    "dec_feat_train_scaled = scaler.fit_transform(dec_ft_enc)"
   ]
  },
  {
   "cell_type": "code",
   "execution_count": 207,
   "id": "da325a6e-c550-4782-89ce-2a769545bfcb",
   "metadata": {},
   "outputs": [
    {
     "data": {
      "text/plain": [
       "(128600, 208)"
      ]
     },
     "execution_count": 207,
     "metadata": {},
     "output_type": "execute_result"
    }
   ],
   "source": [
    "dec_feat_train_scaled.shape"
   ]
  },
  {
   "cell_type": "markdown",
   "id": "df8c3c57-4b0e-47da-8a4d-b77a729ad94d",
   "metadata": {},
   "source": [
    "#### Creating the Pipeline"
   ]
  },
  {
   "cell_type": "code",
   "execution_count": null,
   "id": "50455b40-9475-4ce3-a9cb-f2a186c4fb48",
   "metadata": {},
   "outputs": [],
   "source": [
    "numeric_transformer = Pipeline(steps=[\n",
    "       ('imputer', SimpleImputer(strategy='mean'))\n",
    "      ,('scaler', StandardScaler())\n",
    "])\n",
    "categorical_transformer = Pipeline(steps=[\n",
    "       ('imputer', imputer_num))\n",
    "      ,('encoder', OrdinalEncoder())\n",
    "])"
   ]
  },
  {
   "cell_type": "code",
   "execution_count": null,
   "id": "5b6da0a9-e516-4cd1-aa31-762323ed49c2",
   "metadata": {},
   "outputs": [],
   "source": []
  },
  {
   "cell_type": "code",
   "execution_count": null,
   "id": "e1df4e9a-ada5-434c-8c20-10c0011bcb3f",
   "metadata": {},
   "outputs": [],
   "source": []
  },
  {
   "cell_type": "code",
   "execution_count": null,
   "id": "d99404b6-9455-4fdd-a8e4-a4ddbb7c9360",
   "metadata": {},
   "outputs": [],
   "source": []
  },
  {
   "cell_type": "code",
   "execution_count": 211,
   "id": "779c23a0-090b-4ac2-8c7d-e6802cd3741c",
   "metadata": {},
   "outputs": [],
   "source": [
    "pca = PCA()\n",
    "X_pca = pca.fit_transform(dec_feat_train_scaled)"
   ]
  },
  {
   "cell_type": "code",
   "execution_count": 222,
   "id": "e9098cc1-0521-4a1d-8319-b7c268eff49a",
   "metadata": {},
   "outputs": [],
   "source": [
    "def scree_plot(X, count_pc=None):\n",
    "    \"\"\"return the scree plot of the pca of data X\n",
    "    Args\n",
    "    ----\n",
    "    X: np.array() of shape (m,n)\n",
    "    count_pc (int): the count of pc's to show in the plot\n",
    "    \"\"\"\n",
    "    pca = PCA()\n",
    "    pca.fit(X)\n",
    "    l = len(pca.explained_variance_)\n",
    "    if count_pc is not None:\n",
    "        num = min(count, l)\n",
    "    else: \n",
    "        num = l\n",
    "    plt.plot(np.arange(1,num+1), pca.explained_variance_[:num])\n",
    "    plt.xlabel('ith Principle Component')\n",
    "    plt.ylabel('Eigenvalue')\n",
    "    plt.title('Scree Plot')"
   ]
  },
  {
   "cell_type": "code",
   "execution_count": 231,
   "id": "e467d12f-e7ef-458d-bbdb-d37facbe90d3",
   "metadata": {},
   "outputs": [
    {
     "data": {
      "text/plain": [
       "''"
      ]
     },
     "execution_count": 231,
     "metadata": {},
     "output_type": "execute_result"
    },
    {
     "data": {
      "image/png": "[encoded data removed]",
      "text/plain": [
       "<Figure size 1080x360 with 1 Axes>"
      ]
     },
     "metadata": {
      "needs_background": "light"
     },
     "output_type": "display_data"
    }
   ],
   "source": [
    "fig, ax = plt.subplots(figsize=(15, 5))\n",
    "ax = scree_plot(X_pca)\n",
    "plt.xticks(ticks=np.linspace(0, 208, 5))\n",
    ";"
   ]
  },
  {
   "cell_type": "code",
   "execution_count": 239,
   "id": "4d9b2037-31c6-4c1e-9194-723b6e040c76",
   "metadata": {},
   "outputs": [
    {
     "data": {
      "text/plain": [
       "((128600, 208), (32150, 36), (128600,), (32150,))"
      ]
     },
     "execution_count": 239,
     "metadata": {},
     "output_type": "execute_result"
    }
   ],
   "source": [
    "dec_feat_train_scaled.shape, dec_feat_test.shape, dec_label_train.shape, dec_label_test.shape"
   ]
  },
  {
   "cell_type": "markdown",
   "id": "c03ee8dd-f54a-4d84-85c0-0b40f4232ab2",
   "metadata": {},
   "source": [
    "#### Linear Regression "
   ]
  },
  {
   "cell_type": "code",
   "execution_count": 241,
   "id": "962af7ab-fb4f-4fa4-83b4-ae56a92e5eae",
   "metadata": {},
   "outputs": [],
   "source": [
    "model_lr = LinearRegression()"
   ]
  },
  {
   "cell_type": "code",
   "execution_count": 242,
   "id": "119b7519-275c-4bc0-90c7-705934950e25",
   "metadata": {},
   "outputs": [
    {
     "data": {
      "text/plain": [
       "LinearRegression()"
      ]
     },
     "execution_count": 242,
     "metadata": {},
     "output_type": "execute_result"
    }
   ],
   "source": [
    "model_lr.fit(dec_feat_train_scaled, dec_label_train)"
   ]
  },
  {
   "cell_type": "code",
   "execution_count": 244,
   "id": "fe1f9100-7714-48d1-9246-0a5c72823cdc",
   "metadata": {},
   "outputs": [],
   "source": [
    "predict_train = model_lr.predict(dec_feat_train_scaled)"
   ]
  },
  {
   "cell_type": "code",
   "execution_count": 245,
   "id": "b36acc7a-7b60-40c1-ae5d-7be143254dcf",
   "metadata": {},
   "outputs": [
    {
     "name": "stdout",
     "output_type": "stream",
     "text": [
      "RMSE on train data:  98.50246386117911\n"
     ]
    }
   ],
   "source": [
    "print('RMSE on train data with LR: ', mean_squared_error(dec_label_train, predict_train))"
   ]
  },
  {
   "cell_type": "code",
   "execution_count": 247,
   "id": "84b0b2d4-2a83-40bb-8763-3fc1f9558cb7",
   "metadata": {},
   "outputs": [],
   "source": [
    "model_rf = RandomForestRegressor()"
   ]
  },
  {
   "cell_type": "code",
   "execution_count": 248,
   "id": "6e0e5f74-eb5d-4690-82b9-e3666a1e6d68",
   "metadata": {},
   "outputs": [
    {
     "data": {
      "text/plain": [
       "RandomForestRegressor()"
      ]
     },
     "execution_count": 248,
     "metadata": {},
     "output_type": "execute_result"
    }
   ],
   "source": [
    "model_rf.fit(dec_feat_train_scaled, dec_label_train)"
   ]
  },
  {
   "cell_type": "code",
   "execution_count": 249,
   "id": "0c21a21e-0665-4c4b-98f3-05bf93b36f41",
   "metadata": {},
   "outputs": [],
   "source": [
    "predict_train_rf = model_rf.predict(dec_feat_train_scaled)"
   ]
  },
  {
   "cell_type": "code",
   "execution_count": 250,
   "id": "ccf948d0-48d5-4255-a505-46d2e8e4afce",
   "metadata": {},
   "outputs": [
    {
     "name": "stdout",
     "output_type": "stream",
     "text": [
      "RMSE on Train Data with RF:  11.792651547403715\n"
     ]
    }
   ],
   "source": [
    "print('RMSE on Train Data with RF: ', mean_squared_error(dec_label_train, predict_train_rf))"
   ]
  },
  {
   "cell_type": "code",
   "execution_count": 251,
   "id": "e4b0ab0d-1c62-44f0-9f4c-d534ee9e93cc",
   "metadata": {},
   "outputs": [],
   "source": [
    "# How do I get predicted values out of this for age, like if I were to put it in a flask app or something"
   ]
  },
  {
   "cell_type": "code",
   "execution_count": 263,
   "id": "977d8766-dcc6-4eaf-8591-16b2cbcdcab9",
   "metadata": {},
   "outputs": [
    {
     "name": "stderr",
     "output_type": "stream",
     "text": [
      "/opt/anaconda3/lib/python3.7/site-packages/seaborn/_decorators.py:43: FutureWarning: Pass the following variables as keyword args: x, y. From version 0.12, the only valid positional argument will be `data`, and passing other arguments without an explicit keyword will result in an error or misinterpretation.\n",
      "  FutureWarning\n"
     ]
    },
    {
     "data": {
      "text/plain": [
       "Text(0, 0.5, 'residual (observed age - predicted age)')"
      ]
     },
     "execution_count": 263,
     "metadata": {},
     "output_type": "execute_result"
    },
    {
     "data": {
      "image/png": "[encoded data removed]",
      "text/plain": [
       "<Figure size 1008x360 with 1 Axes>"
      ]
     },
     "metadata": {},
     "output_type": "display_data"
    }
   ],
   "source": [
    "fig, ax = plt.subplots(figsize=(14, 5))\n",
    "sns.scatterplot(dec_label_train, dec_label_train - predict_train_rf, ax=ax);\n",
    "ax.set_xlabel('predicted age')\n",
    "ax.set_ylabel('residual (observed age - predicted age)')"
   ]
  },
  {
   "cell_type": "code",
   "execution_count": 262,
   "id": "006c64a0-1188-4560-9b92-4b7d76a8ecca",
   "metadata": {},
   "outputs": [],
   "source": [
    "from yellowbrick.regressor import ResidualsPlot"
   ]
  },
  {
   "cell_type": "code",
   "execution_count": 265,
   "id": "daacb039-607f-498e-a5c2-4680488c8b82",
   "metadata": {},
   "outputs": [
    {
     "data": {
      "image/png": "[encoded data removed]",
      "text/plain": [
       "<Figure size 576x396 with 2 Axes>"
      ]
     },
     "metadata": {},
     "output_type": "display_data"
    },
    {
     "data": {
      "text/plain": [
       "<AxesSubplot:title={'center':'Residuals for RandomForestRegressor Model'}, xlabel='Predicted Value', ylabel='Residuals'>"
      ]
     },
     "execution_count": 265,
     "metadata": {},
     "output_type": "execute_result"
    }
   ],
   "source": [
    "visualizer = ResidualsPlot(model_rf)\n",
    "\n",
    "visualizer.fit(dec_feat_train_scaled, dec_label_train)  # Fit the training data to the visualizer\n",
    "# visualizer.score(X_test, y_test)  # Evaluate the model on the test data\n",
    "visualizer.show(alpha=0.4)  "
   ]
  },
  {
   "cell_type": "code",
   "execution_count": 273,
   "id": "00e02b25-b377-43a9-903a-816cda9cf0c6",
   "metadata": {},
   "outputs": [],
   "source": [
    "feature_importances = pd.DataFrame(model_rf.fit(dec_feat_train_scaled, dec_label_train).feature_importances_,\n",
    "                                   index = dec_ft_enc.columns, columns=['importance']).sort_values('importance', ascending=False)"
   ]
  },
  {
   "cell_type": "code",
   "execution_count": 274,
   "id": "c96e79fe-d1e0-4abc-ba0a-f2f874350f37",
   "metadata": {},
   "outputs": [
    {
     "data": {
      "text/html": [
       "<div>\n",
       "<style scoped>\n",
       "    .dataframe tbody tr th:only-of-type {\n",
       "        vertical-align: middle;\n",
       "    }\n",
       "\n",
       "    .dataframe tbody tr th {\n",
       "        vertical-align: top;\n",
       "    }\n",
       "\n",
       "    .dataframe thead th {\n",
       "        text-align: right;\n",
       "    }\n",
       "</style>\n",
       "<table border=\"1\" class=\"dataframe\">\n",
       "  <thead>\n",
       "    <tr style=\"text-align: right;\">\n",
       "      <th></th>\n",
       "      <th>importance</th>\n",
       "    </tr>\n",
       "  </thead>\n",
       "  <tbody>\n",
       "    <tr>\n",
       "      <th>hitype__1.0</th>\n",
       "      <td>3.800438e-01</td>\n",
       "    </tr>\n",
       "    <tr>\n",
       "      <th>hhnum</th>\n",
       "      <td>8.337982e-02</td>\n",
       "    </tr>\n",
       "    <tr>\n",
       "      <th>ms__5.0</th>\n",
       "      <td>4.730659e-02</td>\n",
       "    </tr>\n",
       "    <tr>\n",
       "      <th>wt</th>\n",
       "      <td>4.712789e-02</td>\n",
       "    </tr>\n",
       "    <tr>\n",
       "      <th>educ</th>\n",
       "      <td>4.353984e-02</td>\n",
       "    </tr>\n",
       "    <tr>\n",
       "      <th>...</th>\n",
       "      <td>...</td>\n",
       "    </tr>\n",
       "    <tr>\n",
       "      <th>cause113__86.0</th>\n",
       "      <td>7.451023e-06</td>\n",
       "    </tr>\n",
       "    <tr>\n",
       "      <th>cause113__39.0</th>\n",
       "      <td>6.055684e-06</td>\n",
       "    </tr>\n",
       "    <tr>\n",
       "      <th>cause113__12.0</th>\n",
       "      <td>2.963686e-06</td>\n",
       "    </tr>\n",
       "    <tr>\n",
       "      <th>cause113__112.0</th>\n",
       "      <td>2.026814e-06</td>\n",
       "    </tr>\n",
       "    <tr>\n",
       "      <th>cause113__1.0</th>\n",
       "      <td>5.880282e-08</td>\n",
       "    </tr>\n",
       "  </tbody>\n",
       "</table>\n",
       "<p>208 rows × 1 columns</p>\n",
       "</div>"
      ],
      "text/plain": [
       "                   importance\n",
       "hitype__1.0      3.800438e-01\n",
       "hhnum            8.337982e-02\n",
       "ms__5.0          4.730659e-02\n",
       "wt               4.712789e-02\n",
       "educ             4.353984e-02\n",
       "...                       ...\n",
       "cause113__86.0   7.451023e-06\n",
       "cause113__39.0   6.055684e-06\n",
       "cause113__12.0   2.963686e-06\n",
       "cause113__112.0  2.026814e-06\n",
       "cause113__1.0    5.880282e-08\n",
       "\n",
       "[208 rows x 1 columns]"
      ]
     },
     "execution_count": 274,
     "metadata": {},
     "output_type": "execute_result"
    }
   ],
   "source": [
    "feature_importances"
   ]
  },
  {
   "cell_type": "code",
   "execution_count": null,
   "id": "30642e03-7c93-4d44-9fb1-8e52e134c49d",
   "metadata": {},
   "outputs": [],
   "source": []
  },
  {
   "cell_type": "code",
   "execution_count": null,
   "id": "084009c3-0d04-4c70-aa17-9de06aafb843",
   "metadata": {},
   "outputs": [],
   "source": []
  },
  {
   "cell_type": "code",
   "execution_count": null,
   "id": "3b049ec0-63cc-410b-83f5-1986430ebefa",
   "metadata": {},
   "outputs": [],
   "source": []
  }
 ],
 "metadata": {
  "kernelspec": {
   "display_name": "Python 3",
   "language": "python",
   "name": "python3"
  },
  "language_info": {
   "codemirror_mode": {
    "name": "ipython",
    "version": 3
   },
   "file_extension": ".py",
   "mimetype": "text/x-python",
   "name": "python",
   "nbconvert_exporter": "python",
   "pygments_lexer": "ipython3",
   "version": "3.7.7"
  }
 },
 "nbformat": 4,
 "nbformat_minor": 5
}
