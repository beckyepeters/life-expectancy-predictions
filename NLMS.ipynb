{
 "cells": [
  {
   "cell_type": "code",
   "execution_count": 559,
   "id": "231e3f4a-8a65-4cbb-85bd-901864a4db23",
   "metadata": {},
   "outputs": [],
   "source": [
    "import pandas as pd\n",
    "import numpy as np\n",
    "import seaborn as sns\n",
    "import matplotlib.pyplot as plt\n",
    "plt.style.use('ggplot')\n",
    "%matplotlib inline\n",
    "import seaborn as sns   \n",
    "\n",
    "from sklearn.impute import KNNImputer\n",
    "from sklearn.preprocessing import MinMaxScaler, OneHotEncoder, MaxAbsScaler, StandardScaler\n",
    "from sklearn.pipeline import Pipeline\n",
    "from sklearn.linear_model import LinearRegression\n",
    "from sklearn.model_selection import train_test_split\n",
    "from sklearn.decomposition import PCA\n",
    "from sklearn.compose import ColumnTransformer\n",
    "\n",
    "\n",
    "from sklearn.metrics import mean_squared_error, mean_absolute_error, r2_score\n",
    "from sklearn.ensemble import RandomForestRegressor\n",
    "\n",
    "import joblib"
   ]
  },
  {
   "cell_type": "code",
   "execution_count": 294,
   "id": "42595df1-901c-492c-a841-4220ab9ff950",
   "metadata": {},
   "outputs": [
    {
     "name": "stderr",
     "output_type": "stream",
     "text": [
      "/opt/anaconda3/lib/python3.7/site-packages/numpy/lib/arraysetops.py:580: FutureWarning: elementwise comparison failed; returning scalar instead, but in the future will perform elementwise comparison\n",
      "  mask |= (ar1 == a)\n"
     ]
    }
   ],
   "source": [
    "nlms = pd.read_csv('data/NLMS_PublicUse_5.1/11_new.csv', index_col='record');"
   ]
  },
  {
   "cell_type": "code",
   "execution_count": 295,
   "id": "54200603-138f-4fc8-a514-6d04a6090cb4",
   "metadata": {},
   "outputs": [
    {
     "data": {
      "text/plain": [
       "Index(['age', 'race', 'sex', 'ms', 'hisp', 'adjinc', 'educ', 'pob', 'wt',\n",
       "       'hhid', 'hhnum', 'reltrf', 'occ', 'majocc', 'ind', 'majind', 'esr',\n",
       "       'urban', 'smsast', 'inddea', 'cause113', 'follow', 'dayod', 'hosp',\n",
       "       'hospd', 'ssnyn', 'vt', 'histatus', 'hitype', 'povpct', 'stater',\n",
       "       'rcow', 'tenure', 'citizen', 'health', 'indalg', 'smok100', 'agesmk',\n",
       "       'smokstat', 'smokhome', 'curruse', 'everuse'],\n",
       "      dtype='object')"
      ]
     },
     "execution_count": 295,
     "metadata": {},
     "output_type": "execute_result"
    }
   ],
   "source": [
    "nlms.columns"
   ]
  },
  {
   "cell_type": "code",
   "execution_count": 296,
   "id": "c03080d7-689c-437c-b272-c4925c203813",
   "metadata": {},
   "outputs": [],
   "source": [
    "cols = ['age', 'race', 'sex', 'ms', 'hisp', 'adjinc', 'educ', 'pob',\n",
    "       'wt', 'hhid', 'hhnum', 'reltrf', 'occ', 'majocc', 'ind', 'majind',\n",
    "       'esr', 'urban', 'smsast', 'inddea', 'cause113', 'follow', 'dayod',\n",
    "       'hosp', 'hospd', 'ssnyn', 'vt', 'histatus', 'hitype', 'povpct',\n",
    "       'stater', 'rcow', 'tenure', 'citizen', 'health', 'indalg', 'smok100',\n",
    "       'agesmk', 'smokstat', 'smokhome', 'curruse', 'everuse']"
   ]
  },
  {
   "cell_type": "code",
   "execution_count": 297,
   "id": "aab38fc7-5e82-4489-b67f-31fb163955e5",
   "metadata": {},
   "outputs": [],
   "source": [
    "col_dict = {'index': 'record number', 'age': 'age at time of interview', 'race': 'race', 'sex': 'gender', \n",
    "            'ms': 'marital status', 'hisp': 'hispanic', 'adjinc': 'inflation adjusted income', 'educ': 'highest grade completed', \n",
    "            'pob': 'region of birth', 'wt': 'adjusted weight', 'hhid': 'household ID number', 'hhnum': 'number of people in household',\n",
    "            'reltrf': 'relationship to reference person', 'occ': '4 digit occupation code', 'majocc': 'major occupation code',\n",
    "            'ind': '4 digit industry code', 'majind': 'major industry code', 'esr': 'employment status recode', \n",
    "            'urban': 'urban / rural status', 'smsast': 'SMSAST (Standard Metropolitan Statistical Area) status', 'inddea': 'death indicator',\n",
    "            'cause113': 'cause of death', 'follow': 'length of follow-up', 'dayod': 'day of week of death', \n",
    "            'hosp': 'hospital type', 'hosppd': 'hospital death indicator', 'ssnyn': 'presence of ssn', \n",
    "            'vt': 'veteran status', 'histatus': 'health insurance status', 'hitype': 'health insurance type', \n",
    "            'povpct': 'income as percent of poverty level', 'stater': 'state recode', 'rcow': 'recoded class of worker', \n",
    "            'tenure': 'housing tenure', 'citizen': 'citizenship', 'health': 'health', 'indalg': 'indicator of algorithmic death', \n",
    "            'smok100': 'smoked more than 100 cigarettes', 'agesmk': 'age started smoking',\n",
    "            'smokstat': 'cigarette smoking status', 'smokhome': 'rules for smoking cigarettes in the home', \n",
    "            'curruse': 'currently use smokeless tobacco', 'everuse': 'ever use smokeless tobacco'}"
   ]
  },
  {
   "cell_type": "code",
   "execution_count": 298,
   "id": "d5d3ef92-e7a9-4dc2-914d-e794bf8ce230",
   "metadata": {},
   "outputs": [
    {
     "data": {
      "text/plain": [
       "age             91\n",
       "race             6\n",
       "sex              2\n",
       "ms               6\n",
       "hisp             4\n",
       "adjinc          15\n",
       "educ            15\n",
       "pob             64\n",
       "wt             930\n",
       "hhid        745424\n",
       "hhnum           21\n",
       "reltrf           7\n",
       "occ            365\n",
       "majocc          12\n",
       "ind            229\n",
       "majind          15\n",
       "esr              6\n",
       "urban            3\n",
       "smsast           4\n",
       "inddea           2\n",
       "cause113       106\n",
       "follow        4019\n",
       "dayod            8\n",
       "hosp             7\n",
       "hospd            6\n",
       "ssnyn            2\n",
       "vt               3\n",
       "histatus         3\n",
       "hitype           7\n",
       "povpct          21\n",
       "stater          51\n",
       "rcow             6\n",
       "tenure           4\n",
       "citizen          6\n",
       "health           6\n",
       "indalg           3\n",
       "smok100          1\n",
       "agesmk           1\n",
       "smokstat         1\n",
       "smokhome         1\n",
       "curruse          1\n",
       "everuse          1\n",
       "dtype: int64"
      ]
     },
     "execution_count": 298,
     "metadata": {},
     "output_type": "execute_result"
    }
   ],
   "source": [
    "lens = nlms.apply(lambda x: len(x.unique()))\n",
    "lens"
   ]
  },
  {
   "cell_type": "code",
   "execution_count": 299,
   "id": "f8d5d857-4a04-4da5-9dfd-264efd8d04be",
   "metadata": {},
   "outputs": [
    {
     "data": {
      "text/plain": [
       "array([909,   0, 942, 928, 917, 925, 104, 111, 934, 945, 936, 944, 107,\n",
       "       927, 926, 948, 906, 950, 937, 911, 933, 939, 106, 109, 912, 108,\n",
       "       913, 102, 949, 103, 931, 954, 951, 924, 901, 918, 938, 956, 923,\n",
       "       947, 921, 101, 105, 955, 941, 953, 905, 902, 920, 915, 904, 930,\n",
       "       922, 940, 932, 908, 910, 946, 935, 110, 919, 916, 929, 960])"
      ]
     },
     "execution_count": 299,
     "metadata": {},
     "output_type": "execute_result"
    }
   ],
   "source": [
    "nlms.pob.unique()"
   ]
  },
  {
   "cell_type": "code",
   "execution_count": 300,
   "id": "d167aefa-8845-43ae-ad5f-ba40cf631ba6",
   "metadata": {},
   "outputs": [],
   "source": [
    "pob_dict = {909: 'CT',   0: np.nan, 942: 'PA', 928: 'MS', 917: 'IL', 925: 'MA', 104: 'Western Europe', 111: 'Other NS', 934: 'NJ', 945: 'SC', 936: 'NY', 944: 'RI', 107: 'Central America',\n",
    "       927: 'MN', 926: 'MI', 948: 'TX', 906: 'CA', 950: 'VT', 937: 'NC', 911: 'DC', 933: 'NH', 939: 'OH', 106: 'South America', 109: 'Island Country', 912: 'FL', 108: 'Mexico',\n",
    "       913: 'GA', 102: 'Asia', 949: 'UT', 103: 'Eastern Europe', 931: 'NE', 954: 'WV', 951: 'VA', 924: 'MD', 901: 'AL', 918: 'IN', 938: 'ND', 956: 'WY', 923: 'ME',\n",
    "       947: 'TN', 921: 'KY', 101: 'Africa', 105: 'North Am, Not US or Mexico', 955: 'WI', 941: 'OR', 953: 'WA', 905: 'AR', 902: 'AK', 920: 'KS', 915: 'HI', 904: 'AZ', 930: 'MT',\n",
    "       922: 'LA', 940: 'OK', 932: 'NV', 908: 'CO', 910: 'DE', 946: 'SD', 935: 'NM', 110: 'Other NS', 919: 'IA', 916: 'ID', 929: 'MO', 960: 'American Samoa'}"
   ]
  },
  {
   "cell_type": "code",
   "execution_count": 301,
   "id": "1182e891-902b-49bb-9196-334f3b42f6b3",
   "metadata": {
    "scrolled": true,
    "tags": []
   },
   "outputs": [
    {
     "name": "stdout",
     "output_type": "stream",
     "text": [
      "Pre na qty: age           0.000000\n",
      "race          0.157487\n",
      "sex           0.000000\n",
      "ms           19.684568\n",
      "hisp          2.861032\n",
      "adjinc        2.412385\n",
      "educ         19.120231\n",
      "pob           0.000000\n",
      "wt            0.000000\n",
      "hhid          0.000000\n",
      "hhnum         0.000000\n",
      "reltrf        0.254704\n",
      "occ          46.609888\n",
      "majocc       46.609888\n",
      "ind          46.621931\n",
      "majind       46.621931\n",
      "esr          19.122029\n",
      "urban         0.710708\n",
      "smsast        0.711471\n",
      "inddea        0.000000\n",
      "cause113      0.000000\n",
      "follow        0.000000\n",
      "dayod        91.240126\n",
      "hosp         91.401209\n",
      "hospd        92.088921\n",
      "ssnyn         0.000000\n",
      "vt           21.582314\n",
      "histatus     31.484596\n",
      "hitype       31.484596\n",
      "povpct        0.000000\n",
      "stater        0.000000\n",
      "rcow         46.521880\n",
      "tenure        1.386703\n",
      "citizen      74.667969\n",
      "health       79.067361\n",
      "indalg       80.994806\n",
      "smok100     100.000000\n",
      "agesmk      100.000000\n",
      "smokstat    100.000000\n",
      "smokhome    100.000000\n",
      "curruse     100.000000\n",
      "everuse     100.000000\n",
      "dtype: float64\n"
     ]
    }
   ],
   "source": [
    "print('Pre na qty: ' + str(nlms.isnull().sum() * 100 / len(nlms)))"
   ]
  },
  {
   "cell_type": "code",
   "execution_count": 302,
   "id": "92a78df2-3280-4115-b097-7089e96cca50",
   "metadata": {
    "scrolled": true,
    "tags": []
   },
   "outputs": [
    {
     "data": {
      "text/plain": [
       "4018    0.912401\n",
       "3617    0.000039\n",
       "2531    0.000036\n",
       "3199    0.000036\n",
       "3565    0.000035\n",
       "          ...   \n",
       "7       0.000010\n",
       "478     0.000009\n",
       "3       0.000007\n",
       "1       0.000007\n",
       "0       0.000001\n",
       "Name: follow, Length: 4019, dtype: float64"
      ]
     },
     "execution_count": 302,
     "metadata": {},
     "output_type": "execute_result"
    }
   ],
   "source": [
    "nlms.follow.value_counts(normalize=True)"
   ]
  },
  {
   "cell_type": "code",
   "execution_count": 303,
   "id": "2657e5ff-d0bb-43f1-9e27-db325cf95f9e",
   "metadata": {},
   "outputs": [],
   "source": [
    "nlms.drop(columns=['smok100', 'agesmk', 'smokstat', 'smokhome', 'curruse', 'everuse'], inplace=True)"
   ]
  },
  {
   "cell_type": "code",
   "execution_count": 304,
   "id": "f749f7f2-212b-45a0-8017-1c2027869075",
   "metadata": {},
   "outputs": [
    {
     "name": "stdout",
     "output_type": "stream",
     "text": [
      "<class 'pandas.core.frame.DataFrame'>\n",
      "Int64Index: 1835072 entries, 88426 to 670\n",
      "Data columns (total 36 columns):\n",
      " #   Column    Dtype  \n",
      "---  ------    -----  \n",
      " 0   age       int64  \n",
      " 1   race      float64\n",
      " 2   sex       int64  \n",
      " 3   ms        float64\n",
      " 4   hisp      float64\n",
      " 5   adjinc    float64\n",
      " 6   educ      float64\n",
      " 7   pob       int64  \n",
      " 8   wt        int64  \n",
      " 9   hhid      int64  \n",
      " 10  hhnum     int64  \n",
      " 11  reltrf    float64\n",
      " 12  occ       float64\n",
      " 13  majocc    float64\n",
      " 14  ind       float64\n",
      " 15  majind    float64\n",
      " 16  esr       float64\n",
      " 17  urban     float64\n",
      " 18  smsast    float64\n",
      " 19  inddea    int64  \n",
      " 20  cause113  int64  \n",
      " 21  follow    int64  \n",
      " 22  dayod     float64\n",
      " 23  hosp      float64\n",
      " 24  hospd     float64\n",
      " 25  ssnyn     int64  \n",
      " 26  vt        float64\n",
      " 27  histatus  float64\n",
      " 28  hitype    float64\n",
      " 29  povpct    int64  \n",
      " 30  stater    int64  \n",
      " 31  rcow      float64\n",
      " 32  tenure    float64\n",
      " 33  citizen   float64\n",
      " 34  health    float64\n",
      " 35  indalg    float64\n",
      "dtypes: float64(24), int64(12)\n",
      "memory usage: 518.0 MB\n"
     ]
    }
   ],
   "source": [
    "nlms.info()"
   ]
  },
  {
   "cell_type": "code",
   "execution_count": 305,
   "id": "1ee5ca8e-444c-427a-af37-24cb4b28aaf6",
   "metadata": {},
   "outputs": [
    {
     "data": {
      "text/plain": [
       "(1835072, 36)"
      ]
     },
     "execution_count": 305,
     "metadata": {},
     "output_type": "execute_result"
    }
   ],
   "source": [
    "nlms.shape"
   ]
  },
  {
   "cell_type": "markdown",
   "id": "0baa6338-e9a3-480b-b76c-ebb8f1fefc05",
   "metadata": {},
   "source": [
    "### DataFrame for deceased individuals"
   ]
  },
  {
   "cell_type": "code",
   "execution_count": 694,
   "id": "ca8e44b4-d030-4cb4-813b-49cdd2f2d77d",
   "metadata": {},
   "outputs": [],
   "source": [
    "dec = nlms[nlms.dayod.isin([1.0, 2.0, 3.0, 4.0, 5.0, 6.0, 7.0])]\n"
   ]
  },
  {
   "cell_type": "code",
   "execution_count": 695,
   "id": "db48dd4c-a82c-4bc8-a0c0-55ecce83a0ef",
   "metadata": {},
   "outputs": [],
   "source": [
    "causes_dict_ref = {1: 'Infectious Disease', 2: 'Malignant or Other Neoplasm', 3: 'Nutrition-Related', 4: 'NeuroMuscular', \n",
    "                   5: 'Cardiovascular or Circulatory', 6: 'Respiratory', 7: 'Liver or Kidney', 8: 'Pregnancy or Birth', \n",
    "                  9: 'Otherwise Unspecified', 10: 'Accidental Harm', 11: 'Intentional Harm'}\n",
    "causes_dict = {1: 1, 2: 1, 3: 1, 4: 1, 5: 1, 6: 1, 7: 1, 8: 1, 9: 1, 10: 1, 11: 1, 12: 1, 13: 1, 14: 1, 15: 1, 16: 1, 17: 1, \n",
    "               18: 2, 19: 2, 20: 2, 21: 2, 22: 2, 23: 2, 24: 2, 25: 2, 26: 2, 27: 2, 28: 2, 29: 2, 30: 2, 31: 2, 32: 2, 33: 2, \n",
    "               34: 2, 35: 2, 36: 2, 37: 2, 38: 2, 39: 2, 40: 2, 41: 2, \n",
    "               42: 3, 43: 3, 44: 3, 45: 3, 46: 4, 47: 4, 48: 4, 49: 5, 50: 5, 51: 5, \n",
    "               52: 5, 53: 5, 54: 5, 55: 5, 56: 5, 57: 5, 58: 5, 59: 5, 60: 5, 61: 5, 62: 5, 63: 5, 64: 5, 65: 5, \n",
    "               66: 6, 67: 6, 68: 6, 69: 6, 70: 6, 71: 6, 72: 6, 73: 6, 74: 6, 75: 6, 76: 6, 80: 7, \n",
    "               81: 7, 82: 7, 83: 7, 84: 7, 85: 7, 86: 7, 87: 7, 88: 7, 89: 7, 90: 8, 91: 8, 92: 8, 93: 8, 77: 9, 78: 9, 79: 9, 94: 9, 95: 9, \n",
    "               96: 10, 97: 10, 98: 10, 99: 10, 100: 10, 101: 10, 102: 10, 103: 10, 104: 10, 113: 10, 105: 11, \n",
    "               106: 11, 107: 11, 108: 11, 109: 11, 110: 11, 111: 11, 112: 11}"
   ]
  },
  {
   "cell_type": "code",
   "execution_count": 696,
   "id": "9b84493b-9fc3-4c38-8204-e46c4b1f5287",
   "metadata": {},
   "outputs": [
    {
     "name": "stderr",
     "output_type": "stream",
     "text": [
      "/opt/anaconda3/lib/python3.7/site-packages/pandas/core/series.py:4515: SettingWithCopyWarning: \n",
      "A value is trying to be set on a copy of a slice from a DataFrame\n",
      "\n",
      "See the caveats in the documentation: https://pandas.pydata.org/pandas-docs/stable/user_guide/indexing.html#returning-a-view-versus-a-copy\n",
      "  method=method,\n"
     ]
    }
   ],
   "source": [
    "dec.cause113.replace(causes_dict, inplace=True)\n"
   ]
  },
  {
   "cell_type": "code",
   "execution_count": 697,
   "id": "a32f3fb2-271c-4c92-94c7-d11816c7829c",
   "metadata": {},
   "outputs": [
    {
     "data": {
      "text/plain": [
       "array([ 9,  5,  6,  2,  7, 10, 11,  3,  4,  1,  8,  0])"
      ]
     },
     "execution_count": 697,
     "metadata": {},
     "output_type": "execute_result"
    }
   ],
   "source": [
    "dec.cause113.unique()"
   ]
  },
  {
   "cell_type": "code",
   "execution_count": 698,
   "id": "b82b3696-2414-45e7-ab2e-39c90a988148",
   "metadata": {},
   "outputs": [
    {
     "data": {
      "text/plain": [
       "(160750, 36)"
      ]
     },
     "execution_count": 698,
     "metadata": {},
     "output_type": "execute_result"
    }
   ],
   "source": [
    "dec.shape"
   ]
  },
  {
   "cell_type": "code",
   "execution_count": 699,
   "id": "061fc333-c31f-424e-8664-c1a633631bf4",
   "metadata": {},
   "outputs": [
    {
     "data": {
      "text/html": [
       "<div>\n",
       "<style scoped>\n",
       "    .dataframe tbody tr th:only-of-type {\n",
       "        vertical-align: middle;\n",
       "    }\n",
       "\n",
       "    .dataframe tbody tr th {\n",
       "        vertical-align: top;\n",
       "    }\n",
       "\n",
       "    .dataframe thead th {\n",
       "        text-align: right;\n",
       "    }\n",
       "</style>\n",
       "<table border=\"1\" class=\"dataframe\">\n",
       "  <thead>\n",
       "    <tr style=\"text-align: right;\">\n",
       "      <th></th>\n",
       "      <th>age</th>\n",
       "      <th>race</th>\n",
       "      <th>sex</th>\n",
       "      <th>ms</th>\n",
       "      <th>hisp</th>\n",
       "      <th>adjinc</th>\n",
       "      <th>educ</th>\n",
       "      <th>pob</th>\n",
       "      <th>wt</th>\n",
       "      <th>hhid</th>\n",
       "      <th>...</th>\n",
       "      <th>vt</th>\n",
       "      <th>histatus</th>\n",
       "      <th>hitype</th>\n",
       "      <th>povpct</th>\n",
       "      <th>stater</th>\n",
       "      <th>rcow</th>\n",
       "      <th>tenure</th>\n",
       "      <th>citizen</th>\n",
       "      <th>health</th>\n",
       "      <th>indalg</th>\n",
       "    </tr>\n",
       "    <tr>\n",
       "      <th>record</th>\n",
       "      <th></th>\n",
       "      <th></th>\n",
       "      <th></th>\n",
       "      <th></th>\n",
       "      <th></th>\n",
       "      <th></th>\n",
       "      <th></th>\n",
       "      <th></th>\n",
       "      <th></th>\n",
       "      <th></th>\n",
       "      <th></th>\n",
       "      <th></th>\n",
       "      <th></th>\n",
       "      <th></th>\n",
       "      <th></th>\n",
       "      <th></th>\n",
       "      <th></th>\n",
       "      <th></th>\n",
       "      <th></th>\n",
       "      <th></th>\n",
       "      <th></th>\n",
       "    </tr>\n",
       "  </thead>\n",
       "  <tbody>\n",
       "    <tr>\n",
       "      <th>88427</th>\n",
       "      <td>79</td>\n",
       "      <td>1.0</td>\n",
       "      <td>2</td>\n",
       "      <td>2.0</td>\n",
       "      <td>3.0</td>\n",
       "      <td>11.0</td>\n",
       "      <td>4.0</td>\n",
       "      <td>909</td>\n",
       "      <td>132</td>\n",
       "      <td>1</td>\n",
       "      <td>...</td>\n",
       "      <td>0.0</td>\n",
       "      <td>NaN</td>\n",
       "      <td>NaN</td>\n",
       "      <td>18</td>\n",
       "      <td>16</td>\n",
       "      <td>3.0</td>\n",
       "      <td>1.0</td>\n",
       "      <td>NaN</td>\n",
       "      <td>NaN</td>\n",
       "      <td>NaN</td>\n",
       "    </tr>\n",
       "    <tr>\n",
       "      <th>88445</th>\n",
       "      <td>66</td>\n",
       "      <td>1.0</td>\n",
       "      <td>2</td>\n",
       "      <td>5.0</td>\n",
       "      <td>3.0</td>\n",
       "      <td>2.0</td>\n",
       "      <td>5.0</td>\n",
       "      <td>909</td>\n",
       "      <td>144</td>\n",
       "      <td>8</td>\n",
       "      <td>...</td>\n",
       "      <td>0.0</td>\n",
       "      <td>NaN</td>\n",
       "      <td>NaN</td>\n",
       "      <td>3</td>\n",
       "      <td>16</td>\n",
       "      <td>NaN</td>\n",
       "      <td>2.0</td>\n",
       "      <td>NaN</td>\n",
       "      <td>NaN</td>\n",
       "      <td>1.0</td>\n",
       "    </tr>\n",
       "    <tr>\n",
       "      <th>88446</th>\n",
       "      <td>70</td>\n",
       "      <td>1.0</td>\n",
       "      <td>1</td>\n",
       "      <td>1.0</td>\n",
       "      <td>3.0</td>\n",
       "      <td>7.0</td>\n",
       "      <td>5.0</td>\n",
       "      <td>942</td>\n",
       "      <td>181</td>\n",
       "      <td>13</td>\n",
       "      <td>...</td>\n",
       "      <td>0.0</td>\n",
       "      <td>NaN</td>\n",
       "      <td>NaN</td>\n",
       "      <td>10</td>\n",
       "      <td>23</td>\n",
       "      <td>NaN</td>\n",
       "      <td>1.0</td>\n",
       "      <td>NaN</td>\n",
       "      <td>NaN</td>\n",
       "      <td>NaN</td>\n",
       "    </tr>\n",
       "    <tr>\n",
       "      <th>88452</th>\n",
       "      <td>80</td>\n",
       "      <td>1.0</td>\n",
       "      <td>1</td>\n",
       "      <td>1.0</td>\n",
       "      <td>3.0</td>\n",
       "      <td>3.0</td>\n",
       "      <td>3.0</td>\n",
       "      <td>942</td>\n",
       "      <td>132</td>\n",
       "      <td>15</td>\n",
       "      <td>...</td>\n",
       "      <td>0.0</td>\n",
       "      <td>NaN</td>\n",
       "      <td>NaN</td>\n",
       "      <td>4</td>\n",
       "      <td>23</td>\n",
       "      <td>NaN</td>\n",
       "      <td>1.0</td>\n",
       "      <td>NaN</td>\n",
       "      <td>NaN</td>\n",
       "      <td>NaN</td>\n",
       "    </tr>\n",
       "    <tr>\n",
       "      <th>88453</th>\n",
       "      <td>80</td>\n",
       "      <td>1.0</td>\n",
       "      <td>2</td>\n",
       "      <td>1.0</td>\n",
       "      <td>3.0</td>\n",
       "      <td>3.0</td>\n",
       "      <td>3.0</td>\n",
       "      <td>942</td>\n",
       "      <td>147</td>\n",
       "      <td>15</td>\n",
       "      <td>...</td>\n",
       "      <td>0.0</td>\n",
       "      <td>NaN</td>\n",
       "      <td>NaN</td>\n",
       "      <td>4</td>\n",
       "      <td>23</td>\n",
       "      <td>NaN</td>\n",
       "      <td>1.0</td>\n",
       "      <td>NaN</td>\n",
       "      <td>NaN</td>\n",
       "      <td>NaN</td>\n",
       "    </tr>\n",
       "    <tr>\n",
       "      <th>...</th>\n",
       "      <td>...</td>\n",
       "      <td>...</td>\n",
       "      <td>...</td>\n",
       "      <td>...</td>\n",
       "      <td>...</td>\n",
       "      <td>...</td>\n",
       "      <td>...</td>\n",
       "      <td>...</td>\n",
       "      <td>...</td>\n",
       "      <td>...</td>\n",
       "      <td>...</td>\n",
       "      <td>...</td>\n",
       "      <td>...</td>\n",
       "      <td>...</td>\n",
       "      <td>...</td>\n",
       "      <td>...</td>\n",
       "      <td>...</td>\n",
       "      <td>...</td>\n",
       "      <td>...</td>\n",
       "      <td>...</td>\n",
       "      <td>...</td>\n",
       "    </tr>\n",
       "    <tr>\n",
       "      <th>657</th>\n",
       "      <td>77</td>\n",
       "      <td>1.0</td>\n",
       "      <td>2</td>\n",
       "      <td>3.0</td>\n",
       "      <td>3.0</td>\n",
       "      <td>6.0</td>\n",
       "      <td>8.0</td>\n",
       "      <td>0</td>\n",
       "      <td>127</td>\n",
       "      <td>745419</td>\n",
       "      <td>...</td>\n",
       "      <td>0.0</td>\n",
       "      <td>1.0</td>\n",
       "      <td>1.0</td>\n",
       "      <td>10</td>\n",
       "      <td>16</td>\n",
       "      <td>NaN</td>\n",
       "      <td>3.0</td>\n",
       "      <td>NaN</td>\n",
       "      <td>3.0</td>\n",
       "      <td>1.0</td>\n",
       "    </tr>\n",
       "    <tr>\n",
       "      <th>662</th>\n",
       "      <td>46</td>\n",
       "      <td>1.0</td>\n",
       "      <td>2</td>\n",
       "      <td>1.0</td>\n",
       "      <td>2.0</td>\n",
       "      <td>1.0</td>\n",
       "      <td>8.0</td>\n",
       "      <td>0</td>\n",
       "      <td>57</td>\n",
       "      <td>745422</td>\n",
       "      <td>...</td>\n",
       "      <td>0.0</td>\n",
       "      <td>0.0</td>\n",
       "      <td>0.0</td>\n",
       "      <td>1</td>\n",
       "      <td>16</td>\n",
       "      <td>NaN</td>\n",
       "      <td>2.0</td>\n",
       "      <td>NaN</td>\n",
       "      <td>1.0</td>\n",
       "      <td>0.0</td>\n",
       "    </tr>\n",
       "    <tr>\n",
       "      <th>666</th>\n",
       "      <td>19</td>\n",
       "      <td>1.0</td>\n",
       "      <td>1</td>\n",
       "      <td>5.0</td>\n",
       "      <td>2.0</td>\n",
       "      <td>4.0</td>\n",
       "      <td>8.0</td>\n",
       "      <td>0</td>\n",
       "      <td>60</td>\n",
       "      <td>745423</td>\n",
       "      <td>...</td>\n",
       "      <td>0.0</td>\n",
       "      <td>1.0</td>\n",
       "      <td>4.0</td>\n",
       "      <td>6</td>\n",
       "      <td>16</td>\n",
       "      <td>2.0</td>\n",
       "      <td>2.0</td>\n",
       "      <td>NaN</td>\n",
       "      <td>1.0</td>\n",
       "      <td>NaN</td>\n",
       "    </tr>\n",
       "    <tr>\n",
       "      <th>668</th>\n",
       "      <td>16</td>\n",
       "      <td>1.0</td>\n",
       "      <td>2</td>\n",
       "      <td>5.0</td>\n",
       "      <td>2.0</td>\n",
       "      <td>11.0</td>\n",
       "      <td>6.0</td>\n",
       "      <td>0</td>\n",
       "      <td>60</td>\n",
       "      <td>745424</td>\n",
       "      <td>...</td>\n",
       "      <td>0.0</td>\n",
       "      <td>1.0</td>\n",
       "      <td>4.0</td>\n",
       "      <td>10</td>\n",
       "      <td>16</td>\n",
       "      <td>NaN</td>\n",
       "      <td>2.0</td>\n",
       "      <td>NaN</td>\n",
       "      <td>1.0</td>\n",
       "      <td>NaN</td>\n",
       "    </tr>\n",
       "    <tr>\n",
       "      <th>670</th>\n",
       "      <td>6</td>\n",
       "      <td>1.0</td>\n",
       "      <td>1</td>\n",
       "      <td>NaN</td>\n",
       "      <td>2.0</td>\n",
       "      <td>11.0</td>\n",
       "      <td>NaN</td>\n",
       "      <td>0</td>\n",
       "      <td>56</td>\n",
       "      <td>745424</td>\n",
       "      <td>...</td>\n",
       "      <td>NaN</td>\n",
       "      <td>1.0</td>\n",
       "      <td>4.0</td>\n",
       "      <td>10</td>\n",
       "      <td>16</td>\n",
       "      <td>NaN</td>\n",
       "      <td>2.0</td>\n",
       "      <td>NaN</td>\n",
       "      <td>1.0</td>\n",
       "      <td>NaN</td>\n",
       "    </tr>\n",
       "  </tbody>\n",
       "</table>\n",
       "<p>160750 rows × 36 columns</p>\n",
       "</div>"
      ],
      "text/plain": [
       "        age  race  sex   ms  hisp  adjinc  educ  pob   wt    hhid  ...   vt  \\\n",
       "record                                                             ...        \n",
       "88427    79   1.0    2  2.0   3.0    11.0   4.0  909  132       1  ...  0.0   \n",
       "88445    66   1.0    2  5.0   3.0     2.0   5.0  909  144       8  ...  0.0   \n",
       "88446    70   1.0    1  1.0   3.0     7.0   5.0  942  181      13  ...  0.0   \n",
       "88452    80   1.0    1  1.0   3.0     3.0   3.0  942  132      15  ...  0.0   \n",
       "88453    80   1.0    2  1.0   3.0     3.0   3.0  942  147      15  ...  0.0   \n",
       "...     ...   ...  ...  ...   ...     ...   ...  ...  ...     ...  ...  ...   \n",
       "657      77   1.0    2  3.0   3.0     6.0   8.0    0  127  745419  ...  0.0   \n",
       "662      46   1.0    2  1.0   2.0     1.0   8.0    0   57  745422  ...  0.0   \n",
       "666      19   1.0    1  5.0   2.0     4.0   8.0    0   60  745423  ...  0.0   \n",
       "668      16   1.0    2  5.0   2.0    11.0   6.0    0   60  745424  ...  0.0   \n",
       "670       6   1.0    1  NaN   2.0    11.0   NaN    0   56  745424  ...  NaN   \n",
       "\n",
       "        histatus  hitype  povpct  stater  rcow  tenure  citizen  health  \\\n",
       "record                                                                    \n",
       "88427        NaN     NaN      18      16   3.0     1.0      NaN     NaN   \n",
       "88445        NaN     NaN       3      16   NaN     2.0      NaN     NaN   \n",
       "88446        NaN     NaN      10      23   NaN     1.0      NaN     NaN   \n",
       "88452        NaN     NaN       4      23   NaN     1.0      NaN     NaN   \n",
       "88453        NaN     NaN       4      23   NaN     1.0      NaN     NaN   \n",
       "...          ...     ...     ...     ...   ...     ...      ...     ...   \n",
       "657          1.0     1.0      10      16   NaN     3.0      NaN     3.0   \n",
       "662          0.0     0.0       1      16   NaN     2.0      NaN     1.0   \n",
       "666          1.0     4.0       6      16   2.0     2.0      NaN     1.0   \n",
       "668          1.0     4.0      10      16   NaN     2.0      NaN     1.0   \n",
       "670          1.0     4.0      10      16   NaN     2.0      NaN     1.0   \n",
       "\n",
       "        indalg  \n",
       "record          \n",
       "88427      NaN  \n",
       "88445      1.0  \n",
       "88446      NaN  \n",
       "88452      NaN  \n",
       "88453      NaN  \n",
       "...        ...  \n",
       "657        1.0  \n",
       "662        0.0  \n",
       "666        NaN  \n",
       "668        NaN  \n",
       "670        NaN  \n",
       "\n",
       "[160750 rows x 36 columns]"
      ]
     },
     "execution_count": 699,
     "metadata": {},
     "output_type": "execute_result"
    }
   ],
   "source": [
    "dec"
   ]
  },
  {
   "cell_type": "code",
   "execution_count": 700,
   "id": "d4d4cfa0-d788-45ff-9632-4646fc2a9fd3",
   "metadata": {},
   "outputs": [],
   "source": [
    "dec.to_csv('data/dec.csv')"
   ]
  },
  {
   "cell_type": "code",
   "execution_count": 701,
   "id": "37af2fe9-839d-4b31-9f2f-ace14eb9fc58",
   "metadata": {},
   "outputs": [],
   "source": [
    "# Start over here: \n",
    "dec = pd.read_csv('data/dec.csv')"
   ]
  },
  {
   "cell_type": "code",
   "execution_count": 702,
   "id": "d073c00b-ab24-4282-8284-7b325bb2e6f7",
   "metadata": {},
   "outputs": [],
   "source": [
    "# Split before preprocessing\n",
    "dec_label = dec.pop('age')\n",
    "dec_features = dec.copy()"
   ]
  },
  {
   "cell_type": "code",
   "execution_count": null,
   "id": "2cea63d7-05be-4de9-a8e1-3c3d8ef13ff6",
   "metadata": {},
   "outputs": [],
   "source": []
  },
  {
   "cell_type": "code",
   "execution_count": null,
   "id": "076cd001-3efa-4a37-ac07-b528dd859a58",
   "metadata": {},
   "outputs": [],
   "source": []
  },
  {
   "cell_type": "code",
   "execution_count": null,
   "id": "a7dca50f-0b8d-4b3b-be01-d47f4d715f2c",
   "metadata": {},
   "outputs": [],
   "source": []
  },
  {
   "cell_type": "markdown",
   "id": "c2a8fac7-8cbc-4bb6-87cd-e58706ffc570",
   "metadata": {},
   "source": [
    "#### Pipeline for Processing"
   ]
  },
  {
   "cell_type": "code",
   "execution_count": 703,
   "id": "16ec9d8f-7286-4bc4-856d-4bea7aa78766",
   "metadata": {},
   "outputs": [],
   "source": [
    "cols_to_drop = ['hhid', 'reltrf', 'occ', 'majocc', 'majind', 'ind', 'smsast', \n",
    "                'inddea', 'follow', 'hospd', 'stater', 'health', 'indalg',\n",
    "               'citizen', 'rcow', 'hhnum']"
   ]
  },
  {
   "cell_type": "code",
   "execution_count": 706,
   "id": "b6f08c9b-be23-4d84-aff4-e64f9bb7a73e",
   "metadata": {},
   "outputs": [],
   "source": [
    "dec_features.drop(columns=cols_to_drop, inplace=True, axis=1);"
   ]
  },
  {
   "cell_type": "code",
   "execution_count": 710,
   "id": "defc808b-bfb8-4b9d-9f77-61eaa806cd6a",
   "metadata": {},
   "outputs": [],
   "source": [
    "dec_features.set_index('record', drop=True, inplace=True)"
   ]
  },
  {
   "cell_type": "code",
   "execution_count": 712,
   "id": "f724100d-7869-4825-8f51-f969f3d9d481",
   "metadata": {},
   "outputs": [
    {
     "data": {
      "text/html": [
       "<div>\n",
       "<style scoped>\n",
       "    .dataframe tbody tr th:only-of-type {\n",
       "        vertical-align: middle;\n",
       "    }\n",
       "\n",
       "    .dataframe tbody tr th {\n",
       "        vertical-align: top;\n",
       "    }\n",
       "\n",
       "    .dataframe thead th {\n",
       "        text-align: right;\n",
       "    }\n",
       "</style>\n",
       "<table border=\"1\" class=\"dataframe\">\n",
       "  <thead>\n",
       "    <tr style=\"text-align: right;\">\n",
       "      <th></th>\n",
       "      <th>race</th>\n",
       "      <th>sex</th>\n",
       "      <th>ms</th>\n",
       "      <th>hisp</th>\n",
       "      <th>adjinc</th>\n",
       "      <th>educ</th>\n",
       "      <th>pob</th>\n",
       "      <th>wt</th>\n",
       "      <th>esr</th>\n",
       "      <th>urban</th>\n",
       "      <th>cause113</th>\n",
       "      <th>dayod</th>\n",
       "      <th>hosp</th>\n",
       "      <th>ssnyn</th>\n",
       "      <th>vt</th>\n",
       "      <th>histatus</th>\n",
       "      <th>hitype</th>\n",
       "      <th>povpct</th>\n",
       "      <th>tenure</th>\n",
       "    </tr>\n",
       "    <tr>\n",
       "      <th>record</th>\n",
       "      <th></th>\n",
       "      <th></th>\n",
       "      <th></th>\n",
       "      <th></th>\n",
       "      <th></th>\n",
       "      <th></th>\n",
       "      <th></th>\n",
       "      <th></th>\n",
       "      <th></th>\n",
       "      <th></th>\n",
       "      <th></th>\n",
       "      <th></th>\n",
       "      <th></th>\n",
       "      <th></th>\n",
       "      <th></th>\n",
       "      <th></th>\n",
       "      <th></th>\n",
       "      <th></th>\n",
       "      <th></th>\n",
       "    </tr>\n",
       "  </thead>\n",
       "  <tbody>\n",
       "    <tr>\n",
       "      <th>88427</th>\n",
       "      <td>1.0</td>\n",
       "      <td>2</td>\n",
       "      <td>2.0</td>\n",
       "      <td>3.0</td>\n",
       "      <td>11.0</td>\n",
       "      <td>4.0</td>\n",
       "      <td>909</td>\n",
       "      <td>132</td>\n",
       "      <td>1.0</td>\n",
       "      <td>1.0</td>\n",
       "      <td>9</td>\n",
       "      <td>5.0</td>\n",
       "      <td>1.0</td>\n",
       "      <td>0</td>\n",
       "      <td>0.0</td>\n",
       "      <td>NaN</td>\n",
       "      <td>NaN</td>\n",
       "      <td>18</td>\n",
       "      <td>1.0</td>\n",
       "    </tr>\n",
       "    <tr>\n",
       "      <th>88445</th>\n",
       "      <td>1.0</td>\n",
       "      <td>2</td>\n",
       "      <td>5.0</td>\n",
       "      <td>3.0</td>\n",
       "      <td>2.0</td>\n",
       "      <td>5.0</td>\n",
       "      <td>909</td>\n",
       "      <td>144</td>\n",
       "      <td>5.0</td>\n",
       "      <td>1.0</td>\n",
       "      <td>5</td>\n",
       "      <td>1.0</td>\n",
       "      <td>1.0</td>\n",
       "      <td>1</td>\n",
       "      <td>0.0</td>\n",
       "      <td>NaN</td>\n",
       "      <td>NaN</td>\n",
       "      <td>3</td>\n",
       "      <td>2.0</td>\n",
       "    </tr>\n",
       "    <tr>\n",
       "      <th>88446</th>\n",
       "      <td>1.0</td>\n",
       "      <td>1</td>\n",
       "      <td>1.0</td>\n",
       "      <td>3.0</td>\n",
       "      <td>7.0</td>\n",
       "      <td>5.0</td>\n",
       "      <td>942</td>\n",
       "      <td>181</td>\n",
       "      <td>4.0</td>\n",
       "      <td>1.0</td>\n",
       "      <td>5</td>\n",
       "      <td>7.0</td>\n",
       "      <td>1.0</td>\n",
       "      <td>1</td>\n",
       "      <td>0.0</td>\n",
       "      <td>NaN</td>\n",
       "      <td>NaN</td>\n",
       "      <td>10</td>\n",
       "      <td>1.0</td>\n",
       "    </tr>\n",
       "    <tr>\n",
       "      <th>88452</th>\n",
       "      <td>1.0</td>\n",
       "      <td>1</td>\n",
       "      <td>1.0</td>\n",
       "      <td>3.0</td>\n",
       "      <td>3.0</td>\n",
       "      <td>3.0</td>\n",
       "      <td>942</td>\n",
       "      <td>132</td>\n",
       "      <td>5.0</td>\n",
       "      <td>1.0</td>\n",
       "      <td>5</td>\n",
       "      <td>1.0</td>\n",
       "      <td>1.0</td>\n",
       "      <td>1</td>\n",
       "      <td>0.0</td>\n",
       "      <td>NaN</td>\n",
       "      <td>NaN</td>\n",
       "      <td>4</td>\n",
       "      <td>1.0</td>\n",
       "    </tr>\n",
       "    <tr>\n",
       "      <th>88453</th>\n",
       "      <td>1.0</td>\n",
       "      <td>2</td>\n",
       "      <td>1.0</td>\n",
       "      <td>3.0</td>\n",
       "      <td>3.0</td>\n",
       "      <td>3.0</td>\n",
       "      <td>942</td>\n",
       "      <td>147</td>\n",
       "      <td>5.0</td>\n",
       "      <td>1.0</td>\n",
       "      <td>5</td>\n",
       "      <td>3.0</td>\n",
       "      <td>2.0</td>\n",
       "      <td>1</td>\n",
       "      <td>0.0</td>\n",
       "      <td>NaN</td>\n",
       "      <td>NaN</td>\n",
       "      <td>4</td>\n",
       "      <td>1.0</td>\n",
       "    </tr>\n",
       "    <tr>\n",
       "      <th>...</th>\n",
       "      <td>...</td>\n",
       "      <td>...</td>\n",
       "      <td>...</td>\n",
       "      <td>...</td>\n",
       "      <td>...</td>\n",
       "      <td>...</td>\n",
       "      <td>...</td>\n",
       "      <td>...</td>\n",
       "      <td>...</td>\n",
       "      <td>...</td>\n",
       "      <td>...</td>\n",
       "      <td>...</td>\n",
       "      <td>...</td>\n",
       "      <td>...</td>\n",
       "      <td>...</td>\n",
       "      <td>...</td>\n",
       "      <td>...</td>\n",
       "      <td>...</td>\n",
       "      <td>...</td>\n",
       "    </tr>\n",
       "    <tr>\n",
       "      <th>657</th>\n",
       "      <td>1.0</td>\n",
       "      <td>2</td>\n",
       "      <td>3.0</td>\n",
       "      <td>3.0</td>\n",
       "      <td>6.0</td>\n",
       "      <td>8.0</td>\n",
       "      <td>0</td>\n",
       "      <td>127</td>\n",
       "      <td>5.0</td>\n",
       "      <td>1.0</td>\n",
       "      <td>5</td>\n",
       "      <td>2.0</td>\n",
       "      <td>1.0</td>\n",
       "      <td>0</td>\n",
       "      <td>0.0</td>\n",
       "      <td>1.0</td>\n",
       "      <td>1.0</td>\n",
       "      <td>10</td>\n",
       "      <td>3.0</td>\n",
       "    </tr>\n",
       "    <tr>\n",
       "      <th>662</th>\n",
       "      <td>1.0</td>\n",
       "      <td>2</td>\n",
       "      <td>1.0</td>\n",
       "      <td>2.0</td>\n",
       "      <td>1.0</td>\n",
       "      <td>8.0</td>\n",
       "      <td>0</td>\n",
       "      <td>57</td>\n",
       "      <td>5.0</td>\n",
       "      <td>1.0</td>\n",
       "      <td>4</td>\n",
       "      <td>7.0</td>\n",
       "      <td>NaN</td>\n",
       "      <td>1</td>\n",
       "      <td>0.0</td>\n",
       "      <td>0.0</td>\n",
       "      <td>0.0</td>\n",
       "      <td>1</td>\n",
       "      <td>2.0</td>\n",
       "    </tr>\n",
       "    <tr>\n",
       "      <th>666</th>\n",
       "      <td>1.0</td>\n",
       "      <td>1</td>\n",
       "      <td>5.0</td>\n",
       "      <td>2.0</td>\n",
       "      <td>4.0</td>\n",
       "      <td>8.0</td>\n",
       "      <td>0</td>\n",
       "      <td>60</td>\n",
       "      <td>1.0</td>\n",
       "      <td>1.0</td>\n",
       "      <td>5</td>\n",
       "      <td>2.0</td>\n",
       "      <td>4.0</td>\n",
       "      <td>1</td>\n",
       "      <td>0.0</td>\n",
       "      <td>1.0</td>\n",
       "      <td>4.0</td>\n",
       "      <td>6</td>\n",
       "      <td>2.0</td>\n",
       "    </tr>\n",
       "    <tr>\n",
       "      <th>668</th>\n",
       "      <td>1.0</td>\n",
       "      <td>2</td>\n",
       "      <td>5.0</td>\n",
       "      <td>2.0</td>\n",
       "      <td>11.0</td>\n",
       "      <td>6.0</td>\n",
       "      <td>0</td>\n",
       "      <td>60</td>\n",
       "      <td>5.0</td>\n",
       "      <td>1.0</td>\n",
       "      <td>0</td>\n",
       "      <td>4.0</td>\n",
       "      <td>NaN</td>\n",
       "      <td>1</td>\n",
       "      <td>0.0</td>\n",
       "      <td>1.0</td>\n",
       "      <td>4.0</td>\n",
       "      <td>10</td>\n",
       "      <td>2.0</td>\n",
       "    </tr>\n",
       "    <tr>\n",
       "      <th>670</th>\n",
       "      <td>1.0</td>\n",
       "      <td>1</td>\n",
       "      <td>NaN</td>\n",
       "      <td>2.0</td>\n",
       "      <td>11.0</td>\n",
       "      <td>NaN</td>\n",
       "      <td>0</td>\n",
       "      <td>56</td>\n",
       "      <td>NaN</td>\n",
       "      <td>1.0</td>\n",
       "      <td>5</td>\n",
       "      <td>1.0</td>\n",
       "      <td>NaN</td>\n",
       "      <td>1</td>\n",
       "      <td>NaN</td>\n",
       "      <td>1.0</td>\n",
       "      <td>4.0</td>\n",
       "      <td>10</td>\n",
       "      <td>2.0</td>\n",
       "    </tr>\n",
       "  </tbody>\n",
       "</table>\n",
       "<p>160750 rows × 19 columns</p>\n",
       "</div>"
      ],
      "text/plain": [
       "        race  sex   ms  hisp  adjinc  educ  pob   wt  esr  urban  cause113  \\\n",
       "record                                                                       \n",
       "88427    1.0    2  2.0   3.0    11.0   4.0  909  132  1.0    1.0         9   \n",
       "88445    1.0    2  5.0   3.0     2.0   5.0  909  144  5.0    1.0         5   \n",
       "88446    1.0    1  1.0   3.0     7.0   5.0  942  181  4.0    1.0         5   \n",
       "88452    1.0    1  1.0   3.0     3.0   3.0  942  132  5.0    1.0         5   \n",
       "88453    1.0    2  1.0   3.0     3.0   3.0  942  147  5.0    1.0         5   \n",
       "...      ...  ...  ...   ...     ...   ...  ...  ...  ...    ...       ...   \n",
       "657      1.0    2  3.0   3.0     6.0   8.0    0  127  5.0    1.0         5   \n",
       "662      1.0    2  1.0   2.0     1.0   8.0    0   57  5.0    1.0         4   \n",
       "666      1.0    1  5.0   2.0     4.0   8.0    0   60  1.0    1.0         5   \n",
       "668      1.0    2  5.0   2.0    11.0   6.0    0   60  5.0    1.0         0   \n",
       "670      1.0    1  NaN   2.0    11.0   NaN    0   56  NaN    1.0         5   \n",
       "\n",
       "        dayod  hosp  ssnyn   vt  histatus  hitype  povpct  tenure  \n",
       "record                                                             \n",
       "88427     5.0   1.0      0  0.0       NaN     NaN      18     1.0  \n",
       "88445     1.0   1.0      1  0.0       NaN     NaN       3     2.0  \n",
       "88446     7.0   1.0      1  0.0       NaN     NaN      10     1.0  \n",
       "88452     1.0   1.0      1  0.0       NaN     NaN       4     1.0  \n",
       "88453     3.0   2.0      1  0.0       NaN     NaN       4     1.0  \n",
       "...       ...   ...    ...  ...       ...     ...     ...     ...  \n",
       "657       2.0   1.0      0  0.0       1.0     1.0      10     3.0  \n",
       "662       7.0   NaN      1  0.0       0.0     0.0       1     2.0  \n",
       "666       2.0   4.0      1  0.0       1.0     4.0       6     2.0  \n",
       "668       4.0   NaN      1  0.0       1.0     4.0      10     2.0  \n",
       "670       1.0   NaN      1  NaN       1.0     4.0      10     2.0  \n",
       "\n",
       "[160750 rows x 19 columns]"
      ]
     },
     "execution_count": 712,
     "metadata": {},
     "output_type": "execute_result"
    }
   ],
   "source": [
    "dec_features"
   ]
  },
  {
   "cell_type": "code",
   "execution_count": 713,
   "id": "9059294d-b914-4009-a674-8f8fc54f4ee9",
   "metadata": {},
   "outputs": [],
   "source": [
    "cat_cols = ['race', 'sex', 'ms', 'hisp', 'pob', 'esr', 'urban', \n",
    "               'cause113', 'dayod', 'hosp', 'ssnyn', 'vt', 'histatus', 'hitype', 'tenure']\n",
    "\n",
    "num_cols = ['adjinc', 'educ', 'wt', 'povpct']"
   ]
  },
  {
   "cell_type": "markdown",
   "id": "684a36ba-681b-4252-94f9-cb7c3c96428d",
   "metadata": {},
   "source": [
    "#### Fill missing values with KNN Imputer"
   ]
  },
  {
   "cell_type": "code",
   "execution_count": 714,
   "id": "b13d69d5-94e3-4e29-8aec-906a3fc92ffa",
   "metadata": {},
   "outputs": [],
   "source": [
    "imputer_cat = KNNImputer(n_neighbors=1)"
   ]
  },
  {
   "cell_type": "code",
   "execution_count": 715,
   "id": "4bf97d2f-ee8b-49c3-b4e2-48cb0f4041db",
   "metadata": {},
   "outputs": [],
   "source": [
    "cat_df_imp = pd.DataFrame(imputer_cat.fit_transform(dec_features[cat_cols]), \n",
    "                          columns=cat_cols, index=dec_features.index)"
   ]
  },
  {
   "cell_type": "code",
   "execution_count": 716,
   "id": "e7eaa96b-a4f3-4583-ad05-704a780d980c",
   "metadata": {},
   "outputs": [],
   "source": [
    "imputer_num = KNNImputer(n_neighbors=3)"
   ]
  },
  {
   "cell_type": "code",
   "execution_count": 717,
   "id": "2029e4c0-68e8-4ef8-bff1-4dd4239e11a6",
   "metadata": {},
   "outputs": [],
   "source": [
    "num_df_imp = pd.DataFrame(imputer_num.fit_transform\n",
    "                          (dec_features[num_cols]), \n",
    "                          columns=num_cols, \n",
    "                          index=dec_features.index)"
   ]
  },
  {
   "cell_type": "markdown",
   "id": "0bca0295-5c6d-4ceb-9a64-c9c3d0370fdf",
   "metadata": {},
   "source": [
    "Check that num and cat imputed dfs have same indices"
   ]
  },
  {
   "cell_type": "code",
   "execution_count": 718,
   "id": "de071a6a-db9b-48f2-bdd8-b860c3382043",
   "metadata": {},
   "outputs": [
    {
     "data": {
      "text/plain": [
       "((160750, 4), (160750, 15))"
      ]
     },
     "execution_count": 718,
     "metadata": {},
     "output_type": "execute_result"
    }
   ],
   "source": [
    "num_df_imp.shape, cat_df_imp.shape"
   ]
  },
  {
   "cell_type": "code",
   "execution_count": 719,
   "id": "fbaf0a02-bc44-49d9-934c-43eb04fe07f5",
   "metadata": {},
   "outputs": [],
   "source": [
    "num_indices = num_df_imp.index.to_list()"
   ]
  },
  {
   "cell_type": "code",
   "execution_count": 720,
   "id": "1f941ff4-4227-4c89-83f5-ffeb32c5dd87",
   "metadata": {},
   "outputs": [],
   "source": [
    "cat_indices = cat_df_imp.index.to_list()"
   ]
  },
  {
   "cell_type": "code",
   "execution_count": 721,
   "id": "ba4571ff-dcb8-42b0-b141-7811552a1c9a",
   "metadata": {},
   "outputs": [
    {
     "data": {
      "text/plain": [
       "0"
      ]
     },
     "execution_count": 721,
     "metadata": {},
     "output_type": "execute_result"
    }
   ],
   "source": [
    "len(list(set(num_indices) - set(cat_indices)))"
   ]
  },
  {
   "cell_type": "code",
   "execution_count": 722,
   "id": "d9ee038f-13ab-4605-b739-fd73777f6657",
   "metadata": {},
   "outputs": [
    {
     "data": {
      "text/html": [
       "<div>\n",
       "<style scoped>\n",
       "    .dataframe tbody tr th:only-of-type {\n",
       "        vertical-align: middle;\n",
       "    }\n",
       "\n",
       "    .dataframe tbody tr th {\n",
       "        vertical-align: top;\n",
       "    }\n",
       "\n",
       "    .dataframe thead th {\n",
       "        text-align: right;\n",
       "    }\n",
       "</style>\n",
       "<table border=\"1\" class=\"dataframe\">\n",
       "  <thead>\n",
       "    <tr style=\"text-align: right;\">\n",
       "      <th></th>\n",
       "      <th>adjinc</th>\n",
       "      <th>educ</th>\n",
       "      <th>wt</th>\n",
       "      <th>povpct</th>\n",
       "    </tr>\n",
       "    <tr>\n",
       "      <th>record</th>\n",
       "      <th></th>\n",
       "      <th></th>\n",
       "      <th></th>\n",
       "      <th></th>\n",
       "    </tr>\n",
       "  </thead>\n",
       "  <tbody>\n",
       "    <tr>\n",
       "      <th>88427</th>\n",
       "      <td>11.0</td>\n",
       "      <td>4.0</td>\n",
       "      <td>132.0</td>\n",
       "      <td>18.0</td>\n",
       "    </tr>\n",
       "    <tr>\n",
       "      <th>88445</th>\n",
       "      <td>2.0</td>\n",
       "      <td>5.0</td>\n",
       "      <td>144.0</td>\n",
       "      <td>3.0</td>\n",
       "    </tr>\n",
       "    <tr>\n",
       "      <th>88446</th>\n",
       "      <td>7.0</td>\n",
       "      <td>5.0</td>\n",
       "      <td>181.0</td>\n",
       "      <td>10.0</td>\n",
       "    </tr>\n",
       "    <tr>\n",
       "      <th>88452</th>\n",
       "      <td>3.0</td>\n",
       "      <td>3.0</td>\n",
       "      <td>132.0</td>\n",
       "      <td>4.0</td>\n",
       "    </tr>\n",
       "    <tr>\n",
       "      <th>88453</th>\n",
       "      <td>3.0</td>\n",
       "      <td>3.0</td>\n",
       "      <td>147.0</td>\n",
       "      <td>4.0</td>\n",
       "    </tr>\n",
       "    <tr>\n",
       "      <th>...</th>\n",
       "      <td>...</td>\n",
       "      <td>...</td>\n",
       "      <td>...</td>\n",
       "      <td>...</td>\n",
       "    </tr>\n",
       "    <tr>\n",
       "      <th>657</th>\n",
       "      <td>6.0</td>\n",
       "      <td>8.0</td>\n",
       "      <td>127.0</td>\n",
       "      <td>10.0</td>\n",
       "    </tr>\n",
       "    <tr>\n",
       "      <th>662</th>\n",
       "      <td>1.0</td>\n",
       "      <td>8.0</td>\n",
       "      <td>57.0</td>\n",
       "      <td>1.0</td>\n",
       "    </tr>\n",
       "    <tr>\n",
       "      <th>666</th>\n",
       "      <td>4.0</td>\n",
       "      <td>8.0</td>\n",
       "      <td>60.0</td>\n",
       "      <td>6.0</td>\n",
       "    </tr>\n",
       "    <tr>\n",
       "      <th>668</th>\n",
       "      <td>11.0</td>\n",
       "      <td>6.0</td>\n",
       "      <td>60.0</td>\n",
       "      <td>10.0</td>\n",
       "    </tr>\n",
       "    <tr>\n",
       "      <th>670</th>\n",
       "      <td>11.0</td>\n",
       "      <td>8.0</td>\n",
       "      <td>56.0</td>\n",
       "      <td>10.0</td>\n",
       "    </tr>\n",
       "  </tbody>\n",
       "</table>\n",
       "<p>160750 rows × 4 columns</p>\n",
       "</div>"
      ],
      "text/plain": [
       "        adjinc  educ     wt  povpct\n",
       "record                             \n",
       "88427     11.0   4.0  132.0    18.0\n",
       "88445      2.0   5.0  144.0     3.0\n",
       "88446      7.0   5.0  181.0    10.0\n",
       "88452      3.0   3.0  132.0     4.0\n",
       "88453      3.0   3.0  147.0     4.0\n",
       "...        ...   ...    ...     ...\n",
       "657        6.0   8.0  127.0    10.0\n",
       "662        1.0   8.0   57.0     1.0\n",
       "666        4.0   8.0   60.0     6.0\n",
       "668       11.0   6.0   60.0    10.0\n",
       "670       11.0   8.0   56.0    10.0\n",
       "\n",
       "[160750 rows x 4 columns]"
      ]
     },
     "execution_count": 722,
     "metadata": {},
     "output_type": "execute_result"
    }
   ],
   "source": [
    "num_df_imp"
   ]
  },
  {
   "cell_type": "markdown",
   "id": "13fcc91e-d16a-4b18-8819-395ced4a5349",
   "metadata": {},
   "source": [
    "#### Standardize Numerical Data (num_df_imp)"
   ]
  },
  {
   "cell_type": "code",
   "execution_count": 723,
   "id": "9d81c18d-d516-4e78-8506-f242abb935eb",
   "metadata": {},
   "outputs": [
    {
     "data": {
      "text/plain": [
       "array([[0.76923077, 0.23076923, 0.09200283, 0.85      ],\n",
       "       [0.07692308, 0.30769231, 0.1004954 , 0.1       ],\n",
       "       [0.46153846, 0.30769231, 0.12668082, 0.45      ],\n",
       "       ...,\n",
       "       [0.23076923, 0.53846154, 0.04104742, 0.25      ],\n",
       "       [0.76923077, 0.38461538, 0.04104742, 0.45      ],\n",
       "       [0.76923077, 0.53846154, 0.03821656, 0.45      ]])"
      ]
     },
     "execution_count": 723,
     "metadata": {},
     "output_type": "execute_result"
    }
   ],
   "source": [
    "scaler = MinMaxScaler()\n",
    "X_train_num_ies = scaler.fit_transform(num_df_imp[num_cols])\n",
    "X_train_num_ies"
   ]
  },
  {
   "cell_type": "code",
   "execution_count": 724,
   "id": "48aef072-4283-4629-b559-75044cd4f5c7",
   "metadata": {},
   "outputs": [],
   "source": [
    "num_df_imp = pd.DataFrame(X_train_num_ies, \n",
    "                          columns=num_cols, \n",
    "                          index=num_df_imp.index)"
   ]
  },
  {
   "cell_type": "code",
   "execution_count": 725,
   "id": "c536664d-ca6c-409b-94bc-72896f9b4776",
   "metadata": {},
   "outputs": [
    {
     "data": {
      "text/html": [
       "<div>\n",
       "<style scoped>\n",
       "    .dataframe tbody tr th:only-of-type {\n",
       "        vertical-align: middle;\n",
       "    }\n",
       "\n",
       "    .dataframe tbody tr th {\n",
       "        vertical-align: top;\n",
       "    }\n",
       "\n",
       "    .dataframe thead th {\n",
       "        text-align: right;\n",
       "    }\n",
       "</style>\n",
       "<table border=\"1\" class=\"dataframe\">\n",
       "  <thead>\n",
       "    <tr style=\"text-align: right;\">\n",
       "      <th></th>\n",
       "      <th>adjinc</th>\n",
       "      <th>educ</th>\n",
       "      <th>wt</th>\n",
       "      <th>povpct</th>\n",
       "    </tr>\n",
       "    <tr>\n",
       "      <th>record</th>\n",
       "      <th></th>\n",
       "      <th></th>\n",
       "      <th></th>\n",
       "      <th></th>\n",
       "    </tr>\n",
       "  </thead>\n",
       "  <tbody>\n",
       "    <tr>\n",
       "      <th>88427</th>\n",
       "      <td>0.769231</td>\n",
       "      <td>0.230769</td>\n",
       "      <td>0.092003</td>\n",
       "      <td>0.85</td>\n",
       "    </tr>\n",
       "    <tr>\n",
       "      <th>88445</th>\n",
       "      <td>0.076923</td>\n",
       "      <td>0.307692</td>\n",
       "      <td>0.100495</td>\n",
       "      <td>0.10</td>\n",
       "    </tr>\n",
       "    <tr>\n",
       "      <th>88446</th>\n",
       "      <td>0.461538</td>\n",
       "      <td>0.307692</td>\n",
       "      <td>0.126681</td>\n",
       "      <td>0.45</td>\n",
       "    </tr>\n",
       "    <tr>\n",
       "      <th>88452</th>\n",
       "      <td>0.153846</td>\n",
       "      <td>0.153846</td>\n",
       "      <td>0.092003</td>\n",
       "      <td>0.15</td>\n",
       "    </tr>\n",
       "    <tr>\n",
       "      <th>88453</th>\n",
       "      <td>0.153846</td>\n",
       "      <td>0.153846</td>\n",
       "      <td>0.102619</td>\n",
       "      <td>0.15</td>\n",
       "    </tr>\n",
       "    <tr>\n",
       "      <th>...</th>\n",
       "      <td>...</td>\n",
       "      <td>...</td>\n",
       "      <td>...</td>\n",
       "      <td>...</td>\n",
       "    </tr>\n",
       "    <tr>\n",
       "      <th>657</th>\n",
       "      <td>0.384615</td>\n",
       "      <td>0.538462</td>\n",
       "      <td>0.088464</td>\n",
       "      <td>0.45</td>\n",
       "    </tr>\n",
       "    <tr>\n",
       "      <th>662</th>\n",
       "      <td>0.000000</td>\n",
       "      <td>0.538462</td>\n",
       "      <td>0.038924</td>\n",
       "      <td>0.00</td>\n",
       "    </tr>\n",
       "    <tr>\n",
       "      <th>666</th>\n",
       "      <td>0.230769</td>\n",
       "      <td>0.538462</td>\n",
       "      <td>0.041047</td>\n",
       "      <td>0.25</td>\n",
       "    </tr>\n",
       "    <tr>\n",
       "      <th>668</th>\n",
       "      <td>0.769231</td>\n",
       "      <td>0.384615</td>\n",
       "      <td>0.041047</td>\n",
       "      <td>0.45</td>\n",
       "    </tr>\n",
       "    <tr>\n",
       "      <th>670</th>\n",
       "      <td>0.769231</td>\n",
       "      <td>0.538462</td>\n",
       "      <td>0.038217</td>\n",
       "      <td>0.45</td>\n",
       "    </tr>\n",
       "  </tbody>\n",
       "</table>\n",
       "<p>160750 rows × 4 columns</p>\n",
       "</div>"
      ],
      "text/plain": [
       "          adjinc      educ        wt  povpct\n",
       "record                                      \n",
       "88427   0.769231  0.230769  0.092003    0.85\n",
       "88445   0.076923  0.307692  0.100495    0.10\n",
       "88446   0.461538  0.307692  0.126681    0.45\n",
       "88452   0.153846  0.153846  0.092003    0.15\n",
       "88453   0.153846  0.153846  0.102619    0.15\n",
       "...          ...       ...       ...     ...\n",
       "657     0.384615  0.538462  0.088464    0.45\n",
       "662     0.000000  0.538462  0.038924    0.00\n",
       "666     0.230769  0.538462  0.041047    0.25\n",
       "668     0.769231  0.384615  0.041047    0.45\n",
       "670     0.769231  0.538462  0.038217    0.45\n",
       "\n",
       "[160750 rows x 4 columns]"
      ]
     },
     "execution_count": 725,
     "metadata": {},
     "output_type": "execute_result"
    }
   ],
   "source": [
    "num_df_imp #Scaled"
   ]
  },
  {
   "cell_type": "code",
   "execution_count": 726,
   "id": "c4dfee1c-d7a9-453e-b04a-cb6b041dbff5",
   "metadata": {},
   "outputs": [
    {
     "data": {
      "text/html": [
       "<div>\n",
       "<style scoped>\n",
       "    .dataframe tbody tr th:only-of-type {\n",
       "        vertical-align: middle;\n",
       "    }\n",
       "\n",
       "    .dataframe tbody tr th {\n",
       "        vertical-align: top;\n",
       "    }\n",
       "\n",
       "    .dataframe thead th {\n",
       "        text-align: right;\n",
       "    }\n",
       "</style>\n",
       "<table border=\"1\" class=\"dataframe\">\n",
       "  <thead>\n",
       "    <tr style=\"text-align: right;\">\n",
       "      <th></th>\n",
       "      <th>race</th>\n",
       "      <th>sex</th>\n",
       "      <th>ms</th>\n",
       "      <th>hisp</th>\n",
       "      <th>pob</th>\n",
       "      <th>esr</th>\n",
       "      <th>urban</th>\n",
       "      <th>cause113</th>\n",
       "      <th>dayod</th>\n",
       "      <th>hosp</th>\n",
       "      <th>ssnyn</th>\n",
       "      <th>vt</th>\n",
       "      <th>histatus</th>\n",
       "      <th>hitype</th>\n",
       "      <th>tenure</th>\n",
       "    </tr>\n",
       "    <tr>\n",
       "      <th>record</th>\n",
       "      <th></th>\n",
       "      <th></th>\n",
       "      <th></th>\n",
       "      <th></th>\n",
       "      <th></th>\n",
       "      <th></th>\n",
       "      <th></th>\n",
       "      <th></th>\n",
       "      <th></th>\n",
       "      <th></th>\n",
       "      <th></th>\n",
       "      <th></th>\n",
       "      <th></th>\n",
       "      <th></th>\n",
       "      <th></th>\n",
       "    </tr>\n",
       "  </thead>\n",
       "  <tbody>\n",
       "    <tr>\n",
       "      <th>88427</th>\n",
       "      <td>1.0</td>\n",
       "      <td>2.0</td>\n",
       "      <td>2.0</td>\n",
       "      <td>3.0</td>\n",
       "      <td>909.0</td>\n",
       "      <td>1.0</td>\n",
       "      <td>1.0</td>\n",
       "      <td>9.0</td>\n",
       "      <td>5.0</td>\n",
       "      <td>1.0</td>\n",
       "      <td>0.0</td>\n",
       "      <td>0.0</td>\n",
       "      <td>1.0</td>\n",
       "      <td>4.0</td>\n",
       "      <td>1.0</td>\n",
       "    </tr>\n",
       "    <tr>\n",
       "      <th>88445</th>\n",
       "      <td>1.0</td>\n",
       "      <td>2.0</td>\n",
       "      <td>5.0</td>\n",
       "      <td>3.0</td>\n",
       "      <td>909.0</td>\n",
       "      <td>5.0</td>\n",
       "      <td>1.0</td>\n",
       "      <td>5.0</td>\n",
       "      <td>1.0</td>\n",
       "      <td>1.0</td>\n",
       "      <td>1.0</td>\n",
       "      <td>0.0</td>\n",
       "      <td>1.0</td>\n",
       "      <td>5.0</td>\n",
       "      <td>2.0</td>\n",
       "    </tr>\n",
       "    <tr>\n",
       "      <th>88446</th>\n",
       "      <td>1.0</td>\n",
       "      <td>1.0</td>\n",
       "      <td>1.0</td>\n",
       "      <td>3.0</td>\n",
       "      <td>942.0</td>\n",
       "      <td>4.0</td>\n",
       "      <td>1.0</td>\n",
       "      <td>5.0</td>\n",
       "      <td>7.0</td>\n",
       "      <td>1.0</td>\n",
       "      <td>1.0</td>\n",
       "      <td>0.0</td>\n",
       "      <td>1.0</td>\n",
       "      <td>1.0</td>\n",
       "      <td>1.0</td>\n",
       "    </tr>\n",
       "    <tr>\n",
       "      <th>88452</th>\n",
       "      <td>1.0</td>\n",
       "      <td>1.0</td>\n",
       "      <td>1.0</td>\n",
       "      <td>3.0</td>\n",
       "      <td>942.0</td>\n",
       "      <td>5.0</td>\n",
       "      <td>1.0</td>\n",
       "      <td>5.0</td>\n",
       "      <td>1.0</td>\n",
       "      <td>1.0</td>\n",
       "      <td>1.0</td>\n",
       "      <td>0.0</td>\n",
       "      <td>1.0</td>\n",
       "      <td>1.0</td>\n",
       "      <td>1.0</td>\n",
       "    </tr>\n",
       "    <tr>\n",
       "      <th>88453</th>\n",
       "      <td>1.0</td>\n",
       "      <td>2.0</td>\n",
       "      <td>1.0</td>\n",
       "      <td>3.0</td>\n",
       "      <td>942.0</td>\n",
       "      <td>5.0</td>\n",
       "      <td>1.0</td>\n",
       "      <td>5.0</td>\n",
       "      <td>3.0</td>\n",
       "      <td>2.0</td>\n",
       "      <td>1.0</td>\n",
       "      <td>0.0</td>\n",
       "      <td>1.0</td>\n",
       "      <td>4.0</td>\n",
       "      <td>1.0</td>\n",
       "    </tr>\n",
       "    <tr>\n",
       "      <th>...</th>\n",
       "      <td>...</td>\n",
       "      <td>...</td>\n",
       "      <td>...</td>\n",
       "      <td>...</td>\n",
       "      <td>...</td>\n",
       "      <td>...</td>\n",
       "      <td>...</td>\n",
       "      <td>...</td>\n",
       "      <td>...</td>\n",
       "      <td>...</td>\n",
       "      <td>...</td>\n",
       "      <td>...</td>\n",
       "      <td>...</td>\n",
       "      <td>...</td>\n",
       "      <td>...</td>\n",
       "    </tr>\n",
       "    <tr>\n",
       "      <th>657</th>\n",
       "      <td>1.0</td>\n",
       "      <td>2.0</td>\n",
       "      <td>3.0</td>\n",
       "      <td>3.0</td>\n",
       "      <td>0.0</td>\n",
       "      <td>5.0</td>\n",
       "      <td>1.0</td>\n",
       "      <td>5.0</td>\n",
       "      <td>2.0</td>\n",
       "      <td>1.0</td>\n",
       "      <td>0.0</td>\n",
       "      <td>0.0</td>\n",
       "      <td>1.0</td>\n",
       "      <td>1.0</td>\n",
       "      <td>3.0</td>\n",
       "    </tr>\n",
       "    <tr>\n",
       "      <th>662</th>\n",
       "      <td>1.0</td>\n",
       "      <td>2.0</td>\n",
       "      <td>1.0</td>\n",
       "      <td>2.0</td>\n",
       "      <td>0.0</td>\n",
       "      <td>5.0</td>\n",
       "      <td>1.0</td>\n",
       "      <td>4.0</td>\n",
       "      <td>7.0</td>\n",
       "      <td>1.0</td>\n",
       "      <td>1.0</td>\n",
       "      <td>0.0</td>\n",
       "      <td>0.0</td>\n",
       "      <td>0.0</td>\n",
       "      <td>2.0</td>\n",
       "    </tr>\n",
       "    <tr>\n",
       "      <th>666</th>\n",
       "      <td>1.0</td>\n",
       "      <td>1.0</td>\n",
       "      <td>5.0</td>\n",
       "      <td>2.0</td>\n",
       "      <td>0.0</td>\n",
       "      <td>1.0</td>\n",
       "      <td>1.0</td>\n",
       "      <td>5.0</td>\n",
       "      <td>2.0</td>\n",
       "      <td>4.0</td>\n",
       "      <td>1.0</td>\n",
       "      <td>0.0</td>\n",
       "      <td>1.0</td>\n",
       "      <td>4.0</td>\n",
       "      <td>2.0</td>\n",
       "    </tr>\n",
       "    <tr>\n",
       "      <th>668</th>\n",
       "      <td>1.0</td>\n",
       "      <td>2.0</td>\n",
       "      <td>5.0</td>\n",
       "      <td>2.0</td>\n",
       "      <td>0.0</td>\n",
       "      <td>5.0</td>\n",
       "      <td>1.0</td>\n",
       "      <td>0.0</td>\n",
       "      <td>4.0</td>\n",
       "      <td>1.0</td>\n",
       "      <td>1.0</td>\n",
       "      <td>0.0</td>\n",
       "      <td>1.0</td>\n",
       "      <td>4.0</td>\n",
       "      <td>2.0</td>\n",
       "    </tr>\n",
       "    <tr>\n",
       "      <th>670</th>\n",
       "      <td>1.0</td>\n",
       "      <td>1.0</td>\n",
       "      <td>1.0</td>\n",
       "      <td>2.0</td>\n",
       "      <td>0.0</td>\n",
       "      <td>1.0</td>\n",
       "      <td>1.0</td>\n",
       "      <td>5.0</td>\n",
       "      <td>1.0</td>\n",
       "      <td>4.0</td>\n",
       "      <td>1.0</td>\n",
       "      <td>1.0</td>\n",
       "      <td>1.0</td>\n",
       "      <td>4.0</td>\n",
       "      <td>2.0</td>\n",
       "    </tr>\n",
       "  </tbody>\n",
       "</table>\n",
       "<p>160750 rows × 15 columns</p>\n",
       "</div>"
      ],
      "text/plain": [
       "        race  sex   ms  hisp    pob  esr  urban  cause113  dayod  hosp  ssnyn  \\\n",
       "record                                                                          \n",
       "88427    1.0  2.0  2.0   3.0  909.0  1.0    1.0       9.0    5.0   1.0    0.0   \n",
       "88445    1.0  2.0  5.0   3.0  909.0  5.0    1.0       5.0    1.0   1.0    1.0   \n",
       "88446    1.0  1.0  1.0   3.0  942.0  4.0    1.0       5.0    7.0   1.0    1.0   \n",
       "88452    1.0  1.0  1.0   3.0  942.0  5.0    1.0       5.0    1.0   1.0    1.0   \n",
       "88453    1.0  2.0  1.0   3.0  942.0  5.0    1.0       5.0    3.0   2.0    1.0   \n",
       "...      ...  ...  ...   ...    ...  ...    ...       ...    ...   ...    ...   \n",
       "657      1.0  2.0  3.0   3.0    0.0  5.0    1.0       5.0    2.0   1.0    0.0   \n",
       "662      1.0  2.0  1.0   2.0    0.0  5.0    1.0       4.0    7.0   1.0    1.0   \n",
       "666      1.0  1.0  5.0   2.0    0.0  1.0    1.0       5.0    2.0   4.0    1.0   \n",
       "668      1.0  2.0  5.0   2.0    0.0  5.0    1.0       0.0    4.0   1.0    1.0   \n",
       "670      1.0  1.0  1.0   2.0    0.0  1.0    1.0       5.0    1.0   4.0    1.0   \n",
       "\n",
       "         vt  histatus  hitype  tenure  \n",
       "record                                 \n",
       "88427   0.0       1.0     4.0     1.0  \n",
       "88445   0.0       1.0     5.0     2.0  \n",
       "88446   0.0       1.0     1.0     1.0  \n",
       "88452   0.0       1.0     1.0     1.0  \n",
       "88453   0.0       1.0     4.0     1.0  \n",
       "...     ...       ...     ...     ...  \n",
       "657     0.0       1.0     1.0     3.0  \n",
       "662     0.0       0.0     0.0     2.0  \n",
       "666     0.0       1.0     4.0     2.0  \n",
       "668     0.0       1.0     4.0     2.0  \n",
       "670     1.0       1.0     4.0     2.0  \n",
       "\n",
       "[160750 rows x 15 columns]"
      ]
     },
     "execution_count": 726,
     "metadata": {},
     "output_type": "execute_result"
    }
   ],
   "source": [
    "cat_df_imp"
   ]
  },
  {
   "cell_type": "markdown",
   "id": "a19257c7-7485-450e-b594-9882e9fbc9c1",
   "metadata": {},
   "source": [
    "### One-Hot Encoding for Categorical Variables"
   ]
  },
  {
   "cell_type": "code",
   "execution_count": 727,
   "id": "2ca3c0b4-9188-4a1a-bbcf-7354bed108f0",
   "metadata": {},
   "outputs": [
    {
     "data": {
      "text/plain": [
       "((160750, 15), pandas.core.frame.DataFrame)"
      ]
     },
     "execution_count": 727,
     "metadata": {},
     "output_type": "execute_result"
    }
   ],
   "source": [
    "cat_df_imp.shape, type(cat_df_imp)"
   ]
  },
  {
   "cell_type": "code",
   "execution_count": 728,
   "id": "6fbcbdbb-608e-48a9-a22e-98d5cd7176b4",
   "metadata": {},
   "outputs": [],
   "source": [
    "encoder=OneHotEncoder(sparse=False, drop='first')\n",
    "\n",
    "train_X_encoded = pd.DataFrame(encoder.fit_transform(cat_df_imp[cat_cols]), index=cat_df_imp.index, columns=encoder.get_feature_names(input_features=cat_cols))"
   ]
  },
  {
   "cell_type": "code",
   "execution_count": 729,
   "id": "09769b17-e092-4c47-8f06-a3bbd824d60d",
   "metadata": {},
   "outputs": [
    {
     "data": {
      "text/plain": [
       "111"
      ]
     },
     "execution_count": 729,
     "metadata": {},
     "output_type": "execute_result"
    }
   ],
   "source": [
    "len(train_X_encoded.columns)"
   ]
  },
  {
   "cell_type": "markdown",
   "id": "caacebdc-6a27-4bb8-8e70-d007e0f56f2c",
   "metadata": {},
   "source": [
    "Merge Num & Cat Columns back to X_Train"
   ]
  },
  {
   "cell_type": "code",
   "execution_count": 730,
   "id": "68b18863-2879-4d2c-bf06-bc7ec62cb16e",
   "metadata": {},
   "outputs": [],
   "source": [
    "df = num_df_imp.merge(train_X_encoded, how='inner', left_index=True, right_index=True)\n"
   ]
  },
  {
   "cell_type": "code",
   "execution_count": 731,
   "id": "3aacb38e-2eab-4d6d-a3b7-c8175c7aa381",
   "metadata": {},
   "outputs": [
    {
     "data": {
      "text/html": [
       "<div>\n",
       "<style scoped>\n",
       "    .dataframe tbody tr th:only-of-type {\n",
       "        vertical-align: middle;\n",
       "    }\n",
       "\n",
       "    .dataframe tbody tr th {\n",
       "        vertical-align: top;\n",
       "    }\n",
       "\n",
       "    .dataframe thead th {\n",
       "        text-align: right;\n",
       "    }\n",
       "</style>\n",
       "<table border=\"1\" class=\"dataframe\">\n",
       "  <thead>\n",
       "    <tr style=\"text-align: right;\">\n",
       "      <th></th>\n",
       "      <th>adjinc</th>\n",
       "      <th>educ</th>\n",
       "      <th>wt</th>\n",
       "      <th>povpct</th>\n",
       "      <th>race_2.0</th>\n",
       "      <th>race_3.0</th>\n",
       "      <th>race_4.0</th>\n",
       "      <th>race_5.0</th>\n",
       "      <th>sex_2.0</th>\n",
       "      <th>ms_2.0</th>\n",
       "      <th>...</th>\n",
       "      <th>ssnyn_1.0</th>\n",
       "      <th>vt_1.0</th>\n",
       "      <th>histatus_1.0</th>\n",
       "      <th>hitype_1.0</th>\n",
       "      <th>hitype_2.0</th>\n",
       "      <th>hitype_3.0</th>\n",
       "      <th>hitype_4.0</th>\n",
       "      <th>hitype_5.0</th>\n",
       "      <th>tenure_2.0</th>\n",
       "      <th>tenure_3.0</th>\n",
       "    </tr>\n",
       "    <tr>\n",
       "      <th>record</th>\n",
       "      <th></th>\n",
       "      <th></th>\n",
       "      <th></th>\n",
       "      <th></th>\n",
       "      <th></th>\n",
       "      <th></th>\n",
       "      <th></th>\n",
       "      <th></th>\n",
       "      <th></th>\n",
       "      <th></th>\n",
       "      <th></th>\n",
       "      <th></th>\n",
       "      <th></th>\n",
       "      <th></th>\n",
       "      <th></th>\n",
       "      <th></th>\n",
       "      <th></th>\n",
       "      <th></th>\n",
       "      <th></th>\n",
       "      <th></th>\n",
       "      <th></th>\n",
       "    </tr>\n",
       "  </thead>\n",
       "  <tbody>\n",
       "    <tr>\n",
       "      <th>88427</th>\n",
       "      <td>0.769231</td>\n",
       "      <td>0.230769</td>\n",
       "      <td>0.092003</td>\n",
       "      <td>0.85</td>\n",
       "      <td>0.0</td>\n",
       "      <td>0.0</td>\n",
       "      <td>0.0</td>\n",
       "      <td>0.0</td>\n",
       "      <td>1.0</td>\n",
       "      <td>1.0</td>\n",
       "      <td>...</td>\n",
       "      <td>0.0</td>\n",
       "      <td>0.0</td>\n",
       "      <td>1.0</td>\n",
       "      <td>0.0</td>\n",
       "      <td>0.0</td>\n",
       "      <td>0.0</td>\n",
       "      <td>1.0</td>\n",
       "      <td>0.0</td>\n",
       "      <td>0.0</td>\n",
       "      <td>0.0</td>\n",
       "    </tr>\n",
       "    <tr>\n",
       "      <th>88445</th>\n",
       "      <td>0.076923</td>\n",
       "      <td>0.307692</td>\n",
       "      <td>0.100495</td>\n",
       "      <td>0.10</td>\n",
       "      <td>0.0</td>\n",
       "      <td>0.0</td>\n",
       "      <td>0.0</td>\n",
       "      <td>0.0</td>\n",
       "      <td>1.0</td>\n",
       "      <td>0.0</td>\n",
       "      <td>...</td>\n",
       "      <td>1.0</td>\n",
       "      <td>0.0</td>\n",
       "      <td>1.0</td>\n",
       "      <td>0.0</td>\n",
       "      <td>0.0</td>\n",
       "      <td>0.0</td>\n",
       "      <td>0.0</td>\n",
       "      <td>1.0</td>\n",
       "      <td>1.0</td>\n",
       "      <td>0.0</td>\n",
       "    </tr>\n",
       "    <tr>\n",
       "      <th>88446</th>\n",
       "      <td>0.461538</td>\n",
       "      <td>0.307692</td>\n",
       "      <td>0.126681</td>\n",
       "      <td>0.45</td>\n",
       "      <td>0.0</td>\n",
       "      <td>0.0</td>\n",
       "      <td>0.0</td>\n",
       "      <td>0.0</td>\n",
       "      <td>0.0</td>\n",
       "      <td>0.0</td>\n",
       "      <td>...</td>\n",
       "      <td>1.0</td>\n",
       "      <td>0.0</td>\n",
       "      <td>1.0</td>\n",
       "      <td>1.0</td>\n",
       "      <td>0.0</td>\n",
       "      <td>0.0</td>\n",
       "      <td>0.0</td>\n",
       "      <td>0.0</td>\n",
       "      <td>0.0</td>\n",
       "      <td>0.0</td>\n",
       "    </tr>\n",
       "    <tr>\n",
       "      <th>88452</th>\n",
       "      <td>0.153846</td>\n",
       "      <td>0.153846</td>\n",
       "      <td>0.092003</td>\n",
       "      <td>0.15</td>\n",
       "      <td>0.0</td>\n",
       "      <td>0.0</td>\n",
       "      <td>0.0</td>\n",
       "      <td>0.0</td>\n",
       "      <td>0.0</td>\n",
       "      <td>0.0</td>\n",
       "      <td>...</td>\n",
       "      <td>1.0</td>\n",
       "      <td>0.0</td>\n",
       "      <td>1.0</td>\n",
       "      <td>1.0</td>\n",
       "      <td>0.0</td>\n",
       "      <td>0.0</td>\n",
       "      <td>0.0</td>\n",
       "      <td>0.0</td>\n",
       "      <td>0.0</td>\n",
       "      <td>0.0</td>\n",
       "    </tr>\n",
       "    <tr>\n",
       "      <th>88453</th>\n",
       "      <td>0.153846</td>\n",
       "      <td>0.153846</td>\n",
       "      <td>0.102619</td>\n",
       "      <td>0.15</td>\n",
       "      <td>0.0</td>\n",
       "      <td>0.0</td>\n",
       "      <td>0.0</td>\n",
       "      <td>0.0</td>\n",
       "      <td>1.0</td>\n",
       "      <td>0.0</td>\n",
       "      <td>...</td>\n",
       "      <td>1.0</td>\n",
       "      <td>0.0</td>\n",
       "      <td>1.0</td>\n",
       "      <td>0.0</td>\n",
       "      <td>0.0</td>\n",
       "      <td>0.0</td>\n",
       "      <td>1.0</td>\n",
       "      <td>0.0</td>\n",
       "      <td>0.0</td>\n",
       "      <td>0.0</td>\n",
       "    </tr>\n",
       "    <tr>\n",
       "      <th>...</th>\n",
       "      <td>...</td>\n",
       "      <td>...</td>\n",
       "      <td>...</td>\n",
       "      <td>...</td>\n",
       "      <td>...</td>\n",
       "      <td>...</td>\n",
       "      <td>...</td>\n",
       "      <td>...</td>\n",
       "      <td>...</td>\n",
       "      <td>...</td>\n",
       "      <td>...</td>\n",
       "      <td>...</td>\n",
       "      <td>...</td>\n",
       "      <td>...</td>\n",
       "      <td>...</td>\n",
       "      <td>...</td>\n",
       "      <td>...</td>\n",
       "      <td>...</td>\n",
       "      <td>...</td>\n",
       "      <td>...</td>\n",
       "      <td>...</td>\n",
       "    </tr>\n",
       "    <tr>\n",
       "      <th>657</th>\n",
       "      <td>0.384615</td>\n",
       "      <td>0.538462</td>\n",
       "      <td>0.088464</td>\n",
       "      <td>0.45</td>\n",
       "      <td>0.0</td>\n",
       "      <td>0.0</td>\n",
       "      <td>0.0</td>\n",
       "      <td>0.0</td>\n",
       "      <td>1.0</td>\n",
       "      <td>0.0</td>\n",
       "      <td>...</td>\n",
       "      <td>0.0</td>\n",
       "      <td>0.0</td>\n",
       "      <td>1.0</td>\n",
       "      <td>1.0</td>\n",
       "      <td>0.0</td>\n",
       "      <td>0.0</td>\n",
       "      <td>0.0</td>\n",
       "      <td>0.0</td>\n",
       "      <td>0.0</td>\n",
       "      <td>1.0</td>\n",
       "    </tr>\n",
       "    <tr>\n",
       "      <th>662</th>\n",
       "      <td>0.000000</td>\n",
       "      <td>0.538462</td>\n",
       "      <td>0.038924</td>\n",
       "      <td>0.00</td>\n",
       "      <td>0.0</td>\n",
       "      <td>0.0</td>\n",
       "      <td>0.0</td>\n",
       "      <td>0.0</td>\n",
       "      <td>1.0</td>\n",
       "      <td>0.0</td>\n",
       "      <td>...</td>\n",
       "      <td>1.0</td>\n",
       "      <td>0.0</td>\n",
       "      <td>0.0</td>\n",
       "      <td>0.0</td>\n",
       "      <td>0.0</td>\n",
       "      <td>0.0</td>\n",
       "      <td>0.0</td>\n",
       "      <td>0.0</td>\n",
       "      <td>1.0</td>\n",
       "      <td>0.0</td>\n",
       "    </tr>\n",
       "    <tr>\n",
       "      <th>666</th>\n",
       "      <td>0.230769</td>\n",
       "      <td>0.538462</td>\n",
       "      <td>0.041047</td>\n",
       "      <td>0.25</td>\n",
       "      <td>0.0</td>\n",
       "      <td>0.0</td>\n",
       "      <td>0.0</td>\n",
       "      <td>0.0</td>\n",
       "      <td>0.0</td>\n",
       "      <td>0.0</td>\n",
       "      <td>...</td>\n",
       "      <td>1.0</td>\n",
       "      <td>0.0</td>\n",
       "      <td>1.0</td>\n",
       "      <td>0.0</td>\n",
       "      <td>0.0</td>\n",
       "      <td>0.0</td>\n",
       "      <td>1.0</td>\n",
       "      <td>0.0</td>\n",
       "      <td>1.0</td>\n",
       "      <td>0.0</td>\n",
       "    </tr>\n",
       "    <tr>\n",
       "      <th>668</th>\n",
       "      <td>0.769231</td>\n",
       "      <td>0.384615</td>\n",
       "      <td>0.041047</td>\n",
       "      <td>0.45</td>\n",
       "      <td>0.0</td>\n",
       "      <td>0.0</td>\n",
       "      <td>0.0</td>\n",
       "      <td>0.0</td>\n",
       "      <td>1.0</td>\n",
       "      <td>0.0</td>\n",
       "      <td>...</td>\n",
       "      <td>1.0</td>\n",
       "      <td>0.0</td>\n",
       "      <td>1.0</td>\n",
       "      <td>0.0</td>\n",
       "      <td>0.0</td>\n",
       "      <td>0.0</td>\n",
       "      <td>1.0</td>\n",
       "      <td>0.0</td>\n",
       "      <td>1.0</td>\n",
       "      <td>0.0</td>\n",
       "    </tr>\n",
       "    <tr>\n",
       "      <th>670</th>\n",
       "      <td>0.769231</td>\n",
       "      <td>0.538462</td>\n",
       "      <td>0.038217</td>\n",
       "      <td>0.45</td>\n",
       "      <td>0.0</td>\n",
       "      <td>0.0</td>\n",
       "      <td>0.0</td>\n",
       "      <td>0.0</td>\n",
       "      <td>0.0</td>\n",
       "      <td>0.0</td>\n",
       "      <td>...</td>\n",
       "      <td>1.0</td>\n",
       "      <td>1.0</td>\n",
       "      <td>1.0</td>\n",
       "      <td>0.0</td>\n",
       "      <td>0.0</td>\n",
       "      <td>0.0</td>\n",
       "      <td>1.0</td>\n",
       "      <td>0.0</td>\n",
       "      <td>1.0</td>\n",
       "      <td>0.0</td>\n",
       "    </tr>\n",
       "  </tbody>\n",
       "</table>\n",
       "<p>160750 rows × 115 columns</p>\n",
       "</div>"
      ],
      "text/plain": [
       "          adjinc      educ        wt  povpct  race_2.0  race_3.0  race_4.0  \\\n",
       "record                                                                       \n",
       "88427   0.769231  0.230769  0.092003    0.85       0.0       0.0       0.0   \n",
       "88445   0.076923  0.307692  0.100495    0.10       0.0       0.0       0.0   \n",
       "88446   0.461538  0.307692  0.126681    0.45       0.0       0.0       0.0   \n",
       "88452   0.153846  0.153846  0.092003    0.15       0.0       0.0       0.0   \n",
       "88453   0.153846  0.153846  0.102619    0.15       0.0       0.0       0.0   \n",
       "...          ...       ...       ...     ...       ...       ...       ...   \n",
       "657     0.384615  0.538462  0.088464    0.45       0.0       0.0       0.0   \n",
       "662     0.000000  0.538462  0.038924    0.00       0.0       0.0       0.0   \n",
       "666     0.230769  0.538462  0.041047    0.25       0.0       0.0       0.0   \n",
       "668     0.769231  0.384615  0.041047    0.45       0.0       0.0       0.0   \n",
       "670     0.769231  0.538462  0.038217    0.45       0.0       0.0       0.0   \n",
       "\n",
       "        race_5.0  sex_2.0  ms_2.0  ...  ssnyn_1.0  vt_1.0  histatus_1.0  \\\n",
       "record                             ...                                    \n",
       "88427        0.0      1.0     1.0  ...        0.0     0.0           1.0   \n",
       "88445        0.0      1.0     0.0  ...        1.0     0.0           1.0   \n",
       "88446        0.0      0.0     0.0  ...        1.0     0.0           1.0   \n",
       "88452        0.0      0.0     0.0  ...        1.0     0.0           1.0   \n",
       "88453        0.0      1.0     0.0  ...        1.0     0.0           1.0   \n",
       "...          ...      ...     ...  ...        ...     ...           ...   \n",
       "657          0.0      1.0     0.0  ...        0.0     0.0           1.0   \n",
       "662          0.0      1.0     0.0  ...        1.0     0.0           0.0   \n",
       "666          0.0      0.0     0.0  ...        1.0     0.0           1.0   \n",
       "668          0.0      1.0     0.0  ...        1.0     0.0           1.0   \n",
       "670          0.0      0.0     0.0  ...        1.0     1.0           1.0   \n",
       "\n",
       "        hitype_1.0  hitype_2.0  hitype_3.0  hitype_4.0  hitype_5.0  \\\n",
       "record                                                               \n",
       "88427          0.0         0.0         0.0         1.0         0.0   \n",
       "88445          0.0         0.0         0.0         0.0         1.0   \n",
       "88446          1.0         0.0         0.0         0.0         0.0   \n",
       "88452          1.0         0.0         0.0         0.0         0.0   \n",
       "88453          0.0         0.0         0.0         1.0         0.0   \n",
       "...            ...         ...         ...         ...         ...   \n",
       "657            1.0         0.0         0.0         0.0         0.0   \n",
       "662            0.0         0.0         0.0         0.0         0.0   \n",
       "666            0.0         0.0         0.0         1.0         0.0   \n",
       "668            0.0         0.0         0.0         1.0         0.0   \n",
       "670            0.0         0.0         0.0         1.0         0.0   \n",
       "\n",
       "        tenure_2.0  tenure_3.0  \n",
       "record                          \n",
       "88427          0.0         0.0  \n",
       "88445          1.0         0.0  \n",
       "88446          0.0         0.0  \n",
       "88452          0.0         0.0  \n",
       "88453          0.0         0.0  \n",
       "...            ...         ...  \n",
       "657            0.0         1.0  \n",
       "662            1.0         0.0  \n",
       "666            1.0         0.0  \n",
       "668            1.0         0.0  \n",
       "670            1.0         0.0  \n",
       "\n",
       "[160750 rows x 115 columns]"
      ]
     },
     "execution_count": 731,
     "metadata": {},
     "output_type": "execute_result"
    }
   ],
   "source": [
    "df"
   ]
  },
  {
   "cell_type": "code",
   "execution_count": 734,
   "id": "5d92b311-a208-46bb-90c5-5d8e91b9ed69",
   "metadata": {},
   "outputs": [],
   "source": [
    "X = df.copy()"
   ]
  },
  {
   "cell_type": "code",
   "execution_count": 735,
   "id": "4768dab9-9aa3-4de9-91d6-d51fbdd46468",
   "metadata": {},
   "outputs": [],
   "source": [
    "X.to_csv('data/X.csv')"
   ]
  },
  {
   "cell_type": "code",
   "execution_count": 736,
   "id": "61fab42d-dac1-4c16-ade4-ccd2b4bb0312",
   "metadata": {},
   "outputs": [
    {
     "data": {
      "text/plain": [
       "(160750, 115)"
      ]
     },
     "execution_count": 736,
     "metadata": {},
     "output_type": "execute_result"
    }
   ],
   "source": [
    "X.shape"
   ]
  },
  {
   "cell_type": "code",
   "execution_count": null,
   "id": "56725f55-d432-425b-9b7e-ec6c2767e7d5",
   "metadata": {},
   "outputs": [],
   "source": []
  },
  {
   "cell_type": "markdown",
   "id": "df8c3c57-4b0e-47da-8a4d-b77a729ad94d",
   "metadata": {},
   "source": [
    "#### Creating the Pipeline"
   ]
  },
  {
   "cell_type": "code",
   "execution_count": null,
   "id": "50455b40-9475-4ce3-a9cb-f2a186c4fb48",
   "metadata": {},
   "outputs": [],
   "source": [
    "numeric_transformer = Pipeline(steps=[\n",
    "       ('imputer', SimpleImputer(strategy='mean'))\n",
    "      ,('scaler', StandardScaler())\n",
    "])\n",
    "categorical_transformer = Pipeline(steps=[\n",
    "       ('imputer', imputer_num))\n",
    "      ,('encoder', OrdinalEncoder())\n",
    "])"
   ]
  },
  {
   "cell_type": "code",
   "execution_count": null,
   "id": "52d482fc-848f-4728-9cc4-9baaf6768da1",
   "metadata": {},
   "outputs": [],
   "source": []
  },
  {
   "cell_type": "code",
   "execution_count": null,
   "id": "0310b12f-3449-412d-bc57-465a20c9e019",
   "metadata": {},
   "outputs": [],
   "source": []
  },
  {
   "cell_type": "code",
   "execution_count": 737,
   "id": "474b3b08-4757-4ba2-8b22-78f6a8ceb4c2",
   "metadata": {},
   "outputs": [],
   "source": [
    "X_train, X_test, y_train, y_test = train_test_split(X, dec_label, test_size=0.2, random_state=42)"
   ]
  },
  {
   "cell_type": "code",
   "execution_count": 738,
   "id": "a3540362-7704-4e45-8d74-fb1d2526687d",
   "metadata": {},
   "outputs": [],
   "source": [
    "X_test.to_csv('data/testing/X_test.csv')\n",
    "y_test.to_csv('data/testing/y_test.csv')"
   ]
  },
  {
   "cell_type": "code",
   "execution_count": null,
   "id": "d99404b6-9455-4fdd-a8e4-a4ddbb7c9360",
   "metadata": {},
   "outputs": [],
   "source": []
  },
  {
   "cell_type": "code",
   "execution_count": 740,
   "id": "779c23a0-090b-4ac2-8c7d-e6802cd3741c",
   "metadata": {},
   "outputs": [],
   "source": [
    "pca = PCA()\n",
    "X_pca = pca.fit_transform(X_train)"
   ]
  },
  {
   "cell_type": "code",
   "execution_count": 741,
   "id": "e9098cc1-0521-4a1d-8319-b7c268eff49a",
   "metadata": {},
   "outputs": [],
   "source": [
    "def scree_plot(X, count_pc=None):\n",
    "    \"\"\"return the scree plot of the pca of data X\n",
    "    Args\n",
    "    ----\n",
    "    X: np.array() of shape (m,n)\n",
    "    count_pc (int): the count of pc's to show in the plot\n",
    "    \"\"\"\n",
    "    pca = PCA()\n",
    "    pca.fit(X)\n",
    "    l = len(pca.explained_variance_)\n",
    "    if count_pc is not None:\n",
    "        num = min(count, l)\n",
    "    else: \n",
    "        num = l\n",
    "    plt.plot(np.arange(1,num+1), pca.explained_variance_[:num])\n",
    "    plt.xlabel('ith Principle Component')\n",
    "    plt.ylabel('Eigenvalue')\n",
    "    plt.title('Scree Plot')"
   ]
  },
  {
   "cell_type": "code",
   "execution_count": 744,
   "id": "e467d12f-e7ef-458d-bbdb-d37facbe90d3",
   "metadata": {},
   "outputs": [
    {
     "data": {
      "text/plain": [
       "''"
      ]
     },
     "execution_count": 744,
     "metadata": {},
     "output_type": "execute_result"
    },
    {
     "data": {
      "image/png": "[encoded data removed]",
      "text/plain": [
       "<Figure size 1080x360 with 1 Axes>"
      ]
     },
     "metadata": {
      "needs_background": "light"
     },
     "output_type": "display_data"
    }
   ],
   "source": [
    "fig, ax = plt.subplots(figsize=(15, 5))\n",
    "ax = scree_plot(X_pca)\n",
    "plt.xticks(ticks=np.linspace(0, len(X_train.columns), 5))\n",
    ";"
   ]
  },
  {
   "cell_type": "code",
   "execution_count": 745,
   "id": "4d9b2037-31c6-4c1e-9194-723b6e040c76",
   "metadata": {},
   "outputs": [
    {
     "data": {
      "text/plain": [
       "((128600, 115), (32150, 115), (128600,), (32150,))"
      ]
     },
     "execution_count": 745,
     "metadata": {},
     "output_type": "execute_result"
    }
   ],
   "source": [
    "X_train.shape, X_test.shape, y_train.shape, y_test.shape"
   ]
  },
  {
   "cell_type": "markdown",
   "id": "c03ee8dd-f54a-4d84-85c0-0b40f4232ab2",
   "metadata": {},
   "source": [
    "#### Linear Regression "
   ]
  },
  {
   "cell_type": "code",
   "execution_count": 746,
   "id": "962af7ab-fb4f-4fa4-83b4-ae56a92e5eae",
   "metadata": {},
   "outputs": [],
   "source": [
    "model_lr = LinearRegression()"
   ]
  },
  {
   "cell_type": "code",
   "execution_count": 747,
   "id": "119b7519-275c-4bc0-90c7-705934950e25",
   "metadata": {},
   "outputs": [
    {
     "data": {
      "text/plain": [
       "LinearRegression()"
      ]
     },
     "execution_count": 747,
     "metadata": {},
     "output_type": "execute_result"
    }
   ],
   "source": [
    "model_lr.fit(X_train, y_train)"
   ]
  },
  {
   "cell_type": "code",
   "execution_count": 748,
   "id": "fe1f9100-7714-48d1-9246-0a5c72823cdc",
   "metadata": {},
   "outputs": [],
   "source": [
    "predict_train = model_lr.predict(X_train)"
   ]
  },
  {
   "cell_type": "code",
   "execution_count": 749,
   "id": "e8ff3449-9290-4a64-90c7-baa07d2f4b62",
   "metadata": {},
   "outputs": [
    {
     "data": {
      "text/plain": [
       "array([58.93845793, 73.19543151, 52.10895496, ..., 79.07712454,\n",
       "       75.96940804, 84.19583289])"
      ]
     },
     "execution_count": 749,
     "metadata": {},
     "output_type": "execute_result"
    }
   ],
   "source": [
    "predict_train"
   ]
  },
  {
   "cell_type": "code",
   "execution_count": 752,
   "id": "7cb7da4b-ea0b-4f64-873e-b8faa8ce266a",
   "metadata": {},
   "outputs": [],
   "source": [
    "predict_test = model_lr.predict(X_test)"
   ]
  },
  {
   "cell_type": "code",
   "execution_count": 753,
   "id": "b36acc7a-7b60-40c1-ae5d-7be143254dcf",
   "metadata": {},
   "outputs": [
    {
     "name": "stdout",
     "output_type": "stream",
     "text": [
      "RMSE on train data with LR:  105.06390822760223\n",
      "RMSE on test data with LR:  104.93406313275219\n"
     ]
    }
   ],
   "source": [
    "print('RMSE on train data with LR: ', mean_squared_error(y_train, predict_train))\n",
    "print('RMSE on test data with LR: ', mean_squared_error(y_test, predict_test))"
   ]
  },
  {
   "cell_type": "code",
   "execution_count": 754,
   "id": "53ff8cc2-149d-40e6-8507-0603ea4001f5",
   "metadata": {},
   "outputs": [
    {
     "data": {
      "image/png": "[encoded data removed]",
      "text/plain": [
       "<Figure size 1008x360 with 1 Axes>"
      ]
     },
     "metadata": {
      "needs_background": "light"
     },
     "output_type": "display_data"
    }
   ],
   "source": [
    "fig, ax = plt.subplots(figsize=(14, 5))\n",
    "sns.scatterplot(x=y_train, y=y_train - predict_train, ax=ax, palette='Blues', alpha=0.1)\n",
    "ax.set_xlabel('predicted age')\n",
    "ax.set_ylabel('residual (observed age - predicted age)')\n",
    "ax.set_title('Residuals Plot for Linear Regression');"
   ]
  },
  {
   "cell_type": "markdown",
   "id": "25624091-c6a8-44e6-90a0-55d691bd649f",
   "metadata": {},
   "source": [
    "#### Random Forest Regressor"
   ]
  },
  {
   "cell_type": "code",
   "execution_count": 755,
   "id": "84b0b2d4-2a83-40bb-8763-3fc1f9558cb7",
   "metadata": {},
   "outputs": [],
   "source": [
    "model_rf = RandomForestRegressor()"
   ]
  },
  {
   "cell_type": "code",
   "execution_count": 756,
   "id": "6e0e5f74-eb5d-4690-82b9-e3666a1e6d68",
   "metadata": {},
   "outputs": [
    {
     "data": {
      "text/plain": [
       "RandomForestRegressor()"
      ]
     },
     "execution_count": 756,
     "metadata": {},
     "output_type": "execute_result"
    }
   ],
   "source": [
    "model_rf.fit(X_train, y_train)"
   ]
  },
  {
   "cell_type": "code",
   "execution_count": 757,
   "id": "0c21a21e-0665-4c4b-98f3-05bf93b36f41",
   "metadata": {},
   "outputs": [],
   "source": [
    "predict_train_rf = model_rf.predict(X_train)"
   ]
  },
  {
   "cell_type": "code",
   "execution_count": 758,
   "id": "34936a47-2e5d-4137-98c1-89b62a2db43b",
   "metadata": {},
   "outputs": [],
   "source": [
    "predict_test_rf = model_rf.predict(X_test)"
   ]
  },
  {
   "cell_type": "code",
   "execution_count": 759,
   "id": "ccf948d0-48d5-4255-a505-46d2e8e4afce",
   "metadata": {},
   "outputs": [
    {
     "name": "stdout",
     "output_type": "stream",
     "text": [
      "RMSE on Train Data with RF:  12.355572620740453\n",
      "R_squared on Train Data with RF:  0.9522553275648308\n",
      "RMSE on Test Data with RF:  86.43333932316744\n",
      "R_squared on Train Data with RF:  0.6695465479684932\n"
     ]
    }
   ],
   "source": [
    "print('RMSE on Train Data with RF: ', mean_squared_error(y_train, predict_train_rf))\n",
    "print('R_squared on Train Data with RF: ', r2_score(y_train, predict_train_rf))\n",
    "\n",
    "print('RMSE on Test Data with RF: ', mean_squared_error(y_test, predict_test_rf))\n",
    "print('R_squared on Train Data with RF: ', r2_score(y_test, predict_test_rf))"
   ]
  },
  {
   "cell_type": "code",
   "execution_count": 760,
   "id": "d9ada74b-a0c5-4f9d-ba7c-0591a835b4bc",
   "metadata": {},
   "outputs": [
    {
     "name": "stdout",
     "output_type": "stream",
     "text": [
      "['#dbe9f6', '#bad6eb', '#89bedc', '#539ecd', '#2b7bba', '#0b559f']\n"
     ]
    }
   ],
   "source": [
    "pal = sns.color_palette(\"Blues\")\n",
    "print(pal.as_hex())"
   ]
  },
  {
   "cell_type": "code",
   "execution_count": 761,
   "id": "b51def02-800f-432d-836b-4d6175bd2f6f",
   "metadata": {},
   "outputs": [
    {
     "name": "stderr",
     "output_type": "stream",
     "text": [
      "/opt/anaconda3/lib/python3.7/site-packages/seaborn/_decorators.py:43: FutureWarning: Pass the following variables as keyword args: x, y. From version 0.12, the only valid positional argument will be `data`, and passing other arguments without an explicit keyword will result in an error or misinterpretation.\n",
      "  FutureWarning\n"
     ]
    },
    {
     "data": {
      "text/plain": [
       "Text(0, 0.5, 'residual (observed age - predicted age)')"
      ]
     },
     "execution_count": 761,
     "metadata": {},
     "output_type": "execute_result"
    },
    {
     "data": {
      "image/png": "[encoded data removed]",
      "text/plain": [
       "<Figure size 1008x360 with 1 Axes>"
      ]
     },
     "metadata": {
      "needs_background": "light"
     },
     "output_type": "display_data"
    }
   ],
   "source": [
    "fig, ax = plt.subplots(figsize=(14, 5))\n",
    "sns.scatterplot(dec_label_train, dec_label_train - predict_train_rf, ax=ax, alpha=0.2, color='#2b7bba');\n",
    "ax.set_xlabel('predicted age')\n",
    "ax.set_ylabel('residual (observed age - predicted age)')"
   ]
  },
  {
   "cell_type": "code",
   "execution_count": 762,
   "id": "006c64a0-1188-4560-9b92-4b7d76a8ecca",
   "metadata": {},
   "outputs": [],
   "source": [
    "from yellowbrick.regressor import ResidualsPlot"
   ]
  },
  {
   "cell_type": "code",
   "execution_count": 763,
   "id": "daacb039-607f-498e-a5c2-4680488c8b82",
   "metadata": {},
   "outputs": [
    {
     "data": {
      "image/png": "[encoded data removed]",
      "text/plain": [
       "<Figure size 432x288 with 2 Axes>"
      ]
     },
     "metadata": {
      "needs_background": "light"
     },
     "output_type": "display_data"
    },
    {
     "data": {
      "text/plain": [
       "<AxesSubplot:title={'center':'Residuals for RandomForestRegressor Model'}, xlabel='Predicted Value', ylabel='Residuals'>"
      ]
     },
     "execution_count": 763,
     "metadata": {},
     "output_type": "execute_result"
    }
   ],
   "source": [
    "visualizer = ResidualsPlot(model_rf)\n",
    "\n",
    "visualizer.fit(X_train, y_train)  # Fit the training data to the visualizer\n",
    "# visualizer.score(X_test, y_test)  # Evaluate the model on the test data\n",
    "visualizer.show(alpha=0.1)  "
   ]
  },
  {
   "cell_type": "code",
   "execution_count": 764,
   "id": "15d60eaf-c7e0-4af5-b1b4-d4a08a669d1c",
   "metadata": {},
   "outputs": [
    {
     "data": {
      "image/png": "[encoded data removed]",
      "text/plain": [
       "<Figure size 432x288 with 2 Axes>"
      ]
     },
     "metadata": {
      "needs_background": "light"
     },
     "output_type": "display_data"
    },
    {
     "data": {
      "text/plain": [
       "<AxesSubplot:title={'center':'Residuals for RandomForestRegressor Model'}, xlabel='Predicted Value', ylabel='Residuals'>"
      ]
     },
     "execution_count": 764,
     "metadata": {},
     "output_type": "execute_result"
    }
   ],
   "source": [
    "visualizer.fit(X_test, y_test)  # Fit the training data to the visualizer\n",
    "# visualizer.score(X_test, y_test)  # Evaluate the model on the test data\n",
    "visualizer.show(alpha=0.1) "
   ]
  },
  {
   "cell_type": "code",
   "execution_count": 765,
   "id": "00e02b25-b377-43a9-903a-816cda9cf0c6",
   "metadata": {},
   "outputs": [],
   "source": [
    "feature_importances = pd.DataFrame(model_rf.fit(X_train, y_train).feature_importances_,\n",
    "                                   index = X_train.columns, columns=['importance']).sort_values('importance', ascending=False)"
   ]
  },
  {
   "cell_type": "code",
   "execution_count": 767,
   "id": "c96e79fe-d1e0-4abc-ba0a-f2f874350f37",
   "metadata": {},
   "outputs": [
    {
     "data": {
      "text/html": [
       "<div>\n",
       "<style scoped>\n",
       "    .dataframe tbody tr th:only-of-type {\n",
       "        vertical-align: middle;\n",
       "    }\n",
       "\n",
       "    .dataframe tbody tr th {\n",
       "        vertical-align: top;\n",
       "    }\n",
       "\n",
       "    .dataframe thead th {\n",
       "        text-align: right;\n",
       "    }\n",
       "</style>\n",
       "<table border=\"1\" class=\"dataframe\">\n",
       "  <thead>\n",
       "    <tr style=\"text-align: right;\">\n",
       "      <th></th>\n",
       "      <th>importance</th>\n",
       "    </tr>\n",
       "  </thead>\n",
       "  <tbody>\n",
       "    <tr>\n",
       "      <th>hitype_1.0</th>\n",
       "      <td>0.376498</td>\n",
       "    </tr>\n",
       "    <tr>\n",
       "      <th>wt</th>\n",
       "      <td>0.058361</td>\n",
       "    </tr>\n",
       "    <tr>\n",
       "      <th>ms_5.0</th>\n",
       "      <td>0.052407</td>\n",
       "    </tr>\n",
       "    <tr>\n",
       "      <th>educ</th>\n",
       "      <td>0.048641</td>\n",
       "    </tr>\n",
       "    <tr>\n",
       "      <th>povpct</th>\n",
       "      <td>0.044887</td>\n",
       "    </tr>\n",
       "    <tr>\n",
       "      <th>esr_5.0</th>\n",
       "      <td>0.043531</td>\n",
       "    </tr>\n",
       "    <tr>\n",
       "      <th>adjinc</th>\n",
       "      <td>0.037484</td>\n",
       "    </tr>\n",
       "    <tr>\n",
       "      <th>ms_2.0</th>\n",
       "      <td>0.035074</td>\n",
       "    </tr>\n",
       "    <tr>\n",
       "      <th>cause113_10.0</th>\n",
       "      <td>0.023524</td>\n",
       "    </tr>\n",
       "    <tr>\n",
       "      <th>cause113_11.0</th>\n",
       "      <td>0.021218</td>\n",
       "    </tr>\n",
       "    <tr>\n",
       "      <th>ssnyn_1.0</th>\n",
       "      <td>0.012938</td>\n",
       "    </tr>\n",
       "    <tr>\n",
       "      <th>hosp_2.0</th>\n",
       "      <td>0.011035</td>\n",
       "    </tr>\n",
       "    <tr>\n",
       "      <th>tenure_2.0</th>\n",
       "      <td>0.010274</td>\n",
       "    </tr>\n",
       "    <tr>\n",
       "      <th>vt_1.0</th>\n",
       "      <td>0.009720</td>\n",
       "    </tr>\n",
       "    <tr>\n",
       "      <th>sex_2.0</th>\n",
       "      <td>0.008653</td>\n",
       "    </tr>\n",
       "    <tr>\n",
       "      <th>cause113_5.0</th>\n",
       "      <td>0.008246</td>\n",
       "    </tr>\n",
       "    <tr>\n",
       "      <th>cause113_2.0</th>\n",
       "      <td>0.006737</td>\n",
       "    </tr>\n",
       "    <tr>\n",
       "      <th>urban_2.0</th>\n",
       "      <td>0.006452</td>\n",
       "    </tr>\n",
       "    <tr>\n",
       "      <th>race_2.0</th>\n",
       "      <td>0.005903</td>\n",
       "    </tr>\n",
       "    <tr>\n",
       "      <th>hosp_4.0</th>\n",
       "      <td>0.005834</td>\n",
       "    </tr>\n",
       "  </tbody>\n",
       "</table>\n",
       "</div>"
      ],
      "text/plain": [
       "               importance\n",
       "hitype_1.0       0.376498\n",
       "wt               0.058361\n",
       "ms_5.0           0.052407\n",
       "educ             0.048641\n",
       "povpct           0.044887\n",
       "esr_5.0          0.043531\n",
       "adjinc           0.037484\n",
       "ms_2.0           0.035074\n",
       "cause113_10.0    0.023524\n",
       "cause113_11.0    0.021218\n",
       "ssnyn_1.0        0.012938\n",
       "hosp_2.0         0.011035\n",
       "tenure_2.0       0.010274\n",
       "vt_1.0           0.009720\n",
       "sex_2.0          0.008653\n",
       "cause113_5.0     0.008246\n",
       "cause113_2.0     0.006737\n",
       "urban_2.0        0.006452\n",
       "race_2.0         0.005903\n",
       "hosp_4.0         0.005834"
      ]
     },
     "execution_count": 767,
     "metadata": {},
     "output_type": "execute_result"
    }
   ],
   "source": [
    "feature_importances.head(20)"
   ]
  },
  {
   "cell_type": "markdown",
   "id": "b08e123f-c9b5-428d-9839-3bdbee679493",
   "metadata": {},
   "source": [
    "WEDNESDAY MORNING!! \n",
    "\n",
    "Take out any features highly correlated with age and rerun. Maybe in a new / duplicate notebook in case it doesn't matter. \n",
    "\n",
    "More than this?? 'ms', 'vt', 'esr', 'educ'"
   ]
  },
  {
   "cell_type": "code",
   "execution_count": null,
   "id": "084009c3-0d04-4c70-aa17-9de06aafb843",
   "metadata": {},
   "outputs": [],
   "source": []
  },
  {
   "cell_type": "code",
   "execution_count": null,
   "id": "3b049ec0-63cc-410b-83f5-1986430ebefa",
   "metadata": {},
   "outputs": [],
   "source": []
  }
 ],
 "metadata": {
  "kernelspec": {
   "display_name": "Python 3",
   "language": "python",
   "name": "python3"
  },
  "language_info": {
   "codemirror_mode": {
    "name": "ipython",
    "version": 3
   },
   "file_extension": ".py",
   "mimetype": "text/x-python",
   "name": "python",
   "nbconvert_exporter": "python",
   "pygments_lexer": "ipython3",
   "version": "3.7.7"
  }
 },
 "nbformat": 4,
 "nbformat_minor": 5
}
