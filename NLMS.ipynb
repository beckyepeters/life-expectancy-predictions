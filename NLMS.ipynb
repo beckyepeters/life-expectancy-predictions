{
 "cells": [
  {
   "cell_type": "code",
   "execution_count": 1,
   "id": "231e3f4a-8a65-4cbb-85bd-901864a4db23",
   "metadata": {},
   "outputs": [],
   "source": [
    "import pandas as pd\n",
    "import numpy as np\n",
    "import seaborn as sns\n",
    "import matplotlib.pyplot as plt\n",
    "plt.style.use('ggplot')\n",
    "%matplotlib inline\n",
    "import seaborn as sns   \n",
    "from pivottablejs import pivot_ui\n",
    "import datetime\n",
    "from sklearn.impute import KNNImputer\n",
    "from sklearn.preprocessing import MinMaxScaler, OneHotEncoder\n",
    "from sklearn.pipeline import Pipeline\n",
    "\n",
    "from sklearn.model_selection import train_test_split\n",
    "\n",
    "# from sklearn._ import\n",
    "# from scipy.stats import \n",
    "# import statsmodels.api as sm\n"
   ]
  },
  {
   "cell_type": "code",
   "execution_count": 2,
   "id": "42595df1-901c-492c-a841-4220ab9ff950",
   "metadata": {},
   "outputs": [
    {
     "name": "stderr",
     "output_type": "stream",
     "text": [
      "/opt/anaconda3/lib/python3.7/site-packages/numpy/lib/arraysetops.py:580: FutureWarning: elementwise comparison failed; returning scalar instead, but in the future will perform elementwise comparison\n",
      "  mask |= (ar1 == a)\n"
     ]
    }
   ],
   "source": [
    "nlms = pd.read_csv('data/NLMS_PublicUse_5.1/11_new.csv', index_col='record');"
   ]
  },
  {
   "cell_type": "code",
   "execution_count": 3,
   "id": "54200603-138f-4fc8-a514-6d04a6090cb4",
   "metadata": {},
   "outputs": [
    {
     "data": {
      "text/plain": [
       "Index(['age', 'race', 'sex', 'ms', 'hisp', 'adjinc', 'educ', 'pob', 'wt',\n",
       "       'hhid', 'hhnum', 'reltrf', 'occ', 'majocc', 'ind', 'majind', 'esr',\n",
       "       'urban', 'smsast', 'inddea', 'cause113', 'follow', 'dayod', 'hosp',\n",
       "       'hospd', 'ssnyn', 'vt', 'histatus', 'hitype', 'povpct', 'stater',\n",
       "       'rcow', 'tenure', 'citizen', 'health', 'indalg', 'smok100', 'agesmk',\n",
       "       'smokstat', 'smokhome', 'curruse', 'everuse'],\n",
       "      dtype='object')"
      ]
     },
     "execution_count": 3,
     "metadata": {},
     "output_type": "execute_result"
    }
   ],
   "source": [
    "nlms.columns"
   ]
  },
  {
   "cell_type": "code",
   "execution_count": 4,
   "id": "c03080d7-689c-437c-b272-c4925c203813",
   "metadata": {},
   "outputs": [],
   "source": [
    "cols = ['age', 'race', 'sex', 'ms', 'hisp', 'adjinc', 'educ', 'pob',\n",
    "       'wt', 'hhid', 'hhnum', 'reltrf', 'occ', 'majocc', 'ind', 'majind',\n",
    "       'esr', 'urban', 'smsast', 'inddea', 'cause113', 'follow', 'dayod',\n",
    "       'hosp', 'hospd', 'ssnyn', 'vt', 'histatus', 'hitype', 'povpct',\n",
    "       'stater', 'rcow', 'tenure', 'citizen', 'health', 'indalg', 'smok100',\n",
    "       'agesmk', 'smokstat', 'smokhome', 'curruse', 'everuse']"
   ]
  },
  {
   "cell_type": "code",
   "execution_count": 5,
   "id": "aab38fc7-5e82-4489-b67f-31fb163955e5",
   "metadata": {},
   "outputs": [],
   "source": [
    "col_dict = {'index': 'record number', 'age': 'age at time of interview', 'race': 'race', 'sex': 'gender', \n",
    "            'ms': 'marital status', 'hisp': 'hispanic', 'adjinc': 'inflation adjusted income', 'educ': 'highest grade completed', \n",
    "            'pob': 'region of birth', 'wt': 'adjusted weight', 'hhid': 'household ID number', 'hhnum': 'number of people in household',\n",
    "            'reltrf': 'relationship to reference person', 'occ': '4 digit occupation code', 'majocc': 'major occupation code',\n",
    "            'ind': '4 digit industry code', 'majind': 'major industry code', 'esr': 'employment status recode', \n",
    "            'urban': 'urban / rural status', 'smsast': 'SMSAST (Standard Metropolitan Statistical Area) status', 'inddea': 'death indicator',\n",
    "            'cause113': 'cause of death', 'follow': 'length of follow-up', 'dayod': 'day of week of death', \n",
    "            'hosp': 'hospital type', 'hosppd': 'hospital death indicator', 'ssnyn': 'presence of ssn', \n",
    "            'vt': 'veteran status', 'histatus': 'health insurance status', 'hitype': 'health insurance type', \n",
    "            'povpct': 'income as percent of poverty level', 'stater': 'state recode', 'rcow': 'recoded class of worker', \n",
    "            'tenure': 'housing tenure', 'citizen': 'citizenship', 'health': 'health', 'indalg': 'indicator of algorithmic death', \n",
    "            'smok100': 'smoked more than 100 cigarettes', 'agesmk': 'age started smoking',\n",
    "            'smokstat': 'cigarette smoking status', 'smokhome': 'rules for smoking cigarettes in the home', \n",
    "            'curruse': 'currently use smokeless tobacco', 'everuse': 'ever use smokeless tobacco'}"
   ]
  },
  {
   "cell_type": "code",
   "execution_count": 6,
   "id": "8b396f87-bbaa-4e6b-be51-0d68226dfcb3",
   "metadata": {},
   "outputs": [
    {
     "name": "stdout",
     "output_type": "stream",
     "text": [
      "{'index': 'record number', 'age': 'age at time of interview', 'race': 'race', 'sex': 'gender', 'ms': 'marital status', 'hisp': 'hispanic', 'adjinc': 'inflation adjusted income', 'educ': 'highest grade completed', 'pob': 'region of birth', 'wt': 'adjusted weight', 'hhid': 'household ID number', 'hhnum': 'number of people in household', 'reltrf': 'relationship to reference person', 'occ': '4 digit occupation code', 'majocc': 'major occupation code', 'ind': '4 digit industry code', 'majind': 'major industry code', 'esr': 'employment status recode', 'urban': 'urban / rural status', 'smsast': 'SMSAST (Standard Metropolitan Statistical Area) status', 'inddea': 'death indicator', 'cause113': 'cause of death', 'follow': 'length of follow-up', 'dayod': 'day of week of death', 'hosp': 'hospital type', 'hosppd': 'hospital death indicator', 'ssnyn': 'presence of ssn', 'vt': 'veteran status', 'histatus': 'health insurance status', 'hitype': 'health insurance type', 'povpct': 'income as percent of poverty level', 'stater': 'state recode', 'rcow': 'recoded class of worker', 'tenure': 'housing tenure', 'citizen': 'citizenship', 'health': 'health', 'indalg': 'indicator of algorithmic death', 'smok100': 'smoked more than 100 cigarettes', 'agesmk': 'age started smoking', 'smokstat': 'cigarette smoking status', 'smokhome': 'rules for smoking cigarettes in the home', 'curruse': 'currently use smokeless tobacco', 'everuse': 'ever use smokeless tobacco'}\n"
     ]
    }
   ],
   "source": [
    "print(col_dict)"
   ]
  },
  {
   "cell_type": "code",
   "execution_count": 7,
   "id": "d5d3ef92-e7a9-4dc2-914d-e794bf8ce230",
   "metadata": {},
   "outputs": [
    {
     "data": {
      "text/plain": [
       "age             91\n",
       "race             6\n",
       "sex              2\n",
       "ms               6\n",
       "hisp             4\n",
       "adjinc          15\n",
       "educ            15\n",
       "pob             64\n",
       "wt             930\n",
       "hhid        745424\n",
       "hhnum           21\n",
       "reltrf           7\n",
       "occ            365\n",
       "majocc          12\n",
       "ind            229\n",
       "majind          15\n",
       "esr              6\n",
       "urban            3\n",
       "smsast           4\n",
       "inddea           2\n",
       "cause113       106\n",
       "follow        4019\n",
       "dayod            8\n",
       "hosp             7\n",
       "hospd            6\n",
       "ssnyn            2\n",
       "vt               3\n",
       "histatus         3\n",
       "hitype           7\n",
       "povpct          21\n",
       "stater          51\n",
       "rcow             6\n",
       "tenure           4\n",
       "citizen          6\n",
       "health           6\n",
       "indalg           3\n",
       "smok100          1\n",
       "agesmk           1\n",
       "smokstat         1\n",
       "smokhome         1\n",
       "curruse          1\n",
       "everuse          1\n",
       "dtype: int64"
      ]
     },
     "execution_count": 7,
     "metadata": {},
     "output_type": "execute_result"
    }
   ],
   "source": [
    "lens = nlms.apply(lambda x: len(x.unique()))\n",
    "lens"
   ]
  },
  {
   "cell_type": "code",
   "execution_count": 8,
   "id": "f8d5d857-4a04-4da5-9dfd-264efd8d04be",
   "metadata": {},
   "outputs": [
    {
     "data": {
      "text/plain": [
       "array([909,   0, 942, 928, 917, 925, 104, 111, 934, 945, 936, 944, 107,\n",
       "       927, 926, 948, 906, 950, 937, 911, 933, 939, 106, 109, 912, 108,\n",
       "       913, 102, 949, 103, 931, 954, 951, 924, 901, 918, 938, 956, 923,\n",
       "       947, 921, 101, 105, 955, 941, 953, 905, 902, 920, 915, 904, 930,\n",
       "       922, 940, 932, 908, 910, 946, 935, 110, 919, 916, 929, 960])"
      ]
     },
     "execution_count": 8,
     "metadata": {},
     "output_type": "execute_result"
    }
   ],
   "source": [
    "nlms.pob.unique()"
   ]
  },
  {
   "cell_type": "code",
   "execution_count": 9,
   "id": "d167aefa-8845-43ae-ad5f-ba40cf631ba6",
   "metadata": {},
   "outputs": [],
   "source": [
    "pob_dict = {909: 'CT',   0: np.nan, 942: 'PA', 928: 'MS', 917: 'IL', 925: 'MA', 104: 'Western Europe', 111: 'Other NS', 934: 'NJ', 945: 'SC', 936: 'NY', 944: 'RI', 107: 'Central America',\n",
    "       927: 'MN', 926: 'MI', 948: 'TX', 906: 'CA', 950: 'VT', 937: 'NC', 911: 'DC', 933: 'NH', 939: 'OH', 106: 'South America', 109: 'Island Country', 912: 'FL', 108: 'Mexico',\n",
    "       913: 'GA', 102: 'Asia', 949: 'UT', 103: 'Eastern Europe', 931: 'NE', 954: 'WV', 951: 'VA', 924: 'MD', 901: 'AL', 918: 'IN', 938: 'ND', 956: 'WY', 923: 'ME',\n",
    "       947: 'TN', 921: 'KY', 101: 'Africa', 105: 'North Am, Not US or Mexico', 955: 'WI', 941: 'OR', 953: 'WA', 905: 'AR', 902: 'AK', 920: 'KS', 915: 'HI', 904: 'AZ', 930: 'MT',\n",
    "       922: 'LA', 940: 'OK', 932: 'NV', 908: 'CO', 910: 'DE', 946: 'SD', 935: 'NM', 110: 'Other NS', 919: 'IA', 916: 'ID', 929: 'MO', 960: 'American Samoa'}"
   ]
  },
  {
   "cell_type": "code",
   "execution_count": 10,
   "id": "1182e891-902b-49bb-9196-334f3b42f6b3",
   "metadata": {
    "scrolled": true,
    "tags": []
   },
   "outputs": [
    {
     "name": "stdout",
     "output_type": "stream",
     "text": [
      "Pre na qty: age           0.000000\n",
      "race          0.157487\n",
      "sex           0.000000\n",
      "ms           19.684568\n",
      "hisp          2.861032\n",
      "adjinc        2.412385\n",
      "educ         19.120231\n",
      "pob           0.000000\n",
      "wt            0.000000\n",
      "hhid          0.000000\n",
      "hhnum         0.000000\n",
      "reltrf        0.254704\n",
      "occ          46.609888\n",
      "majocc       46.609888\n",
      "ind          46.621931\n",
      "majind       46.621931\n",
      "esr          19.122029\n",
      "urban         0.710708\n",
      "smsast        0.711471\n",
      "inddea        0.000000\n",
      "cause113      0.000000\n",
      "follow        0.000000\n",
      "dayod        91.240126\n",
      "hosp         91.401209\n",
      "hospd        92.088921\n",
      "ssnyn         0.000000\n",
      "vt           21.582314\n",
      "histatus     31.484596\n",
      "hitype       31.484596\n",
      "povpct        0.000000\n",
      "stater        0.000000\n",
      "rcow         46.521880\n",
      "tenure        1.386703\n",
      "citizen      74.667969\n",
      "health       79.067361\n",
      "indalg       80.994806\n",
      "smok100     100.000000\n",
      "agesmk      100.000000\n",
      "smokstat    100.000000\n",
      "smokhome    100.000000\n",
      "curruse     100.000000\n",
      "everuse     100.000000\n",
      "dtype: float64\n"
     ]
    }
   ],
   "source": [
    "print('Pre na qty: ' + str(nlms.isnull().sum() * 100 / len(nlms)))"
   ]
  },
  {
   "cell_type": "code",
   "execution_count": 11,
   "id": "92a78df2-3280-4115-b097-7089e96cca50",
   "metadata": {
    "scrolled": true,
    "tags": []
   },
   "outputs": [
    {
     "data": {
      "text/plain": [
       "4018    0.912401\n",
       "3617    0.000039\n",
       "2531    0.000036\n",
       "3199    0.000036\n",
       "3565    0.000035\n",
       "          ...   \n",
       "7       0.000010\n",
       "478     0.000009\n",
       "3       0.000007\n",
       "1       0.000007\n",
       "0       0.000001\n",
       "Name: follow, Length: 4019, dtype: float64"
      ]
     },
     "execution_count": 11,
     "metadata": {},
     "output_type": "execute_result"
    }
   ],
   "source": [
    "nlms.follow.value_counts(normalize=True)"
   ]
  },
  {
   "cell_type": "code",
   "execution_count": 12,
   "id": "2657e5ff-d0bb-43f1-9e27-db325cf95f9e",
   "metadata": {},
   "outputs": [],
   "source": [
    "nlms.drop(columns=['smok100', 'agesmk', 'smokstat', 'smokhome', 'curruse', 'everuse'], inplace=True)"
   ]
  },
  {
   "cell_type": "code",
   "execution_count": 13,
   "id": "f749f7f2-212b-45a0-8017-1c2027869075",
   "metadata": {},
   "outputs": [
    {
     "name": "stdout",
     "output_type": "stream",
     "text": [
      "<class 'pandas.core.frame.DataFrame'>\n",
      "Int64Index: 1835072 entries, 88426 to 670\n",
      "Data columns (total 36 columns):\n",
      " #   Column    Dtype  \n",
      "---  ------    -----  \n",
      " 0   age       int64  \n",
      " 1   race      float64\n",
      " 2   sex       int64  \n",
      " 3   ms        float64\n",
      " 4   hisp      float64\n",
      " 5   adjinc    float64\n",
      " 6   educ      float64\n",
      " 7   pob       int64  \n",
      " 8   wt        int64  \n",
      " 9   hhid      int64  \n",
      " 10  hhnum     int64  \n",
      " 11  reltrf    float64\n",
      " 12  occ       float64\n",
      " 13  majocc    float64\n",
      " 14  ind       float64\n",
      " 15  majind    float64\n",
      " 16  esr       float64\n",
      " 17  urban     float64\n",
      " 18  smsast    float64\n",
      " 19  inddea    int64  \n",
      " 20  cause113  int64  \n",
      " 21  follow    int64  \n",
      " 22  dayod     float64\n",
      " 23  hosp      float64\n",
      " 24  hospd     float64\n",
      " 25  ssnyn     int64  \n",
      " 26  vt        float64\n",
      " 27  histatus  float64\n",
      " 28  hitype    float64\n",
      " 29  povpct    int64  \n",
      " 30  stater    int64  \n",
      " 31  rcow      float64\n",
      " 32  tenure    float64\n",
      " 33  citizen   float64\n",
      " 34  health    float64\n",
      " 35  indalg    float64\n",
      "dtypes: float64(24), int64(12)\n",
      "memory usage: 518.0 MB\n"
     ]
    }
   ],
   "source": [
    "nlms.info()"
   ]
  },
  {
   "cell_type": "code",
   "execution_count": 14,
   "id": "1ee5ca8e-444c-427a-af37-24cb4b28aaf6",
   "metadata": {},
   "outputs": [
    {
     "data": {
      "text/plain": [
       "(1835072, 36)"
      ]
     },
     "execution_count": 14,
     "metadata": {},
     "output_type": "execute_result"
    }
   ],
   "source": [
    "nlms.shape"
   ]
  },
  {
   "cell_type": "markdown",
   "id": "0baa6338-e9a3-480b-b76c-ebb8f1fefc05",
   "metadata": {},
   "source": [
    "### DataFrame for deceased individuals"
   ]
  },
  {
   "cell_type": "code",
   "execution_count": 36,
   "id": "ca8e44b4-d030-4cb4-813b-49cdd2f2d77d",
   "metadata": {},
   "outputs": [],
   "source": [
    "dec = nlms[nlms.dayod.isin([1.0, 2.0, 3.0, 4.0, 5.0, 6.0, 7.0])]\n"
   ]
  },
  {
   "cell_type": "code",
   "execution_count": 37,
   "id": "b82b3696-2414-45e7-ab2e-39c90a988148",
   "metadata": {},
   "outputs": [
    {
     "data": {
      "text/plain": [
       "(160750, 36)"
      ]
     },
     "execution_count": 37,
     "metadata": {},
     "output_type": "execute_result"
    }
   ],
   "source": [
    "dec.shape"
   ]
  },
  {
   "cell_type": "code",
   "execution_count": 38,
   "id": "d4d4cfa0-d788-45ff-9632-4646fc2a9fd3",
   "metadata": {},
   "outputs": [],
   "source": [
    "dec.to_csv('data/dec.csv')"
   ]
  },
  {
   "cell_type": "code",
   "execution_count": 165,
   "id": "37af2fe9-839d-4b31-9f2f-ace14eb9fc58",
   "metadata": {},
   "outputs": [],
   "source": [
    "# Start over here: \n",
    "dec = pd.read_csv('data/dec.csv')"
   ]
  },
  {
   "cell_type": "code",
   "execution_count": 166,
   "id": "d073c00b-ab24-4282-8284-7b325bb2e6f7",
   "metadata": {},
   "outputs": [],
   "source": [
    "# Split before preprocessing\n",
    "dec_label = dec.pop('age')\n",
    "dec_features = dec.copy()"
   ]
  },
  {
   "cell_type": "code",
   "execution_count": 167,
   "id": "d8b7aec1-1471-478e-a696-b37ab8ecb74e",
   "metadata": {},
   "outputs": [],
   "source": [
    "dec_feat_train, dec_feat_test, dec_label_train, dec_label_test = train_test_split(dec_features, dec_label, test_size=0.2)"
   ]
  },
  {
   "cell_type": "markdown",
   "id": "c2a8fac7-8cbc-4bb6-87cd-e58706ffc570",
   "metadata": {},
   "source": [
    "#### Pipeline for Processing"
   ]
  },
  {
   "cell_type": "code",
   "execution_count": 168,
   "id": "16ec9d8f-7286-4bc4-856d-4bea7aa78766",
   "metadata": {},
   "outputs": [],
   "source": [
    "cols_to_drop = ['hhid', 'reltrf', 'occ', 'majocc', 'majind', 'ind', 'smsast', \n",
    "                'inddea', 'follow', 'hospd', 'stater', 'health', 'indalg',\n",
    "               'citizen', 'rcow']"
   ]
  },
  {
   "cell_type": "code",
   "execution_count": 169,
   "id": "b6f08c9b-be23-4d84-aff4-e64f9bb7a73e",
   "metadata": {},
   "outputs": [
    {
     "name": "stderr",
     "output_type": "stream",
     "text": [
      "/opt/anaconda3/lib/python3.7/site-packages/pandas/core/frame.py:4315: SettingWithCopyWarning: \n",
      "A value is trying to be set on a copy of a slice from a DataFrame\n",
      "\n",
      "See the caveats in the documentation: https://pandas.pydata.org/pandas-docs/stable/user_guide/indexing.html#returning-a-view-versus-a-copy\n",
      "  errors=errors,\n"
     ]
    }
   ],
   "source": [
    "dec_feat_train.drop(columns=cols_to_drop, inplace=True, axis=1);"
   ]
  },
  {
   "cell_type": "code",
   "execution_count": 170,
   "id": "290adcec-3a2e-4df1-b892-26f908ad096e",
   "metadata": {},
   "outputs": [
    {
     "data": {
      "text/plain": [
       "record       0.000000\n",
       "race         0.136858\n",
       "sex          0.000000\n",
       "ms           1.013997\n",
       "hisp         2.625194\n",
       "adjinc       2.262830\n",
       "educ         0.950233\n",
       "pob          0.000000\n",
       "wt           0.000000\n",
       "hhnum        0.000000\n",
       "esr          0.936236\n",
       "urban        0.101866\n",
       "cause113     0.000000\n",
       "dayod        0.000000\n",
       "hosp         1.815708\n",
       "ssnyn        0.000000\n",
       "vt           1.172628\n",
       "histatus    30.730171\n",
       "hitype      30.730171\n",
       "povpct       0.000000\n",
       "tenure       0.847589\n",
       "dtype: float64"
      ]
     },
     "execution_count": 170,
     "metadata": {},
     "output_type": "execute_result"
    }
   ],
   "source": [
    "dec_feat_train.isnull().sum() * 100 / len(dec_feat_train)"
   ]
  },
  {
   "cell_type": "code",
   "execution_count": 171,
   "id": "defc808b-bfb8-4b9d-9f77-61eaa806cd6a",
   "metadata": {},
   "outputs": [
    {
     "data": {
      "text/plain": [
       "Index(['record', 'race', 'sex', 'ms', 'hisp', 'adjinc', 'educ', 'pob', 'wt',\n",
       "       'hhnum', 'esr', 'urban', 'cause113', 'dayod', 'hosp', 'ssnyn', 'vt',\n",
       "       'histatus', 'hitype', 'povpct', 'tenure'],\n",
       "      dtype='object')"
      ]
     },
     "execution_count": 171,
     "metadata": {},
     "output_type": "execute_result"
    }
   ],
   "source": [
    "dec_feat_train.columns"
   ]
  },
  {
   "cell_type": "code",
   "execution_count": 172,
   "id": "9059294d-b914-4009-a674-8f8fc54f4ee9",
   "metadata": {},
   "outputs": [],
   "source": [
    "cat_cols = ['race', 'sex', 'ms', 'hisp', 'pob', 'esr', 'urban', \n",
    "               'cause113', 'dayod', 'hosp', 'ssnyn', 'vt', 'histatus', 'hitype', 'tenure']\n",
    "\n",
    "num_cols = ['adjinc', 'educ', 'wt', 'hhnum']"
   ]
  },
  {
   "cell_type": "markdown",
   "id": "684a36ba-681b-4252-94f9-cb7c3c96428d",
   "metadata": {},
   "source": [
    "Fill missing values"
   ]
  },
  {
   "cell_type": "code",
   "execution_count": 173,
   "id": "b13d69d5-94e3-4e29-8aec-906a3fc92ffa",
   "metadata": {},
   "outputs": [],
   "source": [
    "imputer = KNNImputer(n_neighbors=1)"
   ]
  },
  {
   "cell_type": "code",
   "execution_count": 175,
   "id": "00922049-2e50-47ab-81a4-9a416066926a",
   "metadata": {},
   "outputs": [],
   "source": [
    "dec_feat_train.set_index('record', inplace=True)"
   ]
  },
  {
   "cell_type": "code",
   "execution_count": 179,
   "id": "4bf97d2f-ee8b-49c3-b4e2-48cb0f4041db",
   "metadata": {},
   "outputs": [],
   "source": [
    "cat_df_imp = pd.DataFrame(imputer.fit_transform(dec_feat_train[cat_cols]), columns=cat_cols, index=dec_feat_train.index)"
   ]
  },
  {
   "cell_type": "code",
   "execution_count": 180,
   "id": "51a84665-cadf-496f-9546-80702c360d7d",
   "metadata": {},
   "outputs": [
    {
     "data": {
      "text/html": [
       "<div>\n",
       "<style scoped>\n",
       "    .dataframe tbody tr th:only-of-type {\n",
       "        vertical-align: middle;\n",
       "    }\n",
       "\n",
       "    .dataframe tbody tr th {\n",
       "        vertical-align: top;\n",
       "    }\n",
       "\n",
       "    .dataframe thead th {\n",
       "        text-align: right;\n",
       "    }\n",
       "</style>\n",
       "<table border=\"1\" class=\"dataframe\">\n",
       "  <thead>\n",
       "    <tr style=\"text-align: right;\">\n",
       "      <th></th>\n",
       "      <th>race</th>\n",
       "      <th>sex</th>\n",
       "      <th>ms</th>\n",
       "      <th>hisp</th>\n",
       "      <th>pob</th>\n",
       "      <th>esr</th>\n",
       "      <th>urban</th>\n",
       "      <th>cause113</th>\n",
       "      <th>dayod</th>\n",
       "      <th>hosp</th>\n",
       "      <th>ssnyn</th>\n",
       "      <th>vt</th>\n",
       "      <th>histatus</th>\n",
       "      <th>hitype</th>\n",
       "      <th>tenure</th>\n",
       "    </tr>\n",
       "    <tr>\n",
       "      <th>record</th>\n",
       "      <th></th>\n",
       "      <th></th>\n",
       "      <th></th>\n",
       "      <th></th>\n",
       "      <th></th>\n",
       "      <th></th>\n",
       "      <th></th>\n",
       "      <th></th>\n",
       "      <th></th>\n",
       "      <th></th>\n",
       "      <th></th>\n",
       "      <th></th>\n",
       "      <th></th>\n",
       "      <th></th>\n",
       "      <th></th>\n",
       "    </tr>\n",
       "  </thead>\n",
       "  <tbody>\n",
       "    <tr>\n",
       "      <th>970788</th>\n",
       "      <td>1.0</td>\n",
       "      <td>2.0</td>\n",
       "      <td>1.0</td>\n",
       "      <td>3.0</td>\n",
       "      <td>937.0</td>\n",
       "      <td>5.0</td>\n",
       "      <td>1.0</td>\n",
       "      <td>27.0</td>\n",
       "      <td>2.0</td>\n",
       "      <td>4.0</td>\n",
       "      <td>1.0</td>\n",
       "      <td>0.0</td>\n",
       "      <td>1.0</td>\n",
       "      <td>1.0</td>\n",
       "      <td>1.0</td>\n",
       "    </tr>\n",
       "    <tr>\n",
       "      <th>842203</th>\n",
       "      <td>1.0</td>\n",
       "      <td>1.0</td>\n",
       "      <td>1.0</td>\n",
       "      <td>3.0</td>\n",
       "      <td>918.0</td>\n",
       "      <td>4.0</td>\n",
       "      <td>1.0</td>\n",
       "      <td>52.0</td>\n",
       "      <td>6.0</td>\n",
       "      <td>1.0</td>\n",
       "      <td>1.0</td>\n",
       "      <td>0.0</td>\n",
       "      <td>1.0</td>\n",
       "      <td>1.0</td>\n",
       "      <td>1.0</td>\n",
       "    </tr>\n",
       "    <tr>\n",
       "      <th>835196</th>\n",
       "      <td>2.0</td>\n",
       "      <td>2.0</td>\n",
       "      <td>2.0</td>\n",
       "      <td>3.0</td>\n",
       "      <td>901.0</td>\n",
       "      <td>1.0</td>\n",
       "      <td>2.0</td>\n",
       "      <td>21.0</td>\n",
       "      <td>7.0</td>\n",
       "      <td>1.0</td>\n",
       "      <td>1.0</td>\n",
       "      <td>0.0</td>\n",
       "      <td>1.0</td>\n",
       "      <td>1.0</td>\n",
       "      <td>3.0</td>\n",
       "    </tr>\n",
       "    <tr>\n",
       "      <th>522533</th>\n",
       "      <td>1.0</td>\n",
       "      <td>2.0</td>\n",
       "      <td>3.0</td>\n",
       "      <td>3.0</td>\n",
       "      <td>936.0</td>\n",
       "      <td>1.0</td>\n",
       "      <td>1.0</td>\n",
       "      <td>55.0</td>\n",
       "      <td>6.0</td>\n",
       "      <td>1.0</td>\n",
       "      <td>1.0</td>\n",
       "      <td>0.0</td>\n",
       "      <td>1.0</td>\n",
       "      <td>1.0</td>\n",
       "      <td>2.0</td>\n",
       "    </tr>\n",
       "    <tr>\n",
       "      <th>865793</th>\n",
       "      <td>1.0</td>\n",
       "      <td>1.0</td>\n",
       "      <td>1.0</td>\n",
       "      <td>3.0</td>\n",
       "      <td>936.0</td>\n",
       "      <td>5.0</td>\n",
       "      <td>1.0</td>\n",
       "      <td>67.0</td>\n",
       "      <td>2.0</td>\n",
       "      <td>2.0</td>\n",
       "      <td>1.0</td>\n",
       "      <td>0.0</td>\n",
       "      <td>1.0</td>\n",
       "      <td>1.0</td>\n",
       "      <td>2.0</td>\n",
       "    </tr>\n",
       "    <tr>\n",
       "      <th>...</th>\n",
       "      <td>...</td>\n",
       "      <td>...</td>\n",
       "      <td>...</td>\n",
       "      <td>...</td>\n",
       "      <td>...</td>\n",
       "      <td>...</td>\n",
       "      <td>...</td>\n",
       "      <td>...</td>\n",
       "      <td>...</td>\n",
       "      <td>...</td>\n",
       "      <td>...</td>\n",
       "      <td>...</td>\n",
       "      <td>...</td>\n",
       "      <td>...</td>\n",
       "      <td>...</td>\n",
       "    </tr>\n",
       "    <tr>\n",
       "      <th>535321</th>\n",
       "      <td>1.0</td>\n",
       "      <td>2.0</td>\n",
       "      <td>2.0</td>\n",
       "      <td>3.0</td>\n",
       "      <td>936.0</td>\n",
       "      <td>5.0</td>\n",
       "      <td>1.0</td>\n",
       "      <td>55.0</td>\n",
       "      <td>4.0</td>\n",
       "      <td>1.0</td>\n",
       "      <td>1.0</td>\n",
       "      <td>0.0</td>\n",
       "      <td>1.0</td>\n",
       "      <td>1.0</td>\n",
       "      <td>1.0</td>\n",
       "    </tr>\n",
       "    <tr>\n",
       "      <th>1446125</th>\n",
       "      <td>1.0</td>\n",
       "      <td>1.0</td>\n",
       "      <td>1.0</td>\n",
       "      <td>3.0</td>\n",
       "      <td>942.0</td>\n",
       "      <td>5.0</td>\n",
       "      <td>1.0</td>\n",
       "      <td>32.0</td>\n",
       "      <td>1.0</td>\n",
       "      <td>1.0</td>\n",
       "      <td>1.0</td>\n",
       "      <td>1.0</td>\n",
       "      <td>1.0</td>\n",
       "      <td>1.0</td>\n",
       "      <td>1.0</td>\n",
       "    </tr>\n",
       "    <tr>\n",
       "      <th>553998</th>\n",
       "      <td>1.0</td>\n",
       "      <td>1.0</td>\n",
       "      <td>1.0</td>\n",
       "      <td>3.0</td>\n",
       "      <td>926.0</td>\n",
       "      <td>4.0</td>\n",
       "      <td>1.0</td>\n",
       "      <td>73.0</td>\n",
       "      <td>4.0</td>\n",
       "      <td>4.0</td>\n",
       "      <td>0.0</td>\n",
       "      <td>1.0</td>\n",
       "      <td>1.0</td>\n",
       "      <td>1.0</td>\n",
       "      <td>1.0</td>\n",
       "    </tr>\n",
       "    <tr>\n",
       "      <th>727</th>\n",
       "      <td>1.0</td>\n",
       "      <td>1.0</td>\n",
       "      <td>1.0</td>\n",
       "      <td>3.0</td>\n",
       "      <td>0.0</td>\n",
       "      <td>5.0</td>\n",
       "      <td>2.0</td>\n",
       "      <td>48.0</td>\n",
       "      <td>1.0</td>\n",
       "      <td>2.0</td>\n",
       "      <td>1.0</td>\n",
       "      <td>0.0</td>\n",
       "      <td>1.0</td>\n",
       "      <td>4.0</td>\n",
       "      <td>1.0</td>\n",
       "    </tr>\n",
       "    <tr>\n",
       "      <th>1368424</th>\n",
       "      <td>1.0</td>\n",
       "      <td>2.0</td>\n",
       "      <td>1.0</td>\n",
       "      <td>3.0</td>\n",
       "      <td>918.0</td>\n",
       "      <td>5.0</td>\n",
       "      <td>2.0</td>\n",
       "      <td>43.0</td>\n",
       "      <td>4.0</td>\n",
       "      <td>1.0</td>\n",
       "      <td>1.0</td>\n",
       "      <td>0.0</td>\n",
       "      <td>0.0</td>\n",
       "      <td>0.0</td>\n",
       "      <td>1.0</td>\n",
       "    </tr>\n",
       "  </tbody>\n",
       "</table>\n",
       "<p>128600 rows × 15 columns</p>\n",
       "</div>"
      ],
      "text/plain": [
       "         race  sex   ms  hisp    pob  esr  urban  cause113  dayod  hosp  \\\n",
       "record                                                                    \n",
       "970788    1.0  2.0  1.0   3.0  937.0  5.0    1.0      27.0    2.0   4.0   \n",
       "842203    1.0  1.0  1.0   3.0  918.0  4.0    1.0      52.0    6.0   1.0   \n",
       "835196    2.0  2.0  2.0   3.0  901.0  1.0    2.0      21.0    7.0   1.0   \n",
       "522533    1.0  2.0  3.0   3.0  936.0  1.0    1.0      55.0    6.0   1.0   \n",
       "865793    1.0  1.0  1.0   3.0  936.0  5.0    1.0      67.0    2.0   2.0   \n",
       "...       ...  ...  ...   ...    ...  ...    ...       ...    ...   ...   \n",
       "535321    1.0  2.0  2.0   3.0  936.0  5.0    1.0      55.0    4.0   1.0   \n",
       "1446125   1.0  1.0  1.0   3.0  942.0  5.0    1.0      32.0    1.0   1.0   \n",
       "553998    1.0  1.0  1.0   3.0  926.0  4.0    1.0      73.0    4.0   4.0   \n",
       "727       1.0  1.0  1.0   3.0    0.0  5.0    2.0      48.0    1.0   2.0   \n",
       "1368424   1.0  2.0  1.0   3.0  918.0  5.0    2.0      43.0    4.0   1.0   \n",
       "\n",
       "         ssnyn   vt  histatus  hitype  tenure  \n",
       "record                                         \n",
       "970788     1.0  0.0       1.0     1.0     1.0  \n",
       "842203     1.0  0.0       1.0     1.0     1.0  \n",
       "835196     1.0  0.0       1.0     1.0     3.0  \n",
       "522533     1.0  0.0       1.0     1.0     2.0  \n",
       "865793     1.0  0.0       1.0     1.0     2.0  \n",
       "...        ...  ...       ...     ...     ...  \n",
       "535321     1.0  0.0       1.0     1.0     1.0  \n",
       "1446125    1.0  1.0       1.0     1.0     1.0  \n",
       "553998     0.0  1.0       1.0     1.0     1.0  \n",
       "727        1.0  0.0       1.0     4.0     1.0  \n",
       "1368424    1.0  0.0       0.0     0.0     1.0  \n",
       "\n",
       "[128600 rows x 15 columns]"
      ]
     },
     "execution_count": 180,
     "metadata": {},
     "output_type": "execute_result"
    }
   ],
   "source": [
    "cat_df_imp"
   ]
  },
  {
   "cell_type": "code",
   "execution_count": 181,
   "id": "e7eaa96b-a4f3-4583-ad05-704a780d980c",
   "metadata": {},
   "outputs": [],
   "source": [
    "imputer_num = KNNImputer(n_neighbors=3)"
   ]
  },
  {
   "cell_type": "code",
   "execution_count": 182,
   "id": "2029e4c0-68e8-4ef8-bff1-4dd4239e11a6",
   "metadata": {},
   "outputs": [],
   "source": [
    "num_df_imp = pd.DataFrame(imputer_num.fit_transform(dec_feat_train[num_cols]), columns=num_cols, index=dec_feat_train.index)"
   ]
  },
  {
   "cell_type": "code",
   "execution_count": 186,
   "id": "0ddb3654-a9a0-4e01-83e7-433f1eae2cb8",
   "metadata": {},
   "outputs": [],
   "source": [
    "df = cat_df_imp.merge(num_df_imp, left_index=True, right_index=True)\n"
   ]
  },
  {
   "cell_type": "code",
   "execution_count": 189,
   "id": "ac31e806-ac6e-4081-9400-b74637795972",
   "metadata": {},
   "outputs": [
    {
     "data": {
      "text/html": [
       "<div>\n",
       "<style scoped>\n",
       "    .dataframe tbody tr th:only-of-type {\n",
       "        vertical-align: middle;\n",
       "    }\n",
       "\n",
       "    .dataframe tbody tr th {\n",
       "        vertical-align: top;\n",
       "    }\n",
       "\n",
       "    .dataframe thead th {\n",
       "        text-align: right;\n",
       "    }\n",
       "</style>\n",
       "<table border=\"1\" class=\"dataframe\">\n",
       "  <thead>\n",
       "    <tr style=\"text-align: right;\">\n",
       "      <th></th>\n",
       "      <th>race</th>\n",
       "      <th>sex</th>\n",
       "      <th>ms</th>\n",
       "      <th>hisp</th>\n",
       "      <th>pob</th>\n",
       "      <th>esr</th>\n",
       "      <th>urban</th>\n",
       "      <th>cause113</th>\n",
       "      <th>dayod</th>\n",
       "      <th>hosp</th>\n",
       "      <th>ssnyn</th>\n",
       "      <th>vt</th>\n",
       "      <th>histatus</th>\n",
       "      <th>hitype</th>\n",
       "      <th>tenure</th>\n",
       "      <th>adjinc</th>\n",
       "      <th>educ</th>\n",
       "      <th>wt</th>\n",
       "      <th>hhnum</th>\n",
       "    </tr>\n",
       "    <tr>\n",
       "      <th>record</th>\n",
       "      <th></th>\n",
       "      <th></th>\n",
       "      <th></th>\n",
       "      <th></th>\n",
       "      <th></th>\n",
       "      <th></th>\n",
       "      <th></th>\n",
       "      <th></th>\n",
       "      <th></th>\n",
       "      <th></th>\n",
       "      <th></th>\n",
       "      <th></th>\n",
       "      <th></th>\n",
       "      <th></th>\n",
       "      <th></th>\n",
       "      <th></th>\n",
       "      <th></th>\n",
       "      <th></th>\n",
       "      <th></th>\n",
       "    </tr>\n",
       "  </thead>\n",
       "  <tbody>\n",
       "    <tr>\n",
       "      <th>970788</th>\n",
       "      <td>1.0</td>\n",
       "      <td>2.0</td>\n",
       "      <td>1.0</td>\n",
       "      <td>3.0</td>\n",
       "      <td>937.0</td>\n",
       "      <td>5.0</td>\n",
       "      <td>1.0</td>\n",
       "      <td>27.0</td>\n",
       "      <td>2.0</td>\n",
       "      <td>4.0</td>\n",
       "      <td>1.0</td>\n",
       "      <td>0.0</td>\n",
       "      <td>1.0</td>\n",
       "      <td>1.0</td>\n",
       "      <td>1.0</td>\n",
       "      <td>14.000000</td>\n",
       "      <td>8.000000</td>\n",
       "      <td>71.0</td>\n",
       "      <td>2.0</td>\n",
       "    </tr>\n",
       "    <tr>\n",
       "      <th>842203</th>\n",
       "      <td>1.0</td>\n",
       "      <td>1.0</td>\n",
       "      <td>1.0</td>\n",
       "      <td>3.0</td>\n",
       "      <td>918.0</td>\n",
       "      <td>4.0</td>\n",
       "      <td>1.0</td>\n",
       "      <td>52.0</td>\n",
       "      <td>6.0</td>\n",
       "      <td>1.0</td>\n",
       "      <td>1.0</td>\n",
       "      <td>0.0</td>\n",
       "      <td>1.0</td>\n",
       "      <td>1.0</td>\n",
       "      <td>1.0</td>\n",
       "      <td>7.000000</td>\n",
       "      <td>8.000000</td>\n",
       "      <td>144.0</td>\n",
       "      <td>2.0</td>\n",
       "    </tr>\n",
       "    <tr>\n",
       "      <th>835196</th>\n",
       "      <td>2.0</td>\n",
       "      <td>2.0</td>\n",
       "      <td>2.0</td>\n",
       "      <td>3.0</td>\n",
       "      <td>901.0</td>\n",
       "      <td>1.0</td>\n",
       "      <td>2.0</td>\n",
       "      <td>21.0</td>\n",
       "      <td>7.0</td>\n",
       "      <td>1.0</td>\n",
       "      <td>1.0</td>\n",
       "      <td>0.0</td>\n",
       "      <td>1.0</td>\n",
       "      <td>1.0</td>\n",
       "      <td>3.0</td>\n",
       "      <td>4.000000</td>\n",
       "      <td>10.000000</td>\n",
       "      <td>112.0</td>\n",
       "      <td>2.0</td>\n",
       "    </tr>\n",
       "    <tr>\n",
       "      <th>522533</th>\n",
       "      <td>1.0</td>\n",
       "      <td>2.0</td>\n",
       "      <td>3.0</td>\n",
       "      <td>3.0</td>\n",
       "      <td>936.0</td>\n",
       "      <td>1.0</td>\n",
       "      <td>1.0</td>\n",
       "      <td>55.0</td>\n",
       "      <td>6.0</td>\n",
       "      <td>1.0</td>\n",
       "      <td>1.0</td>\n",
       "      <td>0.0</td>\n",
       "      <td>1.0</td>\n",
       "      <td>1.0</td>\n",
       "      <td>2.0</td>\n",
       "      <td>2.000000</td>\n",
       "      <td>8.000000</td>\n",
       "      <td>178.0</td>\n",
       "      <td>1.0</td>\n",
       "    </tr>\n",
       "    <tr>\n",
       "      <th>865793</th>\n",
       "      <td>1.0</td>\n",
       "      <td>1.0</td>\n",
       "      <td>1.0</td>\n",
       "      <td>3.0</td>\n",
       "      <td>936.0</td>\n",
       "      <td>5.0</td>\n",
       "      <td>1.0</td>\n",
       "      <td>67.0</td>\n",
       "      <td>2.0</td>\n",
       "      <td>2.0</td>\n",
       "      <td>1.0</td>\n",
       "      <td>0.0</td>\n",
       "      <td>1.0</td>\n",
       "      <td>1.0</td>\n",
       "      <td>2.0</td>\n",
       "      <td>4.000000</td>\n",
       "      <td>5.000000</td>\n",
       "      <td>197.0</td>\n",
       "      <td>2.0</td>\n",
       "    </tr>\n",
       "    <tr>\n",
       "      <th>...</th>\n",
       "      <td>...</td>\n",
       "      <td>...</td>\n",
       "      <td>...</td>\n",
       "      <td>...</td>\n",
       "      <td>...</td>\n",
       "      <td>...</td>\n",
       "      <td>...</td>\n",
       "      <td>...</td>\n",
       "      <td>...</td>\n",
       "      <td>...</td>\n",
       "      <td>...</td>\n",
       "      <td>...</td>\n",
       "      <td>...</td>\n",
       "      <td>...</td>\n",
       "      <td>...</td>\n",
       "      <td>...</td>\n",
       "      <td>...</td>\n",
       "      <td>...</td>\n",
       "      <td>...</td>\n",
       "    </tr>\n",
       "    <tr>\n",
       "      <th>535321</th>\n",
       "      <td>1.0</td>\n",
       "      <td>2.0</td>\n",
       "      <td>2.0</td>\n",
       "      <td>3.0</td>\n",
       "      <td>936.0</td>\n",
       "      <td>5.0</td>\n",
       "      <td>1.0</td>\n",
       "      <td>55.0</td>\n",
       "      <td>4.0</td>\n",
       "      <td>1.0</td>\n",
       "      <td>1.0</td>\n",
       "      <td>0.0</td>\n",
       "      <td>1.0</td>\n",
       "      <td>1.0</td>\n",
       "      <td>1.0</td>\n",
       "      <td>12.000000</td>\n",
       "      <td>4.000000</td>\n",
       "      <td>123.0</td>\n",
       "      <td>6.0</td>\n",
       "    </tr>\n",
       "    <tr>\n",
       "      <th>1446125</th>\n",
       "      <td>1.0</td>\n",
       "      <td>1.0</td>\n",
       "      <td>1.0</td>\n",
       "      <td>3.0</td>\n",
       "      <td>942.0</td>\n",
       "      <td>5.0</td>\n",
       "      <td>1.0</td>\n",
       "      <td>32.0</td>\n",
       "      <td>1.0</td>\n",
       "      <td>1.0</td>\n",
       "      <td>1.0</td>\n",
       "      <td>1.0</td>\n",
       "      <td>1.0</td>\n",
       "      <td>1.0</td>\n",
       "      <td>1.0</td>\n",
       "      <td>4.000000</td>\n",
       "      <td>12.000000</td>\n",
       "      <td>56.0</td>\n",
       "      <td>2.0</td>\n",
       "    </tr>\n",
       "    <tr>\n",
       "      <th>553998</th>\n",
       "      <td>1.0</td>\n",
       "      <td>1.0</td>\n",
       "      <td>1.0</td>\n",
       "      <td>3.0</td>\n",
       "      <td>926.0</td>\n",
       "      <td>4.0</td>\n",
       "      <td>1.0</td>\n",
       "      <td>73.0</td>\n",
       "      <td>4.0</td>\n",
       "      <td>4.0</td>\n",
       "      <td>0.0</td>\n",
       "      <td>1.0</td>\n",
       "      <td>1.0</td>\n",
       "      <td>1.0</td>\n",
       "      <td>1.0</td>\n",
       "      <td>8.666667</td>\n",
       "      <td>4.000000</td>\n",
       "      <td>228.0</td>\n",
       "      <td>5.0</td>\n",
       "    </tr>\n",
       "    <tr>\n",
       "      <th>727</th>\n",
       "      <td>1.0</td>\n",
       "      <td>1.0</td>\n",
       "      <td>1.0</td>\n",
       "      <td>3.0</td>\n",
       "      <td>0.0</td>\n",
       "      <td>5.0</td>\n",
       "      <td>2.0</td>\n",
       "      <td>48.0</td>\n",
       "      <td>1.0</td>\n",
       "      <td>2.0</td>\n",
       "      <td>1.0</td>\n",
       "      <td>0.0</td>\n",
       "      <td>1.0</td>\n",
       "      <td>4.0</td>\n",
       "      <td>1.0</td>\n",
       "      <td>9.000000</td>\n",
       "      <td>6.333333</td>\n",
       "      <td>66.0</td>\n",
       "      <td>3.0</td>\n",
       "    </tr>\n",
       "    <tr>\n",
       "      <th>1368424</th>\n",
       "      <td>1.0</td>\n",
       "      <td>2.0</td>\n",
       "      <td>1.0</td>\n",
       "      <td>3.0</td>\n",
       "      <td>918.0</td>\n",
       "      <td>5.0</td>\n",
       "      <td>2.0</td>\n",
       "      <td>43.0</td>\n",
       "      <td>4.0</td>\n",
       "      <td>1.0</td>\n",
       "      <td>1.0</td>\n",
       "      <td>0.0</td>\n",
       "      <td>0.0</td>\n",
       "      <td>0.0</td>\n",
       "      <td>1.0</td>\n",
       "      <td>9.333333</td>\n",
       "      <td>6.000000</td>\n",
       "      <td>115.0</td>\n",
       "      <td>3.0</td>\n",
       "    </tr>\n",
       "  </tbody>\n",
       "</table>\n",
       "<p>128600 rows × 19 columns</p>\n",
       "</div>"
      ],
      "text/plain": [
       "         race  sex   ms  hisp    pob  esr  urban  cause113  dayod  hosp  \\\n",
       "record                                                                    \n",
       "970788    1.0  2.0  1.0   3.0  937.0  5.0    1.0      27.0    2.0   4.0   \n",
       "842203    1.0  1.0  1.0   3.0  918.0  4.0    1.0      52.0    6.0   1.0   \n",
       "835196    2.0  2.0  2.0   3.0  901.0  1.0    2.0      21.0    7.0   1.0   \n",
       "522533    1.0  2.0  3.0   3.0  936.0  1.0    1.0      55.0    6.0   1.0   \n",
       "865793    1.0  1.0  1.0   3.0  936.0  5.0    1.0      67.0    2.0   2.0   \n",
       "...       ...  ...  ...   ...    ...  ...    ...       ...    ...   ...   \n",
       "535321    1.0  2.0  2.0   3.0  936.0  5.0    1.0      55.0    4.0   1.0   \n",
       "1446125   1.0  1.0  1.0   3.0  942.0  5.0    1.0      32.0    1.0   1.0   \n",
       "553998    1.0  1.0  1.0   3.0  926.0  4.0    1.0      73.0    4.0   4.0   \n",
       "727       1.0  1.0  1.0   3.0    0.0  5.0    2.0      48.0    1.0   2.0   \n",
       "1368424   1.0  2.0  1.0   3.0  918.0  5.0    2.0      43.0    4.0   1.0   \n",
       "\n",
       "         ssnyn   vt  histatus  hitype  tenure     adjinc       educ     wt  \\\n",
       "record                                                                       \n",
       "970788     1.0  0.0       1.0     1.0     1.0  14.000000   8.000000   71.0   \n",
       "842203     1.0  0.0       1.0     1.0     1.0   7.000000   8.000000  144.0   \n",
       "835196     1.0  0.0       1.0     1.0     3.0   4.000000  10.000000  112.0   \n",
       "522533     1.0  0.0       1.0     1.0     2.0   2.000000   8.000000  178.0   \n",
       "865793     1.0  0.0       1.0     1.0     2.0   4.000000   5.000000  197.0   \n",
       "...        ...  ...       ...     ...     ...        ...        ...    ...   \n",
       "535321     1.0  0.0       1.0     1.0     1.0  12.000000   4.000000  123.0   \n",
       "1446125    1.0  1.0       1.0     1.0     1.0   4.000000  12.000000   56.0   \n",
       "553998     0.0  1.0       1.0     1.0     1.0   8.666667   4.000000  228.0   \n",
       "727        1.0  0.0       1.0     4.0     1.0   9.000000   6.333333   66.0   \n",
       "1368424    1.0  0.0       0.0     0.0     1.0   9.333333   6.000000  115.0   \n",
       "\n",
       "         hhnum  \n",
       "record          \n",
       "970788     2.0  \n",
       "842203     2.0  \n",
       "835196     2.0  \n",
       "522533     1.0  \n",
       "865793     2.0  \n",
       "...        ...  \n",
       "535321     6.0  \n",
       "1446125    2.0  \n",
       "553998     5.0  \n",
       "727        3.0  \n",
       "1368424    3.0  \n",
       "\n",
       "[128600 rows x 19 columns]"
      ]
     },
     "execution_count": 189,
     "metadata": {},
     "output_type": "execute_result"
    }
   ],
   "source": [
    "df"
   ]
  },
  {
   "cell_type": "code",
   "execution_count": 191,
   "id": "4b3a9ce2-e3b4-4542-a861-52f609b20ad1",
   "metadata": {},
   "outputs": [],
   "source": [
    "dec_feat_train = df.copy()"
   ]
  },
  {
   "cell_type": "code",
   "execution_count": 192,
   "id": "503c3b8a-40a6-443e-9414-10126f27cd8b",
   "metadata": {},
   "outputs": [],
   "source": [
    "saved = dec_feat_train.copy()"
   ]
  },
  {
   "cell_type": "code",
   "execution_count": 193,
   "id": "eab4efeb-68c8-4b6a-a6d4-077b8aca01e7",
   "metadata": {},
   "outputs": [],
   "source": [
    "saved.to_csv('data/saved.csv')"
   ]
  },
  {
   "cell_type": "markdown",
   "id": "362c3a31-c07f-4049-8c56-c00268ca01df",
   "metadata": {},
   "source": [
    "### For tomorrow: How to OHE and keep df in order"
   ]
  },
  {
   "cell_type": "code",
   "execution_count": null,
   "id": "45aeb4cf-096e-4702-a9d5-3873c7ecca99",
   "metadata": {},
   "outputs": [],
   "source": [
    "dec_ft_enc = pd.get_dummies(dec_feat_train, prefix_sep=\"__\",\n",
    "                              columns=cat_cols, drop_first=True)"
   ]
  },
  {
   "cell_type": "code",
   "execution_count": null,
   "id": "e61fba1e-e559-41e4-ac00-a367ab1e1b46",
   "metadata": {},
   "outputs": [],
   "source": []
  },
  {
   "cell_type": "code",
   "execution_count": 127,
   "id": "5e4097f7-e2e0-4bf2-aab0-d08d1bba1d12",
   "metadata": {},
   "outputs": [],
   "source": [
    "df = pd.get_dummies(dec_feat_train, columns = cat_cols, prefix=cat_cols, prefix_sep='__', drop_first=True).reset_index(drop=True)"
   ]
  },
  {
   "cell_type": "code",
   "execution_count": 130,
   "id": "e751be7c-4ef5-40be-9fac-6b3c0256be46",
   "metadata": {},
   "outputs": [],
   "source": [
    "df.set_index('record', inplace=True)"
   ]
  },
  {
   "cell_type": "code",
   "execution_count": null,
   "id": "fe850063-00d1-438e-bd6c-7f2315264b99",
   "metadata": {},
   "outputs": [],
   "source": []
  },
  {
   "cell_type": "code",
   "execution_count": null,
   "id": "b22a8718-4222-4aa1-9373-706a70cc6f95",
   "metadata": {},
   "outputs": [],
   "source": []
  },
  {
   "cell_type": "code",
   "execution_count": null,
   "id": "b313c47e-4701-4aef-b06c-42d8abd3e9a5",
   "metadata": {},
   "outputs": [],
   "source": []
  },
  {
   "cell_type": "code",
   "execution_count": null,
   "id": "32b8f21f-25a5-4bd9-9896-0697bc0db88d",
   "metadata": {},
   "outputs": [],
   "source": []
  },
  {
   "cell_type": "markdown",
   "id": "a19257c7-7485-450e-b594-9882e9fbc9c1",
   "metadata": {},
   "source": [
    "### One-Hot Encoding for Categorical Variables"
   ]
  },
  {
   "cell_type": "code",
   "execution_count": 30,
   "id": "afe1f116-6735-42bc-a135-5b6178b4396a",
   "metadata": {},
   "outputs": [
    {
     "data": {
      "text/plain": [
       "Index(['race', 'sex', 'ms', 'hisp', 'adjinc', 'educ', 'pob', 'wt', 'hhnum',\n",
       "       'esr', 'urban', 'cause113', 'dayod', 'hosp', 'ssnyn', 'vt', 'histatus',\n",
       "       'hitype', 'povpct', 'tenure'],\n",
       "      dtype='object')"
      ]
     },
     "execution_count": 30,
     "metadata": {},
     "output_type": "execute_result"
    }
   ],
   "source": [
    "dec_feat_train.columns"
   ]
  },
  {
   "cell_type": "code",
   "execution_count": 31,
   "id": "d47fda8e-1e6e-400c-8bb5-f01fa69cc0c8",
   "metadata": {},
   "outputs": [],
   "source": []
  },
  {
   "cell_type": "code",
   "execution_count": 32,
   "id": "100a5750-d5ea-4e83-9e8a-1b8abb9d03ee",
   "metadata": {},
   "outputs": [],
   "source": [
    "dec_ft_enc = pd.get_dummies(dec_feat_train, prefix_sep=\"__\",\n",
    "                              columns=cat_cols, drop_first=True)"
   ]
  },
  {
   "cell_type": "code",
   "execution_count": null,
   "id": "b14b55c4-6449-4415-b3b0-1ae616886843",
   "metadata": {},
   "outputs": [],
   "source": []
  },
  {
   "cell_type": "code",
   "execution_count": null,
   "id": "a57945ec-791c-4c90-b3f0-2d464f0477cc",
   "metadata": {},
   "outputs": [],
   "source": []
  },
  {
   "cell_type": "code",
   "execution_count": null,
   "id": "b6da2b0f-b47a-4d41-97bb-575b0608f6d7",
   "metadata": {},
   "outputs": [],
   "source": []
  },
  {
   "cell_type": "code",
   "execution_count": 288,
   "id": "4a4c0c70-25ce-4ca1-9917-9dcdf00ae694",
   "metadata": {},
   "outputs": [],
   "source": [
    "dec_ = pd.concat([dec.drop('race', axis=1), pd.get_dummies(dec['race'], prefix='race', drop_first=True)], axis=1)"
   ]
  },
  {
   "cell_type": "code",
   "execution_count": 289,
   "id": "b78c12f4-d400-447e-9799-6e2eba34cfc8",
   "metadata": {},
   "outputs": [],
   "source": [
    "dec_2 = pd.concat([dec_.drop('sex', axis=1), pd.get_dummies(dec['sex'], prefix='gender', drop_first=True)], axis=1)"
   ]
  },
  {
   "cell_type": "code",
   "execution_count": 290,
   "id": "d3b8bf25-55b6-4bb2-84d8-c50281f52ffe",
   "metadata": {},
   "outputs": [],
   "source": [
    "dec_3 = pd.concat([dec_2.drop('ms', axis=1), pd.get_dummies(dec_2['ms'], prefix='ms', drop_first=True)], axis=1)"
   ]
  },
  {
   "cell_type": "code",
   "execution_count": 291,
   "id": "eb8d79b1-cccd-4890-b6fb-65068639e45e",
   "metadata": {},
   "outputs": [],
   "source": [
    "dec_4 = pd.concat([dec_3.drop('hisp', axis=1), pd.get_dummies(dec_3['hisp'], prefix='hisp', drop_first=True)], axis=1)"
   ]
  },
  {
   "cell_type": "code",
   "execution_count": 292,
   "id": "aa9d1723-487a-46fb-970f-11a72cc6ab8f",
   "metadata": {},
   "outputs": [],
   "source": [
    "dec_5 = pd.concat([dec_4.drop('pob', axis=1), pd.get_dummies(dec_4['pob'], prefix='pob', drop_first=True)], axis=1)"
   ]
  },
  {
   "cell_type": "code",
   "execution_count": 293,
   "id": "3f3bed84-c7d7-4bf0-a8d2-a17052a6765c",
   "metadata": {},
   "outputs": [],
   "source": [
    "dec_5.drop(columns=['hhid', 'reltrf'], axis=1, inplace=True)"
   ]
  },
  {
   "cell_type": "code",
   "execution_count": 294,
   "id": "d91841f0-d222-43c3-be87-4a8ff51be8f4",
   "metadata": {},
   "outputs": [],
   "source": [
    "dec_6 = pd.concat([dec_5.drop('vt', axis=1), pd.get_dummies(dec_4['vt'], prefix='vt', drop_first=True)], axis=1)"
   ]
  },
  {
   "cell_type": "code",
   "execution_count": 295,
   "id": "4f7937a3-983a-4893-8fd0-4344b2f664c1",
   "metadata": {},
   "outputs": [],
   "source": [
    "dec_7 = pd.concat([dec_6.drop('citizen', axis=1), pd.get_dummies(dec_4['citizen'], prefix='citizen', drop_first=True)], axis=1)"
   ]
  },
  {
   "cell_type": "code",
   "execution_count": 296,
   "id": "33cda43b-e347-4288-b678-4e9f1d90b25d",
   "metadata": {},
   "outputs": [],
   "source": [
    "dec_7.drop(columns=['health'], axis=1, inplace=True)"
   ]
  },
  {
   "cell_type": "code",
   "execution_count": 297,
   "id": "bbd7ca8f-1215-469f-b1dd-cae5e8157a52",
   "metadata": {},
   "outputs": [],
   "source": [
    "dec_8 = pd.concat([dec_7.drop('esr', axis=1), pd.get_dummies(dec_7['esr'], prefix='esr', drop_first=True)], axis=1)"
   ]
  },
  {
   "cell_type": "code",
   "execution_count": 298,
   "id": "dbd32aa3-8fb8-4a90-9c0b-d1774a813116",
   "metadata": {},
   "outputs": [],
   "source": [
    "dec_8.drop(columns=['ind'], axis=1, inplace=True)"
   ]
  },
  {
   "cell_type": "code",
   "execution_count": 299,
   "id": "74178dab-0e26-42bd-aff2-36046436ee00",
   "metadata": {},
   "outputs": [],
   "source": [
    "dec_9 = pd.concat([dec_8.drop('majind', axis=1), pd.get_dummies(dec_7['majind'], prefix='majind', drop_first=True)], axis=1)"
   ]
  },
  {
   "cell_type": "code",
   "execution_count": 300,
   "id": "3bd858c6-0ca7-473a-90c9-098dc22d044c",
   "metadata": {},
   "outputs": [],
   "source": [
    "dec_9.drop(columns=['occ'], axis=1, inplace=True)"
   ]
  },
  {
   "cell_type": "code",
   "execution_count": 301,
   "id": "73a4d76e-1085-43eb-b80b-f01c630d8c14",
   "metadata": {},
   "outputs": [],
   "source": [
    "dec_9.drop(columns=['majocc'], axis=1, inplace=True)"
   ]
  },
  {
   "cell_type": "code",
   "execution_count": 302,
   "id": "aadc5791-c8cc-4e3c-937a-b31f1f185ba9",
   "metadata": {},
   "outputs": [],
   "source": [
    "dec_10 = pd.concat([dec_9.drop('rcow', axis=1), pd.get_dummies(dec_9['rcow'], prefix='rcow', drop_first=True)], axis=1)"
   ]
  },
  {
   "cell_type": "code",
   "execution_count": 303,
   "id": "94168d94-8fda-4f64-8ac3-a9d4081580c6",
   "metadata": {},
   "outputs": [],
   "source": [
    "dec_11 = pd.concat([dec_10.drop('histatus', axis=1), \n",
    "                    pd.get_dummies(dec_10['histatus'], \n",
    "                                   prefix='histatus', drop_first=True)], axis=1)"
   ]
  },
  {
   "cell_type": "code",
   "execution_count": 305,
   "id": "fb8d56e6-0dc3-4e5a-b42d-085d78e30e26",
   "metadata": {},
   "outputs": [],
   "source": [
    "dec_12 = pd.concat([dec_11.drop('hitype', axis=1), \n",
    "                    pd.get_dummies(dec_11['hitype'], \n",
    "                                   prefix='hitype', drop_first=True)], axis=1)"
   ]
  },
  {
   "cell_type": "code",
   "execution_count": 307,
   "id": "ad2555d1-01bd-46dd-91cb-cc636456697f",
   "metadata": {},
   "outputs": [],
   "source": [
    "dec_12.drop(columns='inddea', axis=1, inplace=True)"
   ]
  },
  {
   "cell_type": "code",
   "execution_count": 309,
   "id": "26e0b1eb-9b2f-449e-9947-00881b1c3029",
   "metadata": {},
   "outputs": [],
   "source": [
    "dec_13 = pd.concat([dec_12.drop('cause113', axis=1), \n",
    "                    pd.get_dummies(dec_12['cause113'], \n",
    "                                   prefix='cause113', drop_first=True)], axis=1)"
   ]
  },
  {
   "cell_type": "code",
   "execution_count": 311,
   "id": "a4b4c563-2236-4132-8cdf-58cf0af9468e",
   "metadata": {},
   "outputs": [],
   "source": [
    "dec_14 = pd.concat([dec_13.drop('dayod', axis=1), \n",
    "                    pd.get_dummies(dec_13['dayod'], \n",
    "                                   prefix='dayod', drop_first=True)], axis=1)"
   ]
  },
  {
   "cell_type": "code",
   "execution_count": 313,
   "id": "8859d842-af21-43d9-8ac0-46fe67bd414f",
   "metadata": {},
   "outputs": [],
   "source": [
    "dec_15 = pd.concat([dec_14.drop('hosp', axis=1), \n",
    "                    pd.get_dummies(dec_14['hosp'], \n",
    "                                   prefix='hosp', drop_first=True)], axis=1)"
   ]
  },
  {
   "cell_type": "code",
   "execution_count": 315,
   "id": "6f69998f-015d-4def-970d-16cf1fc9f57f",
   "metadata": {},
   "outputs": [],
   "source": [
    "dec_15.drop(columns='hospd', axis=1, inplace=True)"
   ]
  },
  {
   "cell_type": "code",
   "execution_count": 317,
   "id": "eb354fbb-bfa0-479c-b1ff-94e04ade3668",
   "metadata": {},
   "outputs": [],
   "source": [
    "dec_15.drop(columns='indalg', axis=1, inplace=True)"
   ]
  },
  {
   "cell_type": "code",
   "execution_count": 319,
   "id": "91c23013-0d0a-47e6-a24b-ce1019cb58f2",
   "metadata": {},
   "outputs": [],
   "source": [
    "dec_16 = pd.concat([dec_15.drop('tenure', axis=1), \n",
    "                    pd.get_dummies(dec_15['tenure'], \n",
    "                                   prefix='tenure', drop_first=True)], axis=1)"
   ]
  },
  {
   "cell_type": "code",
   "execution_count": 325,
   "id": "e649487b-d0ed-4897-b394-a2475e8221ff",
   "metadata": {},
   "outputs": [],
   "source": [
    "dec_17 = pd.concat([dec_16.drop('urban', axis=1), \n",
    "                    pd.get_dummies(dec_16['urban'], \n",
    "                                   prefix='urban', drop_first=True)], axis=1)"
   ]
  },
  {
   "cell_type": "code",
   "execution_count": 327,
   "id": "b80ece8d-116e-4adf-a032-a4a334d11714",
   "metadata": {},
   "outputs": [],
   "source": [
    "dec_17.drop(columns='smsast', axis=1, inplace=True)"
   ]
  },
  {
   "cell_type": "code",
   "execution_count": 329,
   "id": "e66e11b0-f608-40ca-abfc-1207e941276e",
   "metadata": {},
   "outputs": [
    {
     "data": {
      "text/plain": [
       "1    0.79768\n",
       "0    0.20232\n",
       "Name: ssnyn, dtype: float64"
      ]
     },
     "execution_count": 329,
     "metadata": {},
     "output_type": "execute_result"
    }
   ],
   "source": [
    "dec_17.ssnyn.value_counts(normalize=True)"
   ]
  },
  {
   "cell_type": "code",
   "execution_count": 332,
   "id": "580018cb-6382-407b-b295-7b94efe319cf",
   "metadata": {},
   "outputs": [],
   "source": [
    "dec_17.drop(columns=['citizen_2.0', 'citizen_3.0', 'citizen_4.0', 'citizen_5.0'], axis=1, inplace=True)"
   ]
  },
  {
   "cell_type": "code",
   "execution_count": 334,
   "id": "f49028c5-7a89-45ea-8b32-570710148c10",
   "metadata": {},
   "outputs": [],
   "source": [
    "dec_18 = pd.concat([dec_17.drop('ssnyn', axis=1), \n",
    "                    pd.get_dummies(dec_17['ssnyn'], \n",
    "                                   prefix='ssnyn', drop_first=True)], axis=1)"
   ]
  },
  {
   "cell_type": "code",
   "execution_count": 336,
   "id": "f3542bcc-72de-4d9d-b21c-60074c07bb6c",
   "metadata": {},
   "outputs": [],
   "source": [
    "df_enc = dec_18.copy()"
   ]
  },
  {
   "cell_type": "code",
   "execution_count": 352,
   "id": "7774c38f-ef3b-408f-b1f5-b57764651f30",
   "metadata": {},
   "outputs": [],
   "source": [
    "df_enc.drop(columns=['stater', 'days_to_fu', 'start_date'], inplace=True)"
   ]
  },
  {
   "cell_type": "code",
   "execution_count": 353,
   "id": "b7bc08ea-e9c1-4395-b7b3-b8bc9902dde2",
   "metadata": {},
   "outputs": [],
   "source": [
    "df_enc.to_csv('data/df_enc.csv')"
   ]
  },
  {
   "cell_type": "code",
   "execution_count": 361,
   "id": "0eacee44-e1c4-4536-af3d-7179728b1201",
   "metadata": {},
   "outputs": [],
   "source": [
    "df_enc.drop(columns=['dec_date', 'follow'], inplace=True, axis=1)"
   ]
  },
  {
   "cell_type": "code",
   "execution_count": 363,
   "id": "0854f5ee-64f1-4e44-86ec-4f22713cabd8",
   "metadata": {},
   "outputs": [],
   "source": [
    "df_label = df_enc.pop(\"age\")\n",
    "df_features = df_enc.copy()"
   ]
  },
  {
   "cell_type": "markdown",
   "id": "9adcabca-4ba3-4f13-8cc5-c6f7f0f2588d",
   "metadata": {},
   "source": [
    "#### Splitting into Training & Testing Sets"
   ]
  },
  {
   "cell_type": "code",
   "execution_count": 367,
   "id": "da43ca53-8d4e-4a64-a329-3edfb6571706",
   "metadata": {},
   "outputs": [],
   "source": [
    "df_feat_train, df_feat_test, df_label_train, df_label_test = train_test_split(df_label, df_features, random_state=42, test_size=0.20)"
   ]
  },
  {
   "cell_type": "code",
   "execution_count": null,
   "id": "168fe9b2-433e-471c-85f5-2537f02acdb8",
   "metadata": {},
   "outputs": [],
   "source": []
  },
  {
   "cell_type": "code",
   "execution_count": null,
   "id": "238ab6fc-d48e-4f2a-8190-d48bd3c40716",
   "metadata": {},
   "outputs": [],
   "source": []
  },
  {
   "cell_type": "code",
   "execution_count": null,
   "id": "da325a6e-c550-4782-89ce-2a769545bfcb",
   "metadata": {},
   "outputs": [],
   "source": []
  },
  {
   "cell_type": "code",
   "execution_count": null,
   "id": "1464b399-cd97-4067-8a62-acee9a555556",
   "metadata": {},
   "outputs": [],
   "source": []
  },
  {
   "cell_type": "markdown",
   "id": "9581c0ff-7e80-405b-af3a-3b8bc7111d2e",
   "metadata": {},
   "source": [
    "#### Filling nans with KNN imputer"
   ]
  },
  {
   "cell_type": "code",
   "execution_count": 354,
   "id": "cd16ef58-d7ff-4a5d-8b32-f375880af829",
   "metadata": {},
   "outputs": [
    {
     "name": "stdout",
     "output_type": "stream",
     "text": [
      "<class 'pandas.core.frame.DataFrame'>\n",
      "Int64Index: 160750 entries, 88427 to 670\n",
      "Columns: 230 entries, age to ssnyn_1\n",
      "dtypes: float64(2), int64(5), object(1), uint8(222)\n",
      "memory usage: 45.1+ MB\n"
     ]
    }
   ],
   "source": [
    "df_enc.info()"
   ]
  },
  {
   "cell_type": "code",
   "execution_count": null,
   "id": "c5173b52-8049-4f55-9b6e-0f11dbf513f3",
   "metadata": {},
   "outputs": [],
   "source": []
  },
  {
   "cell_type": "code",
   "execution_count": 359,
   "id": "d82ff264-c8e8-4001-9783-95259b83395a",
   "metadata": {},
   "outputs": [],
   "source": [
    "# scaler = MinMaxScaler()\n",
    "# df = pd.DataFrame(scaler.fit_transform(df_enc), columns=df_enc.columns)\n",
    "# df.head()"
   ]
  },
  {
   "cell_type": "code",
   "execution_count": null,
   "id": "9bc80934-711f-4700-a994-8198b0ea0040",
   "metadata": {},
   "outputs": [],
   "source": [
    "imputer = KNNImputer(n_neighbors=5)\n",
    "df2 = pd.DataFrame(imputer.fit_transform(df), columns=df.columns)"
   ]
  }
 ],
 "metadata": {
  "kernelspec": {
   "display_name": "Python 3",
   "language": "python",
   "name": "python3"
  },
  "language_info": {
   "codemirror_mode": {
    "name": "ipython",
    "version": 3
   },
   "file_extension": ".py",
   "mimetype": "text/x-python",
   "name": "python",
   "nbconvert_exporter": "python",
   "pygments_lexer": "ipython3",
   "version": "3.7.7"
  }
 },
 "nbformat": 4,
 "nbformat_minor": 5
}
