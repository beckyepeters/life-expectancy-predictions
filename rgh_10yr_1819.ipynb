{
 "cells": [
  {
   "cell_type": "markdown",
   "id": "89cee43a-335c-4135-8164-1e0476e68494",
   "metadata": {},
   "source": [
    "### Notebook for Race, Gender, Hispanic Origin, 10-yr Age Groups, Deaths / Population"
   ]
  },
  {
   "cell_type": "code",
   "execution_count": 1,
   "id": "231e3f4a-8a65-4cbb-85bd-901864a4db23",
   "metadata": {},
   "outputs": [],
   "source": [
    "import pandas as pd\n",
    "import numpy as np\n",
    "import seaborn as sns\n",
    "import matplotlib.pyplot as plt\n",
    "plt.style.use('ggplot')\n",
    "%matplotlib inline\n",
    "import seaborn as sns   \n",
    "\n",
    "from sklearn.impute import KNNImputer\n",
    "from sklearn.preprocessing import MinMaxScaler, OneHotEncoder, MaxAbsScaler, StandardScaler\n",
    "from sklearn.pipeline import Pipeline\n",
    "from sklearn.linear_model import LinearRegression, ElasticNet, ElasticNetCV, Lasso, Ridge\n",
    "from sklearn.model_selection import train_test_split, GridSearchCV, cross_val_score, KFold, RandomizedSearchCV\n",
    "\n",
    "\n",
    "from sklearn.metrics import mean_squared_error, mean_absolute_error, r2_score\n",
    "from sklearn.ensemble import RandomForestRegressor\n",
    "\n",
    "import joblib\n",
    "\n",
    "from sklearn.tree import export_graphviz\n",
    "import pydot"
   ]
  },
  {
   "cell_type": "code",
   "execution_count": 3,
   "id": "42595df1-901c-492c-a841-4220ab9ff950",
   "metadata": {},
   "outputs": [],
   "source": [
    "wonder = pd.read_csv('data/RGH_10yr_18-19.csv')"
   ]
  },
  {
   "cell_type": "code",
   "execution_count": 4,
   "id": "92387906-473d-49da-877b-23b68717cc42",
   "metadata": {},
   "outputs": [
    {
     "name": "stdout",
     "output_type": "stream",
     "text": [
      "<class 'pandas.core.frame.DataFrame'>\n",
      "RangeIndex: 115 entries, 0 to 114\n",
      "Data columns (total 13 columns):\n",
      " #   Column                Non-Null Count  Dtype  \n",
      "---  ------                --------------  -----  \n",
      " 0   Notes                 43 non-null     object \n",
      " 1   Gender                72 non-null     object \n",
      " 2   Gender Code           72 non-null     object \n",
      " 3   Hispanic Origin       72 non-null     object \n",
      " 4   Hispanic Origin Code  72 non-null     object \n",
      " 5   Single Race 6         72 non-null     object \n",
      " 6   Single Race 6 Code    72 non-null     object \n",
      " 7   Year                  72 non-null     float64\n",
      " 8   Year Code             72 non-null     float64\n",
      " 9   Deaths                72 non-null     float64\n",
      " 10  Population            72 non-null     object \n",
      " 11  Crude Rate            72 non-null     object \n",
      " 12  Age Adjusted Rate     72 non-null     object \n",
      "dtypes: float64(3), object(10)\n",
      "memory usage: 11.8+ KB\n"
     ]
    }
   ],
   "source": [
    "wonder.info()"
   ]
  },
  {
   "cell_type": "code",
   "execution_count": 5,
   "id": "54200603-138f-4fc8-a514-6d04a6090cb4",
   "metadata": {},
   "outputs": [],
   "source": [
    "cols = wonder.columns.to_list()"
   ]
  },
  {
   "cell_type": "code",
   "execution_count": 6,
   "id": "e64a47fa-e47b-483d-a801-2961d42dbca5",
   "metadata": {},
   "outputs": [
    {
     "data": {
      "text/plain": [
       "['Notes',\n",
       " 'Gender',\n",
       " 'Gender Code',\n",
       " 'Hispanic Origin',\n",
       " 'Hispanic Origin Code',\n",
       " 'Single Race 6',\n",
       " 'Single Race 6 Code',\n",
       " 'Year',\n",
       " 'Year Code',\n",
       " 'Deaths',\n",
       " 'Population',\n",
       " 'Crude Rate',\n",
       " 'Age Adjusted Rate']"
      ]
     },
     "execution_count": 6,
     "metadata": {},
     "output_type": "execute_result"
    }
   ],
   "source": [
    "cols"
   ]
  },
  {
   "cell_type": "code",
   "execution_count": 7,
   "id": "844fd778-dbd8-4636-b14e-2c610cc30601",
   "metadata": {},
   "outputs": [],
   "source": [
    "cols_renamed = {'Notes': 'notes', \n",
    " 'Gender': 'gender',\n",
    " 'Gender Code': 'gender_code',\n",
    " 'Hispanic Origin': 'hispanic_origin',\n",
    " 'Hispanic Origin Code': 'hispanic_origin_code',\n",
    " 'Single Race 6': 'race', \n",
    " 'Single Race 6 Code': 'race_code',\n",
    " 'Year': 'year',\n",
    " 'Year Code': 'year_code',\n",
    " 'Deaths': 'deaths',\n",
    " 'Population': 'population',\n",
    " 'Crude Rate': 'crude_rate'}"
   ]
  },
  {
   "cell_type": "code",
   "execution_count": 8,
   "id": "6d319e8f-fce6-419c-87a0-6fd0bf1a4a80",
   "metadata": {},
   "outputs": [],
   "source": [
    "wonder.rename(mapper=cols_renamed, axis=1, inplace=True)"
   ]
  },
  {
   "cell_type": "code",
   "execution_count": 9,
   "id": "da65789c-7953-4765-b298-e7d9a3084e87",
   "metadata": {},
   "outputs": [],
   "source": [
    "# wonder.drop(columns='notes', inplace=True, axis=1)"
   ]
  },
  {
   "cell_type": "code",
   "execution_count": 10,
   "id": "d7317253-665f-4ad1-9050-8ac5434d8f5c",
   "metadata": {},
   "outputs": [],
   "source": [
    "ten_yr_code_dict = {'5-14': 5, '15-24': 15, '25-34': 25, \n",
    "                    '35-44': 35, '45-54': 45, '55-64': 55, \n",
    "                    '65-74': 65, '75-84': 75, '85': 85}"
   ]
  },
  {
   "cell_type": "code",
   "execution_count": 13,
   "id": "6dcfa944-0815-4e91-b5cc-6f660e98a9ca",
   "metadata": {},
   "outputs": [
    {
     "name": "stdout",
     "output_type": "stream",
     "text": [
      "<class 'pandas.core.frame.DataFrame'>\n",
      "RangeIndex: 115 entries, 0 to 114\n",
      "Data columns (total 13 columns):\n",
      " #   Column                Non-Null Count  Dtype  \n",
      "---  ------                --------------  -----  \n",
      " 0   notes                 43 non-null     object \n",
      " 1   gender                72 non-null     object \n",
      " 2   gender_code           72 non-null     object \n",
      " 3   hispanic_origin       72 non-null     object \n",
      " 4   hispanic_origin_code  72 non-null     object \n",
      " 5   race                  72 non-null     object \n",
      " 6   race_code             72 non-null     object \n",
      " 7   year                  72 non-null     float64\n",
      " 8   year_code             72 non-null     float64\n",
      " 9   deaths                72 non-null     float64\n",
      " 10  population            72 non-null     object \n",
      " 11  crude_rate            72 non-null     object \n",
      " 12  Age Adjusted Rate     72 non-null     object \n",
      "dtypes: float64(3), object(10)\n",
      "memory usage: 11.8+ KB\n"
     ]
    }
   ],
   "source": [
    "wonder.info()"
   ]
  },
  {
   "cell_type": "code",
   "execution_count": 15,
   "id": "9d7ca80a-0adc-4ab5-9f2d-ea03df8748a9",
   "metadata": {},
   "outputs": [
    {
     "data": {
      "text/plain": [
       "Not Hispanic or Latino    24\n",
       "Not Stated                24\n",
       "Hispanic or Latino        24\n",
       "Name: hispanic_origin, dtype: int64"
      ]
     },
     "execution_count": 15,
     "metadata": {},
     "output_type": "execute_result"
    }
   ],
   "source": [
    "wonder.hispanic_origin.value_counts()"
   ]
  },
  {
   "cell_type": "code",
   "execution_count": 16,
   "id": "9f38d07c-830f-41fa-9035-c79bb333ce6e",
   "metadata": {},
   "outputs": [],
   "source": [
    "wonder.drop(columns='hispanic_origin_code', inplace=True, axis=1)"
   ]
  },
  {
   "cell_type": "code",
   "execution_count": 17,
   "id": "d978716a-b968-4413-8841-1a28dff5ceb2",
   "metadata": {},
   "outputs": [
    {
     "data": {
      "text/plain": [
       "Native Hawaiian or Other Pacific Islander    12\n",
       "American Indian or Alaska Native             12\n",
       "More than one race                           12\n",
       "Black or African American                    12\n",
       "Asian                                        12\n",
       "White                                        12\n",
       "Name: race, dtype: int64"
      ]
     },
     "execution_count": 17,
     "metadata": {},
     "output_type": "execute_result"
    }
   ],
   "source": [
    "wonder.race.value_counts()"
   ]
  },
  {
   "cell_type": "code",
   "execution_count": 18,
   "id": "567a5801-9fae-4e73-b869-ed37968d4600",
   "metadata": {},
   "outputs": [],
   "source": [
    "wonder.drop(columns='race_code', inplace=True, axis=1)"
   ]
  },
  {
   "cell_type": "code",
   "execution_count": 19,
   "id": "abe362e3-9bb8-41e8-b213-e5ba64bc981a",
   "metadata": {},
   "outputs": [
    {
     "data": {
      "text/plain": [
       "2019.0    36\n",
       "2018.0    36\n",
       "Name: year, dtype: int64"
      ]
     },
     "execution_count": 19,
     "metadata": {},
     "output_type": "execute_result"
    }
   ],
   "source": [
    "wonder.year.value_counts()"
   ]
  },
  {
   "cell_type": "code",
   "execution_count": 20,
   "id": "c5dc71e4-dde2-43d9-ad34-461a35d80ef4",
   "metadata": {},
   "outputs": [],
   "source": [
    "wonder.drop(columns='year_code', inplace=True, axis=1)"
   ]
  },
  {
   "cell_type": "code",
   "execution_count": 21,
   "id": "16be1e1c-d01b-4fb5-910b-44ca03f078ff",
   "metadata": {},
   "outputs": [],
   "source": [
    "deaths_from_nans = wonder[wonder['population']== 'Not Applicable'].index.values"
   ]
  },
  {
   "cell_type": "code",
   "execution_count": 22,
   "id": "b112739b-ecdd-4380-9dea-17e669cc8af4",
   "metadata": {},
   "outputs": [],
   "source": [
    "num_from_nans = wonder.loc[wonder['population'] == 'Not Applicable', 'deaths'].sum()"
   ]
  },
  {
   "cell_type": "code",
   "execution_count": 23,
   "id": "628cbfb9-907c-4404-b588-1205a3cb0ec5",
   "metadata": {},
   "outputs": [
    {
     "data": {
      "text/plain": [
       "14350.0"
      ]
     },
     "execution_count": 23,
     "metadata": {},
     "output_type": "execute_result"
    }
   ],
   "source": [
    "num_from_nans"
   ]
  },
  {
   "cell_type": "code",
   "execution_count": 24,
   "id": "0db5902b-8cb1-4b56-9d83-6b2e56efa2b2",
   "metadata": {},
   "outputs": [],
   "source": [
    "total_num = wonder.loc[wonder['population'] != 'Not Applicable', 'deaths'].sum()"
   ]
  },
  {
   "cell_type": "code",
   "execution_count": 25,
   "id": "02e14b9b-650c-4a15-9a84-f604a0e603ef",
   "metadata": {},
   "outputs": [
    {
     "data": {
      "text/plain": [
       "5629508.0"
      ]
     },
     "execution_count": 25,
     "metadata": {},
     "output_type": "execute_result"
    }
   ],
   "source": [
    "total_num"
   ]
  },
  {
   "cell_type": "code",
   "execution_count": 26,
   "id": "465c3da2-56f8-4225-b09f-0464d020f273",
   "metadata": {},
   "outputs": [
    {
     "data": {
      "text/plain": [
       "0.002549068231184679"
      ]
     },
     "execution_count": 26,
     "metadata": {},
     "output_type": "execute_result"
    }
   ],
   "source": [
    "acct = num_from_nans / total_num\n",
    "acct"
   ]
  },
  {
   "cell_type": "code",
   "execution_count": 27,
   "id": "d9cf44fd-202b-4165-b89e-2ccfec9dda90",
   "metadata": {},
   "outputs": [
    {
     "ename": "NameError",
     "evalue": "name 'nan_removes' is not defined",
     "output_type": "error",
     "traceback": [
      "\u001b[0;31m---------------------------------------------------------------------------\u001b[0m",
      "\u001b[0;31mNameError\u001b[0m                                 Traceback (most recent call last)",
      "\u001b[0;32m<ipython-input-27-e3f687053380>\u001b[0m in \u001b[0;36m<module>\u001b[0;34m\u001b[0m\n\u001b[0;32m----> 1\u001b[0;31m \u001b[0mprint\u001b[0m\u001b[0;34m(\u001b[0m\u001b[0;34mf'The removal of nan values from unspecified ethnicity removes {nan_removes:.2%} percent of the overall deaths recorded.'\u001b[0m\u001b[0;34m)\u001b[0m\u001b[0;34m\u001b[0m\u001b[0;34m\u001b[0m\u001b[0m\n\u001b[0m",
      "\u001b[0;31mNameError\u001b[0m: name 'nan_removes' is not defined"
     ]
    }
   ],
   "source": [
    "print(f'The removal of nan values from unspecified ethnicity removes {nan_removes:.2%} percent of the overall deaths recorded.')\n"
   ]
  },
  {
   "cell_type": "code",
   "execution_count": 28,
   "id": "479ebfb2-8cfc-4171-aa92-a8a0dc090d9a",
   "metadata": {},
   "outputs": [],
   "source": [
    "wonder_n = wonder[wonder['population'] != 'Not Applicable']\n"
   ]
  },
  {
   "cell_type": "code",
   "execution_count": 29,
   "id": "f8ec2356-3792-4fdb-9f6d-13bb6b4e4f6b",
   "metadata": {},
   "outputs": [
    {
     "name": "stdout",
     "output_type": "stream",
     "text": [
      "<class 'pandas.core.frame.DataFrame'>\n",
      "Int64Index: 91 entries, 0 to 114\n",
      "Data columns (total 10 columns):\n",
      " #   Column             Non-Null Count  Dtype  \n",
      "---  ------             --------------  -----  \n",
      " 0   notes              43 non-null     object \n",
      " 1   gender             48 non-null     object \n",
      " 2   gender_code        48 non-null     object \n",
      " 3   hispanic_origin    48 non-null     object \n",
      " 4   race               48 non-null     object \n",
      " 5   year               48 non-null     float64\n",
      " 6   deaths             48 non-null     float64\n",
      " 7   population         48 non-null     object \n",
      " 8   crude_rate         48 non-null     object \n",
      " 9   Age Adjusted Rate  48 non-null     object \n",
      "dtypes: float64(2), object(8)\n",
      "memory usage: 7.8+ KB\n"
     ]
    }
   ],
   "source": [
    "wonder_n.info()"
   ]
  },
  {
   "cell_type": "code",
   "execution_count": 30,
   "id": "d5d3ef92-e7a9-4dc2-914d-e794bf8ce230",
   "metadata": {},
   "outputs": [
    {
     "data": {
      "text/plain": [
       "notes                39\n",
       "gender                3\n",
       "gender_code           3\n",
       "hispanic_origin       3\n",
       "race                  7\n",
       "year                  3\n",
       "deaths               49\n",
       "population           49\n",
       "crude_rate           49\n",
       "Age Adjusted Rate    49\n",
       "dtype: int64"
      ]
     },
     "execution_count": 30,
     "metadata": {},
     "output_type": "execute_result"
    }
   ],
   "source": [
    "lens = wonder_n.apply(lambda x: len(x.unique()))\n",
    "lens"
   ]
  },
  {
   "cell_type": "code",
   "execution_count": 31,
   "id": "ed2d95a5-7345-45f2-a0a7-b34c196650e9",
   "metadata": {},
   "outputs": [],
   "source": [
    "wonder_n = wonder_n[wonder_n['crude_rate'] != 'Unreliable']\n"
   ]
  },
  {
   "cell_type": "code",
   "execution_count": 32,
   "id": "190e23fd-c14c-463d-88cb-c10b4de6119f",
   "metadata": {},
   "outputs": [
    {
     "name": "stdout",
     "output_type": "stream",
     "text": [
      "<class 'pandas.core.frame.DataFrame'>\n",
      "Int64Index: 91 entries, 0 to 114\n",
      "Data columns (total 10 columns):\n",
      " #   Column             Non-Null Count  Dtype  \n",
      "---  ------             --------------  -----  \n",
      " 0   notes              43 non-null     object \n",
      " 1   gender             48 non-null     object \n",
      " 2   gender_code        48 non-null     object \n",
      " 3   hispanic_origin    48 non-null     object \n",
      " 4   race               48 non-null     object \n",
      " 5   year               48 non-null     float64\n",
      " 6   deaths             48 non-null     float64\n",
      " 7   population         48 non-null     object \n",
      " 8   crude_rate         48 non-null     object \n",
      " 9   Age Adjusted Rate  48 non-null     object \n",
      "dtypes: float64(2), object(8)\n",
      "memory usage: 7.8+ KB\n"
     ]
    }
   ],
   "source": [
    "wonder_n.info()"
   ]
  },
  {
   "cell_type": "code",
   "execution_count": 33,
   "id": "0bc3b28f-1087-47ea-ace0-a5e813949703",
   "metadata": {},
   "outputs": [],
   "source": [
    "wonder_n.population = wonder_n.population.astype(float)\n",
    "wonder_n.crude_rate = wonder_n.crude_rate.astype(float)\n",
    "wonder_n['Age Adjusted Rate'] = wonder_n['Age Adjusted Rate'].astype(float)"
   ]
  },
  {
   "cell_type": "code",
   "execution_count": 34,
   "id": "5a877a5a-6c55-4231-8fdb-2dd194aa03b6",
   "metadata": {},
   "outputs": [],
   "source": [
    "wonder_n['crude_rate'] = wonder_n['deaths'] / wonder_n['population'] * 100_000"
   ]
  },
  {
   "cell_type": "code",
   "execution_count": 35,
   "id": "310de123-d026-476e-91f2-ee0e13403133",
   "metadata": {},
   "outputs": [
    {
     "data": {
      "text/plain": [
       "notes                48\n",
       "gender               43\n",
       "gender_code          43\n",
       "hispanic_origin      43\n",
       "race                 43\n",
       "year                 43\n",
       "deaths               43\n",
       "population           43\n",
       "crude_rate           43\n",
       "Age Adjusted Rate    43\n",
       "dtype: int64"
      ]
     },
     "execution_count": 35,
     "metadata": {},
     "output_type": "execute_result"
    }
   ],
   "source": [
    "wonder_n.isnull().sum()\n"
   ]
  },
  {
   "cell_type": "code",
   "execution_count": 36,
   "id": "6d9f61c9-30ff-4549-937b-600118032d02",
   "metadata": {},
   "outputs": [],
   "source": [
    "wonder_na = wonder_n.dropna()"
   ]
  },
  {
   "cell_type": "code",
   "execution_count": 37,
   "id": "94daa590-6e46-4622-acfc-960945c0163d",
   "metadata": {},
   "outputs": [],
   "source": [
    "nan_removes = (wonder.deaths.sum() - wonder_na.deaths.sum()) / wonder.deaths.sum()"
   ]
  },
  {
   "cell_type": "code",
   "execution_count": 38,
   "id": "1376c32c-8a9e-4873-b12e-a209d6ddd6d1",
   "metadata": {},
   "outputs": [
    {
     "name": "stdout",
     "output_type": "stream",
     "text": [
      "<class 'pandas.core.frame.DataFrame'>\n",
      "Int64Index: 0 entries\n",
      "Data columns (total 10 columns):\n",
      " #   Column             Non-Null Count  Dtype  \n",
      "---  ------             --------------  -----  \n",
      " 0   notes              0 non-null      object \n",
      " 1   gender             0 non-null      object \n",
      " 2   gender_code        0 non-null      object \n",
      " 3   hispanic_origin    0 non-null      object \n",
      " 4   race               0 non-null      object \n",
      " 5   year               0 non-null      float64\n",
      " 6   deaths             0 non-null      float64\n",
      " 7   population         0 non-null      float64\n",
      " 8   crude_rate         0 non-null      float64\n",
      " 9   Age Adjusted Rate  0 non-null      float64\n",
      "dtypes: float64(5), object(5)\n",
      "memory usage: 0.0+ bytes\n"
     ]
    }
   ],
   "source": [
    "wonder_na.info()"
   ]
  },
  {
   "cell_type": "code",
   "execution_count": 39,
   "id": "1ee5ca8e-444c-427a-af37-24cb4b28aaf6",
   "metadata": {},
   "outputs": [
    {
     "name": "stderr",
     "output_type": "stream",
     "text": [
      "/opt/anaconda3/lib/python3.7/site-packages/pandas/core/frame.py:4315: SettingWithCopyWarning: \n",
      "A value is trying to be set on a copy of a slice from a DataFrame\n",
      "\n",
      "See the caveats in the documentation: https://pandas.pydata.org/pandas-docs/stable/user_guide/indexing.html#returning-a-view-versus-a-copy\n",
      "  errors=errors,\n"
     ]
    }
   ],
   "source": [
    "wonder_na.drop('gender_code', inplace=True, axis=1)"
   ]
  },
  {
   "cell_type": "code",
   "execution_count": 40,
   "id": "616d115b-a2bc-4524-8b1a-e9bcb252aec8",
   "metadata": {
    "scrolled": true,
    "tags": []
   },
   "outputs": [
    {
     "data": {
      "text/html": [
       "<div>\n",
       "<style scoped>\n",
       "    .dataframe tbody tr th:only-of-type {\n",
       "        vertical-align: middle;\n",
       "    }\n",
       "\n",
       "    .dataframe tbody tr th {\n",
       "        vertical-align: top;\n",
       "    }\n",
       "\n",
       "    .dataframe thead th {\n",
       "        text-align: right;\n",
       "    }\n",
       "</style>\n",
       "<table border=\"1\" class=\"dataframe\">\n",
       "  <thead>\n",
       "    <tr style=\"text-align: right;\">\n",
       "      <th></th>\n",
       "      <th>notes</th>\n",
       "      <th>gender</th>\n",
       "      <th>hispanic_origin</th>\n",
       "      <th>race</th>\n",
       "      <th>year</th>\n",
       "      <th>deaths</th>\n",
       "      <th>population</th>\n",
       "      <th>crude_rate</th>\n",
       "      <th>Age Adjusted Rate</th>\n",
       "    </tr>\n",
       "  </thead>\n",
       "  <tbody>\n",
       "  </tbody>\n",
       "</table>\n",
       "</div>"
      ],
      "text/plain": [
       "Empty DataFrame\n",
       "Columns: [notes, gender, hispanic_origin, race, year, deaths, population, crude_rate, Age Adjusted Rate]\n",
       "Index: []"
      ]
     },
     "execution_count": 40,
     "metadata": {},
     "output_type": "execute_result"
    }
   ],
   "source": [
    "wonder_na"
   ]
  },
  {
   "cell_type": "code",
   "execution_count": 204,
   "id": "061fc333-c31f-424e-8664-c1a633631bf4",
   "metadata": {},
   "outputs": [],
   "source": [
    "wonder_na.reset_index(drop=True, inplace=True)"
   ]
  },
  {
   "cell_type": "code",
   "execution_count": 293,
   "id": "d4d4cfa0-d788-45ff-9632-4646fc2a9fd3",
   "metadata": {},
   "outputs": [],
   "source": [
    "wonder_na.to_csv('data/wonder_na.csv', index=False)"
   ]
  },
  {
   "cell_type": "code",
   "execution_count": 294,
   "id": "37af2fe9-839d-4b31-9f2f-ace14eb9fc58",
   "metadata": {},
   "outputs": [],
   "source": [
    "# Start over here: \n",
    "wonder_na = pd.read_csv('data/wonder_na.csv')"
   ]
  },
  {
   "cell_type": "code",
   "execution_count": null,
   "id": "f96165fd-8a6a-4f49-ad2a-e21ecf535bee",
   "metadata": {},
   "outputs": [],
   "source": []
  },
  {
   "cell_type": "code",
   "execution_count": 295,
   "id": "d073c00b-ab24-4282-8284-7b325bb2e6f7",
   "metadata": {},
   "outputs": [],
   "source": [
    "# Split before preprocessing\n",
    "won_label = wonder_na.pop('Age Adjusted Rate')\n"
   ]
  },
  {
   "cell_type": "code",
   "execution_count": 296,
   "id": "e1666645-3cd6-4161-a867-59fc07464d1c",
   "metadata": {
    "scrolled": true,
    "tags": []
   },
   "outputs": [
    {
     "data": {
      "text/plain": [
       "0       89.71\n",
       "1      103.92\n",
       "2      205.17\n",
       "3      199.52\n",
       "4      181.33\n",
       "5      183.13\n",
       "6      194.56\n",
       "7      202.66\n",
       "8      484.14\n",
       "9      482.31\n",
       "10     192.43\n",
       "11     218.58\n",
       "12     710.96\n",
       "13     709.51\n",
       "14     342.04\n",
       "15     335.07\n",
       "16     770.81\n",
       "17     760.44\n",
       "18     627.41\n",
       "19     620.21\n",
       "20     676.36\n",
       "21     667.02\n",
       "22     298.45\n",
       "23     295.03\n",
       "24     127.94\n",
       "25     132.11\n",
       "26     230.39\n",
       "27     226.89\n",
       "28     279.13\n",
       "29     295.46\n",
       "30     255.78\n",
       "31     305.33\n",
       "32     712.76\n",
       "33     712.43\n",
       "34     308.89\n",
       "35     308.04\n",
       "36     972.26\n",
       "37     954.28\n",
       "38     480.62\n",
       "39     468.41\n",
       "40    1162.68\n",
       "41    1152.52\n",
       "42     795.27\n",
       "43     807.59\n",
       "44     934.12\n",
       "45     924.72\n",
       "46     425.32\n",
       "47     400.50\n",
       "Name: Age Adjusted Rate, dtype: float64"
      ]
     },
     "execution_count": 296,
     "metadata": {},
     "output_type": "execute_result"
    }
   ],
   "source": [
    "won_label"
   ]
  },
  {
   "cell_type": "code",
   "execution_count": 297,
   "id": "076cd001-3efa-4a37-ac07-b528dd859a58",
   "metadata": {},
   "outputs": [
    {
     "data": {
      "text/plain": [
       "Index(['gender', 'hispanic_origin', 'race', 'year', 'deaths', 'population',\n",
       "       'crude_rate'],\n",
       "      dtype='object')"
      ]
     },
     "execution_count": 297,
     "metadata": {},
     "output_type": "execute_result"
    }
   ],
   "source": [
    "wonder_na.columns"
   ]
  },
  {
   "cell_type": "code",
   "execution_count": 298,
   "id": "a7dca50f-0b8d-4b3b-be01-d47f4d715f2c",
   "metadata": {},
   "outputs": [],
   "source": [
    "wonder_na.drop(columns=['deaths', 'population', 'crude_rate'], inplace=True, axis=1)"
   ]
  },
  {
   "cell_type": "code",
   "execution_count": 214,
   "id": "d6b4b0f5-d4de-4492-a88c-bbaed66b84dc",
   "metadata": {},
   "outputs": [],
   "source": [
    "wonder_na.drop(columns=['gender_code'], inplace=True, axis=1)"
   ]
  },
  {
   "cell_type": "code",
   "execution_count": 301,
   "id": "3adfd111-1481-4816-8472-c6731bc42fdf",
   "metadata": {},
   "outputs": [],
   "source": [
    "wonder_na.to_csv('data/wonder_na.csv', index=False)"
   ]
  },
  {
   "cell_type": "code",
   "execution_count": 302,
   "id": "e1fb6e0e-c545-42a7-8cca-c2efe424af84",
   "metadata": {},
   "outputs": [],
   "source": [
    "won_label.to_csv('data/won_label.csv', index=False)"
   ]
  },
  {
   "cell_type": "markdown",
   "id": "c2a8fac7-8cbc-4bb6-87cd-e58706ffc570",
   "metadata": {},
   "source": [
    "#### Pipeline for Processing"
   ]
  },
  {
   "cell_type": "code",
   "execution_count": 303,
   "id": "b790ed3c-7307-42d7-86a9-983d22256b7f",
   "metadata": {},
   "outputs": [],
   "source": [
    "wonder_na = pd.read_csv('data/wonder_na.csv')"
   ]
  },
  {
   "cell_type": "code",
   "execution_count": 304,
   "id": "70e2b0aa-2c78-4302-845f-4d9df5941d8b",
   "metadata": {
    "scrolled": true,
    "tags": []
   },
   "outputs": [
    {
     "data": {
      "text/html": [
       "<div>\n",
       "<style scoped>\n",
       "    .dataframe tbody tr th:only-of-type {\n",
       "        vertical-align: middle;\n",
       "    }\n",
       "\n",
       "    .dataframe tbody tr th {\n",
       "        vertical-align: top;\n",
       "    }\n",
       "\n",
       "    .dataframe thead th {\n",
       "        text-align: right;\n",
       "    }\n",
       "</style>\n",
       "<table border=\"1\" class=\"dataframe\">\n",
       "  <thead>\n",
       "    <tr style=\"text-align: right;\">\n",
       "      <th></th>\n",
       "      <th>gender</th>\n",
       "      <th>hispanic_origin</th>\n",
       "      <th>race</th>\n",
       "      <th>year</th>\n",
       "    </tr>\n",
       "  </thead>\n",
       "  <tbody>\n",
       "    <tr>\n",
       "      <th>0</th>\n",
       "      <td>Female</td>\n",
       "      <td>Hispanic or Latino</td>\n",
       "      <td>American Indian or Alaska Native</td>\n",
       "      <td>2018.0</td>\n",
       "    </tr>\n",
       "    <tr>\n",
       "      <th>1</th>\n",
       "      <td>Female</td>\n",
       "      <td>Hispanic or Latino</td>\n",
       "      <td>American Indian or Alaska Native</td>\n",
       "      <td>2019.0</td>\n",
       "    </tr>\n",
       "    <tr>\n",
       "      <th>2</th>\n",
       "      <td>Female</td>\n",
       "      <td>Hispanic or Latino</td>\n",
       "      <td>Asian</td>\n",
       "      <td>2018.0</td>\n",
       "    </tr>\n",
       "    <tr>\n",
       "      <th>3</th>\n",
       "      <td>Female</td>\n",
       "      <td>Hispanic or Latino</td>\n",
       "      <td>Asian</td>\n",
       "      <td>2019.0</td>\n",
       "    </tr>\n",
       "    <tr>\n",
       "      <th>4</th>\n",
       "      <td>Female</td>\n",
       "      <td>Hispanic or Latino</td>\n",
       "      <td>Black or African American</td>\n",
       "      <td>2018.0</td>\n",
       "    </tr>\n",
       "    <tr>\n",
       "      <th>5</th>\n",
       "      <td>Female</td>\n",
       "      <td>Hispanic or Latino</td>\n",
       "      <td>Black or African American</td>\n",
       "      <td>2019.0</td>\n",
       "    </tr>\n",
       "    <tr>\n",
       "      <th>6</th>\n",
       "      <td>Female</td>\n",
       "      <td>Hispanic or Latino</td>\n",
       "      <td>Native Hawaiian or Other Pacific Islander</td>\n",
       "      <td>2018.0</td>\n",
       "    </tr>\n",
       "    <tr>\n",
       "      <th>7</th>\n",
       "      <td>Female</td>\n",
       "      <td>Hispanic or Latino</td>\n",
       "      <td>Native Hawaiian or Other Pacific Islander</td>\n",
       "      <td>2019.0</td>\n",
       "    </tr>\n",
       "    <tr>\n",
       "      <th>8</th>\n",
       "      <td>Female</td>\n",
       "      <td>Hispanic or Latino</td>\n",
       "      <td>White</td>\n",
       "      <td>2018.0</td>\n",
       "    </tr>\n",
       "    <tr>\n",
       "      <th>9</th>\n",
       "      <td>Female</td>\n",
       "      <td>Hispanic or Latino</td>\n",
       "      <td>White</td>\n",
       "      <td>2019.0</td>\n",
       "    </tr>\n",
       "    <tr>\n",
       "      <th>10</th>\n",
       "      <td>Female</td>\n",
       "      <td>Hispanic or Latino</td>\n",
       "      <td>More than one race</td>\n",
       "      <td>2018.0</td>\n",
       "    </tr>\n",
       "    <tr>\n",
       "      <th>11</th>\n",
       "      <td>Female</td>\n",
       "      <td>Hispanic or Latino</td>\n",
       "      <td>More than one race</td>\n",
       "      <td>2019.0</td>\n",
       "    </tr>\n",
       "    <tr>\n",
       "      <th>12</th>\n",
       "      <td>Female</td>\n",
       "      <td>Not Hispanic or Latino</td>\n",
       "      <td>American Indian or Alaska Native</td>\n",
       "      <td>2018.0</td>\n",
       "    </tr>\n",
       "    <tr>\n",
       "      <th>13</th>\n",
       "      <td>Female</td>\n",
       "      <td>Not Hispanic or Latino</td>\n",
       "      <td>American Indian or Alaska Native</td>\n",
       "      <td>2019.0</td>\n",
       "    </tr>\n",
       "    <tr>\n",
       "      <th>14</th>\n",
       "      <td>Female</td>\n",
       "      <td>Not Hispanic or Latino</td>\n",
       "      <td>Asian</td>\n",
       "      <td>2018.0</td>\n",
       "    </tr>\n",
       "    <tr>\n",
       "      <th>15</th>\n",
       "      <td>Female</td>\n",
       "      <td>Not Hispanic or Latino</td>\n",
       "      <td>Asian</td>\n",
       "      <td>2019.0</td>\n",
       "    </tr>\n",
       "    <tr>\n",
       "      <th>16</th>\n",
       "      <td>Female</td>\n",
       "      <td>Not Hispanic or Latino</td>\n",
       "      <td>Black or African American</td>\n",
       "      <td>2018.0</td>\n",
       "    </tr>\n",
       "    <tr>\n",
       "      <th>17</th>\n",
       "      <td>Female</td>\n",
       "      <td>Not Hispanic or Latino</td>\n",
       "      <td>Black or African American</td>\n",
       "      <td>2019.0</td>\n",
       "    </tr>\n",
       "    <tr>\n",
       "      <th>18</th>\n",
       "      <td>Female</td>\n",
       "      <td>Not Hispanic or Latino</td>\n",
       "      <td>Native Hawaiian or Other Pacific Islander</td>\n",
       "      <td>2018.0</td>\n",
       "    </tr>\n",
       "    <tr>\n",
       "      <th>19</th>\n",
       "      <td>Female</td>\n",
       "      <td>Not Hispanic or Latino</td>\n",
       "      <td>Native Hawaiian or Other Pacific Islander</td>\n",
       "      <td>2019.0</td>\n",
       "    </tr>\n",
       "    <tr>\n",
       "      <th>20</th>\n",
       "      <td>Female</td>\n",
       "      <td>Not Hispanic or Latino</td>\n",
       "      <td>White</td>\n",
       "      <td>2018.0</td>\n",
       "    </tr>\n",
       "    <tr>\n",
       "      <th>21</th>\n",
       "      <td>Female</td>\n",
       "      <td>Not Hispanic or Latino</td>\n",
       "      <td>White</td>\n",
       "      <td>2019.0</td>\n",
       "    </tr>\n",
       "    <tr>\n",
       "      <th>22</th>\n",
       "      <td>Female</td>\n",
       "      <td>Not Hispanic or Latino</td>\n",
       "      <td>More than one race</td>\n",
       "      <td>2018.0</td>\n",
       "    </tr>\n",
       "    <tr>\n",
       "      <th>23</th>\n",
       "      <td>Female</td>\n",
       "      <td>Not Hispanic or Latino</td>\n",
       "      <td>More than one race</td>\n",
       "      <td>2019.0</td>\n",
       "    </tr>\n",
       "    <tr>\n",
       "      <th>24</th>\n",
       "      <td>Male</td>\n",
       "      <td>Hispanic or Latino</td>\n",
       "      <td>American Indian or Alaska Native</td>\n",
       "      <td>2018.0</td>\n",
       "    </tr>\n",
       "    <tr>\n",
       "      <th>25</th>\n",
       "      <td>Male</td>\n",
       "      <td>Hispanic or Latino</td>\n",
       "      <td>American Indian or Alaska Native</td>\n",
       "      <td>2019.0</td>\n",
       "    </tr>\n",
       "    <tr>\n",
       "      <th>26</th>\n",
       "      <td>Male</td>\n",
       "      <td>Hispanic or Latino</td>\n",
       "      <td>Asian</td>\n",
       "      <td>2018.0</td>\n",
       "    </tr>\n",
       "    <tr>\n",
       "      <th>27</th>\n",
       "      <td>Male</td>\n",
       "      <td>Hispanic or Latino</td>\n",
       "      <td>Asian</td>\n",
       "      <td>2019.0</td>\n",
       "    </tr>\n",
       "    <tr>\n",
       "      <th>28</th>\n",
       "      <td>Male</td>\n",
       "      <td>Hispanic or Latino</td>\n",
       "      <td>Black or African American</td>\n",
       "      <td>2018.0</td>\n",
       "    </tr>\n",
       "    <tr>\n",
       "      <th>29</th>\n",
       "      <td>Male</td>\n",
       "      <td>Hispanic or Latino</td>\n",
       "      <td>Black or African American</td>\n",
       "      <td>2019.0</td>\n",
       "    </tr>\n",
       "    <tr>\n",
       "      <th>30</th>\n",
       "      <td>Male</td>\n",
       "      <td>Hispanic or Latino</td>\n",
       "      <td>Native Hawaiian or Other Pacific Islander</td>\n",
       "      <td>2018.0</td>\n",
       "    </tr>\n",
       "    <tr>\n",
       "      <th>31</th>\n",
       "      <td>Male</td>\n",
       "      <td>Hispanic or Latino</td>\n",
       "      <td>Native Hawaiian or Other Pacific Islander</td>\n",
       "      <td>2019.0</td>\n",
       "    </tr>\n",
       "    <tr>\n",
       "      <th>32</th>\n",
       "      <td>Male</td>\n",
       "      <td>Hispanic or Latino</td>\n",
       "      <td>White</td>\n",
       "      <td>2018.0</td>\n",
       "    </tr>\n",
       "    <tr>\n",
       "      <th>33</th>\n",
       "      <td>Male</td>\n",
       "      <td>Hispanic or Latino</td>\n",
       "      <td>White</td>\n",
       "      <td>2019.0</td>\n",
       "    </tr>\n",
       "    <tr>\n",
       "      <th>34</th>\n",
       "      <td>Male</td>\n",
       "      <td>Hispanic or Latino</td>\n",
       "      <td>More than one race</td>\n",
       "      <td>2018.0</td>\n",
       "    </tr>\n",
       "    <tr>\n",
       "      <th>35</th>\n",
       "      <td>Male</td>\n",
       "      <td>Hispanic or Latino</td>\n",
       "      <td>More than one race</td>\n",
       "      <td>2019.0</td>\n",
       "    </tr>\n",
       "    <tr>\n",
       "      <th>36</th>\n",
       "      <td>Male</td>\n",
       "      <td>Not Hispanic or Latino</td>\n",
       "      <td>American Indian or Alaska Native</td>\n",
       "      <td>2018.0</td>\n",
       "    </tr>\n",
       "    <tr>\n",
       "      <th>37</th>\n",
       "      <td>Male</td>\n",
       "      <td>Not Hispanic or Latino</td>\n",
       "      <td>American Indian or Alaska Native</td>\n",
       "      <td>2019.0</td>\n",
       "    </tr>\n",
       "    <tr>\n",
       "      <th>38</th>\n",
       "      <td>Male</td>\n",
       "      <td>Not Hispanic or Latino</td>\n",
       "      <td>Asian</td>\n",
       "      <td>2018.0</td>\n",
       "    </tr>\n",
       "    <tr>\n",
       "      <th>39</th>\n",
       "      <td>Male</td>\n",
       "      <td>Not Hispanic or Latino</td>\n",
       "      <td>Asian</td>\n",
       "      <td>2019.0</td>\n",
       "    </tr>\n",
       "    <tr>\n",
       "      <th>40</th>\n",
       "      <td>Male</td>\n",
       "      <td>Not Hispanic or Latino</td>\n",
       "      <td>Black or African American</td>\n",
       "      <td>2018.0</td>\n",
       "    </tr>\n",
       "    <tr>\n",
       "      <th>41</th>\n",
       "      <td>Male</td>\n",
       "      <td>Not Hispanic or Latino</td>\n",
       "      <td>Black or African American</td>\n",
       "      <td>2019.0</td>\n",
       "    </tr>\n",
       "    <tr>\n",
       "      <th>42</th>\n",
       "      <td>Male</td>\n",
       "      <td>Not Hispanic or Latino</td>\n",
       "      <td>Native Hawaiian or Other Pacific Islander</td>\n",
       "      <td>2018.0</td>\n",
       "    </tr>\n",
       "    <tr>\n",
       "      <th>43</th>\n",
       "      <td>Male</td>\n",
       "      <td>Not Hispanic or Latino</td>\n",
       "      <td>Native Hawaiian or Other Pacific Islander</td>\n",
       "      <td>2019.0</td>\n",
       "    </tr>\n",
       "    <tr>\n",
       "      <th>44</th>\n",
       "      <td>Male</td>\n",
       "      <td>Not Hispanic or Latino</td>\n",
       "      <td>White</td>\n",
       "      <td>2018.0</td>\n",
       "    </tr>\n",
       "    <tr>\n",
       "      <th>45</th>\n",
       "      <td>Male</td>\n",
       "      <td>Not Hispanic or Latino</td>\n",
       "      <td>White</td>\n",
       "      <td>2019.0</td>\n",
       "    </tr>\n",
       "    <tr>\n",
       "      <th>46</th>\n",
       "      <td>Male</td>\n",
       "      <td>Not Hispanic or Latino</td>\n",
       "      <td>More than one race</td>\n",
       "      <td>2018.0</td>\n",
       "    </tr>\n",
       "    <tr>\n",
       "      <th>47</th>\n",
       "      <td>Male</td>\n",
       "      <td>Not Hispanic or Latino</td>\n",
       "      <td>More than one race</td>\n",
       "      <td>2019.0</td>\n",
       "    </tr>\n",
       "  </tbody>\n",
       "</table>\n",
       "</div>"
      ],
      "text/plain": [
       "    gender         hispanic_origin                                       race  \\\n",
       "0   Female      Hispanic or Latino           American Indian or Alaska Native   \n",
       "1   Female      Hispanic or Latino           American Indian or Alaska Native   \n",
       "2   Female      Hispanic or Latino                                      Asian   \n",
       "3   Female      Hispanic or Latino                                      Asian   \n",
       "4   Female      Hispanic or Latino                  Black or African American   \n",
       "5   Female      Hispanic or Latino                  Black or African American   \n",
       "6   Female      Hispanic or Latino  Native Hawaiian or Other Pacific Islander   \n",
       "7   Female      Hispanic or Latino  Native Hawaiian or Other Pacific Islander   \n",
       "8   Female      Hispanic or Latino                                      White   \n",
       "9   Female      Hispanic or Latino                                      White   \n",
       "10  Female      Hispanic or Latino                         More than one race   \n",
       "11  Female      Hispanic or Latino                         More than one race   \n",
       "12  Female  Not Hispanic or Latino           American Indian or Alaska Native   \n",
       "13  Female  Not Hispanic or Latino           American Indian or Alaska Native   \n",
       "14  Female  Not Hispanic or Latino                                      Asian   \n",
       "15  Female  Not Hispanic or Latino                                      Asian   \n",
       "16  Female  Not Hispanic or Latino                  Black or African American   \n",
       "17  Female  Not Hispanic or Latino                  Black or African American   \n",
       "18  Female  Not Hispanic or Latino  Native Hawaiian or Other Pacific Islander   \n",
       "19  Female  Not Hispanic or Latino  Native Hawaiian or Other Pacific Islander   \n",
       "20  Female  Not Hispanic or Latino                                      White   \n",
       "21  Female  Not Hispanic or Latino                                      White   \n",
       "22  Female  Not Hispanic or Latino                         More than one race   \n",
       "23  Female  Not Hispanic or Latino                         More than one race   \n",
       "24    Male      Hispanic or Latino           American Indian or Alaska Native   \n",
       "25    Male      Hispanic or Latino           American Indian or Alaska Native   \n",
       "26    Male      Hispanic or Latino                                      Asian   \n",
       "27    Male      Hispanic or Latino                                      Asian   \n",
       "28    Male      Hispanic or Latino                  Black or African American   \n",
       "29    Male      Hispanic or Latino                  Black or African American   \n",
       "30    Male      Hispanic or Latino  Native Hawaiian or Other Pacific Islander   \n",
       "31    Male      Hispanic or Latino  Native Hawaiian or Other Pacific Islander   \n",
       "32    Male      Hispanic or Latino                                      White   \n",
       "33    Male      Hispanic or Latino                                      White   \n",
       "34    Male      Hispanic or Latino                         More than one race   \n",
       "35    Male      Hispanic or Latino                         More than one race   \n",
       "36    Male  Not Hispanic or Latino           American Indian or Alaska Native   \n",
       "37    Male  Not Hispanic or Latino           American Indian or Alaska Native   \n",
       "38    Male  Not Hispanic or Latino                                      Asian   \n",
       "39    Male  Not Hispanic or Latino                                      Asian   \n",
       "40    Male  Not Hispanic or Latino                  Black or African American   \n",
       "41    Male  Not Hispanic or Latino                  Black or African American   \n",
       "42    Male  Not Hispanic or Latino  Native Hawaiian or Other Pacific Islander   \n",
       "43    Male  Not Hispanic or Latino  Native Hawaiian or Other Pacific Islander   \n",
       "44    Male  Not Hispanic or Latino                                      White   \n",
       "45    Male  Not Hispanic or Latino                                      White   \n",
       "46    Male  Not Hispanic or Latino                         More than one race   \n",
       "47    Male  Not Hispanic or Latino                         More than one race   \n",
       "\n",
       "      year  \n",
       "0   2018.0  \n",
       "1   2019.0  \n",
       "2   2018.0  \n",
       "3   2019.0  \n",
       "4   2018.0  \n",
       "5   2019.0  \n",
       "6   2018.0  \n",
       "7   2019.0  \n",
       "8   2018.0  \n",
       "9   2019.0  \n",
       "10  2018.0  \n",
       "11  2019.0  \n",
       "12  2018.0  \n",
       "13  2019.0  \n",
       "14  2018.0  \n",
       "15  2019.0  \n",
       "16  2018.0  \n",
       "17  2019.0  \n",
       "18  2018.0  \n",
       "19  2019.0  \n",
       "20  2018.0  \n",
       "21  2019.0  \n",
       "22  2018.0  \n",
       "23  2019.0  \n",
       "24  2018.0  \n",
       "25  2019.0  \n",
       "26  2018.0  \n",
       "27  2019.0  \n",
       "28  2018.0  \n",
       "29  2019.0  \n",
       "30  2018.0  \n",
       "31  2019.0  \n",
       "32  2018.0  \n",
       "33  2019.0  \n",
       "34  2018.0  \n",
       "35  2019.0  \n",
       "36  2018.0  \n",
       "37  2019.0  \n",
       "38  2018.0  \n",
       "39  2019.0  \n",
       "40  2018.0  \n",
       "41  2019.0  \n",
       "42  2018.0  \n",
       "43  2019.0  \n",
       "44  2018.0  \n",
       "45  2019.0  \n",
       "46  2018.0  \n",
       "47  2019.0  "
      ]
     },
     "execution_count": 304,
     "metadata": {},
     "output_type": "execute_result"
    }
   ],
   "source": [
    "wonder_na"
   ]
  },
  {
   "cell_type": "code",
   "execution_count": 224,
   "id": "9059294d-b914-4009-a674-8f8fc54f4ee9",
   "metadata": {},
   "outputs": [],
   "source": [
    "cat_cols = ['gender', 'hispanic_origin', 'race',\n",
    "       'year']\n",
    "# num_cols = ['ten_yr_codes']"
   ]
  },
  {
   "cell_type": "code",
   "execution_count": 228,
   "id": "7b02dfa1-571d-4328-83e7-4989198e8d7e",
   "metadata": {},
   "outputs": [],
   "source": [
    "num_df = wonder_na[num_cols]"
   ]
  },
  {
   "cell_type": "code",
   "execution_count": 229,
   "id": "4ebe9973-0a5a-4787-89bb-f54cbe625afd",
   "metadata": {},
   "outputs": [
    {
     "data": {
      "text/html": [
       "<div>\n",
       "<style scoped>\n",
       "    .dataframe tbody tr th:only-of-type {\n",
       "        vertical-align: middle;\n",
       "    }\n",
       "\n",
       "    .dataframe tbody tr th {\n",
       "        vertical-align: top;\n",
       "    }\n",
       "\n",
       "    .dataframe thead th {\n",
       "        text-align: right;\n",
       "    }\n",
       "</style>\n",
       "<table border=\"1\" class=\"dataframe\">\n",
       "  <thead>\n",
       "    <tr style=\"text-align: right;\">\n",
       "      <th></th>\n",
       "      <th>ten_yr_codes</th>\n",
       "    </tr>\n",
       "  </thead>\n",
       "  <tbody>\n",
       "    <tr>\n",
       "      <th>0</th>\n",
       "      <td>5.0</td>\n",
       "    </tr>\n",
       "    <tr>\n",
       "      <th>1</th>\n",
       "      <td>5.0</td>\n",
       "    </tr>\n",
       "    <tr>\n",
       "      <th>2</th>\n",
       "      <td>5.0</td>\n",
       "    </tr>\n",
       "    <tr>\n",
       "      <th>3</th>\n",
       "      <td>5.0</td>\n",
       "    </tr>\n",
       "    <tr>\n",
       "      <th>4</th>\n",
       "      <td>5.0</td>\n",
       "    </tr>\n",
       "    <tr>\n",
       "      <th>...</th>\n",
       "      <td>...</td>\n",
       "    </tr>\n",
       "    <tr>\n",
       "      <th>368</th>\n",
       "      <td>85.0</td>\n",
       "    </tr>\n",
       "    <tr>\n",
       "      <th>369</th>\n",
       "      <td>85.0</td>\n",
       "    </tr>\n",
       "    <tr>\n",
       "      <th>370</th>\n",
       "      <td>85.0</td>\n",
       "    </tr>\n",
       "    <tr>\n",
       "      <th>371</th>\n",
       "      <td>85.0</td>\n",
       "    </tr>\n",
       "    <tr>\n",
       "      <th>372</th>\n",
       "      <td>85.0</td>\n",
       "    </tr>\n",
       "  </tbody>\n",
       "</table>\n",
       "<p>373 rows × 1 columns</p>\n",
       "</div>"
      ],
      "text/plain": [
       "     ten_yr_codes\n",
       "0             5.0\n",
       "1             5.0\n",
       "2             5.0\n",
       "3             5.0\n",
       "4             5.0\n",
       "..            ...\n",
       "368          85.0\n",
       "369          85.0\n",
       "370          85.0\n",
       "371          85.0\n",
       "372          85.0\n",
       "\n",
       "[373 rows x 1 columns]"
      ]
     },
     "execution_count": 229,
     "metadata": {},
     "output_type": "execute_result"
    }
   ],
   "source": [
    "num_df"
   ]
  },
  {
   "cell_type": "markdown",
   "id": "a19257c7-7485-450e-b594-9882e9fbc9c1",
   "metadata": {},
   "source": [
    "### One-Hot Encoding for Categorical Variables"
   ]
  },
  {
   "cell_type": "code",
   "execution_count": 305,
   "id": "6fbcbdbb-608e-48a9-a22e-98d5cd7176b4",
   "metadata": {},
   "outputs": [],
   "source": [
    "encoder=OneHotEncoder(sparse=False, drop='first')\n",
    "\n",
    "train_X_encoded = pd.DataFrame(encoder.fit_transform(wonder_na[cat_cols]), \n",
    "                               index=wonder_na.index, columns=encoder.get_feature_names(input_features=cat_cols))"
   ]
  },
  {
   "cell_type": "code",
   "execution_count": 306,
   "id": "09769b17-e092-4c47-8f06-a3bbd824d60d",
   "metadata": {},
   "outputs": [
    {
     "data": {
      "text/plain": [
       "8"
      ]
     },
     "execution_count": 306,
     "metadata": {},
     "output_type": "execute_result"
    }
   ],
   "source": [
    "len(train_X_encoded.columns)"
   ]
  },
  {
   "cell_type": "code",
   "execution_count": 307,
   "id": "392efce0-8a6d-4340-aad3-37ac8180bd16",
   "metadata": {
    "scrolled": true,
    "tags": []
   },
   "outputs": [
    {
     "data": {
      "text/html": [
       "<div>\n",
       "<style scoped>\n",
       "    .dataframe tbody tr th:only-of-type {\n",
       "        vertical-align: middle;\n",
       "    }\n",
       "\n",
       "    .dataframe tbody tr th {\n",
       "        vertical-align: top;\n",
       "    }\n",
       "\n",
       "    .dataframe thead th {\n",
       "        text-align: right;\n",
       "    }\n",
       "</style>\n",
       "<table border=\"1\" class=\"dataframe\">\n",
       "  <thead>\n",
       "    <tr style=\"text-align: right;\">\n",
       "      <th></th>\n",
       "      <th>gender_Male</th>\n",
       "      <th>hispanic_origin_Not Hispanic or Latino</th>\n",
       "      <th>race_Asian</th>\n",
       "      <th>race_Black or African American</th>\n",
       "      <th>race_More than one race</th>\n",
       "      <th>race_Native Hawaiian or Other Pacific Islander</th>\n",
       "      <th>race_White</th>\n",
       "      <th>year_2019.0</th>\n",
       "    </tr>\n",
       "  </thead>\n",
       "  <tbody>\n",
       "    <tr>\n",
       "      <th>0</th>\n",
       "      <td>0.0</td>\n",
       "      <td>0.0</td>\n",
       "      <td>0.0</td>\n",
       "      <td>0.0</td>\n",
       "      <td>0.0</td>\n",
       "      <td>0.0</td>\n",
       "      <td>0.0</td>\n",
       "      <td>0.0</td>\n",
       "    </tr>\n",
       "    <tr>\n",
       "      <th>1</th>\n",
       "      <td>0.0</td>\n",
       "      <td>0.0</td>\n",
       "      <td>0.0</td>\n",
       "      <td>0.0</td>\n",
       "      <td>0.0</td>\n",
       "      <td>0.0</td>\n",
       "      <td>0.0</td>\n",
       "      <td>1.0</td>\n",
       "    </tr>\n",
       "    <tr>\n",
       "      <th>2</th>\n",
       "      <td>0.0</td>\n",
       "      <td>0.0</td>\n",
       "      <td>1.0</td>\n",
       "      <td>0.0</td>\n",
       "      <td>0.0</td>\n",
       "      <td>0.0</td>\n",
       "      <td>0.0</td>\n",
       "      <td>0.0</td>\n",
       "    </tr>\n",
       "    <tr>\n",
       "      <th>3</th>\n",
       "      <td>0.0</td>\n",
       "      <td>0.0</td>\n",
       "      <td>1.0</td>\n",
       "      <td>0.0</td>\n",
       "      <td>0.0</td>\n",
       "      <td>0.0</td>\n",
       "      <td>0.0</td>\n",
       "      <td>1.0</td>\n",
       "    </tr>\n",
       "    <tr>\n",
       "      <th>4</th>\n",
       "      <td>0.0</td>\n",
       "      <td>0.0</td>\n",
       "      <td>0.0</td>\n",
       "      <td>1.0</td>\n",
       "      <td>0.0</td>\n",
       "      <td>0.0</td>\n",
       "      <td>0.0</td>\n",
       "      <td>0.0</td>\n",
       "    </tr>\n",
       "    <tr>\n",
       "      <th>5</th>\n",
       "      <td>0.0</td>\n",
       "      <td>0.0</td>\n",
       "      <td>0.0</td>\n",
       "      <td>1.0</td>\n",
       "      <td>0.0</td>\n",
       "      <td>0.0</td>\n",
       "      <td>0.0</td>\n",
       "      <td>1.0</td>\n",
       "    </tr>\n",
       "    <tr>\n",
       "      <th>6</th>\n",
       "      <td>0.0</td>\n",
       "      <td>0.0</td>\n",
       "      <td>0.0</td>\n",
       "      <td>0.0</td>\n",
       "      <td>0.0</td>\n",
       "      <td>1.0</td>\n",
       "      <td>0.0</td>\n",
       "      <td>0.0</td>\n",
       "    </tr>\n",
       "    <tr>\n",
       "      <th>7</th>\n",
       "      <td>0.0</td>\n",
       "      <td>0.0</td>\n",
       "      <td>0.0</td>\n",
       "      <td>0.0</td>\n",
       "      <td>0.0</td>\n",
       "      <td>1.0</td>\n",
       "      <td>0.0</td>\n",
       "      <td>1.0</td>\n",
       "    </tr>\n",
       "    <tr>\n",
       "      <th>8</th>\n",
       "      <td>0.0</td>\n",
       "      <td>0.0</td>\n",
       "      <td>0.0</td>\n",
       "      <td>0.0</td>\n",
       "      <td>0.0</td>\n",
       "      <td>0.0</td>\n",
       "      <td>1.0</td>\n",
       "      <td>0.0</td>\n",
       "    </tr>\n",
       "    <tr>\n",
       "      <th>9</th>\n",
       "      <td>0.0</td>\n",
       "      <td>0.0</td>\n",
       "      <td>0.0</td>\n",
       "      <td>0.0</td>\n",
       "      <td>0.0</td>\n",
       "      <td>0.0</td>\n",
       "      <td>1.0</td>\n",
       "      <td>1.0</td>\n",
       "    </tr>\n",
       "    <tr>\n",
       "      <th>10</th>\n",
       "      <td>0.0</td>\n",
       "      <td>0.0</td>\n",
       "      <td>0.0</td>\n",
       "      <td>0.0</td>\n",
       "      <td>1.0</td>\n",
       "      <td>0.0</td>\n",
       "      <td>0.0</td>\n",
       "      <td>0.0</td>\n",
       "    </tr>\n",
       "    <tr>\n",
       "      <th>11</th>\n",
       "      <td>0.0</td>\n",
       "      <td>0.0</td>\n",
       "      <td>0.0</td>\n",
       "      <td>0.0</td>\n",
       "      <td>1.0</td>\n",
       "      <td>0.0</td>\n",
       "      <td>0.0</td>\n",
       "      <td>1.0</td>\n",
       "    </tr>\n",
       "    <tr>\n",
       "      <th>12</th>\n",
       "      <td>0.0</td>\n",
       "      <td>1.0</td>\n",
       "      <td>0.0</td>\n",
       "      <td>0.0</td>\n",
       "      <td>0.0</td>\n",
       "      <td>0.0</td>\n",
       "      <td>0.0</td>\n",
       "      <td>0.0</td>\n",
       "    </tr>\n",
       "    <tr>\n",
       "      <th>13</th>\n",
       "      <td>0.0</td>\n",
       "      <td>1.0</td>\n",
       "      <td>0.0</td>\n",
       "      <td>0.0</td>\n",
       "      <td>0.0</td>\n",
       "      <td>0.0</td>\n",
       "      <td>0.0</td>\n",
       "      <td>1.0</td>\n",
       "    </tr>\n",
       "    <tr>\n",
       "      <th>14</th>\n",
       "      <td>0.0</td>\n",
       "      <td>1.0</td>\n",
       "      <td>1.0</td>\n",
       "      <td>0.0</td>\n",
       "      <td>0.0</td>\n",
       "      <td>0.0</td>\n",
       "      <td>0.0</td>\n",
       "      <td>0.0</td>\n",
       "    </tr>\n",
       "    <tr>\n",
       "      <th>15</th>\n",
       "      <td>0.0</td>\n",
       "      <td>1.0</td>\n",
       "      <td>1.0</td>\n",
       "      <td>0.0</td>\n",
       "      <td>0.0</td>\n",
       "      <td>0.0</td>\n",
       "      <td>0.0</td>\n",
       "      <td>1.0</td>\n",
       "    </tr>\n",
       "    <tr>\n",
       "      <th>16</th>\n",
       "      <td>0.0</td>\n",
       "      <td>1.0</td>\n",
       "      <td>0.0</td>\n",
       "      <td>1.0</td>\n",
       "      <td>0.0</td>\n",
       "      <td>0.0</td>\n",
       "      <td>0.0</td>\n",
       "      <td>0.0</td>\n",
       "    </tr>\n",
       "    <tr>\n",
       "      <th>17</th>\n",
       "      <td>0.0</td>\n",
       "      <td>1.0</td>\n",
       "      <td>0.0</td>\n",
       "      <td>1.0</td>\n",
       "      <td>0.0</td>\n",
       "      <td>0.0</td>\n",
       "      <td>0.0</td>\n",
       "      <td>1.0</td>\n",
       "    </tr>\n",
       "    <tr>\n",
       "      <th>18</th>\n",
       "      <td>0.0</td>\n",
       "      <td>1.0</td>\n",
       "      <td>0.0</td>\n",
       "      <td>0.0</td>\n",
       "      <td>0.0</td>\n",
       "      <td>1.0</td>\n",
       "      <td>0.0</td>\n",
       "      <td>0.0</td>\n",
       "    </tr>\n",
       "    <tr>\n",
       "      <th>19</th>\n",
       "      <td>0.0</td>\n",
       "      <td>1.0</td>\n",
       "      <td>0.0</td>\n",
       "      <td>0.0</td>\n",
       "      <td>0.0</td>\n",
       "      <td>1.0</td>\n",
       "      <td>0.0</td>\n",
       "      <td>1.0</td>\n",
       "    </tr>\n",
       "    <tr>\n",
       "      <th>20</th>\n",
       "      <td>0.0</td>\n",
       "      <td>1.0</td>\n",
       "      <td>0.0</td>\n",
       "      <td>0.0</td>\n",
       "      <td>0.0</td>\n",
       "      <td>0.0</td>\n",
       "      <td>1.0</td>\n",
       "      <td>0.0</td>\n",
       "    </tr>\n",
       "    <tr>\n",
       "      <th>21</th>\n",
       "      <td>0.0</td>\n",
       "      <td>1.0</td>\n",
       "      <td>0.0</td>\n",
       "      <td>0.0</td>\n",
       "      <td>0.0</td>\n",
       "      <td>0.0</td>\n",
       "      <td>1.0</td>\n",
       "      <td>1.0</td>\n",
       "    </tr>\n",
       "    <tr>\n",
       "      <th>22</th>\n",
       "      <td>0.0</td>\n",
       "      <td>1.0</td>\n",
       "      <td>0.0</td>\n",
       "      <td>0.0</td>\n",
       "      <td>1.0</td>\n",
       "      <td>0.0</td>\n",
       "      <td>0.0</td>\n",
       "      <td>0.0</td>\n",
       "    </tr>\n",
       "    <tr>\n",
       "      <th>23</th>\n",
       "      <td>0.0</td>\n",
       "      <td>1.0</td>\n",
       "      <td>0.0</td>\n",
       "      <td>0.0</td>\n",
       "      <td>1.0</td>\n",
       "      <td>0.0</td>\n",
       "      <td>0.0</td>\n",
       "      <td>1.0</td>\n",
       "    </tr>\n",
       "    <tr>\n",
       "      <th>24</th>\n",
       "      <td>1.0</td>\n",
       "      <td>0.0</td>\n",
       "      <td>0.0</td>\n",
       "      <td>0.0</td>\n",
       "      <td>0.0</td>\n",
       "      <td>0.0</td>\n",
       "      <td>0.0</td>\n",
       "      <td>0.0</td>\n",
       "    </tr>\n",
       "    <tr>\n",
       "      <th>25</th>\n",
       "      <td>1.0</td>\n",
       "      <td>0.0</td>\n",
       "      <td>0.0</td>\n",
       "      <td>0.0</td>\n",
       "      <td>0.0</td>\n",
       "      <td>0.0</td>\n",
       "      <td>0.0</td>\n",
       "      <td>1.0</td>\n",
       "    </tr>\n",
       "    <tr>\n",
       "      <th>26</th>\n",
       "      <td>1.0</td>\n",
       "      <td>0.0</td>\n",
       "      <td>1.0</td>\n",
       "      <td>0.0</td>\n",
       "      <td>0.0</td>\n",
       "      <td>0.0</td>\n",
       "      <td>0.0</td>\n",
       "      <td>0.0</td>\n",
       "    </tr>\n",
       "    <tr>\n",
       "      <th>27</th>\n",
       "      <td>1.0</td>\n",
       "      <td>0.0</td>\n",
       "      <td>1.0</td>\n",
       "      <td>0.0</td>\n",
       "      <td>0.0</td>\n",
       "      <td>0.0</td>\n",
       "      <td>0.0</td>\n",
       "      <td>1.0</td>\n",
       "    </tr>\n",
       "    <tr>\n",
       "      <th>28</th>\n",
       "      <td>1.0</td>\n",
       "      <td>0.0</td>\n",
       "      <td>0.0</td>\n",
       "      <td>1.0</td>\n",
       "      <td>0.0</td>\n",
       "      <td>0.0</td>\n",
       "      <td>0.0</td>\n",
       "      <td>0.0</td>\n",
       "    </tr>\n",
       "    <tr>\n",
       "      <th>29</th>\n",
       "      <td>1.0</td>\n",
       "      <td>0.0</td>\n",
       "      <td>0.0</td>\n",
       "      <td>1.0</td>\n",
       "      <td>0.0</td>\n",
       "      <td>0.0</td>\n",
       "      <td>0.0</td>\n",
       "      <td>1.0</td>\n",
       "    </tr>\n",
       "    <tr>\n",
       "      <th>30</th>\n",
       "      <td>1.0</td>\n",
       "      <td>0.0</td>\n",
       "      <td>0.0</td>\n",
       "      <td>0.0</td>\n",
       "      <td>0.0</td>\n",
       "      <td>1.0</td>\n",
       "      <td>0.0</td>\n",
       "      <td>0.0</td>\n",
       "    </tr>\n",
       "    <tr>\n",
       "      <th>31</th>\n",
       "      <td>1.0</td>\n",
       "      <td>0.0</td>\n",
       "      <td>0.0</td>\n",
       "      <td>0.0</td>\n",
       "      <td>0.0</td>\n",
       "      <td>1.0</td>\n",
       "      <td>0.0</td>\n",
       "      <td>1.0</td>\n",
       "    </tr>\n",
       "    <tr>\n",
       "      <th>32</th>\n",
       "      <td>1.0</td>\n",
       "      <td>0.0</td>\n",
       "      <td>0.0</td>\n",
       "      <td>0.0</td>\n",
       "      <td>0.0</td>\n",
       "      <td>0.0</td>\n",
       "      <td>1.0</td>\n",
       "      <td>0.0</td>\n",
       "    </tr>\n",
       "    <tr>\n",
       "      <th>33</th>\n",
       "      <td>1.0</td>\n",
       "      <td>0.0</td>\n",
       "      <td>0.0</td>\n",
       "      <td>0.0</td>\n",
       "      <td>0.0</td>\n",
       "      <td>0.0</td>\n",
       "      <td>1.0</td>\n",
       "      <td>1.0</td>\n",
       "    </tr>\n",
       "    <tr>\n",
       "      <th>34</th>\n",
       "      <td>1.0</td>\n",
       "      <td>0.0</td>\n",
       "      <td>0.0</td>\n",
       "      <td>0.0</td>\n",
       "      <td>1.0</td>\n",
       "      <td>0.0</td>\n",
       "      <td>0.0</td>\n",
       "      <td>0.0</td>\n",
       "    </tr>\n",
       "    <tr>\n",
       "      <th>35</th>\n",
       "      <td>1.0</td>\n",
       "      <td>0.0</td>\n",
       "      <td>0.0</td>\n",
       "      <td>0.0</td>\n",
       "      <td>1.0</td>\n",
       "      <td>0.0</td>\n",
       "      <td>0.0</td>\n",
       "      <td>1.0</td>\n",
       "    </tr>\n",
       "    <tr>\n",
       "      <th>36</th>\n",
       "      <td>1.0</td>\n",
       "      <td>1.0</td>\n",
       "      <td>0.0</td>\n",
       "      <td>0.0</td>\n",
       "      <td>0.0</td>\n",
       "      <td>0.0</td>\n",
       "      <td>0.0</td>\n",
       "      <td>0.0</td>\n",
       "    </tr>\n",
       "    <tr>\n",
       "      <th>37</th>\n",
       "      <td>1.0</td>\n",
       "      <td>1.0</td>\n",
       "      <td>0.0</td>\n",
       "      <td>0.0</td>\n",
       "      <td>0.0</td>\n",
       "      <td>0.0</td>\n",
       "      <td>0.0</td>\n",
       "      <td>1.0</td>\n",
       "    </tr>\n",
       "    <tr>\n",
       "      <th>38</th>\n",
       "      <td>1.0</td>\n",
       "      <td>1.0</td>\n",
       "      <td>1.0</td>\n",
       "      <td>0.0</td>\n",
       "      <td>0.0</td>\n",
       "      <td>0.0</td>\n",
       "      <td>0.0</td>\n",
       "      <td>0.0</td>\n",
       "    </tr>\n",
       "    <tr>\n",
       "      <th>39</th>\n",
       "      <td>1.0</td>\n",
       "      <td>1.0</td>\n",
       "      <td>1.0</td>\n",
       "      <td>0.0</td>\n",
       "      <td>0.0</td>\n",
       "      <td>0.0</td>\n",
       "      <td>0.0</td>\n",
       "      <td>1.0</td>\n",
       "    </tr>\n",
       "    <tr>\n",
       "      <th>40</th>\n",
       "      <td>1.0</td>\n",
       "      <td>1.0</td>\n",
       "      <td>0.0</td>\n",
       "      <td>1.0</td>\n",
       "      <td>0.0</td>\n",
       "      <td>0.0</td>\n",
       "      <td>0.0</td>\n",
       "      <td>0.0</td>\n",
       "    </tr>\n",
       "    <tr>\n",
       "      <th>41</th>\n",
       "      <td>1.0</td>\n",
       "      <td>1.0</td>\n",
       "      <td>0.0</td>\n",
       "      <td>1.0</td>\n",
       "      <td>0.0</td>\n",
       "      <td>0.0</td>\n",
       "      <td>0.0</td>\n",
       "      <td>1.0</td>\n",
       "    </tr>\n",
       "    <tr>\n",
       "      <th>42</th>\n",
       "      <td>1.0</td>\n",
       "      <td>1.0</td>\n",
       "      <td>0.0</td>\n",
       "      <td>0.0</td>\n",
       "      <td>0.0</td>\n",
       "      <td>1.0</td>\n",
       "      <td>0.0</td>\n",
       "      <td>0.0</td>\n",
       "    </tr>\n",
       "    <tr>\n",
       "      <th>43</th>\n",
       "      <td>1.0</td>\n",
       "      <td>1.0</td>\n",
       "      <td>0.0</td>\n",
       "      <td>0.0</td>\n",
       "      <td>0.0</td>\n",
       "      <td>1.0</td>\n",
       "      <td>0.0</td>\n",
       "      <td>1.0</td>\n",
       "    </tr>\n",
       "    <tr>\n",
       "      <th>44</th>\n",
       "      <td>1.0</td>\n",
       "      <td>1.0</td>\n",
       "      <td>0.0</td>\n",
       "      <td>0.0</td>\n",
       "      <td>0.0</td>\n",
       "      <td>0.0</td>\n",
       "      <td>1.0</td>\n",
       "      <td>0.0</td>\n",
       "    </tr>\n",
       "    <tr>\n",
       "      <th>45</th>\n",
       "      <td>1.0</td>\n",
       "      <td>1.0</td>\n",
       "      <td>0.0</td>\n",
       "      <td>0.0</td>\n",
       "      <td>0.0</td>\n",
       "      <td>0.0</td>\n",
       "      <td>1.0</td>\n",
       "      <td>1.0</td>\n",
       "    </tr>\n",
       "    <tr>\n",
       "      <th>46</th>\n",
       "      <td>1.0</td>\n",
       "      <td>1.0</td>\n",
       "      <td>0.0</td>\n",
       "      <td>0.0</td>\n",
       "      <td>1.0</td>\n",
       "      <td>0.0</td>\n",
       "      <td>0.0</td>\n",
       "      <td>0.0</td>\n",
       "    </tr>\n",
       "    <tr>\n",
       "      <th>47</th>\n",
       "      <td>1.0</td>\n",
       "      <td>1.0</td>\n",
       "      <td>0.0</td>\n",
       "      <td>0.0</td>\n",
       "      <td>1.0</td>\n",
       "      <td>0.0</td>\n",
       "      <td>0.0</td>\n",
       "      <td>1.0</td>\n",
       "    </tr>\n",
       "  </tbody>\n",
       "</table>\n",
       "</div>"
      ],
      "text/plain": [
       "    gender_Male  hispanic_origin_Not Hispanic or Latino  race_Asian  \\\n",
       "0           0.0                                     0.0         0.0   \n",
       "1           0.0                                     0.0         0.0   \n",
       "2           0.0                                     0.0         1.0   \n",
       "3           0.0                                     0.0         1.0   \n",
       "4           0.0                                     0.0         0.0   \n",
       "5           0.0                                     0.0         0.0   \n",
       "6           0.0                                     0.0         0.0   \n",
       "7           0.0                                     0.0         0.0   \n",
       "8           0.0                                     0.0         0.0   \n",
       "9           0.0                                     0.0         0.0   \n",
       "10          0.0                                     0.0         0.0   \n",
       "11          0.0                                     0.0         0.0   \n",
       "12          0.0                                     1.0         0.0   \n",
       "13          0.0                                     1.0         0.0   \n",
       "14          0.0                                     1.0         1.0   \n",
       "15          0.0                                     1.0         1.0   \n",
       "16          0.0                                     1.0         0.0   \n",
       "17          0.0                                     1.0         0.0   \n",
       "18          0.0                                     1.0         0.0   \n",
       "19          0.0                                     1.0         0.0   \n",
       "20          0.0                                     1.0         0.0   \n",
       "21          0.0                                     1.0         0.0   \n",
       "22          0.0                                     1.0         0.0   \n",
       "23          0.0                                     1.0         0.0   \n",
       "24          1.0                                     0.0         0.0   \n",
       "25          1.0                                     0.0         0.0   \n",
       "26          1.0                                     0.0         1.0   \n",
       "27          1.0                                     0.0         1.0   \n",
       "28          1.0                                     0.0         0.0   \n",
       "29          1.0                                     0.0         0.0   \n",
       "30          1.0                                     0.0         0.0   \n",
       "31          1.0                                     0.0         0.0   \n",
       "32          1.0                                     0.0         0.0   \n",
       "33          1.0                                     0.0         0.0   \n",
       "34          1.0                                     0.0         0.0   \n",
       "35          1.0                                     0.0         0.0   \n",
       "36          1.0                                     1.0         0.0   \n",
       "37          1.0                                     1.0         0.0   \n",
       "38          1.0                                     1.0         1.0   \n",
       "39          1.0                                     1.0         1.0   \n",
       "40          1.0                                     1.0         0.0   \n",
       "41          1.0                                     1.0         0.0   \n",
       "42          1.0                                     1.0         0.0   \n",
       "43          1.0                                     1.0         0.0   \n",
       "44          1.0                                     1.0         0.0   \n",
       "45          1.0                                     1.0         0.0   \n",
       "46          1.0                                     1.0         0.0   \n",
       "47          1.0                                     1.0         0.0   \n",
       "\n",
       "    race_Black or African American  race_More than one race  \\\n",
       "0                              0.0                      0.0   \n",
       "1                              0.0                      0.0   \n",
       "2                              0.0                      0.0   \n",
       "3                              0.0                      0.0   \n",
       "4                              1.0                      0.0   \n",
       "5                              1.0                      0.0   \n",
       "6                              0.0                      0.0   \n",
       "7                              0.0                      0.0   \n",
       "8                              0.0                      0.0   \n",
       "9                              0.0                      0.0   \n",
       "10                             0.0                      1.0   \n",
       "11                             0.0                      1.0   \n",
       "12                             0.0                      0.0   \n",
       "13                             0.0                      0.0   \n",
       "14                             0.0                      0.0   \n",
       "15                             0.0                      0.0   \n",
       "16                             1.0                      0.0   \n",
       "17                             1.0                      0.0   \n",
       "18                             0.0                      0.0   \n",
       "19                             0.0                      0.0   \n",
       "20                             0.0                      0.0   \n",
       "21                             0.0                      0.0   \n",
       "22                             0.0                      1.0   \n",
       "23                             0.0                      1.0   \n",
       "24                             0.0                      0.0   \n",
       "25                             0.0                      0.0   \n",
       "26                             0.0                      0.0   \n",
       "27                             0.0                      0.0   \n",
       "28                             1.0                      0.0   \n",
       "29                             1.0                      0.0   \n",
       "30                             0.0                      0.0   \n",
       "31                             0.0                      0.0   \n",
       "32                             0.0                      0.0   \n",
       "33                             0.0                      0.0   \n",
       "34                             0.0                      1.0   \n",
       "35                             0.0                      1.0   \n",
       "36                             0.0                      0.0   \n",
       "37                             0.0                      0.0   \n",
       "38                             0.0                      0.0   \n",
       "39                             0.0                      0.0   \n",
       "40                             1.0                      0.0   \n",
       "41                             1.0                      0.0   \n",
       "42                             0.0                      0.0   \n",
       "43                             0.0                      0.0   \n",
       "44                             0.0                      0.0   \n",
       "45                             0.0                      0.0   \n",
       "46                             0.0                      1.0   \n",
       "47                             0.0                      1.0   \n",
       "\n",
       "    race_Native Hawaiian or Other Pacific Islander  race_White  year_2019.0  \n",
       "0                                              0.0         0.0          0.0  \n",
       "1                                              0.0         0.0          1.0  \n",
       "2                                              0.0         0.0          0.0  \n",
       "3                                              0.0         0.0          1.0  \n",
       "4                                              0.0         0.0          0.0  \n",
       "5                                              0.0         0.0          1.0  \n",
       "6                                              1.0         0.0          0.0  \n",
       "7                                              1.0         0.0          1.0  \n",
       "8                                              0.0         1.0          0.0  \n",
       "9                                              0.0         1.0          1.0  \n",
       "10                                             0.0         0.0          0.0  \n",
       "11                                             0.0         0.0          1.0  \n",
       "12                                             0.0         0.0          0.0  \n",
       "13                                             0.0         0.0          1.0  \n",
       "14                                             0.0         0.0          0.0  \n",
       "15                                             0.0         0.0          1.0  \n",
       "16                                             0.0         0.0          0.0  \n",
       "17                                             0.0         0.0          1.0  \n",
       "18                                             1.0         0.0          0.0  \n",
       "19                                             1.0         0.0          1.0  \n",
       "20                                             0.0         1.0          0.0  \n",
       "21                                             0.0         1.0          1.0  \n",
       "22                                             0.0         0.0          0.0  \n",
       "23                                             0.0         0.0          1.0  \n",
       "24                                             0.0         0.0          0.0  \n",
       "25                                             0.0         0.0          1.0  \n",
       "26                                             0.0         0.0          0.0  \n",
       "27                                             0.0         0.0          1.0  \n",
       "28                                             0.0         0.0          0.0  \n",
       "29                                             0.0         0.0          1.0  \n",
       "30                                             1.0         0.0          0.0  \n",
       "31                                             1.0         0.0          1.0  \n",
       "32                                             0.0         1.0          0.0  \n",
       "33                                             0.0         1.0          1.0  \n",
       "34                                             0.0         0.0          0.0  \n",
       "35                                             0.0         0.0          1.0  \n",
       "36                                             0.0         0.0          0.0  \n",
       "37                                             0.0         0.0          1.0  \n",
       "38                                             0.0         0.0          0.0  \n",
       "39                                             0.0         0.0          1.0  \n",
       "40                                             0.0         0.0          0.0  \n",
       "41                                             0.0         0.0          1.0  \n",
       "42                                             1.0         0.0          0.0  \n",
       "43                                             1.0         0.0          1.0  \n",
       "44                                             0.0         1.0          0.0  \n",
       "45                                             0.0         1.0          1.0  \n",
       "46                                             0.0         0.0          0.0  \n",
       "47                                             0.0         0.0          1.0  "
      ]
     },
     "execution_count": 307,
     "metadata": {},
     "output_type": "execute_result"
    }
   ],
   "source": [
    "train_X_encoded"
   ]
  },
  {
   "cell_type": "markdown",
   "id": "caacebdc-6a27-4bb8-8e70-d007e0f56f2c",
   "metadata": {},
   "source": [
    "Merge Num & Cat Columns back to X_Train"
   ]
  },
  {
   "cell_type": "code",
   "execution_count": 230,
   "id": "68b18863-2879-4d2c-bf06-bc7ec62cb16e",
   "metadata": {},
   "outputs": [],
   "source": [
    "df = num_df.merge(train_X_encoded, how='inner', left_index=True, right_index=True)\n"
   ]
  },
  {
   "cell_type": "code",
   "execution_count": 231,
   "id": "3aacb38e-2eab-4d6d-a3b7-c8175c7aa381",
   "metadata": {},
   "outputs": [
    {
     "data": {
      "text/html": [
       "<div>\n",
       "<style scoped>\n",
       "    .dataframe tbody tr th:only-of-type {\n",
       "        vertical-align: middle;\n",
       "    }\n",
       "\n",
       "    .dataframe tbody tr th {\n",
       "        vertical-align: top;\n",
       "    }\n",
       "\n",
       "    .dataframe thead th {\n",
       "        text-align: right;\n",
       "    }\n",
       "</style>\n",
       "<table border=\"1\" class=\"dataframe\">\n",
       "  <thead>\n",
       "    <tr style=\"text-align: right;\">\n",
       "      <th></th>\n",
       "      <th>ten_yr_codes</th>\n",
       "      <th>gender_Male</th>\n",
       "      <th>hispanic_origin_Not Hispanic or Latino</th>\n",
       "      <th>race_Asian</th>\n",
       "      <th>race_Black or African American</th>\n",
       "      <th>race_More than one race</th>\n",
       "      <th>race_Native Hawaiian or Other Pacific Islander</th>\n",
       "      <th>race_White</th>\n",
       "      <th>year_2019.0</th>\n",
       "    </tr>\n",
       "  </thead>\n",
       "  <tbody>\n",
       "    <tr>\n",
       "      <th>0</th>\n",
       "      <td>5.0</td>\n",
       "      <td>0.0</td>\n",
       "      <td>0.0</td>\n",
       "      <td>0.0</td>\n",
       "      <td>0.0</td>\n",
       "      <td>0.0</td>\n",
       "      <td>0.0</td>\n",
       "      <td>1.0</td>\n",
       "      <td>0.0</td>\n",
       "    </tr>\n",
       "    <tr>\n",
       "      <th>1</th>\n",
       "      <td>5.0</td>\n",
       "      <td>0.0</td>\n",
       "      <td>0.0</td>\n",
       "      <td>0.0</td>\n",
       "      <td>0.0</td>\n",
       "      <td>0.0</td>\n",
       "      <td>0.0</td>\n",
       "      <td>1.0</td>\n",
       "      <td>1.0</td>\n",
       "    </tr>\n",
       "    <tr>\n",
       "      <th>2</th>\n",
       "      <td>5.0</td>\n",
       "      <td>0.0</td>\n",
       "      <td>0.0</td>\n",
       "      <td>0.0</td>\n",
       "      <td>0.0</td>\n",
       "      <td>1.0</td>\n",
       "      <td>0.0</td>\n",
       "      <td>0.0</td>\n",
       "      <td>0.0</td>\n",
       "    </tr>\n",
       "    <tr>\n",
       "      <th>3</th>\n",
       "      <td>5.0</td>\n",
       "      <td>0.0</td>\n",
       "      <td>1.0</td>\n",
       "      <td>0.0</td>\n",
       "      <td>0.0</td>\n",
       "      <td>0.0</td>\n",
       "      <td>0.0</td>\n",
       "      <td>0.0</td>\n",
       "      <td>0.0</td>\n",
       "    </tr>\n",
       "    <tr>\n",
       "      <th>4</th>\n",
       "      <td>5.0</td>\n",
       "      <td>0.0</td>\n",
       "      <td>1.0</td>\n",
       "      <td>0.0</td>\n",
       "      <td>0.0</td>\n",
       "      <td>0.0</td>\n",
       "      <td>0.0</td>\n",
       "      <td>0.0</td>\n",
       "      <td>1.0</td>\n",
       "    </tr>\n",
       "    <tr>\n",
       "      <th>...</th>\n",
       "      <td>...</td>\n",
       "      <td>...</td>\n",
       "      <td>...</td>\n",
       "      <td>...</td>\n",
       "      <td>...</td>\n",
       "      <td>...</td>\n",
       "      <td>...</td>\n",
       "      <td>...</td>\n",
       "      <td>...</td>\n",
       "    </tr>\n",
       "    <tr>\n",
       "      <th>368</th>\n",
       "      <td>85.0</td>\n",
       "      <td>1.0</td>\n",
       "      <td>1.0</td>\n",
       "      <td>0.0</td>\n",
       "      <td>0.0</td>\n",
       "      <td>0.0</td>\n",
       "      <td>1.0</td>\n",
       "      <td>0.0</td>\n",
       "      <td>1.0</td>\n",
       "    </tr>\n",
       "    <tr>\n",
       "      <th>369</th>\n",
       "      <td>85.0</td>\n",
       "      <td>1.0</td>\n",
       "      <td>1.0</td>\n",
       "      <td>0.0</td>\n",
       "      <td>0.0</td>\n",
       "      <td>0.0</td>\n",
       "      <td>0.0</td>\n",
       "      <td>1.0</td>\n",
       "      <td>0.0</td>\n",
       "    </tr>\n",
       "    <tr>\n",
       "      <th>370</th>\n",
       "      <td>85.0</td>\n",
       "      <td>1.0</td>\n",
       "      <td>1.0</td>\n",
       "      <td>0.0</td>\n",
       "      <td>0.0</td>\n",
       "      <td>0.0</td>\n",
       "      <td>0.0</td>\n",
       "      <td>1.0</td>\n",
       "      <td>1.0</td>\n",
       "    </tr>\n",
       "    <tr>\n",
       "      <th>371</th>\n",
       "      <td>85.0</td>\n",
       "      <td>1.0</td>\n",
       "      <td>1.0</td>\n",
       "      <td>0.0</td>\n",
       "      <td>0.0</td>\n",
       "      <td>1.0</td>\n",
       "      <td>0.0</td>\n",
       "      <td>0.0</td>\n",
       "      <td>0.0</td>\n",
       "    </tr>\n",
       "    <tr>\n",
       "      <th>372</th>\n",
       "      <td>85.0</td>\n",
       "      <td>1.0</td>\n",
       "      <td>1.0</td>\n",
       "      <td>0.0</td>\n",
       "      <td>0.0</td>\n",
       "      <td>1.0</td>\n",
       "      <td>0.0</td>\n",
       "      <td>0.0</td>\n",
       "      <td>1.0</td>\n",
       "    </tr>\n",
       "  </tbody>\n",
       "</table>\n",
       "<p>373 rows × 9 columns</p>\n",
       "</div>"
      ],
      "text/plain": [
       "     ten_yr_codes  gender_Male  hispanic_origin_Not Hispanic or Latino  \\\n",
       "0             5.0          0.0                                     0.0   \n",
       "1             5.0          0.0                                     0.0   \n",
       "2             5.0          0.0                                     0.0   \n",
       "3             5.0          0.0                                     1.0   \n",
       "4             5.0          0.0                                     1.0   \n",
       "..            ...          ...                                     ...   \n",
       "368          85.0          1.0                                     1.0   \n",
       "369          85.0          1.0                                     1.0   \n",
       "370          85.0          1.0                                     1.0   \n",
       "371          85.0          1.0                                     1.0   \n",
       "372          85.0          1.0                                     1.0   \n",
       "\n",
       "     race_Asian  race_Black or African American  race_More than one race  \\\n",
       "0           0.0                             0.0                      0.0   \n",
       "1           0.0                             0.0                      0.0   \n",
       "2           0.0                             0.0                      1.0   \n",
       "3           0.0                             0.0                      0.0   \n",
       "4           0.0                             0.0                      0.0   \n",
       "..          ...                             ...                      ...   \n",
       "368         0.0                             0.0                      0.0   \n",
       "369         0.0                             0.0                      0.0   \n",
       "370         0.0                             0.0                      0.0   \n",
       "371         0.0                             0.0                      1.0   \n",
       "372         0.0                             0.0                      1.0   \n",
       "\n",
       "     race_Native Hawaiian or Other Pacific Islander  race_White  year_2019.0  \n",
       "0                                               0.0         1.0          0.0  \n",
       "1                                               0.0         1.0          1.0  \n",
       "2                                               0.0         0.0          0.0  \n",
       "3                                               0.0         0.0          0.0  \n",
       "4                                               0.0         0.0          1.0  \n",
       "..                                              ...         ...          ...  \n",
       "368                                             1.0         0.0          1.0  \n",
       "369                                             0.0         1.0          0.0  \n",
       "370                                             0.0         1.0          1.0  \n",
       "371                                             0.0         0.0          0.0  \n",
       "372                                             0.0         0.0          1.0  \n",
       "\n",
       "[373 rows x 9 columns]"
      ]
     },
     "execution_count": 231,
     "metadata": {},
     "output_type": "execute_result"
    }
   ],
   "source": [
    "df"
   ]
  },
  {
   "cell_type": "code",
   "execution_count": 308,
   "id": "5d92b311-a208-46bb-90c5-5d8e91b9ed69",
   "metadata": {},
   "outputs": [],
   "source": [
    "X = train_X_encoded.copy()"
   ]
  },
  {
   "cell_type": "code",
   "execution_count": 309,
   "id": "4768dab9-9aa3-4de9-91d6-d51fbdd46468",
   "metadata": {},
   "outputs": [],
   "source": [
    "X.to_csv('data/X_wonder.csv')"
   ]
  },
  {
   "cell_type": "code",
   "execution_count": 310,
   "id": "61fab42d-dac1-4c16-ade4-ccd2b4bb0312",
   "metadata": {},
   "outputs": [
    {
     "data": {
      "text/plain": [
       "(48, 8)"
      ]
     },
     "execution_count": 310,
     "metadata": {},
     "output_type": "execute_result"
    }
   ],
   "source": [
    "X.shape"
   ]
  },
  {
   "cell_type": "code",
   "execution_count": null,
   "id": "56725f55-d432-425b-9b7e-ec6c2767e7d5",
   "metadata": {},
   "outputs": [],
   "source": []
  },
  {
   "cell_type": "code",
   "execution_count": null,
   "id": "0310b12f-3449-412d-bc57-465a20c9e019",
   "metadata": {},
   "outputs": [],
   "source": []
  },
  {
   "cell_type": "code",
   "execution_count": 311,
   "id": "474b3b08-4757-4ba2-8b22-78f6a8ceb4c2",
   "metadata": {},
   "outputs": [],
   "source": [
    "X_train, X_test, y_train, y_test = train_test_split(X, won_label, test_size=0.2, random_state=42)"
   ]
  },
  {
   "cell_type": "code",
   "execution_count": 312,
   "id": "d99404b6-9455-4fdd-a8e4-a4ddbb7c9360",
   "metadata": {},
   "outputs": [
    {
     "data": {
      "text/plain": [
       "((38, 8), (10, 8), (38,), (10,))"
      ]
     },
     "execution_count": 312,
     "metadata": {},
     "output_type": "execute_result"
    }
   ],
   "source": [
    "X_train.shape, X_test.shape, y_train.shape, y_test.shape"
   ]
  },
  {
   "cell_type": "markdown",
   "id": "c03ee8dd-f54a-4d84-85c0-0b40f4232ab2",
   "metadata": {},
   "source": [
    "#### Linear Regression "
   ]
  },
  {
   "cell_type": "code",
   "execution_count": 314,
   "id": "962af7ab-fb4f-4fa4-83b4-ae56a92e5eae",
   "metadata": {},
   "outputs": [],
   "source": [
    "model_lr = LinearRegression()"
   ]
  },
  {
   "cell_type": "code",
   "execution_count": 315,
   "id": "119b7519-275c-4bc0-90c7-705934950e25",
   "metadata": {},
   "outputs": [
    {
     "data": {
      "text/plain": [
       "LinearRegression()"
      ]
     },
     "execution_count": 315,
     "metadata": {},
     "output_type": "execute_result"
    }
   ],
   "source": [
    "model_lr.fit(X_train, y_train)"
   ]
  },
  {
   "cell_type": "code",
   "execution_count": 316,
   "id": "fe1f9100-7714-48d1-9246-0a5c72823cdc",
   "metadata": {},
   "outputs": [],
   "source": [
    "predict_train = model_lr.predict(X_train)"
   ]
  },
  {
   "cell_type": "code",
   "execution_count": 317,
   "id": "e8ff3449-9290-4a64-90c7-baa07d2f4b62",
   "metadata": {},
   "outputs": [
    {
     "data": {
      "text/plain": [
       "8     -30.850555\n",
       "3    -140.811462\n",
       "6      12.137658\n",
       "39     85.775791\n",
       "33   -105.679865\n",
       "13   -112.505819\n",
       "17    -97.368587\n",
       "45     20.455555\n",
       "15     62.063958\n",
       "9     -32.611698\n",
       "16   -104.147445\n",
       "29    186.237826\n",
       "32   -102.418722\n",
       "46    130.119198\n",
       "0     172.459903\n",
       "31     54.828348\n",
       "30    107.969491\n",
       "5     141.515993\n",
       "11   -162.209198\n",
       "34    -91.876222\n",
       "1     154.658761\n",
       "44     14.646698\n",
       "21    121.103722\n",
       "2    -142.870320\n",
       "36   -214.612844\n",
       "35    -94.617365\n",
       "23     99.766222\n",
       "41   -332.396754\n",
       "10   -132.468055\n",
       "22     99.937365\n",
       "18    -82.286922\n",
       "47    151.348055\n",
       "20    115.354865\n",
       "7       0.446515\n",
       "42    -93.095089\n",
       "14     58.685100\n",
       "28    206.158968\n",
       "38     77.156933\n",
       "Name: Age Adjusted Rate, dtype: float64"
      ]
     },
     "execution_count": 317,
     "metadata": {},
     "output_type": "execute_result"
    }
   ],
   "source": [
    "predict_train - y_train"
   ]
  },
  {
   "cell_type": "code",
   "execution_count": 318,
   "id": "7cb7da4b-ea0b-4f64-873e-b8faa8ce266a",
   "metadata": {},
   "outputs": [],
   "source": [
    "predict_test = model_lr.predict(X_test)"
   ]
  },
  {
   "cell_type": "code",
   "execution_count": 319,
   "id": "b36acc7a-7b60-40c1-ae5d-7be143254dcf",
   "metadata": {},
   "outputs": [
    {
     "name": "stdout",
     "output_type": "stream",
     "text": [
      "RMSE on train data with LR:  15916.08516902584\n",
      "RMSE on test data with LR:  37229.66890141689\n"
     ]
    }
   ],
   "source": [
    "print('RMSE on train data with LR: ', mean_squared_error(y_train, predict_train))\n",
    "print('RMSE on test data with LR: ', mean_squared_error(y_test, predict_test))"
   ]
  },
  {
   "cell_type": "code",
   "execution_count": 324,
   "id": "53ff8cc2-149d-40e6-8507-0603ea4001f5",
   "metadata": {},
   "outputs": [
    {
     "data": {
      "image/png": "[encoded data removed]",
      "text/plain": [
       "<Figure size 1008x360 with 1 Axes>"
      ]
     },
     "metadata": {
      "needs_background": "light"
     },
     "output_type": "display_data"
    }
   ],
   "source": [
    "fig, ax = plt.subplots(figsize=(14, 5))\n",
    "sns.scatterplot(x=predict_train, y=y_train - predict_train, ax=ax, palette='Blues', alpha=0.9)\n",
    "ax.set_xlabel('predicted age-adjusted death rate per 100,000')\n",
    "ax.set_ylabel('residual (observed - predicted)')\n",
    "ax.set_title('Residuals Plot for Linear Regression');"
   ]
  },
  {
   "cell_type": "markdown",
   "id": "99ae5c91-8e04-47bc-a38e-5fcbe7a2bc62",
   "metadata": {},
   "source": [
    "#### Lasso Regressor"
   ]
  },
  {
   "cell_type": "code",
   "execution_count": 325,
   "id": "fe95aa70-a15d-429f-90ff-2e950b94b334",
   "metadata": {},
   "outputs": [],
   "source": [
    "model_lasso = Lasso(random_state=42)"
   ]
  },
  {
   "cell_type": "code",
   "execution_count": 326,
   "id": "e05cdbcd-3a92-426c-ba0e-ef9356eeb92c",
   "metadata": {},
   "outputs": [
    {
     "data": {
      "text/plain": [
       "Lasso(random_state=42)"
      ]
     },
     "execution_count": 326,
     "metadata": {},
     "output_type": "execute_result"
    }
   ],
   "source": [
    "model_lasso.fit(X_train, y_train)"
   ]
  },
  {
   "cell_type": "code",
   "execution_count": 327,
   "id": "1710c198-3bd4-4705-9964-08876b17fd4e",
   "metadata": {},
   "outputs": [],
   "source": [
    "predict_train_lasso = model_lasso.predict(X_train)"
   ]
  },
  {
   "cell_type": "code",
   "execution_count": 328,
   "id": "0e5eafe7-fc60-4548-999e-095abb77a856",
   "metadata": {},
   "outputs": [],
   "source": [
    "predict_test_lasso = model_lasso.predict(X_test)"
   ]
  },
  {
   "cell_type": "code",
   "execution_count": 329,
   "id": "bddf20c0-27e1-4e94-b0e6-2cc68024bcb9",
   "metadata": {},
   "outputs": [
    {
     "name": "stdout",
     "output_type": "stream",
     "text": [
      "RMSE on Train Data with Lasso:  15965.393484504684\n",
      "R_squared on Train Data with Lasso:  0.782376982182167\n",
      "RMSE on Test Data with Lasso:  37307.50601102768\n",
      "R_squared on Train Data with Lasso:  0.7172171706694792\n"
     ]
    }
   ],
   "source": [
    "print('RMSE on Train Data with Lasso: ', mean_squared_error(y_train, predict_train_lasso))\n",
    "print('R_squared on Train Data with Lasso: ', r2_score(y_train, predict_train_lasso))\n",
    "\n",
    "print('RMSE on Test Data with Lasso: ', mean_squared_error(y_test, predict_test_lasso))\n",
    "print('R_squared on Train Data with Lasso: ', r2_score(y_test, predict_test_lasso))"
   ]
  },
  {
   "cell_type": "code",
   "execution_count": null,
   "id": "a9cc7f76-b196-44b5-a379-c941c7953069",
   "metadata": {},
   "outputs": [],
   "source": []
  },
  {
   "cell_type": "code",
   "execution_count": null,
   "id": "bfb27bb0-a863-4f48-85e1-5198035bb249",
   "metadata": {},
   "outputs": [],
   "source": []
  },
  {
   "cell_type": "markdown",
   "id": "fea23930-c23e-409c-8014-5797ec70c165",
   "metadata": {},
   "source": [
    "#### Ridge Regressor"
   ]
  },
  {
   "cell_type": "code",
   "execution_count": 330,
   "id": "a8d1a660-2e23-4c5a-ab47-2bf46df2d649",
   "metadata": {},
   "outputs": [],
   "source": [
    "model_ridge = Ridge(random_state=42)"
   ]
  },
  {
   "cell_type": "code",
   "execution_count": 331,
   "id": "cb0e7ab2-7323-47a0-802d-7256c2a01c2e",
   "metadata": {},
   "outputs": [
    {
     "data": {
      "text/plain": [
       "Ridge(random_state=42)"
      ]
     },
     "execution_count": 331,
     "metadata": {},
     "output_type": "execute_result"
    }
   ],
   "source": [
    "model_ridge.fit(X_train, y_train)"
   ]
  },
  {
   "cell_type": "code",
   "execution_count": 332,
   "id": "a334fe0a-b8b0-416d-9c49-4e2129d9dfbb",
   "metadata": {},
   "outputs": [],
   "source": [
    "predict_train_ridge = model_ridge.predict(X_train)"
   ]
  },
  {
   "cell_type": "code",
   "execution_count": 333,
   "id": "e8257910-d2e4-4f60-8d74-bedaf0fa91d6",
   "metadata": {},
   "outputs": [],
   "source": [
    "predict_test_ridge = model_ridge.predict(X_test)"
   ]
  },
  {
   "cell_type": "code",
   "execution_count": 334,
   "id": "35437312-8c51-4985-8106-5b2c402823be",
   "metadata": {},
   "outputs": [
    {
     "name": "stdout",
     "output_type": "stream",
     "text": [
      "RMSE on Train Data with ridge:  16623.677345560543\n",
      "R_squared on Train Data with ridge:  0.7734039668560624\n",
      "RMSE on Test Data with ridge:  42644.600856564575\n",
      "R_squared on Train Data with ridge:  0.6767631456703238\n"
     ]
    }
   ],
   "source": [
    "print('RMSE on Train Data with ridge: ', mean_squared_error(y_train, predict_train_ridge))\n",
    "print('R_squared on Train Data with ridge: ', r2_score(y_train, predict_train_ridge))\n",
    "\n",
    "print('RMSE on Test Data with ridge: ', mean_squared_error(y_test, predict_test_ridge))\n",
    "print('R_squared on Train Data with ridge: ', r2_score(y_test, predict_test_ridge))"
   ]
  },
  {
   "cell_type": "code",
   "execution_count": null,
   "id": "d7cc999e-1a79-49f8-804c-c67a3102e484",
   "metadata": {},
   "outputs": [],
   "source": []
  },
  {
   "cell_type": "markdown",
   "id": "c1b4cba4-fbeb-47c0-805f-d7531408689b",
   "metadata": {},
   "source": [
    "#### Elastic Net Regressor"
   ]
  },
  {
   "cell_type": "code",
   "execution_count": 340,
   "id": "f2183279-f6c9-4c01-9d8c-60f1840c96ec",
   "metadata": {},
   "outputs": [],
   "source": [
    "ratios = [0.1, 0.3, 0.5, 0.8, 1.0]"
   ]
  },
  {
   "cell_type": "code",
   "execution_count": 347,
   "id": "857e8fdb-c3e5-4f96-af5a-62bcdb080c08",
   "metadata": {},
   "outputs": [
    {
     "name": "stdout",
     "output_type": "stream",
     "text": [
      "MSE Train:  49463.4009179695 R2 Train:  0.32576828815717407 MSE Test:  104466.3570973392 R2_test:  0.20816759980937816\n",
      "MSE Train:  28224.435851410955 R2 Train:  0.615274943761873 MSE Test:  71788.59073314627 R2_test:  0.45585800361007034\n",
      "MSE Train:  20252.943934442195 R2 Train:  0.7239337205821816 MSE Test:  54742.863367407976 R2_test:  0.5850609315960726\n",
      "MSE Train:  16614.23240313616 R2 Train:  0.7735327101203926 MSE Test:  42524.95955299015 R2_test:  0.6776700008838448\n",
      "MSE Train:  16438.944488666664 R2 Train:  0.7759220458402336 MSE Test:  38245.05889579466 R2_test:  0.7101107225106817\n"
     ]
    }
   ],
   "source": [
    "for i in ratios: \n",
    "    model_en = ElasticNetCV(l1_ratio = i, random_state=42)\n",
    "    model_en.fit(X_train, y_train)\n",
    "    predict_train_en = model_en.predict(X_train)\n",
    "    predict_test_en = model_en.predict(X_test)\n",
    "    mse_train = mean_squared_error(y_train, predict_train_en)\n",
    "    r2_train = r2_score(y_train, predict_train_en)\n",
    "    mse_test = mean_squared_error(y_test, predict_test_en)\n",
    "    r2_test = r2_score(y_test, predict_test_en)\n",
    "    print('MSE Train: ', mse_train, f'R2 Train: ', r2_train, f'MSE Test: ', mse_test, f'R2_test: ', r2_test)\n",
    "    "
   ]
  },
  {
   "cell_type": "markdown",
   "id": "e4587ef9-effa-4616-ad4a-32e1c05adc84",
   "metadata": {},
   "source": [
    "#### Lasso Wins"
   ]
  },
  {
   "cell_type": "code",
   "execution_count": null,
   "id": "5b6ef8bc-8f70-4e35-ab1a-3e30af88b96c",
   "metadata": {},
   "outputs": [],
   "source": []
  },
  {
   "cell_type": "code",
   "execution_count": 353,
   "id": "23fbce2a-a19b-4bcf-873a-aafe396f68a9",
   "metadata": {},
   "outputs": [
    {
     "name": "stderr",
     "output_type": "stream",
     "text": [
      "/opt/anaconda3/lib/python3.7/site-packages/seaborn/_decorators.py:43: FutureWarning: Pass the following variables as keyword args: x, y. From version 0.12, the only valid positional argument will be `data`, and passing other arguments without an explicit keyword will result in an error or misinterpretation.\n",
      "  FutureWarning\n"
     ]
    },
    {
     "data": {
      "text/plain": [
       "Text(0.5, 1.0, 'Actual v. Predicted Plot for Lasso Regressor Model, Training Set')"
      ]
     },
     "execution_count": 353,
     "metadata": {},
     "output_type": "execute_result"
    },
    {
     "data": {
      "image/png": "[encoded data removed]",
      "text/plain": [
       "<Figure size 1008x360 with 1 Axes>"
      ]
     },
     "metadata": {
      "needs_background": "light"
     },
     "output_type": "display_data"
    }
   ],
   "source": [
    "fig, ax = plt.subplots(figsize=(14, 5))\n",
    "sns.scatterplot(predict_train_lasso, y_train, ax=ax, color='#2b7bba');\n",
    "ax.set_xlabel('predicted age-adjusted death rate')\n",
    "ax.set_ylabel('actual age-adjusted death rate')\n",
    "ax.set_title('Actual v. Predicted Plot for Lasso Regressor Model, Training Set')"
   ]
  },
  {
   "cell_type": "code",
   "execution_count": null,
   "id": "f753a1ef-a25b-4e3e-9aa9-3fe0d0c41dfb",
   "metadata": {},
   "outputs": [],
   "source": [
    "print('MSE on Train Data with RF: ', mean_squared_error(y_train, predict_train))\n",
    "print('RMSE on Train Data with RF: ', mean_squared_error(y_train, predict_train, squared=False))\n",
    "print('R_squared on Train Data with RF: ', r2_score(y_train, predict_train))\n",
    "print('\\n')\n",
    "print('MSE on Test Data with RF: ', mean_squared_error(y_test, predict_test))\n",
    "print('RMSE on Test Data with RF: ', mean_squared_error(y_test, predict_test, squared=False))\n",
    "print('R_squared on Train Data with RF: ', r2_score(y_test, predict_test))"
   ]
  },
  {
   "cell_type": "code",
   "execution_count": 352,
   "id": "fe3e339d-355d-4c2f-af24-7e7d3aab9977",
   "metadata": {},
   "outputs": [
    {
     "name": "stderr",
     "output_type": "stream",
     "text": [
      "/opt/anaconda3/lib/python3.7/site-packages/seaborn/_decorators.py:43: FutureWarning: Pass the following variables as keyword args: x, y. From version 0.12, the only valid positional argument will be `data`, and passing other arguments without an explicit keyword will result in an error or misinterpretation.\n",
      "  FutureWarning\n"
     ]
    },
    {
     "data": {
      "text/plain": [
       "Text(0.5, 1.0, 'Actual v. Predicted Plot for Lasso Regressor Model, Test Set')"
      ]
     },
     "execution_count": 352,
     "metadata": {},
     "output_type": "execute_result"
    },
    {
     "data": {
      "image/png": "[encoded data removed]",
      "text/plain": [
       "<Figure size 1008x360 with 1 Axes>"
      ]
     },
     "metadata": {
      "needs_background": "light"
     },
     "output_type": "display_data"
    }
   ],
   "source": [
    "fig, ax = plt.subplots(figsize=(14, 5))\n",
    "sns.scatterplot(predict_test_lasso, y_test, ax=ax, color='#2b7bba');\n",
    "ax.set_xlabel('predicted age-adjusted death rate')\n",
    "ax.set_ylabel('actual age-adjusted death rate')\n",
    "ax.set_title('Actual v. Predicted Plot for Lasso Regressor Model, Test Set')"
   ]
  },
  {
   "cell_type": "code",
   "execution_count": null,
   "id": "7cde672d-4f28-4779-8edf-7479d94632f8",
   "metadata": {},
   "outputs": [],
   "source": []
  },
  {
   "cell_type": "markdown",
   "id": "25624091-c6a8-44e6-90a0-55d691bd649f",
   "metadata": {},
   "source": [
    "#### Random Forest Regressor"
   ]
  },
  {
   "cell_type": "code",
   "execution_count": 354,
   "id": "84b0b2d4-2a83-40bb-8763-3fc1f9558cb7",
   "metadata": {},
   "outputs": [],
   "source": [
    "model_rf = RandomForestRegressor()"
   ]
  },
  {
   "cell_type": "code",
   "execution_count": 355,
   "id": "6e0e5f74-eb5d-4690-82b9-e3666a1e6d68",
   "metadata": {},
   "outputs": [
    {
     "data": {
      "text/plain": [
       "RandomForestRegressor()"
      ]
     },
     "execution_count": 355,
     "metadata": {},
     "output_type": "execute_result"
    }
   ],
   "source": [
    "model_rf.fit(X_train, y_train)"
   ]
  },
  {
   "cell_type": "code",
   "execution_count": 356,
   "id": "0c21a21e-0665-4c4b-98f3-05bf93b36f41",
   "metadata": {},
   "outputs": [],
   "source": [
    "predict_train_rf = model_rf.predict(X_train)"
   ]
  },
  {
   "cell_type": "code",
   "execution_count": 357,
   "id": "34936a47-2e5d-4137-98c1-89b62a2db43b",
   "metadata": {},
   "outputs": [],
   "source": [
    "predict_test_rf = model_rf.predict(X_test)"
   ]
  },
  {
   "cell_type": "code",
   "execution_count": 358,
   "id": "ccf948d0-48d5-4255-a505-46d2e8e4afce",
   "metadata": {},
   "outputs": [
    {
     "name": "stdout",
     "output_type": "stream",
     "text": [
      "RMSE on Train Data with RF:  985.7972361807917\n",
      "R_squared on Train Data with RF:  0.9865626757209361\n",
      "RMSE on Test Data with RF:  9278.086923522013\n",
      "R_squared on Train Data with RF:  0.9296741071292053\n"
     ]
    }
   ],
   "source": [
    "print('RMSE on Train Data with RF: ', mean_squared_error(y_train, predict_train_rf))\n",
    "print('R_squared on Train Data with RF: ', r2_score(y_train, predict_train_rf))\n",
    "\n",
    "print('RMSE on Test Data with RF: ', mean_squared_error(y_test, predict_test_rf))\n",
    "print('R_squared on Train Data with RF: ', r2_score(y_test, predict_test_rf))"
   ]
  },
  {
   "cell_type": "code",
   "execution_count": 359,
   "id": "d9ada74b-a0c5-4f9d-ba7c-0591a835b4bc",
   "metadata": {},
   "outputs": [
    {
     "name": "stdout",
     "output_type": "stream",
     "text": [
      "['#dbe9f6', '#bad6eb', '#89bedc', '#539ecd', '#2b7bba', '#0b559f']\n"
     ]
    }
   ],
   "source": [
    "pal = sns.color_palette(\"Blues\")\n",
    "print(pal.as_hex())"
   ]
  },
  {
   "cell_type": "code",
   "execution_count": 363,
   "id": "b51def02-800f-432d-836b-4d6175bd2f6f",
   "metadata": {},
   "outputs": [
    {
     "name": "stderr",
     "output_type": "stream",
     "text": [
      "/opt/anaconda3/lib/python3.7/site-packages/seaborn/_decorators.py:43: FutureWarning: Pass the following variables as keyword args: x, y. From version 0.12, the only valid positional argument will be `data`, and passing other arguments without an explicit keyword will result in an error or misinterpretation.\n",
      "  FutureWarning\n"
     ]
    },
    {
     "data": {
      "text/plain": [
       "Text(0.5, 1.0, 'Residuals Plot for Random Forest Regressor Model on Training Set')"
      ]
     },
     "execution_count": 363,
     "metadata": {},
     "output_type": "execute_result"
    },
    {
     "data": {
      "image/png": "[encoded data removed]",
      "text/plain": [
       "<Figure size 1008x360 with 1 Axes>"
      ]
     },
     "metadata": {
      "needs_background": "light"
     },
     "output_type": "display_data"
    }
   ],
   "source": [
    "fig, ax = plt.subplots(figsize=(14, 5))\n",
    "sns.scatterplot(predict_train_rf, y_train - predict_train_rf, ax=ax, color='#2b7bba');\n",
    "ax.set_xlabel('predicted age-adjusted death rate (per 100,000)')\n",
    "ax.set_ylabel('residual (observed - predicted)')\n",
    "ax.set_title('Residuals Plot for Random Forest Regressor Model on Training Set')"
   ]
  },
  {
   "cell_type": "code",
   "execution_count": 364,
   "id": "809c1f9d-2cad-4251-b569-8b4fe0520d37",
   "metadata": {},
   "outputs": [
    {
     "name": "stderr",
     "output_type": "stream",
     "text": [
      "/opt/anaconda3/lib/python3.7/site-packages/seaborn/_decorators.py:43: FutureWarning: Pass the following variables as keyword args: x, y. From version 0.12, the only valid positional argument will be `data`, and passing other arguments without an explicit keyword will result in an error or misinterpretation.\n",
      "  FutureWarning\n"
     ]
    },
    {
     "data": {
      "text/plain": [
       "Text(0.5, 1.0, 'Predicted v. Actual Plot for Random Forest Regressor Model, Test Set')"
      ]
     },
     "execution_count": 364,
     "metadata": {},
     "output_type": "execute_result"
    },
    {
     "data": {
      "image/png": "[encoded data removed]",
      "text/plain": [
       "<Figure size 1008x360 with 1 Axes>"
      ]
     },
     "metadata": {
      "needs_background": "light"
     },
     "output_type": "display_data"
    }
   ],
   "source": [
    "fig, ax = plt.subplots(figsize=(14, 5))\n",
    "sns.scatterplot(predict_test_rf, y_test, ax=ax, color='#2b7bba');\n",
    "ax.set_xlabel('predicted age-adjusted death rate')\n",
    "ax.set_ylabel('actual age-adjusted death rate')\n",
    "ax.set_title('Predicted v. Actual Plot for Random Forest Regressor Model, Test Set')"
   ]
  },
  {
   "cell_type": "code",
   "execution_count": 365,
   "id": "ac362d7e-cc94-4c2f-b5d8-b6f0287d8592",
   "metadata": {},
   "outputs": [
    {
     "name": "stdout",
     "output_type": "stream",
     "text": [
      "MAE on Training Set:  23.141023684210577\n",
      "MAE on Test Set:  81.3347200000001\n"
     ]
    }
   ],
   "source": [
    "mae_train = mean_absolute_error(y_train, predict_train_rf)\n",
    "mae_test = mean_absolute_error(y_test, predict_test_rf)\n",
    "print('MAE on Training Set: ', mae_train)\n",
    "print('MAE on Test Set: ', mae_test)"
   ]
  },
  {
   "cell_type": "code",
   "execution_count": 366,
   "id": "006c64a0-1188-4560-9b92-4b7d76a8ecca",
   "metadata": {},
   "outputs": [],
   "source": [
    "from yellowbrick.regressor import ResidualsPlot"
   ]
  },
  {
   "cell_type": "code",
   "execution_count": 367,
   "id": "daacb039-607f-498e-a5c2-4680488c8b82",
   "metadata": {},
   "outputs": [
    {
     "data": {
      "image/png": "[encoded data removed]",
      "text/plain": [
       "<Figure size 576x396 with 2 Axes>"
      ]
     },
     "metadata": {},
     "output_type": "display_data"
    },
    {
     "data": {
      "text/plain": [
       "<AxesSubplot:title={'center':'Residuals for RandomForestRegressor Model'}, xlabel='Predicted Value', ylabel='Residuals'>"
      ]
     },
     "execution_count": 367,
     "metadata": {},
     "output_type": "execute_result"
    }
   ],
   "source": [
    "visualizer = ResidualsPlot(model_rf)\n",
    "\n",
    "visualizer.fit(X_train, y_train)  # Fit the training data to the visualizer\n",
    "# visualizer.score(X_test, y_test)  # Evaluate the model on the test data\n",
    "visualizer.show(alpha=0.1)  "
   ]
  },
  {
   "cell_type": "code",
   "execution_count": 368,
   "id": "15d60eaf-c7e0-4af5-b1b4-d4a08a669d1c",
   "metadata": {},
   "outputs": [
    {
     "data": {
      "image/png": "[encoded data removed]",
      "text/plain": [
       "<Figure size 576x396 with 2 Axes>"
      ]
     },
     "metadata": {},
     "output_type": "display_data"
    },
    {
     "data": {
      "text/plain": [
       "<AxesSubplot:title={'center':'Residuals for RandomForestRegressor Model'}, xlabel='Predicted Value', ylabel='Residuals'>"
      ]
     },
     "execution_count": 368,
     "metadata": {},
     "output_type": "execute_result"
    }
   ],
   "source": [
    "visualizer.fit(X_test, y_test)  # Fit the training data to the visualizer\n",
    "# visualizer.score(X_test, y_test)  # Evaluate the model on the test data\n",
    "visualizer.show(alpha=0.1) "
   ]
  },
  {
   "cell_type": "code",
   "execution_count": 369,
   "id": "00e02b25-b377-43a9-903a-816cda9cf0c6",
   "metadata": {},
   "outputs": [],
   "source": [
    "feature_importances = pd.DataFrame(model_rf.fit(X_train, y_train).feature_importances_,\n",
    "                                   index = X_train.columns, columns=['importance']).sort_values('importance', ascending=False)"
   ]
  },
  {
   "cell_type": "code",
   "execution_count": 370,
   "id": "c96e79fe-d1e0-4abc-ba0a-f2f874350f37",
   "metadata": {},
   "outputs": [
    {
     "data": {
      "text/html": [
       "<div>\n",
       "<style scoped>\n",
       "    .dataframe tbody tr th:only-of-type {\n",
       "        vertical-align: middle;\n",
       "    }\n",
       "\n",
       "    .dataframe tbody tr th {\n",
       "        vertical-align: top;\n",
       "    }\n",
       "\n",
       "    .dataframe thead th {\n",
       "        text-align: right;\n",
       "    }\n",
       "</style>\n",
       "<table border=\"1\" class=\"dataframe\">\n",
       "  <thead>\n",
       "    <tr style=\"text-align: right;\">\n",
       "      <th></th>\n",
       "      <th>importance</th>\n",
       "    </tr>\n",
       "  </thead>\n",
       "  <tbody>\n",
       "    <tr>\n",
       "      <th>hispanic_origin_Not Hispanic or Latino</th>\n",
       "      <td>0.385263</td>\n",
       "    </tr>\n",
       "    <tr>\n",
       "      <th>race_White</th>\n",
       "      <td>0.179291</td>\n",
       "    </tr>\n",
       "    <tr>\n",
       "      <th>race_More than one race</th>\n",
       "      <td>0.139666</td>\n",
       "    </tr>\n",
       "    <tr>\n",
       "      <th>gender_Male</th>\n",
       "      <td>0.107539</td>\n",
       "    </tr>\n",
       "    <tr>\n",
       "      <th>race_Asian</th>\n",
       "      <td>0.107191</td>\n",
       "    </tr>\n",
       "    <tr>\n",
       "      <th>race_Black or African American</th>\n",
       "      <td>0.060120</td>\n",
       "    </tr>\n",
       "    <tr>\n",
       "      <th>race_Native Hawaiian or Other Pacific Islander</th>\n",
       "      <td>0.011441</td>\n",
       "    </tr>\n",
       "    <tr>\n",
       "      <th>year_2019.0</th>\n",
       "      <td>0.009487</td>\n",
       "    </tr>\n",
       "  </tbody>\n",
       "</table>\n",
       "</div>"
      ],
      "text/plain": [
       "                                                importance\n",
       "hispanic_origin_Not Hispanic or Latino            0.385263\n",
       "race_White                                        0.179291\n",
       "race_More than one race                           0.139666\n",
       "gender_Male                                       0.107539\n",
       "race_Asian                                        0.107191\n",
       "race_Black or African American                    0.060120\n",
       "race_Native Hawaiian or Other Pacific Islander    0.011441\n",
       "year_2019.0                                       0.009487"
      ]
     },
     "execution_count": 370,
     "metadata": {},
     "output_type": "execute_result"
    }
   ],
   "source": [
    "feature_importances.head(20)"
   ]
  },
  {
   "cell_type": "code",
   "execution_count": null,
   "id": "99b967fd-6c2d-4026-89ad-137e282e0ebf",
   "metadata": {},
   "outputs": [],
   "source": []
  },
  {
   "cell_type": "code",
   "execution_count": null,
   "id": "9e013cc0-605c-4083-9b17-518aee1a9230",
   "metadata": {},
   "outputs": [],
   "source": []
  },
  {
   "cell_type": "code",
   "execution_count": 372,
   "id": "6d8c0cfb-f3ff-4cef-8162-ef479708a609",
   "metadata": {},
   "outputs": [
    {
     "data": {
      "text/plain": [
       "['model_rf_age_adjusted_wonder.sav']"
      ]
     },
     "execution_count": 372,
     "metadata": {},
     "output_type": "execute_result"
    }
   ],
   "source": [
    "filename = 'model_rf_age_adjusted_wonder.sav'\n",
    "joblib.dump(model_rf, filename)\n",
    "\n",
    "# some time later..."
   ]
  },
  {
   "cell_type": "code",
   "execution_count": null,
   "id": "49a0cf5c-35ca-434a-928c-9e257bf2b77d",
   "metadata": {},
   "outputs": [],
   "source": [
    "# load the model from disk\n",
    "loaded_model = joblib.load(filename)\n",
    "result = loaded_model.score(X_test, Y_test)\n",
    "print(result)"
   ]
  },
  {
   "cell_type": "code",
   "execution_count": null,
   "id": "820fd31e-a493-476a-bf4c-a41cce775ba9",
   "metadata": {},
   "outputs": [],
   "source": []
  },
  {
   "cell_type": "code",
   "execution_count": null,
   "id": "00dca107-bb7c-47dc-9516-68ef66871a8d",
   "metadata": {},
   "outputs": [],
   "source": []
  }
 ],
 "metadata": {
  "kernelspec": {
   "display_name": "Python 3",
   "language": "python",
   "name": "python3"
  },
  "language_info": {
   "codemirror_mode": {
    "name": "ipython",
    "version": 3
   },
   "file_extension": ".py",
   "mimetype": "text/x-python",
   "name": "python",
   "nbconvert_exporter": "python",
   "pygments_lexer": "ipython3",
   "version": "3.7.7"
  }
 },
 "nbformat": 4,
 "nbformat_minor": 5
}
